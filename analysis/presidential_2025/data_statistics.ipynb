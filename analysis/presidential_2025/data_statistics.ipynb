{
 "cells": [
  {
   "cell_type": "code",
   "execution_count": 7,
   "id": "57b08b3e",
   "metadata": {},
   "outputs": [],
   "source": [
    "import pandas as pd\n",
    "\n",
    "from utilities import load_data, get_df, process_df"
   ]
  },
  {
   "cell_type": "markdown",
   "id": "c806528a",
   "metadata": {},
   "source": [
    "### Load all data - 2015, 2020 and 2025, both rounds"
   ]
  },
  {
   "cell_type": "code",
   "execution_count": 8,
   "id": "c1039a54",
   "metadata": {},
   "outputs": [],
   "source": [
    "year = \"2025\"\n",
    "df_2025_r1 = get_df(year, \"1\")\n",
    "df_2025_r2 = get_df(year, \"2\")\n",
    "\n",
    "year = \"2020\"\n",
    "df_2020_r1 = get_df(year, \"1\")\n",
    "df_2020_r2 = get_df(year, \"2\")\n",
    "\n",
    "year = \"2015\"\n",
    "ext = \"xls\"\n",
    "df_2015_r1 = get_df(year, \"1\", ext)\n",
    "\n",
    "\n",
    "df_2015_r2 = load_data(year, \"2\", ext)\n",
    "df_2015_r2 = df_2015_r2.rename(columns={\n",
    "    \"Teryt Gminy\": \"teryt_gmina\",\n",
    "    \"Numer obwodu\": \"polling_station_id\"\n",
    "})\n",
    "\n",
    "# In 2015 round 2 data there is no postal code, so we need to join it to round 1\n",
    "df_2015_r2 = df_2015_r2.merge(\n",
    "    df_2015_r1[[\"teryt_gmina\", \"polling_station_id\", \"postal_code\"]],\n",
    "    on=[\"teryt_gmina\", \"polling_station_id\"],\n",
    "    how=\"left\"\n",
    ")\n",
    "df_2015_r2 = process_df(df_2015_r2, year)"
   ]
  },
  {
   "cell_type": "code",
   "execution_count": 17,
   "id": "c7e6f228",
   "metadata": {},
   "outputs": [],
   "source": [
    "def print_votes_sum(df, candidate_column):\n",
    "    total = int(df[candidate_column].sum())\n",
    "    formatted = f\"{total:,}\".replace(\",\", \" \")\n",
    "    print(f\"Suma głosów dla {candidate_column}: {formatted}\")"
   ]
  },
  {
   "cell_type": "markdown",
   "id": "6579e3cf",
   "metadata": {},
   "source": [
    "### Check if data same as on page\n",
    "\n",
    "https://wybory.gov.pl/prezydent2025/pl/2/wynik/pl?initscroll=800\n",
    "\n",
    "#### 2025, round 1\n",
    "* TRZASKOWSKI 6 147 797\t\n",
    "\n",
    "* NAWROCKI 5 790 804\t\n"
   ]
  },
  {
   "cell_type": "code",
   "execution_count": 18,
   "id": "b1a9a64b",
   "metadata": {},
   "outputs": [
    {
     "name": "stdout",
     "output_type": "stream",
     "text": [
      "Suma głosów dla trzaskowski: 6 147 743\n",
      "Suma głosów dla nawrocki: 5 790 762\n"
     ]
    }
   ],
   "source": [
    "print_votes_sum(df_2025_r1, 'trzaskowski')\n",
    "print_votes_sum(df_2025_r1, 'nawrocki')"
   ]
  },
  {
   "cell_type": "code",
   "execution_count": 23,
   "id": "50f3b2a0",
   "metadata": {},
   "outputs": [
    {
     "name": "stdout",
     "output_type": "stream",
     "text": [
      "różnica trzaskowski:  54\n",
      "różnica nawrocki:  -42\n"
     ]
    }
   ],
   "source": [
    "print(\"różnica trzaskowski: \", 6147797-6147743)\n",
    "print(\"różnica nawrocki: \", 5790762-5790804)"
   ]
  },
  {
   "cell_type": "markdown",
   "id": "367b06a3",
   "metadata": {},
   "source": [
    "\n",
    "\n",
    "#### 2025, round 2\n",
    "* NAWROCKI 10 606 877\t\n",
    "\n",
    "* TRZASKOWSKI 10 237 286"
   ]
  },
  {
   "cell_type": "code",
   "execution_count": 21,
   "id": "afde47c8",
   "metadata": {},
   "outputs": [
    {
     "name": "stdout",
     "output_type": "stream",
     "text": [
      "Suma głosów dla nawrocki: 10 606 628\n",
      "Suma głosów dla trzaskowski: 10 237 177\n"
     ]
    }
   ],
   "source": [
    "print_votes_sum(df_2025_r2, 'nawrocki')\n",
    "print_votes_sum(df_2025_r2, 'trzaskowski')"
   ]
  },
  {
   "cell_type": "code",
   "execution_count": 24,
   "id": "17d4aea7",
   "metadata": {},
   "outputs": [
    {
     "name": "stdout",
     "output_type": "stream",
     "text": [
      "różnica nawrocki:  249\n",
      "różnica trzaskowski:  109\n"
     ]
    }
   ],
   "source": [
    "print(\"różnica nawrocki: \", 10606877-10606628)\n",
    "print(\"różnica trzaskowski: \", 10237286-10237177)\n"
   ]
  },
  {
   "cell_type": "code",
   "execution_count": 3,
   "id": "bcb87c8e",
   "metadata": {},
   "outputs": [
    {
     "data": {
      "text/html": [
       "<div>\n",
       "<style scoped>\n",
       "    .dataframe tbody tr th:only-of-type {\n",
       "        vertical-align: middle;\n",
       "    }\n",
       "\n",
       "    .dataframe tbody tr th {\n",
       "        vertical-align: top;\n",
       "    }\n",
       "\n",
       "    .dataframe thead th {\n",
       "        text-align: right;\n",
       "    }\n",
       "</style>\n",
       "<table border=\"1\" class=\"dataframe\">\n",
       "  <thead>\n",
       "    <tr style=\"text-align: right;\">\n",
       "      <th></th>\n",
       "      <th>valid_votes</th>\n",
       "      <th>teryt_gmina</th>\n",
       "      <th>eligible_voters</th>\n",
       "      <th>polling_station_id</th>\n",
       "      <th>ballots_cast</th>\n",
       "      <th>bartoszewicz</th>\n",
       "      <th>biejat</th>\n",
       "      <th>braun</th>\n",
       "      <th>hołownia</th>\n",
       "      <th>jakubiak</th>\n",
       "      <th>maciak</th>\n",
       "      <th>mentzen</th>\n",
       "      <th>nawrocki</th>\n",
       "      <th>senyszyn</th>\n",
       "      <th>stanowski</th>\n",
       "      <th>trzaskowski</th>\n",
       "      <th>woch</th>\n",
       "      <th>zandberg</th>\n",
       "      <th>postal_code</th>\n",
       "    </tr>\n",
       "  </thead>\n",
       "  <tbody>\n",
       "    <tr>\n",
       "      <th>0</th>\n",
       "      <td>1059.0</td>\n",
       "      <td>20101.0</td>\n",
       "      <td>1640.0</td>\n",
       "      <td>1</td>\n",
       "      <td>1063.0</td>\n",
       "      <td>2.0</td>\n",
       "      <td>32.0</td>\n",
       "      <td>66.0</td>\n",
       "      <td>50.0</td>\n",
       "      <td>6.0</td>\n",
       "      <td>2.0</td>\n",
       "      <td>200.0</td>\n",
       "      <td>287.0</td>\n",
       "      <td>10.0</td>\n",
       "      <td>10.0</td>\n",
       "      <td>361.0</td>\n",
       "      <td>1.0</td>\n",
       "      <td>32.0</td>\n",
       "      <td>59-700</td>\n",
       "    </tr>\n",
       "    <tr>\n",
       "      <th>1</th>\n",
       "      <td>880.0</td>\n",
       "      <td>20101.0</td>\n",
       "      <td>1293.0</td>\n",
       "      <td>2</td>\n",
       "      <td>882.0</td>\n",
       "      <td>6.0</td>\n",
       "      <td>29.0</td>\n",
       "      <td>37.0</td>\n",
       "      <td>29.0</td>\n",
       "      <td>5.0</td>\n",
       "      <td>2.0</td>\n",
       "      <td>113.0</td>\n",
       "      <td>228.0</td>\n",
       "      <td>9.0</td>\n",
       "      <td>13.0</td>\n",
       "      <td>381.0</td>\n",
       "      <td>1.0</td>\n",
       "      <td>27.0</td>\n",
       "      <td>59-700</td>\n",
       "    </tr>\n",
       "    <tr>\n",
       "      <th>2</th>\n",
       "      <td>922.0</td>\n",
       "      <td>20101.0</td>\n",
       "      <td>1364.0</td>\n",
       "      <td>3</td>\n",
       "      <td>927.0</td>\n",
       "      <td>1.0</td>\n",
       "      <td>28.0</td>\n",
       "      <td>61.0</td>\n",
       "      <td>51.0</td>\n",
       "      <td>4.0</td>\n",
       "      <td>1.0</td>\n",
       "      <td>123.0</td>\n",
       "      <td>241.0</td>\n",
       "      <td>9.0</td>\n",
       "      <td>7.0</td>\n",
       "      <td>356.0</td>\n",
       "      <td>1.0</td>\n",
       "      <td>39.0</td>\n",
       "      <td>59-700</td>\n",
       "    </tr>\n",
       "    <tr>\n",
       "      <th>3</th>\n",
       "      <td>916.0</td>\n",
       "      <td>20101.0</td>\n",
       "      <td>1378.0</td>\n",
       "      <td>4</td>\n",
       "      <td>919.0</td>\n",
       "      <td>5.0</td>\n",
       "      <td>28.0</td>\n",
       "      <td>40.0</td>\n",
       "      <td>47.0</td>\n",
       "      <td>3.0</td>\n",
       "      <td>1.0</td>\n",
       "      <td>119.0</td>\n",
       "      <td>217.0</td>\n",
       "      <td>13.0</td>\n",
       "      <td>18.0</td>\n",
       "      <td>390.0</td>\n",
       "      <td>2.0</td>\n",
       "      <td>33.0</td>\n",
       "      <td>59-700</td>\n",
       "    </tr>\n",
       "    <tr>\n",
       "      <th>4</th>\n",
       "      <td>813.0</td>\n",
       "      <td>20101.0</td>\n",
       "      <td>1214.0</td>\n",
       "      <td>5</td>\n",
       "      <td>819.0</td>\n",
       "      <td>6.0</td>\n",
       "      <td>31.0</td>\n",
       "      <td>47.0</td>\n",
       "      <td>39.0</td>\n",
       "      <td>2.0</td>\n",
       "      <td>4.0</td>\n",
       "      <td>87.0</td>\n",
       "      <td>202.0</td>\n",
       "      <td>12.0</td>\n",
       "      <td>10.0</td>\n",
       "      <td>343.0</td>\n",
       "      <td>1.0</td>\n",
       "      <td>29.0</td>\n",
       "      <td>59-700</td>\n",
       "    </tr>\n",
       "  </tbody>\n",
       "</table>\n",
       "</div>"
      ],
      "text/plain": [
       "   valid_votes  teryt_gmina  eligible_voters  polling_station_id  \\\n",
       "0       1059.0      20101.0           1640.0                   1   \n",
       "1        880.0      20101.0           1293.0                   2   \n",
       "2        922.0      20101.0           1364.0                   3   \n",
       "3        916.0      20101.0           1378.0                   4   \n",
       "4        813.0      20101.0           1214.0                   5   \n",
       "\n",
       "   ballots_cast  bartoszewicz  biejat  braun  hołownia  jakubiak  maciak  \\\n",
       "0        1063.0           2.0    32.0   66.0      50.0       6.0     2.0   \n",
       "1         882.0           6.0    29.0   37.0      29.0       5.0     2.0   \n",
       "2         927.0           1.0    28.0   61.0      51.0       4.0     1.0   \n",
       "3         919.0           5.0    28.0   40.0      47.0       3.0     1.0   \n",
       "4         819.0           6.0    31.0   47.0      39.0       2.0     4.0   \n",
       "\n",
       "   mentzen  nawrocki  senyszyn  stanowski  trzaskowski  woch  zandberg  \\\n",
       "0    200.0     287.0      10.0       10.0        361.0   1.0      32.0   \n",
       "1    113.0     228.0       9.0       13.0        381.0   1.0      27.0   \n",
       "2    123.0     241.0       9.0        7.0        356.0   1.0      39.0   \n",
       "3    119.0     217.0      13.0       18.0        390.0   2.0      33.0   \n",
       "4     87.0     202.0      12.0       10.0        343.0   1.0      29.0   \n",
       "\n",
       "  postal_code  \n",
       "0      59-700  \n",
       "1      59-700  \n",
       "2      59-700  \n",
       "3      59-700  \n",
       "4      59-700  "
      ]
     },
     "execution_count": 3,
     "metadata": {},
     "output_type": "execute_result"
    }
   ],
   "source": [
    "# Check if correct data\n",
    "df_2025_r1.head()"
   ]
  },
  {
   "cell_type": "code",
   "execution_count": null,
   "id": "f3e4d06d",
   "metadata": {},
   "outputs": [],
   "source": []
  }
 ],
 "metadata": {
  "kernelspec": {
   "display_name": "venv",
   "language": "python",
   "name": "python3"
  },
  "language_info": {
   "codemirror_mode": {
    "name": "ipython",
    "version": 3
   },
   "file_extension": ".py",
   "mimetype": "text/x-python",
   "name": "python",
   "nbconvert_exporter": "python",
   "pygments_lexer": "ipython3",
   "version": "3.12.3"
  }
 },
 "nbformat": 4,
 "nbformat_minor": 5
}
