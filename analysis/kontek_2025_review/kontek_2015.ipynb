{
 "cells": [
  {
   "cell_type": "markdown",
   "metadata": {},
   "source": [
    "Próba implementacji metod zastosowanych przez dr. Kontka w artykule \n",
    "\n",
    "[\"**Weryfikacja wyniku drugiej tury wyborów prezydenckich w Polsce w 2025 roku: Przeliczenie głosów z użyciem przestrzennie grupowanej metody MAD**\"](https://papers.ssrn.com/sol3/papers.cfm?abstract_id=5296441)\n",
    "\n",
    "dla wyników wyborów prezydenckich z 2015 roku"
   ]
  },
  {
   "cell_type": "code",
   "execution_count": 26,
   "metadata": {},
   "outputs": [],
   "source": [
    "import pandas as pd\n",
    "\n",
    "from utilities import presidential_data, clustering, methods"
   ]
  },
  {
   "cell_type": "markdown",
   "metadata": {},
   "source": [
    "### load presidential both rouds - official PKW data"
   ]
  },
  {
   "cell_type": "code",
   "execution_count": 27,
   "metadata": {},
   "outputs": [],
   "source": [
    "year = \"2015\"\n",
    "ext = \"xls\"\n",
    "df_2015_r1 = presidential_data.get_df(year, \"1\", ext)\n",
    "\n",
    "\n",
    "df_2015_r2 = presidential_data.load_data(year, \"2\", ext)\n",
    "df_2015_r2 = df_2015_r2.rename(columns={\n",
    "    \"Teryt Gminy\": \"teryt_gmina\",\n",
    "    \"Numer obwodu\": \"polling_station_id\"\n",
    "})\n",
    "\n",
    "# In 2015 round 2 data there is no postal code, so we need to join it to round 1\n",
    "df_2015_r2 = df_2015_r2.merge(\n",
    "    df_2015_r1[[\"teryt_gmina\", \"polling_station_id\", \"postal_code\"]],\n",
    "    on=[\"teryt_gmina\", \"polling_station_id\"],\n",
    "    how=\"left\"\n",
    ")\n",
    "df_2015_r2 = presidential_data.process_df(df_2015_r2, year)"
   ]
  },
  {
   "cell_type": "markdown",
   "metadata": {},
   "source": [
    "### IMPLEMENTACJA METOD ZAPROPONOWANYCH PRZEZ DR KONTKA\n",
    "\n",
    "2.3. Wykrywanie wartości odstających\n",
    "\n",
    "Główna innowacja analityczna niniejszego badania polega na oszacowaniu potencjalnego wpływu\n",
    "anormalnych komisji wyborczych na poziomie ogólnokrajowym. Aby to osiągnąć, w pierwszej\n",
    "kolejności zidentyfikowano wartości odstające w czterech kategoriach nieprawidłowości:"
   ]
  },
  {
   "cell_type": "code",
   "execution_count": 28,
   "metadata": {},
   "outputs": [],
   "source": [
    "cand_A = \"komorowski\"\n",
    "cand_B = \"duda\"\n",
    "\n",
    "df_2015 = presidential_data.join_both_rounds(cand_A, cand_B, df_2015_r1, df_2015_r2)"
   ]
  },
  {
   "cell_type": "code",
   "execution_count": 29,
   "metadata": {},
   "outputs": [],
   "source": [
    "# grupowanie geograficzne metodą p. Białka\n",
    "df_2015 = clustering.add_bialek_postal_buckets(df_2015)"
   ]
  },
  {
   "cell_type": "markdown",
   "metadata": {},
   "source": [
    "### 1. pop_outlier: Nadmierne poparcie dla kandydata A (względem mediany w ramach lokalnej grupy)"
   ]
  },
  {
   "cell_type": "code",
   "execution_count": 30,
   "metadata": {},
   "outputs": [
    {
     "name": "stdout",
     "output_type": "stream",
     "text": [
      "Liczba komisji:  26805\n"
     ]
    }
   ],
   "source": [
    "print(\"Liczba komisji: \", len(df_2015)) # bez zagranicy i statków\n",
    "df = df_2015.copy()"
   ]
  },
  {
   "cell_type": "code",
   "execution_count": 31,
   "metadata": {},
   "outputs": [],
   "source": [
    "df = methods.add_anomaly_1(df, cand_A, cand_B, new_col_name=\"k_score_1\")"
   ]
  },
  {
   "cell_type": "code",
   "execution_count": 32,
   "metadata": {},
   "outputs": [
    {
     "name": "stdout",
     "output_type": "stream",
     "text": [
      "k > 2.0\n",
      "komorowski: 3206\n",
      "duda: 2928\n",
      "---\n",
      "k > 2.5\n",
      "komorowski: 2298\n",
      "duda: 2038\n",
      "---\n",
      "k > 3.0\n",
      "komorowski: 1718\n",
      "duda: 1464\n",
      "---\n"
     ]
    }
   ],
   "source": [
    "methods.check_k_thresholds(df, cand_A, cand_B, \"_k_score_1\")"
   ]
  },
  {
   "cell_type": "markdown",
   "metadata": {},
   "source": [
    "Wyniki:\n",
    "\n",
    "Dla k=2, takich komisji, w których \"za duże\" poparcie ma Duda jest 2928 a Komorowski 3206\n",
    "\n",
    "2025: 3750 i 4551\n",
    "\n",
    "2020: 2893 i 3430"
   ]
  },
  {
   "cell_type": "markdown",
   "metadata": {},
   "source": [
    "### 2. growth_outlier: Nadmierny względny wzrost poparcia dla kandydata A między pierwszą a drugą turą, w porównaniu do odpowiedniego wzrostu poparcia dla kandydata B w tej samej grupie lokalnej;"
   ]
  },
  {
   "cell_type": "code",
   "execution_count": 33,
   "metadata": {},
   "outputs": [],
   "source": [
    "df = methods.add_anomaly_2(df, cand_A, cand_B, new_col_name=\"k_score_2\")"
   ]
  },
  {
   "cell_type": "code",
   "execution_count": 34,
   "metadata": {},
   "outputs": [
    {
     "name": "stdout",
     "output_type": "stream",
     "text": [
      "k > 2.0\n",
      "komorowski: 2754\n",
      "duda: 3074\n",
      "---\n",
      "k > 2.5\n",
      "komorowski: 1950\n",
      "duda: 2262\n",
      "---\n",
      "k > 3.0\n",
      "komorowski: 1464\n",
      "duda: 1707\n",
      "---\n"
     ]
    }
   ],
   "source": [
    "methods.check_k_thresholds(df, cand_A, cand_B, \"_k_score_2\")"
   ]
  },
  {
   "cell_type": "markdown",
   "metadata": {},
   "source": [
    "k > 2.0\n",
    "\n",
    "2025: trzaskowski: 3552 nawrocki: 3127\n",
    "\n",
    "2020: trzaskowski: 3795 duda: 1863"
   ]
  },
  {
   "cell_type": "markdown",
   "metadata": {},
   "source": [
    "### 3. Komisje, w których kand A uzyskał więcej głosów niż kand B w drugiej turze, mimo że mediana wyników w grupie wskazywała na przewagę kand B;"
   ]
  },
  {
   "cell_type": "code",
   "execution_count": 35,
   "metadata": {},
   "outputs": [],
   "source": [
    "df = methods.add_anomaly_3(df, cand_A, cand_B, new_col_name=\"flip\")"
   ]
  },
  {
   "cell_type": "code",
   "execution_count": 36,
   "metadata": {},
   "outputs": [
    {
     "data": {
      "text/plain": [
       "('komorowski', 1806)"
      ]
     },
     "execution_count": 36,
     "metadata": {},
     "output_type": "execute_result"
    }
   ],
   "source": [
    "# na korzyść kandydata A, czyli większą medianę miał B, a więcej głosów dostał A.\n",
    "cand_A, sum(df['higher_median_' + cand_B] & (df[cand_A + '_r2'] > df[cand_B + '_r2']))"
   ]
  },
  {
   "cell_type": "markdown",
   "metadata": {},
   "source": [
    "vs 2025:\n",
    "\n",
    "('trzaskowski', 2608)\n",
    "\n",
    "2020:\n",
    "\n",
    "('trzaskowski', 1885)"
   ]
  },
  {
   "cell_type": "code",
   "execution_count": 37,
   "metadata": {},
   "outputs": [
    {
     "data": {
      "text/plain": [
       "('duda', 1750)"
      ]
     },
     "execution_count": 37,
     "metadata": {},
     "output_type": "execute_result"
    }
   ],
   "source": [
    "cand_B, sum(df['higher_median_' + cand_A] & (df[cand_B + '_r2'] > df[cand_A + '_r2']))"
   ]
  },
  {
   "cell_type": "markdown",
   "metadata": {},
   "source": [
    "vs 2025:\n",
    "\n",
    "('nawrocki', 1843)\n",
    "\n",
    "2020:\n",
    "\n",
    "('duda', 1999)"
   ]
  },
  {
   "cell_type": "code",
   "execution_count": 38,
   "metadata": {},
   "outputs": [],
   "source": [
    "df = df.drop(\n",
    "    columns=[\n",
    "        f\"higher_median_{cand_A}\",\n",
    "        f\"higher_median_{cand_B}\",\n",
    "    ]\n",
    ")"
   ]
  },
  {
   "cell_type": "markdown",
   "metadata": {},
   "source": [
    "**WYNIKI**:\n",
    "\n",
    "\n",
    "W grupach, w których większą medianę miał Duda, było 1750 komisji, w których wyższy wynik uzyskał Komorowski.\n",
    "\n",
    "W grupach, w których większą medianę miał Komorowski, było 1806 komisji, w których wyższy wyniki uzyskał Duda."
   ]
  },
  {
   "cell_type": "markdown",
   "metadata": {},
   "source": [
    "### 4. Kandydat otrzymał mniej głosów w drugiej turze niż w pierwszej"
   ]
  },
  {
   "cell_type": "code",
   "execution_count": 39,
   "metadata": {},
   "outputs": [
    {
     "data": {
      "text/plain": [
       "('komorowski', 286)"
      ]
     },
     "execution_count": 39,
     "metadata": {},
     "output_type": "execute_result"
    }
   ],
   "source": [
    "cand_A, sum(df[cand_A + '_r2']<df[cand_A + '_r1'])"
   ]
  },
  {
   "cell_type": "markdown",
   "metadata": {},
   "source": [
    "W 106 komisjach Trzaskowski uzyskał mniej głosów w drugiej turze niż w pierwszej."
   ]
  },
  {
   "cell_type": "markdown",
   "metadata": {},
   "source": [
    "vs 2025:\n",
    "\n",
    "('trzaskowski', 128)\n",
    "\n",
    "2020:\n",
    "\n",
    "('trzaskowski', 106)\n",
    "\n",
    "W 286 komisjach Komorowski uzyskał mniej głosów w drugiej turze niż w pierwszej."
   ]
  },
  {
   "cell_type": "code",
   "execution_count": 40,
   "metadata": {},
   "outputs": [
    {
     "data": {
      "text/plain": [
       "('duda', 93)"
      ]
     },
     "execution_count": 40,
     "metadata": {},
     "output_type": "execute_result"
    }
   ],
   "source": [
    "cand_B, sum(df[cand_B + '_r2']<df[cand_B + '_r1'])"
   ]
  },
  {
   "cell_type": "markdown",
   "metadata": {},
   "source": [
    "W 284 (2025 - 112) komisjach Duda uzyskał mniej głosów w drugiej turze niż w pierwszej."
   ]
  },
  {
   "cell_type": "markdown",
   "metadata": {},
   "source": [
    "\n",
    "vs 2025:\n",
    "\n",
    "('nawrocki', 112)\n",
    "\n",
    "vs 2020:\n",
    "\n",
    "('duda', 284)\n",
    "\n",
    "W 93 komisjach Duda uzyskał mniej głosów w drugiej turze niż w pierwszej.\n",
    "\n",
    "Przykładowe anomalie na korzyść Komorowskiego:"
   ]
  },
  {
   "cell_type": "code",
   "execution_count": 41,
   "metadata": {},
   "outputs": [
    {
     "data": {
      "text/html": [
       "<div>\n",
       "<style scoped>\n",
       "    .dataframe tbody tr th:only-of-type {\n",
       "        vertical-align: middle;\n",
       "    }\n",
       "\n",
       "    .dataframe tbody tr th {\n",
       "        vertical-align: top;\n",
       "    }\n",
       "\n",
       "    .dataframe thead th {\n",
       "        text-align: right;\n",
       "    }\n",
       "</style>\n",
       "<table border=\"1\" class=\"dataframe\">\n",
       "  <thead>\n",
       "    <tr style=\"text-align: right;\">\n",
       "      <th></th>\n",
       "      <th>teryt_gmina</th>\n",
       "      <th>polling_station_id</th>\n",
       "      <th>komorowski_r1</th>\n",
       "      <th>duda_r1</th>\n",
       "      <th>postal_code</th>\n",
       "      <th>komorowski_r2</th>\n",
       "      <th>duda_r2</th>\n",
       "      <th>postal_clean</th>\n",
       "      <th>bucket</th>\n",
       "      <th>komorowski_k_score_1</th>\n",
       "      <th>duda_k_score_1</th>\n",
       "      <th>komorowski_k_score_2</th>\n",
       "      <th>duda_k_score_2</th>\n",
       "      <th>komorowski_flip</th>\n",
       "      <th>duda_flip</th>\n",
       "    </tr>\n",
       "  </thead>\n",
       "  <tbody>\n",
       "    <tr>\n",
       "      <th>1486</th>\n",
       "      <td>22605</td>\n",
       "      <td>1</td>\n",
       "      <td>71</td>\n",
       "      <td>114</td>\n",
       "      <td>59-516</td>\n",
       "      <td>196</td>\n",
       "      <td>112</td>\n",
       "      <td>59516</td>\n",
       "      <td>2316</td>\n",
       "      <td>0.666667</td>\n",
       "      <td>-1.130233</td>\n",
       "      <td>7.127835</td>\n",
       "      <td>-7.127835</td>\n",
       "      <td>True</td>\n",
       "      <td>False</td>\n",
       "    </tr>\n",
       "    <tr>\n",
       "      <th>12758</th>\n",
       "      <td>143406</td>\n",
       "      <td>4</td>\n",
       "      <td>88</td>\n",
       "      <td>104</td>\n",
       "      <td>05-280</td>\n",
       "      <td>169</td>\n",
       "      <td>101</td>\n",
       "      <td>05280</td>\n",
       "      <td>76</td>\n",
       "      <td>1.126316</td>\n",
       "      <td>-1.836538</td>\n",
       "      <td>7.651702</td>\n",
       "      <td>-7.651702</td>\n",
       "      <td>True</td>\n",
       "      <td>False</td>\n",
       "    </tr>\n",
       "    <tr>\n",
       "      <th>1273</th>\n",
       "      <td>22308</td>\n",
       "      <td>2</td>\n",
       "      <td>0</td>\n",
       "      <td>94</td>\n",
       "      <td>55-010</td>\n",
       "      <td>0</td>\n",
       "      <td>93</td>\n",
       "      <td>55010</td>\n",
       "      <td>1310</td>\n",
       "      <td>-3.602410</td>\n",
       "      <td>-2.813559</td>\n",
       "      <td>NaN</td>\n",
       "      <td>NaN</td>\n",
       "      <td>False</td>\n",
       "      <td>True</td>\n",
       "    </tr>\n",
       "    <tr>\n",
       "      <th>4773</th>\n",
       "      <td>61408</td>\n",
       "      <td>15</td>\n",
       "      <td>58</td>\n",
       "      <td>52</td>\n",
       "      <td>24-150</td>\n",
       "      <td>57</td>\n",
       "      <td>46</td>\n",
       "      <td>24150</td>\n",
       "      <td>484</td>\n",
       "      <td>-0.843750</td>\n",
       "      <td>-1.572770</td>\n",
       "      <td>0.775610</td>\n",
       "      <td>-0.775610</td>\n",
       "      <td>True</td>\n",
       "      <td>False</td>\n",
       "    </tr>\n",
       "    <tr>\n",
       "      <th>26199</th>\n",
       "      <td>302903</td>\n",
       "      <td>22</td>\n",
       "      <td>7</td>\n",
       "      <td>51</td>\n",
       "      <td>64-200</td>\n",
       "      <td>7</td>\n",
       "      <td>50</td>\n",
       "      <td>64200</td>\n",
       "      <td>1515</td>\n",
       "      <td>-2.517787</td>\n",
       "      <td>-2.015748</td>\n",
       "      <td>-0.040018</td>\n",
       "      <td>0.040018</td>\n",
       "      <td>False</td>\n",
       "      <td>True</td>\n",
       "    </tr>\n",
       "  </tbody>\n",
       "</table>\n",
       "</div>"
      ],
      "text/plain": [
       "       teryt_gmina  polling_station_id  komorowski_r1  duda_r1 postal_code  \\\n",
       "1486         22605                   1             71      114      59-516   \n",
       "12758       143406                   4             88      104      05-280   \n",
       "1273         22308                   2              0       94      55-010   \n",
       "4773         61408                  15             58       52      24-150   \n",
       "26199       302903                  22              7       51      64-200   \n",
       "\n",
       "       komorowski_r2  duda_r2 postal_clean  bucket  komorowski_k_score_1  \\\n",
       "1486             196      112        59516    2316              0.666667   \n",
       "12758            169      101        05280      76              1.126316   \n",
       "1273               0       93        55010    1310             -3.602410   \n",
       "4773              57       46        24150     484             -0.843750   \n",
       "26199              7       50        64200    1515             -2.517787   \n",
       "\n",
       "       duda_k_score_1  komorowski_k_score_2  duda_k_score_2  komorowski_flip  \\\n",
       "1486        -1.130233              7.127835       -7.127835             True   \n",
       "12758       -1.836538              7.651702       -7.651702             True   \n",
       "1273        -2.813559                   NaN             NaN            False   \n",
       "4773        -1.572770              0.775610       -0.775610             True   \n",
       "26199       -2.015748             -0.040018        0.040018            False   \n",
       "\n",
       "       duda_flip  \n",
       "1486       False  \n",
       "12758      False  \n",
       "1273        True  \n",
       "4773       False  \n",
       "26199       True  "
      ]
     },
     "execution_count": 41,
     "metadata": {},
     "output_type": "execute_result"
    }
   ],
   "source": [
    "df[df[cand_B + '_r2'] < df[cand_B + '_r1']].sort_values(by=cand_B + '_r1', ascending=False).head()"
   ]
  },
  {
   "cell_type": "code",
   "execution_count": 42,
   "metadata": {},
   "outputs": [],
   "source": [
    "# Anomalie na korzysc\n",
    "df[cand_A + '_more_votes'] = df[cand_B + '_r2']<df[cand_B + '_r1']\n",
    "df[cand_B + '_more_votes'] = df[cand_A + '_r2']<df[cand_A + '_r1']"
   ]
  },
  {
   "cell_type": "markdown",
   "metadata": {},
   "source": [
    "## Wyniki"
   ]
  },
  {
   "cell_type": "code",
   "execution_count": 43,
   "metadata": {},
   "outputs": [],
   "source": [
    "# w zależności od wielkości k\n",
    "k = 2\n",
    "\n",
    "# deduplikacja, czyli jak wystąpiła więcej niz jedna anomalia, to liczymy taką komisję raz"
   ]
  },
  {
   "cell_type": "markdown",
   "metadata": {},
   "source": [
    "### Na korzyść Komorowskiego"
   ]
  },
  {
   "cell_type": "code",
   "execution_count": 44,
   "metadata": {},
   "outputs": [],
   "source": [
    "cand = \"komorowski\"\n",
    "opponent = \"duda\"\n",
    "outliers_df = methods.generate_candidate_outliers(df, cand, opponent, k)"
   ]
  },
  {
   "cell_type": "markdown",
   "metadata": {},
   "source": [
    "### Liczba występujących anomalii. Czyli w ilu komisjach wystąpiła np. anomalia \"pop outlier\""
   ]
  },
  {
   "cell_type": "code",
   "execution_count": 45,
   "metadata": {},
   "outputs": [
    {
     "name": "stdout",
     "output_type": "stream",
     "text": [
      "pop_outlier       3206\n",
      "growth_outlier    2754\n",
      "flip              1806\n",
      "more_votes          93\n",
      "dtype: int64\n"
     ]
    }
   ],
   "source": [
    "bool_cols = [\"pop_outlier\", \"growth_outlier\", \"flip\", \"more_votes\"]\n",
    "print(outliers_df[bool_cols].sum())"
   ]
  },
  {
   "cell_type": "markdown",
   "metadata": {},
   "source": [
    "### Liczba komisji, w których wystąpiło minimum N anomalii, czyli minimum 1 (7073) albo wszystkie cztery anomalie (0)"
   ]
  },
  {
   "cell_type": "code",
   "execution_count": 46,
   "metadata": {},
   "outputs": [
    {
     "name": "stdout",
     "output_type": "stream",
     "text": [
      ">=1: 7073\n",
      ">=2: 756\n",
      ">=3: 30\n",
      ">=4: 0\n"
     ]
    }
   ],
   "source": [
    "true_counts = outliers_df[bool_cols].sum(axis=1)\n",
    "\n",
    "# Convert to plain ints\n",
    "count_distribution = {\n",
    "    \">=1\": int((true_counts >= 1).sum()),\n",
    "    \">=2\": int((true_counts >= 2).sum()),\n",
    "    \">=3\": int((true_counts >= 3).sum()),\n",
    "    \">=4\": int((true_counts >= 4).sum())\n",
    "}\n",
    "\n",
    "# Print row by row\n",
    "for key, value in count_distribution.items():\n",
    "    print(f\"{key}: {value}\")"
   ]
  },
  {
   "cell_type": "markdown",
   "metadata": {},
   "source": [
    "### Próba odwzorowania tabelki z wynikami"
   ]
  },
  {
   "cell_type": "code",
   "execution_count": 47,
   "metadata": {},
   "outputs": [],
   "source": [
    "outliers_df[\"anomalies\"] = outliers_df.apply(methods.assign_top_anomaly, axis=1)"
   ]
  },
  {
   "cell_type": "code",
   "execution_count": 48,
   "metadata": {},
   "outputs": [],
   "source": [
    "outliers_df[cand + \"_median_r2\"] = outliers_df.groupby(\"bucket\")[cand + \"_r2\"].transform(\"median\")\n",
    "outliers_df[opponent + \"_median_r2\"] = outliers_df.groupby(\"bucket\")[opponent + \"_r2\"].transform(\"median\")"
   ]
  },
  {
   "cell_type": "code",
   "execution_count": 49,
   "metadata": {},
   "outputs": [],
   "source": [
    "outliers_df = methods.add_median_corrected_votes(outliers_df, cand, opponent)"
   ]
  },
  {
   "cell_type": "code",
   "execution_count": 50,
   "metadata": {},
   "outputs": [
    {
     "data": {
      "text/html": [
       "<div>\n",
       "<style scoped>\n",
       "    .dataframe tbody tr th:only-of-type {\n",
       "        vertical-align: middle;\n",
       "    }\n",
       "\n",
       "    .dataframe tbody tr th {\n",
       "        vertical-align: top;\n",
       "    }\n",
       "\n",
       "    .dataframe thead th {\n",
       "        text-align: right;\n",
       "    }\n",
       "</style>\n",
       "<table border=\"1\" class=\"dataframe\">\n",
       "  <thead>\n",
       "    <tr style=\"text-align: right;\">\n",
       "      <th></th>\n",
       "      <th>flaga</th>\n",
       "      <th>liczba</th>\n",
       "      <th>głosy komorowski</th>\n",
       "      <th>głosy duda</th>\n",
       "      <th>różnica przed</th>\n",
       "      <th>głosy komorowski po</th>\n",
       "      <th>głosy duda po</th>\n",
       "      <th>różnica po</th>\n",
       "      <th>zmiana</th>\n",
       "    </tr>\n",
       "  </thead>\n",
       "  <tbody>\n",
       "    <tr>\n",
       "      <th>0</th>\n",
       "      <td>pop_outlier</td>\n",
       "      <td>2673</td>\n",
       "      <td>1177550</td>\n",
       "      <td>1240127</td>\n",
       "      <td>-62577</td>\n",
       "      <td>1065810</td>\n",
       "      <td>1351867</td>\n",
       "      <td>-286057</td>\n",
       "      <td>-223480</td>\n",
       "    </tr>\n",
       "    <tr>\n",
       "      <th>1</th>\n",
       "      <td>growth_outlier</td>\n",
       "      <td>2521</td>\n",
       "      <td>552905</td>\n",
       "      <td>681380</td>\n",
       "      <td>-128475</td>\n",
       "      <td>574879</td>\n",
       "      <td>659406</td>\n",
       "      <td>-84527</td>\n",
       "      <td>43948</td>\n",
       "    </tr>\n",
       "    <tr>\n",
       "      <th>2</th>\n",
       "      <td>flip</td>\n",
       "      <td>1786</td>\n",
       "      <td>570633</td>\n",
       "      <td>474382</td>\n",
       "      <td>96251</td>\n",
       "      <td>474499</td>\n",
       "      <td>570516</td>\n",
       "      <td>-96017</td>\n",
       "      <td>-192268</td>\n",
       "    </tr>\n",
       "    <tr>\n",
       "      <th>3</th>\n",
       "      <td>more_votes</td>\n",
       "      <td>93</td>\n",
       "      <td>2339</td>\n",
       "      <td>1635</td>\n",
       "      <td>704</td>\n",
       "      <td>1850</td>\n",
       "      <td>2124</td>\n",
       "      <td>-274</td>\n",
       "      <td>-978</td>\n",
       "    </tr>\n",
       "    <tr>\n",
       "      <th>4</th>\n",
       "      <td>łącznie</td>\n",
       "      <td>7073</td>\n",
       "      <td>2303427</td>\n",
       "      <td>2397524</td>\n",
       "      <td>-94097</td>\n",
       "      <td>2117038</td>\n",
       "      <td>2583913</td>\n",
       "      <td>-466875</td>\n",
       "      <td>-372778</td>\n",
       "    </tr>\n",
       "  </tbody>\n",
       "</table>\n",
       "</div>"
      ],
      "text/plain": [
       "            flaga  liczba  głosy komorowski  głosy duda  różnica przed  \\\n",
       "0     pop_outlier    2673           1177550     1240127         -62577   \n",
       "1  growth_outlier    2521            552905      681380        -128475   \n",
       "2            flip    1786            570633      474382          96251   \n",
       "3      more_votes      93              2339        1635            704   \n",
       "4         łącznie    7073           2303427     2397524         -94097   \n",
       "\n",
       "   głosy komorowski po  głosy duda po  różnica po  zmiana  \n",
       "0              1065810        1351867     -286057 -223480  \n",
       "1               574879         659406      -84527   43948  \n",
       "2               474499         570516      -96017 -192268  \n",
       "3                 1850           2124        -274    -978  \n",
       "4              2117038        2583913     -466875 -372778  "
      ]
     },
     "execution_count": 50,
     "metadata": {},
     "output_type": "execute_result"
    }
   ],
   "source": [
    "summary_df = methods.summarize_by_anomaly(outliers_df, cand, opponent)\n",
    "summary_df"
   ]
  },
  {
   "cell_type": "markdown",
   "metadata": {},
   "source": [
    "### Na korzyść Dudy"
   ]
  },
  {
   "cell_type": "code",
   "execution_count": 51,
   "metadata": {},
   "outputs": [],
   "source": [
    "cand = \"duda\"\n",
    "opponent = \"komorowski\"\n",
    "outliers_df = methods.generate_candidate_outliers(df, cand, opponent, k)"
   ]
  },
  {
   "cell_type": "markdown",
   "metadata": {},
   "source": [
    "### Liczba występujących anomalii. Czyli w ilu komisjach wystąpiła np. anomalia \"pop outlier\""
   ]
  },
  {
   "cell_type": "code",
   "execution_count": 52,
   "metadata": {},
   "outputs": [
    {
     "name": "stdout",
     "output_type": "stream",
     "text": [
      "pop_outlier       2928\n",
      "growth_outlier    3074\n",
      "flip              1750\n",
      "more_votes         286\n",
      "dtype: int64\n"
     ]
    }
   ],
   "source": [
    "bool_cols = [\"pop_outlier\", \"growth_outlier\", \"flip\", \"more_votes\"]\n",
    "print(outliers_df[bool_cols].sum())"
   ]
  },
  {
   "cell_type": "markdown",
   "metadata": {},
   "source": [
    "### Liczba komisji, w których wystąpiło minimum N anomalii, czyli minimum 1 (7124) albo wszystkie cztery anomalie (1)"
   ]
  },
  {
   "cell_type": "code",
   "execution_count": 53,
   "metadata": {},
   "outputs": [
    {
     "name": "stdout",
     "output_type": "stream",
     "text": [
      ">=1: 7124\n",
      ">=2: 842\n",
      ">=3: 71\n",
      ">=4: 1\n"
     ]
    }
   ],
   "source": [
    "true_counts = outliers_df[bool_cols].sum(axis=1)\n",
    "\n",
    "# Convert to plain ints\n",
    "count_distribution = {\n",
    "    \">=1\": int((true_counts >= 1).sum()),\n",
    "    \">=2\": int((true_counts >= 2).sum()),\n",
    "    \">=3\": int((true_counts >= 3).sum()),\n",
    "    \">=4\": int((true_counts >= 4).sum())\n",
    "}\n",
    "\n",
    "# Print row by row\n",
    "for key, value in count_distribution.items():\n",
    "    print(f\"{key}: {value}\")"
   ]
  },
  {
   "cell_type": "code",
   "execution_count": 54,
   "metadata": {},
   "outputs": [],
   "source": [
    "outliers_df[\"anomalies\"] = outliers_df.apply(methods.assign_top_anomaly, axis=1)"
   ]
  },
  {
   "cell_type": "code",
   "execution_count": 55,
   "metadata": {},
   "outputs": [],
   "source": [
    "outliers_df[cand + \"_median_r2\"] = outliers_df.groupby(\"bucket\")[cand + \"_r2\"].transform(\"median\")\n",
    "outliers_df[opponent + \"_median_r2\"] = outliers_df.groupby(\"bucket\")[opponent + \"_r2\"].transform(\"median\")"
   ]
  },
  {
   "cell_type": "code",
   "execution_count": 56,
   "metadata": {},
   "outputs": [],
   "source": [
    "outliers_df = methods.add_median_corrected_votes(outliers_df, cand, opponent)"
   ]
  },
  {
   "cell_type": "code",
   "execution_count": 57,
   "metadata": {},
   "outputs": [
    {
     "data": {
      "text/html": [
       "<div>\n",
       "<style scoped>\n",
       "    .dataframe tbody tr th:only-of-type {\n",
       "        vertical-align: middle;\n",
       "    }\n",
       "\n",
       "    .dataframe tbody tr th {\n",
       "        vertical-align: top;\n",
       "    }\n",
       "\n",
       "    .dataframe thead th {\n",
       "        text-align: right;\n",
       "    }\n",
       "</style>\n",
       "<table border=\"1\" class=\"dataframe\">\n",
       "  <thead>\n",
       "    <tr style=\"text-align: right;\">\n",
       "      <th></th>\n",
       "      <th>flaga</th>\n",
       "      <th>liczba</th>\n",
       "      <th>głosy duda</th>\n",
       "      <th>głosy komorowski</th>\n",
       "      <th>różnica przed</th>\n",
       "      <th>głosy duda po</th>\n",
       "      <th>głosy komorowski po</th>\n",
       "      <th>różnica po</th>\n",
       "      <th>zmiana</th>\n",
       "    </tr>\n",
       "  </thead>\n",
       "  <tbody>\n",
       "    <tr>\n",
       "      <th>0</th>\n",
       "      <td>pop_outlier</td>\n",
       "      <td>2569</td>\n",
       "      <td>1306296</td>\n",
       "      <td>1035245</td>\n",
       "      <td>271051</td>\n",
       "      <td>1292828</td>\n",
       "      <td>1048713</td>\n",
       "      <td>244115</td>\n",
       "      <td>-26936</td>\n",
       "    </tr>\n",
       "    <tr>\n",
       "      <th>1</th>\n",
       "      <td>growth_outlier</td>\n",
       "      <td>2584</td>\n",
       "      <td>599896</td>\n",
       "      <td>643513</td>\n",
       "      <td>-43617</td>\n",
       "      <td>624838</td>\n",
       "      <td>618571</td>\n",
       "      <td>6267</td>\n",
       "      <td>49884</td>\n",
       "    </tr>\n",
       "    <tr>\n",
       "      <th>2</th>\n",
       "      <td>flip</td>\n",
       "      <td>1685</td>\n",
       "      <td>454708</td>\n",
       "      <td>377982</td>\n",
       "      <td>76726</td>\n",
       "      <td>382703</td>\n",
       "      <td>449987</td>\n",
       "      <td>-67284</td>\n",
       "      <td>-144010</td>\n",
       "    </tr>\n",
       "    <tr>\n",
       "      <th>3</th>\n",
       "      <td>more_votes</td>\n",
       "      <td>286</td>\n",
       "      <td>19249</td>\n",
       "      <td>5122</td>\n",
       "      <td>14127</td>\n",
       "      <td>17380</td>\n",
       "      <td>6991</td>\n",
       "      <td>10389</td>\n",
       "      <td>-3738</td>\n",
       "    </tr>\n",
       "    <tr>\n",
       "      <th>4</th>\n",
       "      <td>łącznie</td>\n",
       "      <td>7124</td>\n",
       "      <td>2380149</td>\n",
       "      <td>2061862</td>\n",
       "      <td>318287</td>\n",
       "      <td>2317749</td>\n",
       "      <td>2124262</td>\n",
       "      <td>193487</td>\n",
       "      <td>-124800</td>\n",
       "    </tr>\n",
       "  </tbody>\n",
       "</table>\n",
       "</div>"
      ],
      "text/plain": [
       "            flaga  liczba  głosy duda  głosy komorowski  różnica przed  \\\n",
       "0     pop_outlier    2569     1306296           1035245         271051   \n",
       "1  growth_outlier    2584      599896            643513         -43617   \n",
       "2            flip    1685      454708            377982          76726   \n",
       "3      more_votes     286       19249              5122          14127   \n",
       "4         łącznie    7124     2380149           2061862         318287   \n",
       "\n",
       "   głosy duda po  głosy komorowski po  różnica po  zmiana  \n",
       "0        1292828              1048713      244115  -26936  \n",
       "1         624838               618571        6267   49884  \n",
       "2         382703               449987      -67284 -144010  \n",
       "3          17380                 6991       10389   -3738  \n",
       "4        2317749              2124262      193487 -124800  "
      ]
     },
     "execution_count": 57,
     "metadata": {},
     "output_type": "execute_result"
    }
   ],
   "source": [
    "summary_df = methods.summarize_by_anomaly(outliers_df, cand, opponent)\n",
    "summary_df"
   ]
  }
 ],
 "metadata": {
  "kernelspec": {
   "display_name": "venv",
   "language": "python",
   "name": "python3"
  },
  "language_info": {
   "codemirror_mode": {
    "name": "ipython",
    "version": 3
   },
   "file_extension": ".py",
   "mimetype": "text/x-python",
   "name": "python",
   "nbconvert_exporter": "python",
   "pygments_lexer": "ipython3",
   "version": "3.12.3"
  }
 },
 "nbformat": 4,
 "nbformat_minor": 2
}
