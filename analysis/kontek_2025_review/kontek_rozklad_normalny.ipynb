{
 "cells": [
  {
   "cell_type": "markdown",
   "metadata": {},
   "source": [
    "## Próba implementacji metod zastosowanych przez dr. Kontka w artykule \n",
    "\n",
    "[\"**Weryfikacja wyniku drugiej tury wyborów prezydenckich w Polsce w 2025 roku: Przeliczenie głosów z użyciem przestrzennie grupowanej metody MAD**\"](https://papers.ssrn.com/sol3/papers.cfm?abstract_id=5296441)\n",
    "\n",
    "ale **przy zastosowaniu całkowicie losowych danych i losowego grupowania komisji wyborczych**\n",
    "\n",
    "### Założenie i hipoteza\n",
    "Celem eksperymentu jest sprawdzenie, czy wykrywalność tzw. anomalii wyborczych (wg metody MAD) zależy faktycznie od przestrzennego podobieństwa komisji, czy też wynika jedynie z naturalnego rozrzutu procentowego poparcia — nawet przy idealnie losowych i uczciwych danych.\n",
    "\n",
    "W ramach testu:\n",
    "\n",
    "* Wygenerowano dane dla ponad 31 000 komisji wyborczych,\n",
    "\n",
    "* Podzielono je losowo na około 2200 grup (10–16 komisji każda),\n",
    "\n",
    "* W każdej grupie rozkład głosów oparto na symetrycznym rozkładzie normalnym wokół 50%,\n",
    "\n",
    "* Dodano drobne różnice między 1. a 2. turą (na wzór naturalnej dynamiki kampanii),\n",
    "\n",
    "Zarówno wartości, jak i przypisanie do grup są losowe – z zachowaniem statystycznego realizmu.\n",
    "\n",
    "### Interpretacja\n",
    "Jeśli metoda dr. Kontka działa zgodnie z założeniem, że komisje w pobliżu geograficznym mają zbliżone wyniki, to losowe grupowanie komisji (czyli całkowite oderwanie od kontekstu przestrzennego) powinno znacząco ograniczyć liczbę wykrywanych anomalii.\n",
    "\n",
    "Jeśli jednak mimo pełnej losowości danych i grupowania — przy założeniu poprawnych, symetrycznych rozkładów — liczba anomalii pozostaje podobna jak w danych rzeczywistych, może to oznaczać, że metoda MAD nie wykrywa realnych odstępstw od \"normalności\", ale flaguje naturalne fluktuacje jako podejrzane — nawet tam, gdzie żadnej anomalii nie ma.\n",
    "\n",
    "W takim przypadku pojawia się uzasadniona wątpliwość, czy metoda nadaje się do wykrywania fałszerstw wyborczych — zwłaszcza jeśli generuje porównywalne poziomy alarmów nawet w czysto symulowanych, losowych i uczciwych danych."
   ]
  },
  {
   "cell_type": "code",
   "execution_count": 6,
   "metadata": {},
   "outputs": [],
   "source": [
    "import pandas as pd\n",
    "import numpy as np\n",
    "\n",
    "from utilities import presidential_data, clustering, methods"
   ]
  },
  {
   "cell_type": "markdown",
   "metadata": {},
   "source": [
    "### generate fake data"
   ]
  },
  {
   "cell_type": "code",
   "execution_count": 37,
   "metadata": {},
   "outputs": [],
   "source": [
    "import numpy as np\n",
    "import pandas as pd\n",
    "\n",
    "# 🔧 Parametry\n",
    "n_commissions = 31627\n",
    "n_groups = 2208\n",
    "votes_per = 1000\n",
    "\n",
    "# 📊 Rzeczywiste wyniki 1. tury\n",
    "pct_trz_r1 = 30.8\n",
    "pct_naw_r1 = 29.1\n",
    "pct_other_r1 = 100 - pct_trz_r1 - pct_naw_r1  # = 40.1%\n",
    "\n",
    "# Odchylenia standardowe\n",
    "std_r1 = 1.5\n",
    "std_r2 = 2.0\n",
    "\n",
    "rng = np.random.default_rng(123)\n",
    "group_sizes = rng.integers(10, 17, size=n_groups)\n",
    "group_sizes[-1] += n_commissions - group_sizes.sum()\n",
    "\n",
    "data = []\n",
    "polling_id, teryt_base, postal_base = 100000, 140000, 30000\n",
    "\n",
    "for g, size in enumerate(group_sizes):\n",
    "    for _ in range(size):\n",
    "        # --- 1. tura ---\n",
    "        trz_r1_pct = rng.normal(pct_trz_r1, std_r1)\n",
    "        naw_r1_pct = rng.normal(pct_naw_r1, std_r1)\n",
    "        other_r1_pct = 100 - trz_r1_pct - naw_r1_pct\n",
    "\n",
    "        # Obróbka progowa i normalizacja\n",
    "        arr = np.array([trz_r1_pct, naw_r1_pct, other_r1_pct])\n",
    "        arr = np.clip(arr, 0, None)\n",
    "        arr = arr / arr.sum()\n",
    "\n",
    "        trz_r1 = int(round(votes_per * arr[0]))\n",
    "        naw_r1 = int(round(votes_per * arr[1]))\n",
    "\n",
    "        # --- 2. tura (symetrycznie wokół 50%) ---\n",
    "        trz_r2_pct = rng.normal(50, std_r2)\n",
    "        trz_r2_pct = np.clip(trz_r2_pct, 0, 100)\n",
    "        trz_r2 = int(round(votes_per * trz_r2_pct / 100))\n",
    "        naw_r2 = votes_per - trz_r2\n",
    "\n",
    "        data.append({\n",
    "            \"teryt_gmina\": f\"{teryt_base + g}\",\n",
    "            \"polling_station_id\": polling_id,\n",
    "            \"postal_code\": f\"{postal_base + g % 10000:05}\",\n",
    "            \"bucket\": g,\n",
    "            \"trzaskowski_r1\": trz_r1,\n",
    "            \"nawrocki_r1\": naw_r1,\n",
    "            \"trzaskowski_r2\": trz_r2,\n",
    "            \"nawrocki_r2\": naw_r2,\n",
    "        })\n",
    "        polling_id += 1\n",
    "\n",
    "df_sim = pd.DataFrame(data)\n"
   ]
  },
  {
   "cell_type": "code",
   "execution_count": 39,
   "metadata": {},
   "outputs": [
    {
     "data": {
      "text/html": [
       "<div>\n",
       "<style scoped>\n",
       "    .dataframe tbody tr th:only-of-type {\n",
       "        vertical-align: middle;\n",
       "    }\n",
       "\n",
       "    .dataframe tbody tr th {\n",
       "        vertical-align: top;\n",
       "    }\n",
       "\n",
       "    .dataframe thead th {\n",
       "        text-align: right;\n",
       "    }\n",
       "</style>\n",
       "<table border=\"1\" class=\"dataframe\">\n",
       "  <thead>\n",
       "    <tr style=\"text-align: right;\">\n",
       "      <th></th>\n",
       "      <th>teryt_gmina</th>\n",
       "      <th>polling_station_id</th>\n",
       "      <th>postal_code</th>\n",
       "      <th>bucket</th>\n",
       "      <th>trzaskowski_r1</th>\n",
       "      <th>nawrocki_r1</th>\n",
       "      <th>trzaskowski_r2</th>\n",
       "      <th>nawrocki_r2</th>\n",
       "    </tr>\n",
       "  </thead>\n",
       "  <tbody>\n",
       "    <tr>\n",
       "      <th>0</th>\n",
       "      <td>140000</td>\n",
       "      <td>100000</td>\n",
       "      <td>30000</td>\n",
       "      <td>0</td>\n",
       "      <td>294</td>\n",
       "      <td>307</td>\n",
       "      <td>469</td>\n",
       "      <td>531</td>\n",
       "    </tr>\n",
       "    <tr>\n",
       "      <th>1</th>\n",
       "      <td>140000</td>\n",
       "      <td>100001</td>\n",
       "      <td>30000</td>\n",
       "      <td>0</td>\n",
       "      <td>300</td>\n",
       "      <td>278</td>\n",
       "      <td>517</td>\n",
       "      <td>483</td>\n",
       "    </tr>\n",
       "    <tr>\n",
       "      <th>2</th>\n",
       "      <td>140000</td>\n",
       "      <td>100002</td>\n",
       "      <td>30000</td>\n",
       "      <td>0</td>\n",
       "      <td>299</td>\n",
       "      <td>299</td>\n",
       "      <td>535</td>\n",
       "      <td>465</td>\n",
       "    </tr>\n",
       "    <tr>\n",
       "      <th>3</th>\n",
       "      <td>140000</td>\n",
       "      <td>100003</td>\n",
       "      <td>30000</td>\n",
       "      <td>0</td>\n",
       "      <td>310</td>\n",
       "      <td>278</td>\n",
       "      <td>494</td>\n",
       "      <td>506</td>\n",
       "    </tr>\n",
       "    <tr>\n",
       "      <th>4</th>\n",
       "      <td>140000</td>\n",
       "      <td>100004</td>\n",
       "      <td>30000</td>\n",
       "      <td>0</td>\n",
       "      <td>293</td>\n",
       "      <td>304</td>\n",
       "      <td>514</td>\n",
       "      <td>486</td>\n",
       "    </tr>\n",
       "  </tbody>\n",
       "</table>\n",
       "</div>"
      ],
      "text/plain": [
       "  teryt_gmina  polling_station_id postal_code  bucket  trzaskowski_r1  \\\n",
       "0      140000              100000       30000       0             294   \n",
       "1      140000              100001       30000       0             300   \n",
       "2      140000              100002       30000       0             299   \n",
       "3      140000              100003       30000       0             310   \n",
       "4      140000              100004       30000       0             293   \n",
       "\n",
       "   nawrocki_r1  trzaskowski_r2  nawrocki_r2  \n",
       "0          307             469          531  \n",
       "1          278             517          483  \n",
       "2          299             535          465  \n",
       "3          278             494          506  \n",
       "4          304             514          486  "
      ]
     },
     "execution_count": 39,
     "metadata": {},
     "output_type": "execute_result"
    }
   ],
   "source": [
    "df_sim.head()"
   ]
  },
  {
   "cell_type": "markdown",
   "metadata": {},
   "source": [
    "### IMPLEMENTACJA METOD ZAPROPONOWANYCH PRZEZ DR KONTKA\n",
    "\n",
    "2.3. Wykrywanie wartości odstających\n",
    "\n",
    "Główna innowacja analityczna niniejszego badania polega na oszacowaniu potencjalnego wpływu\n",
    "anormalnych komisji wyborczych na poziomie ogólnokrajowym. Aby to osiągnąć, w pierwszej\n",
    "kolejności zidentyfikowano wartości odstające w czterech kategoriach nieprawidłowości:"
   ]
  },
  {
   "cell_type": "code",
   "execution_count": 38,
   "metadata": {},
   "outputs": [],
   "source": [
    "df = df_sim.copy()\n",
    "df[\"postal_clean\"] = df[\"postal_code\"].astype(str).str.replace(\"-\", \"\")"
   ]
  },
  {
   "cell_type": "code",
   "execution_count": 40,
   "metadata": {},
   "outputs": [
    {
     "name": "stdout",
     "output_type": "stream",
     "text": [
      "Liczba komisji:  31627\n"
     ]
    }
   ],
   "source": [
    "print(\"Liczba komisji: \", len(df))"
   ]
  },
  {
   "cell_type": "code",
   "execution_count": 41,
   "metadata": {},
   "outputs": [],
   "source": [
    "cand_A = \"trzaskowski\"\n",
    "cand_B = \"nawrocki\""
   ]
  },
  {
   "cell_type": "markdown",
   "metadata": {},
   "source": [
    "### 1. pop_outlier: Nadmierne poparcie dla kandydata A (względem mediany w ramach lokalnej grupy)"
   ]
  },
  {
   "cell_type": "code",
   "execution_count": 42,
   "metadata": {},
   "outputs": [],
   "source": [
    "df = methods.add_anomaly_1(df, cand_A, cand_B, new_col_name=\"k_score_1\")"
   ]
  },
  {
   "cell_type": "code",
   "execution_count": 43,
   "metadata": {},
   "outputs": [
    {
     "name": "stdout",
     "output_type": "stream",
     "text": [
      "k > 2.0\n",
      "trzaskowski: 2990\n",
      "nawrocki: 3053\n",
      "---\n",
      "k > 2.5\n",
      "trzaskowski: 1861\n",
      "nawrocki: 1953\n",
      "---\n",
      "k > 3.0\n",
      "trzaskowski: 1170\n",
      "nawrocki: 1227\n",
      "---\n"
     ]
    }
   ],
   "source": [
    "methods.check_k_thresholds(df, cand_A, cand_B, \"_k_score_1\")"
   ]
  },
  {
   "cell_type": "markdown",
   "metadata": {},
   "source": [
    "Wyniki:\n",
    "\n",
    "Dla k=2, takich komisji, w których \"za duże\" poparcie ma Trzaskowski jest 2990 a Nawrocki 3053"
   ]
  },
  {
   "cell_type": "markdown",
   "metadata": {},
   "source": [
    "### 2. growth_outlier: Nadmierny względny wzrost poparcia dla kandydata A między pierwszą a drugą turą, w porównaniu do odpowiedniego wzrostu poparcia dla kandydata B w tej samej grupie lokalnej;"
   ]
  },
  {
   "cell_type": "code",
   "execution_count": 44,
   "metadata": {},
   "outputs": [],
   "source": [
    "df = methods.add_anomaly_2(df, cand_A, cand_B, new_col_name=\"k_score_2\")"
   ]
  },
  {
   "cell_type": "code",
   "execution_count": 45,
   "metadata": {},
   "outputs": [
    {
     "name": "stdout",
     "output_type": "stream",
     "text": [
      "k > 2.0\n",
      "trzaskowski: 3026\n",
      "nawrocki: 3098\n",
      "---\n",
      "k > 2.5\n",
      "trzaskowski: 1915\n",
      "nawrocki: 1973\n",
      "---\n",
      "k > 3.0\n",
      "trzaskowski: 1168\n",
      "nawrocki: 1271\n",
      "---\n"
     ]
    }
   ],
   "source": [
    "methods.check_k_thresholds(df, cand_A, cand_B, \"_k_score_2\")"
   ]
  },
  {
   "cell_type": "markdown",
   "metadata": {},
   "source": [
    "### 3. Komisje, w których kand A uzyskał więcej głosów niż kand B w drugiej turze, mimo że mediana wyników w grupie wskazywała na przewagę kand B;"
   ]
  },
  {
   "cell_type": "code",
   "execution_count": 46,
   "metadata": {},
   "outputs": [],
   "source": [
    "df = methods.add_anomaly_3(df, cand_A, cand_B, new_col_name=\"flip\")"
   ]
  },
  {
   "cell_type": "code",
   "execution_count": 47,
   "metadata": {},
   "outputs": [
    {
     "data": {
      "text/plain": [
       "('trzaskowski', 5285)"
      ]
     },
     "execution_count": 47,
     "metadata": {},
     "output_type": "execute_result"
    }
   ],
   "source": [
    "# na korzyść kandydata A, czyli większą medianę miał B, a więcej głosów dostał A.\n",
    "cand_A, sum(df['higher_median_' + cand_B] & (df[cand_A + '_r2'] > df[cand_B + '_r2']))"
   ]
  },
  {
   "cell_type": "code",
   "execution_count": 48,
   "metadata": {},
   "outputs": [
    {
     "data": {
      "text/plain": [
       "('nawrocki', 5079)"
      ]
     },
     "execution_count": 48,
     "metadata": {},
     "output_type": "execute_result"
    }
   ],
   "source": [
    "cand_B, sum(df['higher_median_' + cand_A] & (df[cand_B + '_r2'] > df[cand_A + '_r2']))"
   ]
  },
  {
   "cell_type": "code",
   "execution_count": 49,
   "metadata": {},
   "outputs": [],
   "source": [
    "df = df.drop(\n",
    "    columns=[\n",
    "        f\"higher_median_{cand_A}\",\n",
    "        f\"higher_median_{cand_B}\",\n",
    "    ]\n",
    ")"
   ]
  },
  {
   "cell_type": "markdown",
   "metadata": {},
   "source": [
    "**WYNIKI**:\n",
    "\n",
    "W grupach, w których większą medianę miał Nawrocki, było 5079 komisji, w których wyższy wynik uzyskał Trzaskowski.\n",
    "\n",
    "W grupach, w których większą medianę miał Trzaskowski, było 5285 komisji, w których wyższy wyniki uzyskał Nawrocki."
   ]
  },
  {
   "cell_type": "markdown",
   "metadata": {},
   "source": [
    "### 4. Kandydat otrzymał mniej głosów w drugiej turze niż w pierwszej"
   ]
  },
  {
   "cell_type": "code",
   "execution_count": 50,
   "metadata": {},
   "outputs": [
    {
     "data": {
      "text/plain": [
       "('trzaskowski', 0)"
      ]
     },
     "execution_count": 50,
     "metadata": {},
     "output_type": "execute_result"
    }
   ],
   "source": [
    "cand_A, sum(df[cand_A + '_r2']<df[cand_A + '_r1'])"
   ]
  },
  {
   "cell_type": "code",
   "execution_count": 51,
   "metadata": {},
   "outputs": [
    {
     "data": {
      "text/plain": [
       "('nawrocki', 0)"
      ]
     },
     "execution_count": 51,
     "metadata": {},
     "output_type": "execute_result"
    }
   ],
   "source": [
    "cand_B, sum(df[cand_B + '_r2']<df[cand_B + '_r1'])"
   ]
  },
  {
   "cell_type": "code",
   "execution_count": 52,
   "metadata": {},
   "outputs": [],
   "source": [
    "# Anomalie na korzysc\n",
    "df[cand_A + '_more_votes'] = df[cand_B + '_r2']<df[cand_B + '_r1']\n",
    "df[cand_B + '_more_votes'] = df[cand_A + '_r2']<df[cand_A + '_r1']"
   ]
  },
  {
   "cell_type": "markdown",
   "metadata": {},
   "source": [
    "## Wyniki"
   ]
  },
  {
   "cell_type": "code",
   "execution_count": 53,
   "metadata": {},
   "outputs": [],
   "source": [
    "# w zależności od wielkości k\n",
    "k = 2\n",
    "\n",
    "# deduplikacja, czyli jak wystąpiła więcej niz jedna anomalia, to liczymy taką komisję raz"
   ]
  },
  {
   "cell_type": "markdown",
   "metadata": {},
   "source": [
    "### Na korzyść Nawrockiego"
   ]
  },
  {
   "cell_type": "code",
   "execution_count": 54,
   "metadata": {},
   "outputs": [],
   "source": [
    "cand = \"nawrocki\"\n",
    "opponent = \"trzaskowski\"\n",
    "outliers_df = methods.generate_candidate_outliers(df, cand, opponent, k)"
   ]
  },
  {
   "cell_type": "markdown",
   "metadata": {},
   "source": [
    "### Liczba występujących anomalii. Czyli w ilu komisjach wystąpiła np. anomalia \"pop outlier\""
   ]
  },
  {
   "cell_type": "code",
   "execution_count": 55,
   "metadata": {},
   "outputs": [
    {
     "name": "stdout",
     "output_type": "stream",
     "text": [
      "pop_outlier       3053\n",
      "growth_outlier    3098\n",
      "flip              5079\n",
      "more_votes           0\n",
      "dtype: int64\n"
     ]
    }
   ],
   "source": [
    "bool_cols = [\"pop_outlier\", \"growth_outlier\", \"flip\", \"more_votes\"]\n",
    "print(outliers_df[bool_cols].sum())"
   ]
  },
  {
   "cell_type": "markdown",
   "metadata": {},
   "source": [
    "### Liczba komisji, w których wystąpiło minimum N anomalii, czyli minimum 1 (8910) albo wszystkie cztery anomalie (1)"
   ]
  },
  {
   "cell_type": "code",
   "execution_count": 56,
   "metadata": {},
   "outputs": [
    {
     "name": "stdout",
     "output_type": "stream",
     "text": [
      ">=1: 7715\n",
      ">=2: 2785\n",
      ">=3: 730\n",
      ">=4: 0\n"
     ]
    }
   ],
   "source": [
    "true_counts = outliers_df[bool_cols].sum(axis=1)\n",
    "\n",
    "# Convert to plain ints\n",
    "count_distribution = {\n",
    "    \">=1\": int((true_counts >= 1).sum()),\n",
    "    \">=2\": int((true_counts >= 2).sum()),\n",
    "    \">=3\": int((true_counts >= 3).sum()),\n",
    "    \">=4\": int((true_counts >= 4).sum())\n",
    "}\n",
    "\n",
    "# Print row by row\n",
    "for key, value in count_distribution.items():\n",
    "    print(f\"{key}: {value}\")"
   ]
  },
  {
   "cell_type": "markdown",
   "metadata": {},
   "source": [
    "### Próba odwzorowania tabelki z wynikami"
   ]
  },
  {
   "cell_type": "code",
   "execution_count": 57,
   "metadata": {},
   "outputs": [],
   "source": [
    "# suma głosów. jeżeli w komisji występuje więcej niż jedna anomalia, sumuj jej głosy tylko raz\n",
    "outliers_df[\"anomalies\"] = outliers_df.apply(methods.assign_top_anomaly, axis=1)"
   ]
  },
  {
   "cell_type": "code",
   "execution_count": 58,
   "metadata": {},
   "outputs": [],
   "source": [
    "outliers_df[cand + \"_median_r2\"] = outliers_df.groupby(\"bucket\")[cand + \"_r2\"].transform(\"median\")\n",
    "outliers_df[opponent + \"_median_r2\"] = outliers_df.groupby(\"bucket\")[opponent + \"_r2\"].transform(\"median\")"
   ]
  },
  {
   "cell_type": "code",
   "execution_count": 59,
   "metadata": {},
   "outputs": [],
   "source": [
    "outliers_df = methods.add_median_corrected_votes(outliers_df, cand, opponent)"
   ]
  },
  {
   "cell_type": "code",
   "execution_count": 60,
   "metadata": {},
   "outputs": [
    {
     "data": {
      "text/html": [
       "<div>\n",
       "<style scoped>\n",
       "    .dataframe tbody tr th:only-of-type {\n",
       "        vertical-align: middle;\n",
       "    }\n",
       "\n",
       "    .dataframe tbody tr th {\n",
       "        vertical-align: top;\n",
       "    }\n",
       "\n",
       "    .dataframe thead th {\n",
       "        text-align: right;\n",
       "    }\n",
       "</style>\n",
       "<table border=\"1\" class=\"dataframe\">\n",
       "  <thead>\n",
       "    <tr style=\"text-align: right;\">\n",
       "      <th></th>\n",
       "      <th>flaga</th>\n",
       "      <th>liczba</th>\n",
       "      <th>głosy nawrocki</th>\n",
       "      <th>głosy trzaskowski</th>\n",
       "      <th>różnica przed</th>\n",
       "      <th>głosy nawrocki po</th>\n",
       "      <th>głosy trzaskowski po</th>\n",
       "      <th>różnica po</th>\n",
       "      <th>zmiana</th>\n",
       "    </tr>\n",
       "  </thead>\n",
       "  <tbody>\n",
       "    <tr>\n",
       "      <th>0</th>\n",
       "      <td>pop_outlier</td>\n",
       "      <td>786</td>\n",
       "      <td>419086</td>\n",
       "      <td>366914</td>\n",
       "      <td>52172</td>\n",
       "      <td>395814</td>\n",
       "      <td>390186</td>\n",
       "      <td>5628</td>\n",
       "      <td>-46544</td>\n",
       "    </tr>\n",
       "    <tr>\n",
       "      <th>1</th>\n",
       "      <td>growth_outlier</td>\n",
       "      <td>1850</td>\n",
       "      <td>968415</td>\n",
       "      <td>881585</td>\n",
       "      <td>86830</td>\n",
       "      <td>931453</td>\n",
       "      <td>918547</td>\n",
       "      <td>12906</td>\n",
       "      <td>-73924</td>\n",
       "    </tr>\n",
       "    <tr>\n",
       "      <th>2</th>\n",
       "      <td>flip</td>\n",
       "      <td>5079</td>\n",
       "      <td>2621851</td>\n",
       "      <td>2457149</td>\n",
       "      <td>164702</td>\n",
       "      <td>2513896</td>\n",
       "      <td>2565104</td>\n",
       "      <td>-51208</td>\n",
       "      <td>-215910</td>\n",
       "    </tr>\n",
       "    <tr>\n",
       "      <th>3</th>\n",
       "      <td>more_votes</td>\n",
       "      <td>0</td>\n",
       "      <td>0</td>\n",
       "      <td>0</td>\n",
       "      <td>0</td>\n",
       "      <td>0</td>\n",
       "      <td>0</td>\n",
       "      <td>0</td>\n",
       "      <td>0</td>\n",
       "    </tr>\n",
       "    <tr>\n",
       "      <th>4</th>\n",
       "      <td>łącznie</td>\n",
       "      <td>7715</td>\n",
       "      <td>4009352</td>\n",
       "      <td>3705648</td>\n",
       "      <td>303704</td>\n",
       "      <td>3841163</td>\n",
       "      <td>3873837</td>\n",
       "      <td>-32674</td>\n",
       "      <td>-336378</td>\n",
       "    </tr>\n",
       "  </tbody>\n",
       "</table>\n",
       "</div>"
      ],
      "text/plain": [
       "            flaga  liczba  głosy nawrocki  głosy trzaskowski  różnica przed  \\\n",
       "0     pop_outlier     786          419086             366914          52172   \n",
       "1  growth_outlier    1850          968415             881585          86830   \n",
       "2            flip    5079         2621851            2457149         164702   \n",
       "3      more_votes       0               0                  0              0   \n",
       "4         łącznie    7715         4009352            3705648         303704   \n",
       "\n",
       "   głosy nawrocki po  głosy trzaskowski po  różnica po  zmiana  \n",
       "0             395814                390186        5628  -46544  \n",
       "1             931453                918547       12906  -73924  \n",
       "2            2513896               2565104      -51208 -215910  \n",
       "3                  0                     0           0       0  \n",
       "4            3841163               3873837      -32674 -336378  "
      ]
     },
     "execution_count": 60,
     "metadata": {},
     "output_type": "execute_result"
    }
   ],
   "source": [
    "summary_df = methods.summarize_by_anomaly(outliers_df, cand, opponent)\n",
    "summary_df"
   ]
  },
  {
   "cell_type": "markdown",
   "metadata": {},
   "source": [
    "### Na korzyść Trzaskowskiego"
   ]
  },
  {
   "cell_type": "code",
   "execution_count": 61,
   "metadata": {},
   "outputs": [],
   "source": [
    "cand = \"trzaskowski\"\n",
    "opponent = \"nawrocki\"\n",
    "outliers_df = methods.generate_candidate_outliers(df, cand, opponent, k)"
   ]
  },
  {
   "cell_type": "markdown",
   "metadata": {},
   "source": [
    "### Liczba występujących anomalii. Czyli w ilu komisjach wystąpiła np. anomalia \"pop outlier\""
   ]
  },
  {
   "cell_type": "code",
   "execution_count": 62,
   "metadata": {},
   "outputs": [
    {
     "name": "stdout",
     "output_type": "stream",
     "text": [
      "pop_outlier       2990\n",
      "growth_outlier    3026\n",
      "flip              5285\n",
      "more_votes           0\n",
      "dtype: int64\n"
     ]
    }
   ],
   "source": [
    "bool_cols = [\"pop_outlier\", \"growth_outlier\", \"flip\", \"more_votes\"]\n",
    "print(outliers_df[bool_cols].sum())"
   ]
  },
  {
   "cell_type": "markdown",
   "metadata": {},
   "source": [
    "### Liczba komisji, w których wystąpiło minimum N anomalii, czyli minimum 1 (14642) albo wszystkie cztery anomalie (0)"
   ]
  },
  {
   "cell_type": "code",
   "execution_count": 63,
   "metadata": {},
   "outputs": [
    {
     "name": "stdout",
     "output_type": "stream",
     "text": [
      ">=1: 7778\n",
      ">=2: 2788\n",
      ">=3: 735\n",
      ">=4: 0\n"
     ]
    }
   ],
   "source": [
    "true_counts = outliers_df[bool_cols].sum(axis=1)\n",
    "\n",
    "# Convert to plain ints\n",
    "count_distribution = {\n",
    "    \">=1\": int((true_counts >= 1).sum()),\n",
    "    \">=2\": int((true_counts >= 2).sum()),\n",
    "    \">=3\": int((true_counts >= 3).sum()),\n",
    "    \">=4\": int((true_counts >= 4).sum())\n",
    "}\n",
    "\n",
    "# Print row by row\n",
    "for key, value in count_distribution.items():\n",
    "    print(f\"{key}: {value}\")"
   ]
  },
  {
   "cell_type": "code",
   "execution_count": 64,
   "metadata": {},
   "outputs": [],
   "source": [
    "outliers_df[\"anomalies\"] = outliers_df.apply(methods.assign_top_anomaly, axis=1)"
   ]
  },
  {
   "cell_type": "code",
   "execution_count": 65,
   "metadata": {},
   "outputs": [],
   "source": [
    "outliers_df[cand + \"_median_r2\"] = outliers_df.groupby(\"bucket\")[cand + \"_r2\"].transform(\"median\")\n",
    "outliers_df[opponent + \"_median_r2\"] = outliers_df.groupby(\"bucket\")[opponent + \"_r2\"].transform(\"median\")"
   ]
  },
  {
   "cell_type": "code",
   "execution_count": 66,
   "metadata": {},
   "outputs": [],
   "source": [
    "outliers_df = methods.add_median_corrected_votes(outliers_df, cand, opponent)"
   ]
  },
  {
   "cell_type": "code",
   "execution_count": 67,
   "metadata": {},
   "outputs": [
    {
     "data": {
      "text/html": [
       "<div>\n",
       "<style scoped>\n",
       "    .dataframe tbody tr th:only-of-type {\n",
       "        vertical-align: middle;\n",
       "    }\n",
       "\n",
       "    .dataframe tbody tr th {\n",
       "        vertical-align: top;\n",
       "    }\n",
       "\n",
       "    .dataframe thead th {\n",
       "        text-align: right;\n",
       "    }\n",
       "</style>\n",
       "<table border=\"1\" class=\"dataframe\">\n",
       "  <thead>\n",
       "    <tr style=\"text-align: right;\">\n",
       "      <th></th>\n",
       "      <th>flaga</th>\n",
       "      <th>liczba</th>\n",
       "      <th>głosy trzaskowski</th>\n",
       "      <th>głosy nawrocki</th>\n",
       "      <th>różnica przed</th>\n",
       "      <th>głosy trzaskowski po</th>\n",
       "      <th>głosy nawrocki po</th>\n",
       "      <th>różnica po</th>\n",
       "      <th>zmiana</th>\n",
       "    </tr>\n",
       "  </thead>\n",
       "  <tbody>\n",
       "    <tr>\n",
       "      <th>0</th>\n",
       "      <td>pop_outlier</td>\n",
       "      <td>710</td>\n",
       "      <td>378637</td>\n",
       "      <td>331363</td>\n",
       "      <td>47274</td>\n",
       "      <td>357563</td>\n",
       "      <td>352437</td>\n",
       "      <td>5126</td>\n",
       "      <td>-42148</td>\n",
       "    </tr>\n",
       "    <tr>\n",
       "      <th>1</th>\n",
       "      <td>growth_outlier</td>\n",
       "      <td>1783</td>\n",
       "      <td>931310</td>\n",
       "      <td>851690</td>\n",
       "      <td>79620</td>\n",
       "      <td>896814</td>\n",
       "      <td>886186</td>\n",
       "      <td>10628</td>\n",
       "      <td>-68992</td>\n",
       "    </tr>\n",
       "    <tr>\n",
       "      <th>2</th>\n",
       "      <td>flip</td>\n",
       "      <td>5285</td>\n",
       "      <td>2726555</td>\n",
       "      <td>2558445</td>\n",
       "      <td>168110</td>\n",
       "      <td>2615298</td>\n",
       "      <td>2669702</td>\n",
       "      <td>-54404</td>\n",
       "      <td>-222514</td>\n",
       "    </tr>\n",
       "    <tr>\n",
       "      <th>3</th>\n",
       "      <td>more_votes</td>\n",
       "      <td>0</td>\n",
       "      <td>0</td>\n",
       "      <td>0</td>\n",
       "      <td>0</td>\n",
       "      <td>0</td>\n",
       "      <td>0</td>\n",
       "      <td>0</td>\n",
       "      <td>0</td>\n",
       "    </tr>\n",
       "    <tr>\n",
       "      <th>4</th>\n",
       "      <td>łącznie</td>\n",
       "      <td>7778</td>\n",
       "      <td>4036502</td>\n",
       "      <td>3741498</td>\n",
       "      <td>295004</td>\n",
       "      <td>3869675</td>\n",
       "      <td>3908325</td>\n",
       "      <td>-38650</td>\n",
       "      <td>-333654</td>\n",
       "    </tr>\n",
       "  </tbody>\n",
       "</table>\n",
       "</div>"
      ],
      "text/plain": [
       "            flaga  liczba  głosy trzaskowski  głosy nawrocki  różnica przed  \\\n",
       "0     pop_outlier     710             378637          331363          47274   \n",
       "1  growth_outlier    1783             931310          851690          79620   \n",
       "2            flip    5285            2726555         2558445         168110   \n",
       "3      more_votes       0                  0               0              0   \n",
       "4         łącznie    7778            4036502         3741498         295004   \n",
       "\n",
       "   głosy trzaskowski po  głosy nawrocki po  różnica po  zmiana  \n",
       "0                357563             352437        5126  -42148  \n",
       "1                896814             886186       10628  -68992  \n",
       "2               2615298            2669702      -54404 -222514  \n",
       "3                     0                  0           0       0  \n",
       "4               3869675            3908325      -38650 -333654  "
      ]
     },
     "execution_count": 67,
     "metadata": {},
     "output_type": "execute_result"
    }
   ],
   "source": [
    "summary_df = methods.summarize_by_anomaly(outliers_df, cand, opponent)\n",
    "summary_df"
   ]
  }
 ],
 "metadata": {
  "kernelspec": {
   "display_name": "venv",
   "language": "python",
   "name": "python3"
  },
  "language_info": {
   "codemirror_mode": {
    "name": "ipython",
    "version": 3
   },
   "file_extension": ".py",
   "mimetype": "text/x-python",
   "name": "python",
   "nbconvert_exporter": "python",
   "pygments_lexer": "ipython3",
   "version": "3.13.4"
  }
 },
 "nbformat": 4,
 "nbformat_minor": 2
}
