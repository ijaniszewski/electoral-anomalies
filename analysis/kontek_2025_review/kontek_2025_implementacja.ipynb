{
 "cells": [
  {
   "cell_type": "markdown",
   "metadata": {},
   "source": [
    "Próba implementacji metod zastosowanych przez dr. Kontka w artykule \n",
    "\n",
    "[\"**Weryfikacja wyniku drugiej tury wyborów prezydenckich w Polsce w 2025 roku: Przeliczenie głosów z użyciem przestrzennie grupowanej metody MAD**\"](https://papers.ssrn.com/sol3/papers.cfm?abstract_id=5296441)\n",
    "\n",
    "wraz z komentarzami i wątpliwościami"
   ]
  },
  {
   "cell_type": "code",
   "execution_count": 1,
   "metadata": {},
   "outputs": [],
   "source": [
    "import pandas as pd\n",
    "\n",
    "from utilities import presidential_data, clustering, methods"
   ]
  },
  {
   "cell_type": "markdown",
   "metadata": {},
   "source": [
    "### load presidential both rouds - official PKW data"
   ]
  },
  {
   "cell_type": "code",
   "execution_count": 2,
   "metadata": {},
   "outputs": [],
   "source": [
    "year = \"2025\"\n",
    "df_2025_r1 = presidential_data.get_df(year, \"1\")\n",
    "df_2025_r2 = presidential_data.get_df(year, \"2\")"
   ]
  },
  {
   "cell_type": "markdown",
   "metadata": {},
   "source": [
    "### 2.2. Grupowanie geograficzne\n",
    "\n",
    "z artykułu:\n",
    "\n",
    "W drugim etapie komisje wyborcze zostały posortowane według kodów pocztowych, a następnie\n",
    "pogrupowane w kolejne bloki komisji znajdujących się w bezpośrednim sąsiedztwie. Grupy tworzono\n",
    "w taki sposób, aby — w miarę możliwości — każda zawierała od 10 do 16 komisji, łącząc ze sobą\n",
    "sąsiednie obszary kodów pocztowych mające wspólny prefiks (np. „30”, „301”, „3011”). Celem było\n",
    "maksymalne zwiększenie spójności przestrzennej przy zachowaniu poręcznej wielkości grupy, bez\n",
    "konieczności ograniczania jej do jednego kodu pocztowego. Zastosowano następującą procedurę:\n",
    "\n",
    "  1. Początkowe grupowanie oparto na pierwszych dwóch cyfrach kodu pocztowego (np. „30” dla\n",
    "obszaru Krakowa).\n",
    "  2. Jeżeli powstała grupa zawierała od 10 do 16 komisji, została zaakceptowana bez zmian.\n",
    "  3. Grupy liczące mniej niż 10 komisji odłożono do późniejszego łączenia.\n",
    "  4. Grupy przekraczające 16 komisji dzielono rekurencyjnie, dodając kolejne cyfry kodu pocztowego (np. z „30” → „301” → „3011” i dalej, aż do pełnych pięciu cyfr).\n",
    "  5. Pozostałe małe grupy łączono z najbliższymi sąsiadami mającymi ten sam prefiks, przy czym priorytetem była ciągłość przestrzenna i zrównoważona liczebność grup.\n",
    "  \n",
    "W odróżnieniu od wcześniejszego podejścia, które dopuszczało grupy o wielkości 10–25 komisji,\n",
    "niniejsze badanie przyjęło węższy zakres docelowy: od 10 do 16 komisji na grupę. Decyzja ta\n",
    "wynikała z przeglądu empirycznego, który wykazał, że większe grupy — mimo wydajności\n",
    "statystycznej — czasami łączyły odległe geograficznie obszary o niejednorodnych wzorcach\n",
    "głosowania.\n",
    "\n",
    "W wyniku zastosowania nowych ograniczeń utworzono 2 208 grup, z których każda odzwierciedlała\n",
    "względnie jednorodną lokalną dynamikę wyborczą. Dla potwierdzenia ich spójności terytorialnej\n",
    "przeprowadzono test zgodności kodów pocztowych w ramach każdej grupy.\n",
    "\n",
    "Większość grup spełniła założony docelowy rozmiar: 1 386 grup (62,8%) zawierało od 10 do 16\n",
    "komisji, a 2 017 grup (91,3%) zawierało od 6 do 30 komisji. Większe grupy zazwyczaj odpowiadały obszarom miejskim — na przykład takim jak Toruń czy Włocławek, gdzie pojedynczy kod pocztowy\n",
    "obejmował całe miasto. W takich przypadkach większa liczba komisji nie zaburzała spójności\n",
    "przestrzennej, a wręcz zwiększała wiarygodność statystyczną poprzez powiększenie próbki lokalnej.\n",
    "\n",
    "Grupy mniejsze niż docelowy zakres obejmowały komisje, które — z powodu izolacji geograficznej\n",
    "— nie mogły zostać sensownie połączone z innymi. Choć próbki mniejsze niż 10 jednostek są zwykle\n",
    "uznawane za mające ograniczoną moc statystyczną, zastosowanie metody MAD — znanej ze swojej\n",
    "odporności na małe próby — w znacznym stopniu niweluje to ograniczenie."
   ]
  },
  {
   "cell_type": "markdown",
   "metadata": {},
   "source": [
    "------------"
   ]
  },
  {
   "cell_type": "markdown",
   "metadata": {},
   "source": [
    "Nie jestem w stanie odtworzyć grupowania geograficznego 1:1.\n",
    "\n",
    "Jedną z opcji jest grupowanie losowe: buckety 10 - 16, dokladnie 2208 grup"
   ]
  },
  {
   "cell_type": "code",
   "execution_count": 3,
   "metadata": {},
   "outputs": [],
   "source": [
    "df = clustering.add_random_buckets(df_2025_r2, n=2208, k_min=10, k_max=16)"
   ]
  },
  {
   "cell_type": "code",
   "execution_count": 4,
   "metadata": {},
   "outputs": [
    {
     "name": "stdout",
     "output_type": "stream",
     "text": [
      "Total buckets: 2208\n",
      "Buckets with 10–16 items: 2208 (100.0%)\n",
      "Buckets with 6–30 items: 2208 (100.0%)\n"
     ]
    }
   ],
   "source": [
    "clustering.print_bucket_stats(df)"
   ]
  },
  {
   "cell_type": "markdown",
   "metadata": {},
   "source": [
    "Drugą moje \"klastrowanie\""
   ]
  },
  {
   "cell_type": "code",
   "execution_count": 5,
   "metadata": {},
   "outputs": [],
   "source": [
    "df = clustering.add_janiszewski_postal_buckets(df_2025_r2, min_bucket_size=10, max_bucket_size=16)"
   ]
  },
  {
   "cell_type": "code",
   "execution_count": 6,
   "metadata": {},
   "outputs": [
    {
     "name": "stdout",
     "output_type": "stream",
     "text": [
      "Total buckets: 1809\n",
      "Buckets with 10–16 items: 1462 (80.8%)\n",
      "Buckets with 6–30 items: 1719 (95.0%)\n"
     ]
    }
   ],
   "source": [
    "clustering.print_bucket_stats(df)"
   ]
  },
  {
   "cell_type": "markdown",
   "metadata": {},
   "source": [
    "Trzecią klastrowanie Jakuba Bialka\n",
    "\n",
    "https://github.com/rabitwhte/analiza_kontka_reprodukcja/blob/main/Reprodukcja_wynikow_Kontek_Bialek.ipynb"
   ]
  },
  {
   "cell_type": "code",
   "execution_count": 7,
   "metadata": {},
   "outputs": [],
   "source": [
    "df = clustering.add_bialek_postal_buckets(df_2025_r2, min_size=10, max_size=16)"
   ]
  },
  {
   "cell_type": "code",
   "execution_count": 8,
   "metadata": {},
   "outputs": [
    {
     "name": "stdout",
     "output_type": "stream",
     "text": [
      "Total buckets: 2367\n",
      "Buckets with 10–16 items: 1223 (51.7%)\n",
      "Buckets with 6–30 items: 1926 (81.4%)\n"
     ]
    }
   ],
   "source": [
    "clustering.print_bucket_stats(df)"
   ]
  },
  {
   "cell_type": "markdown",
   "metadata": {},
   "source": [
    "### IMPLEMENTACJA METOD ZAPROPONOWANYCH PRZEZ DR KONTKA\n",
    "\n",
    "2.3. Wykrywanie wartości odstających\n",
    "\n",
    "Główna innowacja analityczna niniejszego badania polega na oszacowaniu potencjalnego wpływu\n",
    "anormalnych komisji wyborczych na poziomie ogólnokrajowym. Aby to osiągnąć, w pierwszej\n",
    "kolejności zidentyfikowano wartości odstające w czterech kategoriach nieprawidłowości:"
   ]
  },
  {
   "cell_type": "code",
   "execution_count": 9,
   "metadata": {},
   "outputs": [],
   "source": [
    "cand_A = \"trzaskowski\"\n",
    "cand_B = \"nawrocki\"\n",
    "\n",
    "df_2025 = presidential_data.join_both_rounds(cand_A, cand_B, df_2025_r1, df_2025_r2)"
   ]
  },
  {
   "cell_type": "code",
   "execution_count": 10,
   "metadata": {},
   "outputs": [],
   "source": [
    "# # ok, grupowanie metodą p. Białka\n",
    "df_2025 = clustering.add_bialek_postal_buckets(df_2025)"
   ]
  },
  {
   "cell_type": "markdown",
   "metadata": {},
   "source": [
    "### 1. pop_outlier: Nadmierne poparcie dla Karola Nawrockiego (względem mediany w ramach lokalnej grupy)"
   ]
  },
  {
   "cell_type": "markdown",
   "metadata": {},
   "source": [
    "Za artykułem: w ramach każdej grupy obliczono mediany oraz odchylenia bezwzględne od mediany (MAD), dla każdej komisji obliczono wskaźnik odchylenia od mediany\n",
    "\n",
    "![X minus median over MAD](./../../images/X_minus_median_over_MAD.png)\n",
    "\n",
    "gdzie:\n",
    "\n",
    "X - wynik w drugiej turze kandydata\n",
    "\n",
    "mediana - mediana wyników kandydata w drugiej turze\n",
    "\n",
    "MAD - odchelenie bezwzględne mediany kandydata w drugiej turze\n",
    "\n",
    "z artykulu:\n",
    "\n",
    "Dla każdej grupy komisji oraz dla dwóch pierwszych kategorii nieprawidłowości:\n",
    "\n",
    "  • obliczono mediany oraz odchylenia bezwzględne od mediany (MAD);\n",
    "\n",
    "  • dla każdej komisji obliczono tzw. współczynnik odchylenia odpornego (robust deviation score, oznaczony jako k_needed), wyrażający skalę odchylenia wyniku od mediany grupy w jednostkach MAD, według wzoru (powyzej)\n",
    "\n",
    "Komisję oznaczano jako odstającą (outlier), jeśli spełniony był warunek: 𝑘𝑛𝑒𝑒𝑑𝑒𝑑 > 𝑘 gdzie k to\n",
    "wartość progowa przyjęta w analizie, szczegółowo opisana w sekcji 2.4."
   ]
  },
  {
   "cell_type": "code",
   "execution_count": 11,
   "metadata": {},
   "outputs": [
    {
     "name": "stdout",
     "output_type": "stream",
     "text": [
      "Liczba komisji:  30553\n"
     ]
    }
   ],
   "source": [
    "print(\"Liczba komisji: \", len(df_2025)) # bez zagranicy i statków\n",
    "df = df_2025.copy()"
   ]
  },
  {
   "cell_type": "markdown",
   "metadata": {},
   "source": [
    "2.4 Przeliczenie wyników\n",
    "\n",
    "Aby uwzględnić niepewność i wrażliwość zastosowanego podejścia, obliczenia przeprowadzono dla\n",
    "trzech różnych progów detekcji wartości odstających: k > 2.0, k > 2.5 oraz k > 3.0, gdzie k oznacza\n",
    "liczbę jednostek odchylenia bezwzględnego od mediany (MAD) względem mediany w grupie\n",
    "lokalnej. Wyższe wartości k wyodrębniają jedynie najbardziej skrajne przypadki, zapewniając tym\n",
    "samym konserwatywną estymację potencjalnego wpływu. Jednocześnie jednak ograniczają zdolność\n",
    "metody do wychwytywania mniejszych, lecz wciąż istotnych odchyleń."
   ]
  },
  {
   "cell_type": "code",
   "execution_count": 12,
   "metadata": {},
   "outputs": [],
   "source": [
    "df = methods.add_anomaly_1(df, cand_A, cand_B, new_col_name=\"k_score_1\")"
   ]
  },
  {
   "cell_type": "code",
   "execution_count": 13,
   "metadata": {},
   "outputs": [
    {
     "name": "stdout",
     "output_type": "stream",
     "text": [
      "k > 2.0\n",
      "trzaskowski: 4551\n",
      "nawrocki: 3750\n",
      "---\n",
      "k > 2.5\n",
      "trzaskowski: 3535\n",
      "nawrocki: 2750\n",
      "---\n",
      "k > 3.0\n",
      "trzaskowski: 2794\n",
      "nawrocki: 2015\n",
      "---\n"
     ]
    }
   ],
   "source": [
    "methods.check_k_thresholds(df, cand_A, cand_B, \"_k_score_1\")"
   ]
  },
  {
   "cell_type": "markdown",
   "metadata": {},
   "source": [
    "Wyniki:\n",
    "\n",
    "Dla k=2, takich komisji, w których \"za duże\" poparcie ma Nawrocki jest 3750, a Trzaskowski 4551."
   ]
  },
  {
   "cell_type": "markdown",
   "metadata": {},
   "source": [
    "### 2. growth_outlier: Nadmierny względny wzrost poparcia dla Karola Nawrockiego między pierwszą a drugą turą, w porównaniu do odpowiedniego wzrostu poparcia dla Rafała Trzaskowskiego w tej samej grupie lokalnej;"
   ]
  },
  {
   "cell_type": "markdown",
   "metadata": {},
   "source": [
    "za, JB: \n",
    "\n",
    "Nie podano wprost jak to było obliczone więc kolejno:\n",
    "\n",
    "  1. Dla danego kandydata obliczam względny wzrost między pierwszą a drugą turą (dzieląc wynik z drugiej przez wynik z pierwszej)\n",
    "  2. Następnie odnoszę go do wzrostu drugiego kandydata - liczę różnicę między względnymi wzrostami.\n",
    "  3. Dalej tak jak w pierwszym typie anomalii - dla tych różnic liczę medianę grupy, MAD grupy oraz odchylenie k w komisji."
   ]
  },
  {
   "cell_type": "code",
   "execution_count": 14,
   "metadata": {},
   "outputs": [],
   "source": [
    "df = methods.add_anomaly_2(df, cand_A, cand_B, new_col_name=\"k_score_2\")"
   ]
  },
  {
   "cell_type": "code",
   "execution_count": 15,
   "metadata": {},
   "outputs": [
    {
     "data": {
      "text/html": [
       "<div>\n",
       "<style scoped>\n",
       "    .dataframe tbody tr th:only-of-type {\n",
       "        vertical-align: middle;\n",
       "    }\n",
       "\n",
       "    .dataframe tbody tr th {\n",
       "        vertical-align: top;\n",
       "    }\n",
       "\n",
       "    .dataframe thead th {\n",
       "        text-align: right;\n",
       "    }\n",
       "</style>\n",
       "<table border=\"1\" class=\"dataframe\">\n",
       "  <thead>\n",
       "    <tr style=\"text-align: right;\">\n",
       "      <th></th>\n",
       "      <th>teryt_gmina</th>\n",
       "      <th>polling_station_id</th>\n",
       "      <th>trzaskowski_r1</th>\n",
       "      <th>nawrocki_r1</th>\n",
       "      <th>postal_code</th>\n",
       "      <th>trzaskowski_r2</th>\n",
       "      <th>nawrocki_r2</th>\n",
       "      <th>postal_clean</th>\n",
       "      <th>bucket</th>\n",
       "      <th>trzaskowski_k_score_1</th>\n",
       "      <th>nawrocki_k_score_1</th>\n",
       "      <th>trzaskowski_k_score_2</th>\n",
       "      <th>nawrocki_k_score_2</th>\n",
       "    </tr>\n",
       "  </thead>\n",
       "  <tbody>\n",
       "    <tr>\n",
       "      <th>0</th>\n",
       "      <td>20101</td>\n",
       "      <td>1</td>\n",
       "      <td>361</td>\n",
       "      <td>287</td>\n",
       "      <td>59-700</td>\n",
       "      <td>596</td>\n",
       "      <td>582</td>\n",
       "      <td>59700</td>\n",
       "      <td>1567</td>\n",
       "      <td>1.191686</td>\n",
       "      <td>2.942708</td>\n",
       "      <td>-0.269043</td>\n",
       "      <td>0.269043</td>\n",
       "    </tr>\n",
       "    <tr>\n",
       "      <th>1</th>\n",
       "      <td>20101</td>\n",
       "      <td>2</td>\n",
       "      <td>381</td>\n",
       "      <td>228</td>\n",
       "      <td>59-700</td>\n",
       "      <td>517</td>\n",
       "      <td>386</td>\n",
       "      <td>59700</td>\n",
       "      <td>1567</td>\n",
       "      <td>0.826790</td>\n",
       "      <td>0.901042</td>\n",
       "      <td>-0.022318</td>\n",
       "      <td>0.022318</td>\n",
       "    </tr>\n",
       "    <tr>\n",
       "      <th>2</th>\n",
       "      <td>20101</td>\n",
       "      <td>3</td>\n",
       "      <td>356</td>\n",
       "      <td>241</td>\n",
       "      <td>59-700</td>\n",
       "      <td>556</td>\n",
       "      <td>437</td>\n",
       "      <td>59700</td>\n",
       "      <td>1567</td>\n",
       "      <td>1.006928</td>\n",
       "      <td>1.432292</td>\n",
       "      <td>0.487976</td>\n",
       "      <td>-0.487976</td>\n",
       "    </tr>\n",
       "    <tr>\n",
       "      <th>3</th>\n",
       "      <td>20101</td>\n",
       "      <td>4</td>\n",
       "      <td>390</td>\n",
       "      <td>217</td>\n",
       "      <td>59-700</td>\n",
       "      <td>567</td>\n",
       "      <td>408</td>\n",
       "      <td>59700</td>\n",
       "      <td>1567</td>\n",
       "      <td>1.057737</td>\n",
       "      <td>1.130208</td>\n",
       "      <td>-0.567403</td>\n",
       "      <td>0.567403</td>\n",
       "    </tr>\n",
       "    <tr>\n",
       "      <th>4</th>\n",
       "      <td>20101</td>\n",
       "      <td>5</td>\n",
       "      <td>343</td>\n",
       "      <td>202</td>\n",
       "      <td>59-700</td>\n",
       "      <td>518</td>\n",
       "      <td>332</td>\n",
       "      <td>59700</td>\n",
       "      <td>1567</td>\n",
       "      <td>0.831409</td>\n",
       "      <td>0.338542</td>\n",
       "      <td>1.200906</td>\n",
       "      <td>-1.200906</td>\n",
       "    </tr>\n",
       "  </tbody>\n",
       "</table>\n",
       "</div>"
      ],
      "text/plain": [
       "   teryt_gmina  polling_station_id  trzaskowski_r1  nawrocki_r1 postal_code  \\\n",
       "0        20101                   1             361          287      59-700   \n",
       "1        20101                   2             381          228      59-700   \n",
       "2        20101                   3             356          241      59-700   \n",
       "3        20101                   4             390          217      59-700   \n",
       "4        20101                   5             343          202      59-700   \n",
       "\n",
       "   trzaskowski_r2  nawrocki_r2 postal_clean  bucket  trzaskowski_k_score_1  \\\n",
       "0             596          582        59700    1567               1.191686   \n",
       "1             517          386        59700    1567               0.826790   \n",
       "2             556          437        59700    1567               1.006928   \n",
       "3             567          408        59700    1567               1.057737   \n",
       "4             518          332        59700    1567               0.831409   \n",
       "\n",
       "   nawrocki_k_score_1  trzaskowski_k_score_2  nawrocki_k_score_2  \n",
       "0            2.942708              -0.269043            0.269043  \n",
       "1            0.901042              -0.022318            0.022318  \n",
       "2            1.432292               0.487976           -0.487976  \n",
       "3            1.130208              -0.567403            0.567403  \n",
       "4            0.338542               1.200906           -1.200906  "
      ]
     },
     "execution_count": 15,
     "metadata": {},
     "output_type": "execute_result"
    }
   ],
   "source": [
    "df.head()"
   ]
  },
  {
   "cell_type": "code",
   "execution_count": 16,
   "metadata": {},
   "outputs": [
    {
     "name": "stdout",
     "output_type": "stream",
     "text": [
      "k > 2.0\n",
      "trzaskowski: 3552\n",
      "nawrocki: 3127\n",
      "---\n",
      "k > 2.5\n",
      "trzaskowski: 2666\n",
      "nawrocki: 2229\n",
      "---\n",
      "k > 3.0\n",
      "trzaskowski: 2106\n",
      "nawrocki: 1669\n",
      "---\n"
     ]
    }
   ],
   "source": [
    "methods.check_k_thresholds(df, cand_A, cand_B, \"_k_score_2\")"
   ]
  },
  {
   "cell_type": "markdown",
   "metadata": {},
   "source": [
    "### 3. Komisje, w których Nawrocki uzyskał więcej głosów niż Trzaskowski w drugiej turze, mimo że mediana wyników w grupie wskazywała na przewagę Trzaskowskiego;"
   ]
  },
  {
   "cell_type": "markdown",
   "metadata": {},
   "source": [
    "  1. Sprawdzamy, w których grupach dany kandydat miał większą medianę\n",
    "  2. Sumujemy komisje, w których wygrał kandydat A mimo, że większą medianę miał kandydat B i na odwrót."
   ]
  },
  {
   "cell_type": "code",
   "execution_count": 17,
   "metadata": {},
   "outputs": [],
   "source": [
    "df = methods.add_anomaly_3(df, cand_A, cand_B, new_col_name=\"flip\")"
   ]
  },
  {
   "cell_type": "code",
   "execution_count": 18,
   "metadata": {},
   "outputs": [
    {
     "data": {
      "text/plain": [
       "('trzaskowski', 2608)"
      ]
     },
     "execution_count": 18,
     "metadata": {},
     "output_type": "execute_result"
    }
   ],
   "source": [
    "# na korzyść kandydat A, czyli większą medianę miał B, a więcej głosów dostał A.\n",
    "cand_A, sum(df['higher_median_' + cand_B] & (df[cand_A + '_r2'] > df[cand_B + '_r2']))"
   ]
  },
  {
   "cell_type": "code",
   "execution_count": 19,
   "metadata": {},
   "outputs": [
    {
     "data": {
      "text/plain": [
       "('nawrocki', 1843)"
      ]
     },
     "execution_count": 19,
     "metadata": {},
     "output_type": "execute_result"
    }
   ],
   "source": [
    "cand_B, sum(df['higher_median_' + cand_A] & (df[cand_B + '_r2'] > df[cand_A + '_r2']))"
   ]
  },
  {
   "cell_type": "code",
   "execution_count": 20,
   "metadata": {},
   "outputs": [],
   "source": [
    "df = df.drop(\n",
    "    columns=[\n",
    "        f\"higher_median_{cand_A}\",\n",
    "        f\"higher_median_{cand_B}\",\n",
    "    ]\n",
    ")"
   ]
  },
  {
   "cell_type": "markdown",
   "metadata": {},
   "source": [
    "**WYNIKI**:\n",
    "\n",
    "W grupach, w których większą medianę miał Nawrocki, było 2608 komisji, w których wyższy wynik uzyskał Trzaskowski.\n",
    "\n",
    "W grupach, w których większą medianę miał Trzaskowski, było 1843 komisji, w których wyższy wyniki uzyskał Nawrocki.\n",
    "\n",
    "Przykładowo:\n",
    "\n",
    "W komisji 13 gdzie w drugiej turze głosowało.. 13 osób, Trzaskowski uzyskał większy wynik (8 do 5), mimo że w grupie obejmującej kod pocztowy 59-730 większą medianę miał Nawrocki (344 vs 158)."
   ]
  },
  {
   "cell_type": "markdown",
   "metadata": {},
   "source": [
    "**Wątpliwości w tej metodologii**\n",
    "\n",
    "Jak pisze Piotr Szulc:\n",
    "\n",
    "https://danetyka.com/kontek-analiza-bledow/\n",
    "\n",
    "Jedna z cech, jakie bada autor, jest nazwana “flip” i nie ma nic wspólnego z wyżej podaną standaryzacją i progami. Autor za anomalię uznaje każdy przypadek, w którym “Nawrocki wygrywa lokalnie, mimo że mediana wyników w grupie wskazuje przewagę Trzaskowskiego”. Załóżmy, że procenty poparcia dla Nawrockiego w danej grupie wynoszą: 45, 46, 47, 48, 49, 51, 52, 53, 54."
   ]
  },
  {
   "cell_type": "code",
   "execution_count": 21,
   "metadata": {},
   "outputs": [],
   "source": [
    "# Dane: 9 komisji – Trzaskowski ma wyższą medianę, ale Nawrocki wygrywa w 4 komisjach\n",
    "dummy_df = pd.DataFrame({\n",
    "    'okręg': ['A'] * 9,\n",
    "    'trzaskowski': [55, 54, 53, 52, 51, 49, 47, 46, 45],\n",
    "    'nawrocki':    [45, 46, 47, 48, 49, 51, 52, 53, 54],\n",
    "})"
   ]
  },
  {
   "cell_type": "markdown",
   "metadata": {},
   "source": [
    "Mediana wynosi 49%, więc “mediana wyników w grupie wskazuje przewagę Trzaskowskiego”:"
   ]
  },
  {
   "cell_type": "code",
   "execution_count": 22,
   "metadata": {},
   "outputs": [],
   "source": [
    "# Obliczenie median\n",
    "trzaskowski_median = dummy_df['trzaskowski'].median()  # 51.0\n",
    "nawrocki_median = dummy_df['nawrocki'].median()        # 49.0\n",
    "\n",
    "# ale zeby być spójnym z poprzednią implementacją:\n",
    "\n",
    "# mediana w grupie\n",
    "dummy_df[cand_A + '_median'] = dummy_df.groupby('okręg')[cand_A].transform('median')\n",
    "dummy_df[cand_B + '_median'] = dummy_df.groupby('okręg')[cand_B].transform('median')\n",
    "\n",
    "dummy_df['higher_median_' + cand_A] = (dummy_df[cand_A + '_median'] >  dummy_df[cand_B + '_median']).astype(bool)\n",
    "dummy_df['higher_median_' + cand_B] = (dummy_df[cand_B + '_median'] >  dummy_df[cand_A + '_median']).astype(bool)"
   ]
  },
  {
   "cell_type": "markdown",
   "metadata": {},
   "source": [
    "a zatem te cztery komisje, w których Nawrockich otrzymał ponad 50% to anomalie, co oczywiście nie ma żadnego sensu. Ta cecha jest odpowiedzialna za ponad połowę (!) wskazań."
   ]
  },
  {
   "cell_type": "code",
   "execution_count": 23,
   "metadata": {},
   "outputs": [
    {
     "data": {
      "text/plain": [
       "('nawrocki', 4)"
      ]
     },
     "execution_count": 23,
     "metadata": {},
     "output_type": "execute_result"
    }
   ],
   "source": [
    "# na korzyść kandydata B, czyli większą medianę miał A, a więcej głosów dostał B.\n",
    "cand_B, sum(dummy_df['higher_median_' + cand_A] & (dummy_df[cand_B] > dummy_df[cand_A]))"
   ]
  },
  {
   "cell_type": "code",
   "execution_count": 24,
   "metadata": {},
   "outputs": [
    {
     "name": "stdout",
     "output_type": "stream",
     "text": [
      "   trzaskowski  nawrocki  flip_nawrocki\n",
      "0           55        45          False\n",
      "1           54        46          False\n",
      "2           53        47          False\n",
      "3           52        48          False\n",
      "4           51        49          False\n",
      "5           49        51           True\n",
      "6           47        52           True\n",
      "7           46        53           True\n",
      "8           45        54           True\n",
      "\n",
      "Liczba 'anomalii' według flip: 4 z 9\n"
     ]
    }
   ],
   "source": [
    "# Flip: Nawrocki wygrywa, mimo że Trzaskowski miał wyższą medianę w grupie\n",
    "dummy_df['flip_' + cand_B] = dummy_df['higher_median_' + cand_A] & (dummy_df[cand_B] > dummy_df[cand_A])\n",
    "\n",
    "# Wyświetlenie flipów\n",
    "print(dummy_df[[cand_A, cand_B, 'flip_' + cand_B]])\n",
    "print(f\"\\nLiczba 'anomalii' według flip: {dummy_df['flip_' + cand_B].sum()} z {len(dummy_df)}\")"
   ]
  },
  {
   "cell_type": "markdown",
   "metadata": {},
   "source": [
    "### 4. Kandydat otrzymał mniej głosów w drugiej turze niż w pierwszej"
   ]
  },
  {
   "cell_type": "code",
   "execution_count": 25,
   "metadata": {},
   "outputs": [
    {
     "data": {
      "text/plain": [
       "('trzaskowski', 128)"
      ]
     },
     "execution_count": 25,
     "metadata": {},
     "output_type": "execute_result"
    }
   ],
   "source": [
    "cand_A, sum(df[cand_A + '_r2']<df[cand_A + '_r1'])"
   ]
  },
  {
   "cell_type": "markdown",
   "metadata": {},
   "source": [
    "W 128 komisjach Trzaskowski uzyskał mniej głosów w drugiej turze niż w pierwszej."
   ]
  },
  {
   "cell_type": "code",
   "execution_count": 26,
   "metadata": {},
   "outputs": [
    {
     "data": {
      "text/plain": [
       "('nawrocki', 112)"
      ]
     },
     "execution_count": 26,
     "metadata": {},
     "output_type": "execute_result"
    }
   ],
   "source": [
    "cand_B, sum(df[cand_B + '_r2']<df[cand_B + '_r1'])"
   ]
  },
  {
   "cell_type": "markdown",
   "metadata": {},
   "source": [
    "W 112 komisjach Nawrocki uzyskał mniej głosów w drugiej turze niż w pierwszej."
   ]
  },
  {
   "cell_type": "markdown",
   "metadata": {},
   "source": [
    "\n",
    "Przykładowe anomalie na korzyść Trzaskowskiego:"
   ]
  },
  {
   "cell_type": "code",
   "execution_count": 27,
   "metadata": {},
   "outputs": [
    {
     "data": {
      "text/html": [
       "<div>\n",
       "<style scoped>\n",
       "    .dataframe tbody tr th:only-of-type {\n",
       "        vertical-align: middle;\n",
       "    }\n",
       "\n",
       "    .dataframe tbody tr th {\n",
       "        vertical-align: top;\n",
       "    }\n",
       "\n",
       "    .dataframe thead th {\n",
       "        text-align: right;\n",
       "    }\n",
       "</style>\n",
       "<table border=\"1\" class=\"dataframe\">\n",
       "  <thead>\n",
       "    <tr style=\"text-align: right;\">\n",
       "      <th></th>\n",
       "      <th>teryt_gmina</th>\n",
       "      <th>polling_station_id</th>\n",
       "      <th>trzaskowski_r1</th>\n",
       "      <th>nawrocki_r1</th>\n",
       "      <th>postal_code</th>\n",
       "      <th>trzaskowski_r2</th>\n",
       "      <th>nawrocki_r2</th>\n",
       "      <th>postal_clean</th>\n",
       "      <th>bucket</th>\n",
       "      <th>trzaskowski_k_score_1</th>\n",
       "      <th>nawrocki_k_score_1</th>\n",
       "      <th>trzaskowski_k_score_2</th>\n",
       "      <th>nawrocki_k_score_2</th>\n",
       "      <th>trzaskowski_flip</th>\n",
       "      <th>nawrocki_flip</th>\n",
       "    </tr>\n",
       "  </thead>\n",
       "  <tbody>\n",
       "    <tr>\n",
       "      <th>12616</th>\n",
       "      <td>140706</td>\n",
       "      <td>1</td>\n",
       "      <td>105</td>\n",
       "      <td>285</td>\n",
       "      <td>26-910</td>\n",
       "      <td>467</td>\n",
       "      <td>193</td>\n",
       "      <td>26910</td>\n",
       "      <td>630</td>\n",
       "      <td>8.588235</td>\n",
       "      <td>-0.767123</td>\n",
       "      <td>10.044104</td>\n",
       "      <td>-10.044104</td>\n",
       "      <td>True</td>\n",
       "      <td>False</td>\n",
       "    </tr>\n",
       "    <tr>\n",
       "      <th>25866</th>\n",
       "      <td>261207</td>\n",
       "      <td>4</td>\n",
       "      <td>143</td>\n",
       "      <td>224</td>\n",
       "      <td>28-200</td>\n",
       "      <td>360</td>\n",
       "      <td>209</td>\n",
       "      <td>28200</td>\n",
       "      <td>662</td>\n",
       "      <td>2.443299</td>\n",
       "      <td>-1.491228</td>\n",
       "      <td>7.799246</td>\n",
       "      <td>-7.799246</td>\n",
       "      <td>True</td>\n",
       "      <td>False</td>\n",
       "    </tr>\n",
       "    <tr>\n",
       "      <th>5098</th>\n",
       "      <td>60903</td>\n",
       "      <td>4</td>\n",
       "      <td>89</td>\n",
       "      <td>174</td>\n",
       "      <td>23-100</td>\n",
       "      <td>260</td>\n",
       "      <td>163</td>\n",
       "      <td>23100</td>\n",
       "      <td>522</td>\n",
       "      <td>5.850746</td>\n",
       "      <td>-0.595588</td>\n",
       "      <td>5.824589</td>\n",
       "      <td>-5.824589</td>\n",
       "      <td>True</td>\n",
       "      <td>False</td>\n",
       "    </tr>\n",
       "    <tr>\n",
       "      <th>24825</th>\n",
       "      <td>260101</td>\n",
       "      <td>34</td>\n",
       "      <td>172</td>\n",
       "      <td>129</td>\n",
       "      <td>28-100</td>\n",
       "      <td>148</td>\n",
       "      <td>111</td>\n",
       "      <td>28100</td>\n",
       "      <td>657</td>\n",
       "      <td>-0.185567</td>\n",
       "      <td>-1.758333</td>\n",
       "      <td>-0.128350</td>\n",
       "      <td>0.128350</td>\n",
       "      <td>True</td>\n",
       "      <td>False</td>\n",
       "    </tr>\n",
       "    <tr>\n",
       "      <th>2372</th>\n",
       "      <td>40102</td>\n",
       "      <td>9</td>\n",
       "      <td>120</td>\n",
       "      <td>105</td>\n",
       "      <td>87-720</td>\n",
       "      <td>164</td>\n",
       "      <td>85</td>\n",
       "      <td>87720</td>\n",
       "      <td>2197</td>\n",
       "      <td>-0.204545</td>\n",
       "      <td>-1.139860</td>\n",
       "      <td>10.348880</td>\n",
       "      <td>-10.348880</td>\n",
       "      <td>True</td>\n",
       "      <td>False</td>\n",
       "    </tr>\n",
       "  </tbody>\n",
       "</table>\n",
       "</div>"
      ],
      "text/plain": [
       "       teryt_gmina  polling_station_id  trzaskowski_r1  nawrocki_r1  \\\n",
       "12616       140706                   1             105          285   \n",
       "25866       261207                   4             143          224   \n",
       "5098         60903                   4              89          174   \n",
       "24825       260101                  34             172          129   \n",
       "2372         40102                   9             120          105   \n",
       "\n",
       "      postal_code  trzaskowski_r2  nawrocki_r2 postal_clean  bucket  \\\n",
       "12616      26-910             467          193        26910     630   \n",
       "25866      28-200             360          209        28200     662   \n",
       "5098       23-100             260          163        23100     522   \n",
       "24825      28-100             148          111        28100     657   \n",
       "2372       87-720             164           85        87720    2197   \n",
       "\n",
       "       trzaskowski_k_score_1  nawrocki_k_score_1  trzaskowski_k_score_2  \\\n",
       "12616               8.588235           -0.767123              10.044104   \n",
       "25866               2.443299           -1.491228               7.799246   \n",
       "5098                5.850746           -0.595588               5.824589   \n",
       "24825              -0.185567           -1.758333              -0.128350   \n",
       "2372               -0.204545           -1.139860              10.348880   \n",
       "\n",
       "       nawrocki_k_score_2  trzaskowski_flip  nawrocki_flip  \n",
       "12616          -10.044104              True          False  \n",
       "25866           -7.799246              True          False  \n",
       "5098            -5.824589              True          False  \n",
       "24825            0.128350              True          False  \n",
       "2372           -10.348880              True          False  "
      ]
     },
     "execution_count": 27,
     "metadata": {},
     "output_type": "execute_result"
    }
   ],
   "source": [
    "df[df[cand_B + '_r2'] < df[cand_B + '_r1']].sort_values(by=cand_B + '_r1', ascending=False).head()"
   ]
  },
  {
   "cell_type": "code",
   "execution_count": 28,
   "metadata": {},
   "outputs": [],
   "source": [
    "# Anomalie na korzysc\n",
    "df[cand_A + '_more_votes'] = df[cand_B + '_r2']<df[cand_B + '_r1']\n",
    "df[cand_B + '_more_votes'] = df[cand_A + '_r2']<df[cand_A + '_r1']"
   ]
  },
  {
   "cell_type": "markdown",
   "metadata": {},
   "source": [
    "To są rzeczywiście bardzo podejrzane przypadki i o takich przypadkach powinniśmy alarmować w pierwszej kolejności. Po pierwsze, ju na etapie wprowadzania do systemu, a po drugie do ewentualnej kontroli i ponownego liczenia glosów"
   ]
  },
  {
   "cell_type": "markdown",
   "metadata": {},
   "source": [
    "## Wyniki\n",
    "\n",
    "3.1. Identyfikacja komisji wyborczych z anomaliami\n",
    "\n",
    "Z zastosowaniem konserwatywnej metody detekcji wartości odstających opartej na odchyleniu bezwzględnym od mediany (MAD) z progiem k > 3.0, zidentyfikowano 3 679 komisji wyborczych na poziomie obwodowym jako statystyczne anomalie. Stanowi to 11,6% wszystkich krajowych komisji wyborczych (z wyłączeniem zagranicznych i dyplomatycznych), których wyniki znacząco odbiegały od wyników sąsiednich komisji z tej samej lokalizacji geograficznej.\n",
    "Przy nieco mniej rygorystycznym progu k > 2.0, liczba anormalnych komisji wzrosła do 5 453, co odpowiada 17,2% wszystkich komisji krajowych.\n",
    "\n",
    "\n",
    "Analiza ujawniła także znaczne nagromadzenie przypadków, w których w jednej komisji występowały wiele typów anomalii jednocześnie. W szczególności:\n",
    "\n",
    "* 1 482 komisje wykazywały co najmniej dwa typy anomalii,\n",
    "* 216 komisji — co najmniej trzy typy,\n",
    "* 33 komisje — wszystkie cztery typy anomalii."
   ]
  },
  {
   "cell_type": "code",
   "execution_count": 29,
   "metadata": {},
   "outputs": [],
   "source": [
    "# w zależności od wielkości k\n",
    "k = 2\n",
    "\n",
    "# deduplikacja, czyli jak wystąpiła więcej niz jedna anomalia, to liczymy taką komisję raz"
   ]
  },
  {
   "cell_type": "markdown",
   "metadata": {},
   "source": [
    "### Na korzyść Nawrockiego"
   ]
  },
  {
   "cell_type": "code",
   "execution_count": 30,
   "metadata": {},
   "outputs": [],
   "source": [
    "cand = \"nawrocki\"\n",
    "opponent = \"trzaskowski\"\n",
    "outliers_df = methods.generate_candidate_outliers(df, cand, opponent, k)"
   ]
  },
  {
   "cell_type": "markdown",
   "metadata": {},
   "source": [
    "### Liczba występujących anomalii. Czyli w ilu komisjach wystąpiła np. anomalia \"pop outlier\""
   ]
  },
  {
   "cell_type": "code",
   "execution_count": 31,
   "metadata": {},
   "outputs": [
    {
     "name": "stdout",
     "output_type": "stream",
     "text": [
      "pop_outlier       3750\n",
      "growth_outlier    3127\n",
      "flip              1843\n",
      "more_votes         128\n",
      "dtype: int64\n"
     ]
    }
   ],
   "source": [
    "bool_cols = [\"pop_outlier\", \"growth_outlier\", \"flip\", \"more_votes\"]\n",
    "print(outliers_df[bool_cols].sum())"
   ]
  },
  {
   "cell_type": "markdown",
   "metadata": {},
   "source": [
    "### Liczba komisji, w których wystąpiło minimum N anomalii, czyli minimum 1 (8108) albo wszystkie cztery anomalie (2)"
   ]
  },
  {
   "cell_type": "code",
   "execution_count": 32,
   "metadata": {},
   "outputs": [
    {
     "name": "stdout",
     "output_type": "stream",
     "text": [
      ">=1: 8108\n",
      ">=2: 695\n",
      ">=3: 43\n",
      ">=4: 2\n"
     ]
    }
   ],
   "source": [
    "true_counts = outliers_df[bool_cols].sum(axis=1)\n",
    "\n",
    "# Convert to plain ints\n",
    "count_distribution = {\n",
    "    \">=1\": int((true_counts >= 1).sum()),\n",
    "    \">=2\": int((true_counts >= 2).sum()),\n",
    "    \">=3\": int((true_counts >= 3).sum()),\n",
    "    \">=4\": int((true_counts >= 4).sum())\n",
    "}\n",
    "\n",
    "# Print row by row\n",
    "for key, value in count_distribution.items():\n",
    "    print(f\"{key}: {value}\")"
   ]
  },
  {
   "cell_type": "markdown",
   "metadata": {},
   "source": [
    "### Próba odwzorowania tabelki z wynikami"
   ]
  },
  {
   "cell_type": "code",
   "execution_count": 33,
   "metadata": {},
   "outputs": [],
   "source": [
    "# suma głosów. jeżeli w komisji występuje więcej niż jedna anomalia, sumuj jej głosy tylko raz\n",
    "outliers_df[\"anomalies\"] = outliers_df.apply(methods.assign_top_anomaly, axis=1)"
   ]
  },
  {
   "cell_type": "markdown",
   "metadata": {},
   "source": [
    "### Dodanie \"brakujących głosów\"\n",
    "\n",
    "Głosy Nawrocki po / Głosy Trzaskowski po: Łączne liczby głosów po korekcie medianowej — czyli takie, jakie byłyby, gdyby udział Nawrockiego odpowiadał medianie w lokalnej grupie; głosy Trzaskowskiego dostosowano proporcjonalnie, przy zachowaniu łącznej liczby ważnych głosów w komisji."
   ]
  },
  {
   "cell_type": "code",
   "execution_count": 34,
   "metadata": {},
   "outputs": [],
   "source": [
    "outliers_df[cand + \"_median_r2\"] = outliers_df.groupby(\"bucket\")[cand + \"_r2\"].transform(\"median\")\n",
    "outliers_df[opponent + \"_median_r2\"] = outliers_df.groupby(\"bucket\")[opponent + \"_r2\"].transform(\"median\")"
   ]
  },
  {
   "cell_type": "code",
   "execution_count": 35,
   "metadata": {},
   "outputs": [],
   "source": [
    "outliers_df = methods.add_median_corrected_votes(outliers_df, cand, opponent)"
   ]
  },
  {
   "cell_type": "code",
   "execution_count": 36,
   "metadata": {},
   "outputs": [
    {
     "data": {
      "text/html": [
       "<div>\n",
       "<style scoped>\n",
       "    .dataframe tbody tr th:only-of-type {\n",
       "        vertical-align: middle;\n",
       "    }\n",
       "\n",
       "    .dataframe tbody tr th {\n",
       "        vertical-align: top;\n",
       "    }\n",
       "\n",
       "    .dataframe thead th {\n",
       "        text-align: right;\n",
       "    }\n",
       "</style>\n",
       "<table border=\"1\" class=\"dataframe\">\n",
       "  <thead>\n",
       "    <tr style=\"text-align: right;\">\n",
       "      <th></th>\n",
       "      <th>flaga</th>\n",
       "      <th>liczba</th>\n",
       "      <th>głosy nawrocki</th>\n",
       "      <th>głosy trzaskowski</th>\n",
       "      <th>różnica przed</th>\n",
       "      <th>głosy nawrocki po</th>\n",
       "      <th>głosy trzaskowski po</th>\n",
       "      <th>różnica po</th>\n",
       "      <th>zmiana</th>\n",
       "    </tr>\n",
       "  </thead>\n",
       "  <tbody>\n",
       "    <tr>\n",
       "      <th>0</th>\n",
       "      <td>pop_outlier</td>\n",
       "      <td>3361</td>\n",
       "      <td>1851882</td>\n",
       "      <td>1537507</td>\n",
       "      <td>314375</td>\n",
       "      <td>1945077</td>\n",
       "      <td>1444312</td>\n",
       "      <td>500765</td>\n",
       "      <td>186390</td>\n",
       "    </tr>\n",
       "    <tr>\n",
       "      <th>1</th>\n",
       "      <td>growth_outlier</td>\n",
       "      <td>2814</td>\n",
       "      <td>752168</td>\n",
       "      <td>964366</td>\n",
       "      <td>-212198</td>\n",
       "      <td>831603</td>\n",
       "      <td>884931</td>\n",
       "      <td>-53328</td>\n",
       "      <td>158870</td>\n",
       "    </tr>\n",
       "    <tr>\n",
       "      <th>2</th>\n",
       "      <td>flip</td>\n",
       "      <td>1805</td>\n",
       "      <td>458674</td>\n",
       "      <td>369237</td>\n",
       "      <td>89437</td>\n",
       "      <td>377446</td>\n",
       "      <td>450465</td>\n",
       "      <td>-73019</td>\n",
       "      <td>-162456</td>\n",
       "    </tr>\n",
       "    <tr>\n",
       "      <th>3</th>\n",
       "      <td>more_votes</td>\n",
       "      <td>128</td>\n",
       "      <td>7028</td>\n",
       "      <td>3441</td>\n",
       "      <td>3587</td>\n",
       "      <td>5557</td>\n",
       "      <td>4912</td>\n",
       "      <td>645</td>\n",
       "      <td>-2942</td>\n",
       "    </tr>\n",
       "    <tr>\n",
       "      <th>4</th>\n",
       "      <td>łącznie</td>\n",
       "      <td>8108</td>\n",
       "      <td>3069752</td>\n",
       "      <td>2874551</td>\n",
       "      <td>195201</td>\n",
       "      <td>3159683</td>\n",
       "      <td>2784620</td>\n",
       "      <td>375063</td>\n",
       "      <td>179862</td>\n",
       "    </tr>\n",
       "  </tbody>\n",
       "</table>\n",
       "</div>"
      ],
      "text/plain": [
       "            flaga  liczba  głosy nawrocki  głosy trzaskowski  różnica przed  \\\n",
       "0     pop_outlier    3361         1851882            1537507         314375   \n",
       "1  growth_outlier    2814          752168             964366        -212198   \n",
       "2            flip    1805          458674             369237          89437   \n",
       "3      more_votes     128            7028               3441           3587   \n",
       "4         łącznie    8108         3069752            2874551         195201   \n",
       "\n",
       "   głosy nawrocki po  głosy trzaskowski po  różnica po  zmiana  \n",
       "0            1945077               1444312      500765  186390  \n",
       "1             831603                884931      -53328  158870  \n",
       "2             377446                450465      -73019 -162456  \n",
       "3               5557                  4912         645   -2942  \n",
       "4            3159683               2784620      375063  179862  "
      ]
     },
     "execution_count": 36,
     "metadata": {},
     "output_type": "execute_result"
    }
   ],
   "source": [
    "summary_df = methods.summarize_by_anomaly(outliers_df, cand, opponent)\n",
    "summary_df"
   ]
  },
  {
   "cell_type": "markdown",
   "metadata": {},
   "source": [
    "![kontek tabela 1 wyniki k=2](./../../images/kontek_tabela_wyniki_k2.png)"
   ]
  },
  {
   "cell_type": "markdown",
   "metadata": {},
   "source": [
    "### Na korzyść Trzaskowskiego"
   ]
  },
  {
   "cell_type": "code",
   "execution_count": 37,
   "metadata": {},
   "outputs": [],
   "source": [
    "cand = \"trzaskowski\"\n",
    "opponent = \"nawrocki\"\n",
    "k = 2\n",
    "outliers_df = methods.generate_candidate_outliers(df, cand, opponent, k)"
   ]
  },
  {
   "cell_type": "markdown",
   "metadata": {},
   "source": [
    "### Liczba występujących anomalii. Czyli w ilu komisjach wystąpiła np. anomalia \"pop outlier\""
   ]
  },
  {
   "cell_type": "code",
   "execution_count": 38,
   "metadata": {},
   "outputs": [
    {
     "name": "stdout",
     "output_type": "stream",
     "text": [
      "pop_outlier       4551\n",
      "growth_outlier    3552\n",
      "flip              2608\n",
      "more_votes         112\n",
      "dtype: int64\n"
     ]
    }
   ],
   "source": [
    "bool_cols = [\"pop_outlier\", \"growth_outlier\", \"flip\", \"more_votes\"]\n",
    "print(outliers_df[bool_cols].sum())"
   ]
  },
  {
   "cell_type": "markdown",
   "metadata": {},
   "source": [
    "### Liczba komisji, w których wystąpiło minimum N anomalii, czyli minimum 1 (9487) albo wszystkie cztery anomalie (3)"
   ]
  },
  {
   "cell_type": "code",
   "execution_count": 39,
   "metadata": {},
   "outputs": [
    {
     "name": "stdout",
     "output_type": "stream",
     "text": [
      ">=1: 9487\n",
      ">=2: 1288\n",
      ">=3: 45\n",
      ">=4: 3\n"
     ]
    }
   ],
   "source": [
    "true_counts = outliers_df[bool_cols].sum(axis=1)\n",
    "\n",
    "# Convert to plain ints\n",
    "count_distribution = {\n",
    "    \">=1\": int((true_counts >= 1).sum()),\n",
    "    \">=2\": int((true_counts >= 2).sum()),\n",
    "    \">=3\": int((true_counts >= 3).sum()),\n",
    "    \">=4\": int((true_counts >= 4).sum())\n",
    "}\n",
    "\n",
    "# Print row by row\n",
    "for key, value in count_distribution.items():\n",
    "    print(f\"{key}: {value}\")"
   ]
  },
  {
   "cell_type": "code",
   "execution_count": 40,
   "metadata": {},
   "outputs": [],
   "source": [
    "outliers_df[\"anomalies\"] = outliers_df.apply(methods.assign_top_anomaly, axis=1)"
   ]
  },
  {
   "cell_type": "code",
   "execution_count": 41,
   "metadata": {},
   "outputs": [],
   "source": [
    "outliers_df[cand + \"_median_r2\"] = outliers_df.groupby(\"bucket\")[cand + \"_r2\"].transform(\"median\")\n",
    "outliers_df[opponent + \"_median_r2\"] = outliers_df.groupby(\"bucket\")[opponent + \"_r2\"].transform(\"median\")"
   ]
  },
  {
   "cell_type": "code",
   "execution_count": 42,
   "metadata": {},
   "outputs": [],
   "source": [
    "outliers_df = methods.add_median_corrected_votes(outliers_df, cand, opponent)"
   ]
  },
  {
   "cell_type": "code",
   "execution_count": 43,
   "metadata": {},
   "outputs": [
    {
     "data": {
      "text/html": [
       "<div>\n",
       "<style scoped>\n",
       "    .dataframe tbody tr th:only-of-type {\n",
       "        vertical-align: middle;\n",
       "    }\n",
       "\n",
       "    .dataframe tbody tr th {\n",
       "        vertical-align: top;\n",
       "    }\n",
       "\n",
       "    .dataframe thead th {\n",
       "        text-align: right;\n",
       "    }\n",
       "</style>\n",
       "<table border=\"1\" class=\"dataframe\">\n",
       "  <thead>\n",
       "    <tr style=\"text-align: right;\">\n",
       "      <th></th>\n",
       "      <th>flaga</th>\n",
       "      <th>liczba</th>\n",
       "      <th>głosy trzaskowski</th>\n",
       "      <th>głosy nawrocki</th>\n",
       "      <th>różnica przed</th>\n",
       "      <th>głosy trzaskowski po</th>\n",
       "      <th>głosy nawrocki po</th>\n",
       "      <th>różnica po</th>\n",
       "      <th>zmiana</th>\n",
       "    </tr>\n",
       "  </thead>\n",
       "  <tbody>\n",
       "    <tr>\n",
       "      <th>0</th>\n",
       "      <td>pop_outlier</td>\n",
       "      <td>3495</td>\n",
       "      <td>1736016</td>\n",
       "      <td>1792115</td>\n",
       "      <td>-56099</td>\n",
       "      <td>1496470</td>\n",
       "      <td>2031661</td>\n",
       "      <td>-535191</td>\n",
       "      <td>-479092</td>\n",
       "    </tr>\n",
       "    <tr>\n",
       "      <th>1</th>\n",
       "      <td>growth_outlier</td>\n",
       "      <td>3303</td>\n",
       "      <td>539123</td>\n",
       "      <td>820984</td>\n",
       "      <td>-281861</td>\n",
       "      <td>593358</td>\n",
       "      <td>766749</td>\n",
       "      <td>-173391</td>\n",
       "      <td>108470</td>\n",
       "    </tr>\n",
       "    <tr>\n",
       "      <th>2</th>\n",
       "      <td>flip</td>\n",
       "      <td>2577</td>\n",
       "      <td>981128</td>\n",
       "      <td>785595</td>\n",
       "      <td>195533</td>\n",
       "      <td>778082</td>\n",
       "      <td>988641</td>\n",
       "      <td>-210559</td>\n",
       "      <td>-406092</td>\n",
       "    </tr>\n",
       "    <tr>\n",
       "      <th>3</th>\n",
       "      <td>more_votes</td>\n",
       "      <td>112</td>\n",
       "      <td>3528</td>\n",
       "      <td>2277</td>\n",
       "      <td>1251</td>\n",
       "      <td>2586</td>\n",
       "      <td>3219</td>\n",
       "      <td>-633</td>\n",
       "      <td>-1884</td>\n",
       "    </tr>\n",
       "    <tr>\n",
       "      <th>4</th>\n",
       "      <td>łącznie</td>\n",
       "      <td>9487</td>\n",
       "      <td>3259795</td>\n",
       "      <td>3400971</td>\n",
       "      <td>-141176</td>\n",
       "      <td>2870496</td>\n",
       "      <td>3790270</td>\n",
       "      <td>-919774</td>\n",
       "      <td>-778598</td>\n",
       "    </tr>\n",
       "  </tbody>\n",
       "</table>\n",
       "</div>"
      ],
      "text/plain": [
       "            flaga  liczba  głosy trzaskowski  głosy nawrocki  różnica przed  \\\n",
       "0     pop_outlier    3495            1736016         1792115         -56099   \n",
       "1  growth_outlier    3303             539123          820984        -281861   \n",
       "2            flip    2577             981128          785595         195533   \n",
       "3      more_votes     112               3528            2277           1251   \n",
       "4         łącznie    9487            3259795         3400971        -141176   \n",
       "\n",
       "   głosy trzaskowski po  głosy nawrocki po  różnica po  zmiana  \n",
       "0               1496470            2031661     -535191 -479092  \n",
       "1                593358             766749     -173391  108470  \n",
       "2                778082             988641     -210559 -406092  \n",
       "3                  2586               3219        -633   -1884  \n",
       "4               2870496            3790270     -919774 -778598  "
      ]
     },
     "execution_count": 43,
     "metadata": {},
     "output_type": "execute_result"
    }
   ],
   "source": [
    "summary_df = methods.summarize_by_anomaly(outliers_df, cand, opponent)\n",
    "summary_df"
   ]
  },
  {
   "cell_type": "markdown",
   "metadata": {},
   "source": [
    "### PONOWNIE POLICZONE GŁOSY\n",
    "\n",
    "\n",
    "https://polskieradio24.pl/artykul/3543223,jakie-sa-wyniki-w-komisjach-w-ktorych-ponownie-przeliczono-glosy-sprawdzilismy"
   ]
  },
  {
   "cell_type": "code",
   "execution_count": 44,
   "metadata": {},
   "outputs": [],
   "source": [
    "df_vote_recount = presidential_data.load_data(\"2025\", \"2\")\n",
    "df_vote_recount = presidential_data.process_df(df_vote_recount, \"2025\", final_cols=[\"Gmina\", \"Województwo\", \"Siedziba\"])"
   ]
  },
  {
   "cell_type": "code",
   "execution_count": 45,
   "metadata": {},
   "outputs": [
    {
     "name": "stdout",
     "output_type": "stream",
     "text": [
      "Matching polling stations after recount:\n",
      "                                                                11610\n",
      "valid_votes                                                    1672.0\n",
      "eligible_voters                                                1980.0\n",
      "teryt_gmina                                                  126101.0\n",
      "ballots_cast                                                   1684.0\n",
      "polling_station_id                                                 95\n",
      "nawrocki                                                       1132.0\n",
      "trzaskowski                                                     540.0\n",
      "postal_code                                                    31-346\n",
      "Gmina                                                       m. Kraków\n",
      "Województwo                                               małopolskie\n",
      "Siedziba            Zespół Szkolno-Przedszkolny Nr 14, ul. Stawowa...\n"
     ]
    }
   ],
   "source": [
    "# Example: values from recount\n",
    "target_nawrocki = 1132\n",
    "target_trzaskowski = 540\n",
    "\n",
    "# Find records that match these values exactly\n",
    "matching_stations = df_vote_recount[\n",
    "    (df_vote_recount[\"nawrocki\"] == target_nawrocki) &\n",
    "    (df_vote_recount[\"trzaskowski\"] == target_trzaskowski)\n",
    "]\n",
    "\n",
    "print(\"Matching polling stations after recount:\")\n",
    "print(matching_stations.T)"
   ]
  },
  {
   "cell_type": "code",
   "execution_count": 46,
   "metadata": {},
   "outputs": [
    {
     "data": {
      "text/html": [
       "<div>\n",
       "<style scoped>\n",
       "    .dataframe tbody tr th:only-of-type {\n",
       "        vertical-align: middle;\n",
       "    }\n",
       "\n",
       "    .dataframe tbody tr th {\n",
       "        vertical-align: top;\n",
       "    }\n",
       "\n",
       "    .dataframe thead th {\n",
       "        text-align: right;\n",
       "    }\n",
       "</style>\n",
       "<table border=\"1\" class=\"dataframe\">\n",
       "  <thead>\n",
       "    <tr style=\"text-align: right;\">\n",
       "      <th></th>\n",
       "      <th>teryt_gmina</th>\n",
       "      <th>polling_station_id</th>\n",
       "      <th>valid_votes</th>\n",
       "      <th>nawrocki</th>\n",
       "      <th>new_nawrocki</th>\n",
       "      <th>trzaskowski</th>\n",
       "      <th>new_trzaskowski</th>\n",
       "    </tr>\n",
       "  </thead>\n",
       "  <tbody>\n",
       "    <tr>\n",
       "      <th>0</th>\n",
       "      <td>20701.0</td>\n",
       "      <td>6</td>\n",
       "      <td>706.0</td>\n",
       "      <td>368.0</td>\n",
       "      <td>278</td>\n",
       "      <td>338.0</td>\n",
       "      <td>428</td>\n",
       "    </tr>\n",
       "    <tr>\n",
       "      <th>1</th>\n",
       "      <td>41804.0</td>\n",
       "      <td>4</td>\n",
       "      <td>797.0</td>\n",
       "      <td>466.0</td>\n",
       "      <td>331</td>\n",
       "      <td>331.0</td>\n",
       "      <td>466</td>\n",
       "    </tr>\n",
       "    <tr>\n",
       "      <th>2</th>\n",
       "      <td>46201.0</td>\n",
       "      <td>25</td>\n",
       "      <td>828.0</td>\n",
       "      <td>504.0</td>\n",
       "      <td>324</td>\n",
       "      <td>324.0</td>\n",
       "      <td>504</td>\n",
       "    </tr>\n",
       "    <tr>\n",
       "      <th>3</th>\n",
       "      <td>121611.0</td>\n",
       "      <td>10</td>\n",
       "      <td>330.0</td>\n",
       "      <td>217.0</td>\n",
       "      <td>317</td>\n",
       "      <td>113.0</td>\n",
       "      <td>363</td>\n",
       "    </tr>\n",
       "    <tr>\n",
       "      <th>4</th>\n",
       "      <td>126101.0</td>\n",
       "      <td>95</td>\n",
       "      <td>1672.0</td>\n",
       "      <td>1132.0</td>\n",
       "      <td>540</td>\n",
       "      <td>540.0</td>\n",
       "      <td>1132</td>\n",
       "    </tr>\n",
       "    <tr>\n",
       "      <th>5</th>\n",
       "      <td>140706.0</td>\n",
       "      <td>1</td>\n",
       "      <td>660.0</td>\n",
       "      <td>193.0</td>\n",
       "      <td>468</td>\n",
       "      <td>467.0</td>\n",
       "      <td>192</td>\n",
       "    </tr>\n",
       "    <tr>\n",
       "      <th>6</th>\n",
       "      <td>141201.0</td>\n",
       "      <td>13</td>\n",
       "      <td>974.0</td>\n",
       "      <td>611.0</td>\n",
       "      <td>364</td>\n",
       "      <td>363.0</td>\n",
       "      <td>611</td>\n",
       "    </tr>\n",
       "    <tr>\n",
       "      <th>7</th>\n",
       "      <td>146505.0</td>\n",
       "      <td>113</td>\n",
       "      <td>1910.0</td>\n",
       "      <td>136.0</td>\n",
       "      <td>296</td>\n",
       "      <td>1774.0</td>\n",
       "      <td>1611</td>\n",
       "    </tr>\n",
       "    <tr>\n",
       "      <th>8</th>\n",
       "      <td>160803.0</td>\n",
       "      <td>3</td>\n",
       "      <td>1015.0</td>\n",
       "      <td>637.0</td>\n",
       "      <td>377</td>\n",
       "      <td>378.0</td>\n",
       "      <td>638</td>\n",
       "    </tr>\n",
       "    <tr>\n",
       "      <th>9</th>\n",
       "      <td>161105.0</td>\n",
       "      <td>9</td>\n",
       "      <td>639.0</td>\n",
       "      <td>416.0</td>\n",
       "      <td>223</td>\n",
       "      <td>223.0</td>\n",
       "      <td>416</td>\n",
       "    </tr>\n",
       "    <tr>\n",
       "      <th>10</th>\n",
       "      <td>226101.0</td>\n",
       "      <td>17</td>\n",
       "      <td>931.0</td>\n",
       "      <td>585.0</td>\n",
       "      <td>344</td>\n",
       "      <td>346.0</td>\n",
       "      <td>585</td>\n",
       "    </tr>\n",
       "    <tr>\n",
       "      <th>11</th>\n",
       "      <td>246101.0</td>\n",
       "      <td>30</td>\n",
       "      <td>959.0</td>\n",
       "      <td>610.0</td>\n",
       "      <td>450</td>\n",
       "      <td>349.0</td>\n",
       "      <td>509</td>\n",
       "    </tr>\n",
       "    <tr>\n",
       "      <th>12</th>\n",
       "      <td>246101.0</td>\n",
       "      <td>61</td>\n",
       "      <td>1819.0</td>\n",
       "      <td>1048.0</td>\n",
       "      <td>771</td>\n",
       "      <td>771.0</td>\n",
       "      <td>1049</td>\n",
       "    </tr>\n",
       "    <tr>\n",
       "      <th>13</th>\n",
       "      <td>246901.0</td>\n",
       "      <td>53</td>\n",
       "      <td>1458.0</td>\n",
       "      <td>628.0</td>\n",
       "      <td>627</td>\n",
       "      <td>830.0</td>\n",
       "      <td>828</td>\n",
       "    </tr>\n",
       "    <tr>\n",
       "      <th>14</th>\n",
       "      <td>247701.0</td>\n",
       "      <td>35</td>\n",
       "      <td>928.0</td>\n",
       "      <td>581.0</td>\n",
       "      <td>347</td>\n",
       "      <td>347.0</td>\n",
       "      <td>581</td>\n",
       "    </tr>\n",
       "    <tr>\n",
       "      <th>15</th>\n",
       "      <td>247801.0</td>\n",
       "      <td>20</td>\n",
       "      <td>1225.0</td>\n",
       "      <td>543.0</td>\n",
       "      <td>542</td>\n",
       "      <td>682.0</td>\n",
       "      <td>683</td>\n",
       "    </tr>\n",
       "    <tr>\n",
       "      <th>16</th>\n",
       "      <td>261207.0</td>\n",
       "      <td>4</td>\n",
       "      <td>569.0</td>\n",
       "      <td>209.0</td>\n",
       "      <td>360</td>\n",
       "      <td>360.0</td>\n",
       "      <td>209</td>\n",
       "    </tr>\n",
       "  </tbody>\n",
       "</table>\n",
       "</div>"
      ],
      "text/plain": [
       "    teryt_gmina  polling_station_id  valid_votes  nawrocki  new_nawrocki  \\\n",
       "0       20701.0                   6        706.0     368.0           278   \n",
       "1       41804.0                   4        797.0     466.0           331   \n",
       "2       46201.0                  25        828.0     504.0           324   \n",
       "3      121611.0                  10        330.0     217.0           317   \n",
       "4      126101.0                  95       1672.0    1132.0           540   \n",
       "5      140706.0                   1        660.0     193.0           468   \n",
       "6      141201.0                  13        974.0     611.0           364   \n",
       "7      146505.0                 113       1910.0     136.0           296   \n",
       "8      160803.0                   3       1015.0     637.0           377   \n",
       "9      161105.0                   9        639.0     416.0           223   \n",
       "10     226101.0                  17        931.0     585.0           344   \n",
       "11     246101.0                  30        959.0     610.0           450   \n",
       "12     246101.0                  61       1819.0    1048.0           771   \n",
       "13     246901.0                  53       1458.0     628.0           627   \n",
       "14     247701.0                  35        928.0     581.0           347   \n",
       "15     247801.0                  20       1225.0     543.0           542   \n",
       "16     261207.0                   4        569.0     209.0           360   \n",
       "\n",
       "    trzaskowski  new_trzaskowski  \n",
       "0         338.0              428  \n",
       "1         331.0              466  \n",
       "2         324.0              504  \n",
       "3         113.0              363  \n",
       "4         540.0             1132  \n",
       "5         467.0              192  \n",
       "6         363.0              611  \n",
       "7        1774.0             1611  \n",
       "8         378.0              638  \n",
       "9         223.0              416  \n",
       "10        346.0              585  \n",
       "11        349.0              509  \n",
       "12        771.0             1049  \n",
       "13        830.0              828  \n",
       "14        347.0              581  \n",
       "15        682.0              683  \n",
       "16        360.0              209  "
      ]
     },
     "execution_count": 46,
     "metadata": {},
     "output_type": "execute_result"
    }
   ],
   "source": [
    "# --- Step 1: Create the recount dataset with both old and new values ---\n",
    "recounts = [\n",
    "    {\"polling_station_id\": 95,  \"valid_votes\": 1672, \"old_nawrocki\": 1132, \"old_trzaskowski\": 540,  \"new_nawrocki\": 540,  \"new_trzaskowski\": 1132},\n",
    "    {\"polling_station_id\": 3,   \"valid_votes\": 1015, \"old_nawrocki\": 637,  \"old_trzaskowski\": 378,  \"new_nawrocki\": 377,  \"new_trzaskowski\": 638},\n",
    "    {\"polling_station_id\": 13,  \"valid_votes\": 974,  \"old_nawrocki\": 611,  \"old_trzaskowski\": 363,  \"new_nawrocki\": 364,  \"new_trzaskowski\": 611},\n",
    "    {\"polling_station_id\": 9,   \"valid_votes\": 639,  \"old_nawrocki\": 416,  \"old_trzaskowski\": 223,  \"new_nawrocki\": 223,  \"new_trzaskowski\": 416},\n",
    "    {\"polling_station_id\": 25,  \"valid_votes\": 828,  \"old_nawrocki\": 504,  \"old_trzaskowski\": 324,  \"new_nawrocki\": 324,  \"new_trzaskowski\": 504},\n",
    "    {\"polling_station_id\": 17,  \"valid_votes\": 931,  \"old_nawrocki\": 585,  \"old_trzaskowski\": 346,  \"new_nawrocki\": 344,  \"new_trzaskowski\": 585},\n",
    "    {\"polling_station_id\": 30,  \"valid_votes\": 959,  \"old_nawrocki\": 610,  \"old_trzaskowski\": 349,  \"new_nawrocki\": 450,  \"new_trzaskowski\": 509},\n",
    "    {\"polling_station_id\": 61,  \"valid_votes\": 1819, \"old_nawrocki\": 1048, \"old_trzaskowski\": 771,  \"new_nawrocki\": 771,  \"new_trzaskowski\": 1049},\n",
    "    {\"polling_station_id\": 10,  \"valid_votes\": 330,  \"old_nawrocki\": 217,  \"old_trzaskowski\": 113,  \"new_nawrocki\": 317,  \"new_trzaskowski\": 363},\n",
    "    {\"polling_station_id\": 53,  \"valid_votes\": 1458, \"old_nawrocki\": 628,  \"old_trzaskowski\": 830,  \"new_nawrocki\": 627,  \"new_trzaskowski\": 828},\n",
    "    {\"polling_station_id\": 35,  \"valid_votes\": 928,  \"old_nawrocki\": 581,  \"old_trzaskowski\": 347,  \"new_nawrocki\": 347,  \"new_trzaskowski\": 581},\n",
    "    {\"polling_station_id\": 6,   \"valid_votes\": 706,  \"old_nawrocki\": 368,  \"old_trzaskowski\": 338,  \"new_nawrocki\": 278,  \"new_trzaskowski\": 428},\n",
    "    {\"polling_station_id\": 4,   \"valid_votes\": 797,  \"old_nawrocki\": 466,  \"old_trzaskowski\": 331,  \"new_nawrocki\": 331,  \"new_trzaskowski\": 466},\n",
    "    {\"polling_station_id\": 4,   \"valid_votes\": 569,  \"old_nawrocki\": 209,  \"old_trzaskowski\": 360,  \"new_nawrocki\": 360,  \"new_trzaskowski\": 209},  # Staszów\n",
    "    {\"polling_station_id\": 1,   \"valid_votes\": 660,  \"old_nawrocki\": 193,  \"old_trzaskowski\": 467,  \"new_nawrocki\": 468,  \"new_trzaskowski\": 192},  # Magnuszew\n",
    "    {\"polling_station_id\": 113, \"valid_votes\": 1910, \"old_nawrocki\": 136,  \"old_trzaskowski\": 1774, \"new_nawrocki\": 296,  \"new_trzaskowski\": 1611},\n",
    "    {\"polling_station_id\": 20,  \"valid_votes\": 1225, \"old_nawrocki\": 543,  \"old_trzaskowski\": 682,  \"new_nawrocki\": 542,  \"new_trzaskowski\": 683},\n",
    "]\n",
    "\n",
    "recount_df = pd.DataFrame(recounts)\n",
    "\n",
    "# --- Step 2: Merge on 4 fields for exact match ---\n",
    "df_affected_polling_stations = df_vote_recount.merge(\n",
    "    recount_df,\n",
    "    how=\"inner\",\n",
    "    left_on=[\"polling_station_id\", \"valid_votes\", \"nawrocki\", \"trzaskowski\"],\n",
    "    right_on=[\"polling_station_id\", \"valid_votes\", \"old_nawrocki\", \"old_trzaskowski\"]\n",
    ")\n",
    "\n",
    "# --- Step 3: Output ---\n",
    "# print(\"✅ Matches with recount corrections:\")\n",
    "df_affected_polling_stations[[\"teryt_gmina\", \"polling_station_id\", \"valid_votes\", \"nawrocki\", \"new_nawrocki\",\n",
    "               \"trzaskowski\", \"new_trzaskowski\"]].head(17)\n",
    "\n",
    "\n"
   ]
  },
  {
   "cell_type": "code",
   "execution_count": 47,
   "metadata": {},
   "outputs": [
    {
     "data": {
      "text/plain": [
       "17"
      ]
     },
     "execution_count": 47,
     "metadata": {},
     "output_type": "execute_result"
    }
   ],
   "source": [
    "# Podsumowanie weryfikacji wyników wyborów 17 komisji\n",
    "\n",
    "len(df_affected_polling_stations)"
   ]
  },
  {
   "cell_type": "markdown",
   "metadata": {},
   "source": [
    "### Przepływy poparcia\n",
    "\n",
    "Late Poll od Ipsos \n",
    "https://tvn24.pl/polska/wyniki-wyborow-prezydenckich-2025-jak-glosowali-polacy-interaktywne-grafiki-i-wykresy-st8486765\n",
    "\n",
    "\n",
    "https://x.com/Jakub_Kubajek/status/1937434102312886412\n",
    "\n",
    "\n",
    "https://colab.research.google.com/drive/1agO77d5cpwlEpMAzVwwT0xXQkmMinMyJ#scrollTo=rV1zoohwi7Xz"
   ]
  },
  {
   "cell_type": "code",
   "execution_count": 48,
   "metadata": {},
   "outputs": [],
   "source": [
    "vote_flow_kn = {\n",
    "    'BARTOSZEWICZ Artur': 0.696,\n",
    "    'BIEJAT Magdalena Agnieszka': 0.117,\n",
    "    'BRAUN Grzegorz Michał': 0.926,\n",
    "    'HOŁOWNIA Szymon Franciszek': 0.146,\n",
    "    'JAKUBIAK Marek': 0.895,\n",
    "    'MACIAK Maciej': 0.707,\n",
    "    'MENTZEN Sławomir Jerzy': 0.872,\n",
    "    'NAWROCKI Karol Tadeusz': 0.993,\n",
    "    'SENYSZYN Joanna': 0.193,\n",
    "    'STANOWSKI Krzysztof Jakub': 0.521,\n",
    "    'TRZASKOWSKI Rafał Kazimierz': 0.012,\n",
    "    'WOCH Marek Marian': 0.538,\n",
    "    'ZANDBERG Adrian Tadeusz': 0.165\n",
    "}\n",
    "new_votes_kn = 0.486"
   ]
  },
  {
   "cell_type": "code",
   "execution_count": 49,
   "metadata": {},
   "outputs": [],
   "source": [
    "new_votes_rt = 0.514\n",
    "\n",
    "vote_flow_rt = {key: 1 - value for key, value in vote_flow_kn.items()}"
   ]
  },
  {
   "cell_type": "code",
   "execution_count": 50,
   "metadata": {},
   "outputs": [
    {
     "data": {
      "text/plain": [
       "{'BARTOSZEWICZ Artur': 0.30400000000000005,\n",
       " 'BIEJAT Magdalena Agnieszka': 0.883,\n",
       " 'BRAUN Grzegorz Michał': 0.07399999999999995,\n",
       " 'HOŁOWNIA Szymon Franciszek': 0.854,\n",
       " 'JAKUBIAK Marek': 0.10499999999999998,\n",
       " 'MACIAK Maciej': 0.29300000000000004,\n",
       " 'MENTZEN Sławomir Jerzy': 0.128,\n",
       " 'NAWROCKI Karol Tadeusz': 0.007000000000000006,\n",
       " 'SENYSZYN Joanna': 0.8069999999999999,\n",
       " 'STANOWSKI Krzysztof Jakub': 0.479,\n",
       " 'TRZASKOWSKI Rafał Kazimierz': 0.988,\n",
       " 'WOCH Marek Marian': 0.46199999999999997,\n",
       " 'ZANDBERG Adrian Tadeusz': 0.835}"
      ]
     },
     "execution_count": 50,
     "metadata": {},
     "output_type": "execute_result"
    }
   ],
   "source": [
    "vote_flow_rt"
   ]
  },
  {
   "cell_type": "code",
   "execution_count": null,
   "metadata": {},
   "outputs": [],
   "source": []
  }
 ],
 "metadata": {
  "kernelspec": {
   "display_name": "venv",
   "language": "python",
   "name": "python3"
  },
  "language_info": {
   "codemirror_mode": {
    "name": "ipython",
    "version": 3
   },
   "file_extension": ".py",
   "mimetype": "text/x-python",
   "name": "python",
   "nbconvert_exporter": "python",
   "pygments_lexer": "ipython3",
   "version": "3.12.3"
  }
 },
 "nbformat": 4,
 "nbformat_minor": 2
}
