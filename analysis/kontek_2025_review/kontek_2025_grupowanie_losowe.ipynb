{
 "cells": [
  {
   "cell_type": "markdown",
   "metadata": {},
   "source": [
    "Próba implementacji metod zastosowanych przez dr. Kontka w artykule \n",
    "\n",
    "[\"**Weryfikacja wyniku drugiej tury wyborów prezydenckich w Polsce w 2025 roku: Przeliczenie głosów z użyciem przestrzennie grupowanej metody MAD**\"](https://papers.ssrn.com/sol3/papers.cfm?abstract_id=5296441)\n",
    "\n",
    "dla wyników wyborów prezydenckich z 2025 ale przy grupowaniu komisji losowo.\n",
    "\n",
    "Celem eksperymentu jest sprawdzenie, czy wykrywalność tzw. anomalii wyborczych (wg metody MAD) zależy faktycznie od przestrzennego podobieństwa komisji, czy też wynika jedynie z naturalnego rozrzutu procentowego poparcia, niezależnie od kontekstu.\n",
    "\n",
    "Jeśli metoda Konteka jest trafna i opiera się na założeniu, że komisje w pobliżu mają podobne wyniki, to losowe grupowanie (bez związku przestrzennego) powinno znacząco zmniejszyć liczbę wykrywanych anomalii.\n",
    "Jeśli jednak liczba anomalii pozostanie podobna – jak sugerują wstępne symulacje – może to wskazywać, że metoda nie wykrywa rzeczywistych odstępstw, lecz generuje nadmiarowe wyniki w wyniku statystycznych fluktuacji."
   ]
  },
  {
   "cell_type": "code",
   "execution_count": 6,
   "metadata": {},
   "outputs": [],
   "source": [
    "import pandas as pd\n",
    "import numpy as np\n",
    "\n",
    "from utilities import presidential_data, clustering, methods"
   ]
  },
  {
   "cell_type": "markdown",
   "metadata": {},
   "source": [
    "### load presidential both rouds - official PKW data"
   ]
  },
  {
   "cell_type": "code",
   "execution_count": 23,
   "metadata": {},
   "outputs": [],
   "source": [
    "year = \"2025\"\n",
    "df_2025_r1 = presidential_data.get_df(year, \"1\")\n",
    "df_2025_r2 = presidential_data.get_df(year, \"2\")"
   ]
  },
  {
   "cell_type": "markdown",
   "metadata": {},
   "source": [
    "### IMPLEMENTACJA METOD ZAPROPONOWANYCH PRZEZ DR KONTKA\n",
    "\n",
    "2.3. Wykrywanie wartości odstających\n",
    "\n",
    "Główna innowacja analityczna niniejszego badania polega na oszacowaniu potencjalnego wpływu\n",
    "anormalnych komisji wyborczych na poziomie ogólnokrajowym. Aby to osiągnąć, w pierwszej\n",
    "kolejności zidentyfikowano wartości odstające w czterech kategoriach nieprawidłowości:"
   ]
  },
  {
   "cell_type": "code",
   "execution_count": 24,
   "metadata": {},
   "outputs": [],
   "source": [
    "cand_A = \"trzaskowski\"\n",
    "cand_B = \"nawrocki\"\n",
    "\n",
    "df_2025 = presidential_data.join_both_rounds(cand_A, cand_B, df_2025_r1, df_2025_r2)"
   ]
  },
  {
   "cell_type": "code",
   "execution_count": 25,
   "metadata": {},
   "outputs": [
    {
     "data": {
      "text/html": [
       "<div>\n",
       "<style scoped>\n",
       "    .dataframe tbody tr th:only-of-type {\n",
       "        vertical-align: middle;\n",
       "    }\n",
       "\n",
       "    .dataframe tbody tr th {\n",
       "        vertical-align: top;\n",
       "    }\n",
       "\n",
       "    .dataframe thead th {\n",
       "        text-align: right;\n",
       "    }\n",
       "</style>\n",
       "<table border=\"1\" class=\"dataframe\">\n",
       "  <thead>\n",
       "    <tr style=\"text-align: right;\">\n",
       "      <th></th>\n",
       "      <th>teryt_gmina</th>\n",
       "      <th>polling_station_id</th>\n",
       "      <th>trzaskowski_r1</th>\n",
       "      <th>nawrocki_r1</th>\n",
       "      <th>postal_code</th>\n",
       "      <th>trzaskowski_r2</th>\n",
       "      <th>nawrocki_r2</th>\n",
       "    </tr>\n",
       "  </thead>\n",
       "  <tbody>\n",
       "    <tr>\n",
       "      <th>0</th>\n",
       "      <td>20101</td>\n",
       "      <td>1</td>\n",
       "      <td>361</td>\n",
       "      <td>287</td>\n",
       "      <td>59-700</td>\n",
       "      <td>596</td>\n",
       "      <td>582</td>\n",
       "    </tr>\n",
       "    <tr>\n",
       "      <th>1</th>\n",
       "      <td>20101</td>\n",
       "      <td>2</td>\n",
       "      <td>381</td>\n",
       "      <td>228</td>\n",
       "      <td>59-700</td>\n",
       "      <td>517</td>\n",
       "      <td>386</td>\n",
       "    </tr>\n",
       "    <tr>\n",
       "      <th>2</th>\n",
       "      <td>20101</td>\n",
       "      <td>3</td>\n",
       "      <td>356</td>\n",
       "      <td>241</td>\n",
       "      <td>59-700</td>\n",
       "      <td>556</td>\n",
       "      <td>437</td>\n",
       "    </tr>\n",
       "    <tr>\n",
       "      <th>3</th>\n",
       "      <td>20101</td>\n",
       "      <td>4</td>\n",
       "      <td>390</td>\n",
       "      <td>217</td>\n",
       "      <td>59-700</td>\n",
       "      <td>567</td>\n",
       "      <td>408</td>\n",
       "    </tr>\n",
       "    <tr>\n",
       "      <th>4</th>\n",
       "      <td>20101</td>\n",
       "      <td>5</td>\n",
       "      <td>343</td>\n",
       "      <td>202</td>\n",
       "      <td>59-700</td>\n",
       "      <td>518</td>\n",
       "      <td>332</td>\n",
       "    </tr>\n",
       "  </tbody>\n",
       "</table>\n",
       "</div>"
      ],
      "text/plain": [
       "   teryt_gmina  polling_station_id  trzaskowski_r1  nawrocki_r1 postal_code  \\\n",
       "0        20101                   1             361          287      59-700   \n",
       "1        20101                   2             381          228      59-700   \n",
       "2        20101                   3             356          241      59-700   \n",
       "3        20101                   4             390          217      59-700   \n",
       "4        20101                   5             343          202      59-700   \n",
       "\n",
       "   trzaskowski_r2  nawrocki_r2  \n",
       "0             596          582  \n",
       "1             517          386  \n",
       "2             556          437  \n",
       "3             567          408  \n",
       "4             518          332  "
      ]
     },
     "execution_count": 25,
     "metadata": {},
     "output_type": "execute_result"
    }
   ],
   "source": [
    "df_2025.head()"
   ]
  },
  {
   "cell_type": "code",
   "execution_count": 26,
   "metadata": {},
   "outputs": [],
   "source": [
    "def add_random_buckets_deterministic(df, n, k_min, k_max, random_state=None):\n",
    "    \"\"\"\n",
    "    Deterministycznie i losowo przypisuje komisje do n grup (bucketów),\n",
    "    z kontrolą rozmiarów i zachowaniem powtarzalności.\n",
    "\n",
    "    Sortuje dane po teryt_gmina i polling_station_id, a następnie je przetasowuje\n",
    "    (przy użyciu ziarna random_state), by uniknąć tworzenia sztucznie podobnych grup.\n",
    "\n",
    "    Returns:\n",
    "        pd.DataFrame z kolumną 'bucket'\n",
    "    \"\"\"\n",
    "    N = len(df)\n",
    "    if N < n * k_min or N > n * k_max:\n",
    "        raise ValueError(\"Constraints cannot be satisfied with given n, k_min, and k_max.\")\n",
    "\n",
    "    sizes = np.full(n, k_min)\n",
    "    remaining = N - sizes.sum()\n",
    "    increments = np.zeros(n, dtype=int)\n",
    "\n",
    "    rng = np.random.default_rng(random_state)\n",
    "    while remaining > 0:\n",
    "        idxs = np.where(sizes + increments < k_max)[0]\n",
    "        idx = rng.choice(idxs)\n",
    "        increments[idx] += 1\n",
    "        remaining -= 1\n",
    "\n",
    "    final_sizes = sizes + increments\n",
    "\n",
    "    # Uporządkowana baza – dla powtarzalności\n",
    "    sorted_df = df.sort_values(by=[\"teryt_gmina\", \"polling_station_id\"]).reset_index(drop=True)\n",
    "\n",
    "    # Pełny shuffle – dla losowości grup\n",
    "    shuffled_df = sorted_df.sample(frac=1, random_state=random_state).reset_index(drop=True)\n",
    "\n",
    "    bucket_labels = np.repeat(np.arange(n), final_sizes)\n",
    "    shuffled_df[\"bucket\"] = bucket_labels\n",
    "\n",
    "    return shuffled_df\n"
   ]
  },
  {
   "cell_type": "code",
   "execution_count": 27,
   "metadata": {},
   "outputs": [],
   "source": [
    "# losowanie grupowe, ale deterministyczne (dla celów re-produkcji analizy)\n",
    "df = df_2025.copy()"
   ]
  },
  {
   "cell_type": "code",
   "execution_count": 47,
   "metadata": {},
   "outputs": [],
   "source": [
    "df = add_random_buckets_deterministic(\n",
    "    df,\n",
    "    n=2208,           # liczba grup\n",
    "    k_min=10,         # minimalna liczba komisji w grupie\n",
    "    k_max=16,         # maksymalna liczba komisji w grupie\n",
    "    random_state=42   # dla powtarzalności\n",
    ")\n",
    "df[\"postal_clean\"] = df[\"postal_code\"].astype(str).str.replace(\"-\", \"\")"
   ]
  },
  {
   "cell_type": "code",
   "execution_count": 48,
   "metadata": {},
   "outputs": [
    {
     "name": "stdout",
     "output_type": "stream",
     "text": [
      "Liczba komisji:  31627\n"
     ]
    }
   ],
   "source": [
    "print(\"Liczba komisji: \", len(df))"
   ]
  },
  {
   "cell_type": "markdown",
   "metadata": {},
   "source": [
    "### 1. pop_outlier: Nadmierne poparcie dla kandydata A (względem mediany w ramach lokalnej grupy)"
   ]
  },
  {
   "cell_type": "code",
   "execution_count": 49,
   "metadata": {},
   "outputs": [],
   "source": [
    "df = methods.add_anomaly_1(df, cand_A, cand_B, new_col_name=\"k_score_1\")"
   ]
  },
  {
   "cell_type": "code",
   "execution_count": 50,
   "metadata": {},
   "outputs": [
    {
     "name": "stdout",
     "output_type": "stream",
     "text": [
      "k > 2.0\n",
      "trzaskowski: 6234\n",
      "nawrocki: 3771\n",
      "---\n",
      "k > 2.5\n",
      "trzaskowski: 5081\n",
      "nawrocki: 2608\n",
      "---\n",
      "k > 3.0\n",
      "trzaskowski: 4198\n",
      "nawrocki: 1835\n",
      "---\n"
     ]
    }
   ],
   "source": [
    "methods.check_k_thresholds(df, cand_A, cand_B, \"_k_score_1\")"
   ]
  },
  {
   "cell_type": "markdown",
   "metadata": {},
   "source": [
    "Wyniki:\n",
    "\n",
    "Dla k=2, takich komisji, w których \"za duże\" poparcie ma Trzaskowski jest 6234 a Nawrocki 3771"
   ]
  },
  {
   "cell_type": "markdown",
   "metadata": {},
   "source": [
    "### 2. growth_outlier: Nadmierny względny wzrost poparcia dla kandydata A między pierwszą a drugą turą, w porównaniu do odpowiedniego wzrostu poparcia dla kandydata B w tej samej grupie lokalnej;"
   ]
  },
  {
   "cell_type": "code",
   "execution_count": 51,
   "metadata": {},
   "outputs": [],
   "source": [
    "df = methods.add_anomaly_2(df, cand_A, cand_B, new_col_name=\"k_score_2\")"
   ]
  },
  {
   "cell_type": "code",
   "execution_count": 52,
   "metadata": {},
   "outputs": [
    {
     "name": "stdout",
     "output_type": "stream",
     "text": [
      "k > 2.0\n",
      "trzaskowski: 4119\n",
      "nawrocki: 3313\n",
      "---\n",
      "k > 2.5\n",
      "trzaskowski: 3162\n",
      "nawrocki: 2344\n",
      "---\n",
      "k > 3.0\n",
      "trzaskowski: 2478\n",
      "nawrocki: 1705\n",
      "---\n"
     ]
    }
   ],
   "source": [
    "methods.check_k_thresholds(df, cand_A, cand_B, \"_k_score_2\")"
   ]
  },
  {
   "cell_type": "markdown",
   "metadata": {},
   "source": [
    "### 3. Komisje, w których kand A uzyskał więcej głosów niż kand B w drugiej turze, mimo że mediana wyników w grupie wskazywała na przewagę kand B;"
   ]
  },
  {
   "cell_type": "code",
   "execution_count": 53,
   "metadata": {},
   "outputs": [],
   "source": [
    "df = methods.add_anomaly_3(df, cand_A, cand_B, new_col_name=\"flip\")"
   ]
  },
  {
   "cell_type": "code",
   "execution_count": 54,
   "metadata": {},
   "outputs": [
    {
     "data": {
      "text/plain": [
       "('trzaskowski', 9290)"
      ]
     },
     "execution_count": 54,
     "metadata": {},
     "output_type": "execute_result"
    }
   ],
   "source": [
    "# na korzyść kandydata A, czyli większą medianę miał B, a więcej głosów dostał A.\n",
    "cand_A, sum(df['higher_median_' + cand_B] & (df[cand_A + '_r2'] > df[cand_B + '_r2']))"
   ]
  },
  {
   "cell_type": "code",
   "execution_count": 55,
   "metadata": {},
   "outputs": [
    {
     "data": {
      "text/plain": [
       "('nawrocki', 2479)"
      ]
     },
     "execution_count": 55,
     "metadata": {},
     "output_type": "execute_result"
    }
   ],
   "source": [
    "cand_B, sum(df['higher_median_' + cand_A] & (df[cand_B + '_r2'] > df[cand_A + '_r2']))"
   ]
  },
  {
   "cell_type": "code",
   "execution_count": 56,
   "metadata": {},
   "outputs": [],
   "source": [
    "df = df.drop(\n",
    "    columns=[\n",
    "        f\"higher_median_{cand_A}\",\n",
    "        f\"higher_median_{cand_B}\",\n",
    "    ]\n",
    ")"
   ]
  },
  {
   "cell_type": "markdown",
   "metadata": {},
   "source": [
    "**WYNIKI**:\n",
    "\n",
    "W grupach, w których większą medianę miał Nawrocki, było 2479 komisji, w których wyższy wynik uzyskał Trzaskowski.\n",
    "\n",
    "W grupach, w których większą medianę miał Trzaskowski, było 9290 komisji, w których wyższy wyniki uzyskał Nawrocki."
   ]
  },
  {
   "cell_type": "markdown",
   "metadata": {},
   "source": [
    "### 4. Kandydat otrzymał mniej głosów w drugiej turze niż w pierwszej"
   ]
  },
  {
   "cell_type": "code",
   "execution_count": 57,
   "metadata": {},
   "outputs": [
    {
     "data": {
      "text/plain": [
       "('trzaskowski', 128)"
      ]
     },
     "execution_count": 57,
     "metadata": {},
     "output_type": "execute_result"
    }
   ],
   "source": [
    "cand_A, sum(df[cand_A + '_r2']<df[cand_A + '_r1'])"
   ]
  },
  {
   "cell_type": "markdown",
   "metadata": {},
   "source": [
    "W 128 komisjach Trzaskowski uzyskał mniej głosów w drugiej turze niż w pierwszej."
   ]
  },
  {
   "cell_type": "code",
   "execution_count": 58,
   "metadata": {},
   "outputs": [
    {
     "data": {
      "text/plain": [
       "('nawrocki', 113)"
      ]
     },
     "execution_count": 58,
     "metadata": {},
     "output_type": "execute_result"
    }
   ],
   "source": [
    "cand_B, sum(df[cand_B + '_r2']<df[cand_B + '_r1'])"
   ]
  },
  {
   "cell_type": "markdown",
   "metadata": {},
   "source": [
    "W 113 komisjach Nawrocki uzyskał mniej głosów w drugiej turze niż w pierwszej."
   ]
  },
  {
   "cell_type": "markdown",
   "metadata": {},
   "source": [
    "\n",
    "Przykładowe anomalie na korzyść Trzaskowskiego:"
   ]
  },
  {
   "cell_type": "code",
   "execution_count": 59,
   "metadata": {},
   "outputs": [
    {
     "data": {
      "text/html": [
       "<div>\n",
       "<style scoped>\n",
       "    .dataframe tbody tr th:only-of-type {\n",
       "        vertical-align: middle;\n",
       "    }\n",
       "\n",
       "    .dataframe tbody tr th {\n",
       "        vertical-align: top;\n",
       "    }\n",
       "\n",
       "    .dataframe thead th {\n",
       "        text-align: right;\n",
       "    }\n",
       "</style>\n",
       "<table border=\"1\" class=\"dataframe\">\n",
       "  <thead>\n",
       "    <tr style=\"text-align: right;\">\n",
       "      <th></th>\n",
       "      <th>teryt_gmina</th>\n",
       "      <th>polling_station_id</th>\n",
       "      <th>trzaskowski_r1</th>\n",
       "      <th>nawrocki_r1</th>\n",
       "      <th>postal_code</th>\n",
       "      <th>trzaskowski_r2</th>\n",
       "      <th>nawrocki_r2</th>\n",
       "      <th>bucket</th>\n",
       "      <th>trzaskowski_k_score_1</th>\n",
       "      <th>nawrocki_k_score_1</th>\n",
       "      <th>trzaskowski_k_score_2</th>\n",
       "      <th>nawrocki_k_score_2</th>\n",
       "      <th>trzaskowski_flip</th>\n",
       "      <th>nawrocki_flip</th>\n",
       "      <th>trzaskowski_more_votes</th>\n",
       "      <th>nawrocki_more_votes</th>\n",
       "      <th>postal_clean</th>\n",
       "    </tr>\n",
       "  </thead>\n",
       "  <tbody>\n",
       "    <tr>\n",
       "      <th>20526</th>\n",
       "      <td>140706</td>\n",
       "      <td>1</td>\n",
       "      <td>105</td>\n",
       "      <td>285</td>\n",
       "      <td>26-910</td>\n",
       "      <td>467</td>\n",
       "      <td>193</td>\n",
       "      <td>1430</td>\n",
       "      <td>0.953216</td>\n",
       "      <td>-1.495495</td>\n",
       "      <td>28.438218</td>\n",
       "      <td>-28.438218</td>\n",
       "      <td>True</td>\n",
       "      <td>False</td>\n",
       "      <td>True</td>\n",
       "      <td>False</td>\n",
       "      <td>26910</td>\n",
       "    </tr>\n",
       "    <tr>\n",
       "      <th>11288</th>\n",
       "      <td>261207</td>\n",
       "      <td>4</td>\n",
       "      <td>143</td>\n",
       "      <td>224</td>\n",
       "      <td>28-200</td>\n",
       "      <td>360</td>\n",
       "      <td>209</td>\n",
       "      <td>784</td>\n",
       "      <td>0.984026</td>\n",
       "      <td>-0.635945</td>\n",
       "      <td>7.750516</td>\n",
       "      <td>-7.750516</td>\n",
       "      <td>True</td>\n",
       "      <td>False</td>\n",
       "      <td>True</td>\n",
       "      <td>False</td>\n",
       "      <td>28200</td>\n",
       "    </tr>\n",
       "    <tr>\n",
       "      <th>5164</th>\n",
       "      <td>60903</td>\n",
       "      <td>4</td>\n",
       "      <td>89</td>\n",
       "      <td>174</td>\n",
       "      <td>23-100</td>\n",
       "      <td>260</td>\n",
       "      <td>163</td>\n",
       "      <td>359</td>\n",
       "      <td>0.686099</td>\n",
       "      <td>-0.823045</td>\n",
       "      <td>7.120588</td>\n",
       "      <td>-7.120588</td>\n",
       "      <td>True</td>\n",
       "      <td>False</td>\n",
       "      <td>True</td>\n",
       "      <td>False</td>\n",
       "      <td>23100</td>\n",
       "    </tr>\n",
       "    <tr>\n",
       "      <th>12114</th>\n",
       "      <td>260101</td>\n",
       "      <td>34</td>\n",
       "      <td>172</td>\n",
       "      <td>129</td>\n",
       "      <td>28-100</td>\n",
       "      <td>148</td>\n",
       "      <td>111</td>\n",
       "      <td>844</td>\n",
       "      <td>-0.636000</td>\n",
       "      <td>-1.951020</td>\n",
       "      <td>0.157427</td>\n",
       "      <td>-0.157427</td>\n",
       "      <td>True</td>\n",
       "      <td>False</td>\n",
       "      <td>True</td>\n",
       "      <td>True</td>\n",
       "      <td>28100</td>\n",
       "    </tr>\n",
       "    <tr>\n",
       "      <th>13214</th>\n",
       "      <td>40102</td>\n",
       "      <td>9</td>\n",
       "      <td>120</td>\n",
       "      <td>105</td>\n",
       "      <td>87-720</td>\n",
       "      <td>164</td>\n",
       "      <td>85</td>\n",
       "      <td>921</td>\n",
       "      <td>-1.916031</td>\n",
       "      <td>-1.919298</td>\n",
       "      <td>6.545199</td>\n",
       "      <td>-6.545199</td>\n",
       "      <td>False</td>\n",
       "      <td>False</td>\n",
       "      <td>True</td>\n",
       "      <td>False</td>\n",
       "      <td>87720</td>\n",
       "    </tr>\n",
       "  </tbody>\n",
       "</table>\n",
       "</div>"
      ],
      "text/plain": [
       "       teryt_gmina  polling_station_id  trzaskowski_r1  nawrocki_r1  \\\n",
       "20526       140706                   1             105          285   \n",
       "11288       261207                   4             143          224   \n",
       "5164         60903                   4              89          174   \n",
       "12114       260101                  34             172          129   \n",
       "13214        40102                   9             120          105   \n",
       "\n",
       "      postal_code  trzaskowski_r2  nawrocki_r2  bucket  trzaskowski_k_score_1  \\\n",
       "20526      26-910             467          193    1430               0.953216   \n",
       "11288      28-200             360          209     784               0.984026   \n",
       "5164       23-100             260          163     359               0.686099   \n",
       "12114      28-100             148          111     844              -0.636000   \n",
       "13214      87-720             164           85     921              -1.916031   \n",
       "\n",
       "       nawrocki_k_score_1  trzaskowski_k_score_2  nawrocki_k_score_2  \\\n",
       "20526           -1.495495              28.438218          -28.438218   \n",
       "11288           -0.635945               7.750516           -7.750516   \n",
       "5164            -0.823045               7.120588           -7.120588   \n",
       "12114           -1.951020               0.157427           -0.157427   \n",
       "13214           -1.919298               6.545199           -6.545199   \n",
       "\n",
       "       trzaskowski_flip  nawrocki_flip  trzaskowski_more_votes  \\\n",
       "20526              True          False                    True   \n",
       "11288              True          False                    True   \n",
       "5164               True          False                    True   \n",
       "12114              True          False                    True   \n",
       "13214             False          False                    True   \n",
       "\n",
       "       nawrocki_more_votes postal_clean  \n",
       "20526                False        26910  \n",
       "11288                False        28200  \n",
       "5164                 False        23100  \n",
       "12114                 True        28100  \n",
       "13214                False        87720  "
      ]
     },
     "execution_count": 59,
     "metadata": {},
     "output_type": "execute_result"
    }
   ],
   "source": [
    "df[df[cand_B + '_r2'] < df[cand_B + '_r1']].sort_values(by=cand_B + '_r1', ascending=False).head()"
   ]
  },
  {
   "cell_type": "code",
   "execution_count": 60,
   "metadata": {},
   "outputs": [],
   "source": [
    "# Anomalie na korzysc\n",
    "df[cand_A + '_more_votes'] = df[cand_B + '_r2']<df[cand_B + '_r1']\n",
    "df[cand_B + '_more_votes'] = df[cand_A + '_r2']<df[cand_A + '_r1']"
   ]
  },
  {
   "cell_type": "markdown",
   "metadata": {},
   "source": [
    "## Wyniki"
   ]
  },
  {
   "cell_type": "code",
   "execution_count": 61,
   "metadata": {},
   "outputs": [],
   "source": [
    "# w zależności od wielkości k\n",
    "k = 2\n",
    "\n",
    "# deduplikacja, czyli jak wystąpiła więcej niz jedna anomalia, to liczymy taką komisję raz"
   ]
  },
  {
   "cell_type": "markdown",
   "metadata": {},
   "source": [
    "### Na korzyść Nawrockiego"
   ]
  },
  {
   "cell_type": "code",
   "execution_count": 62,
   "metadata": {},
   "outputs": [],
   "source": [
    "cand = \"nawrocki\"\n",
    "opponent = \"trzaskowski\"\n",
    "outliers_df = methods.generate_candidate_outliers(df, cand, opponent, k)"
   ]
  },
  {
   "cell_type": "markdown",
   "metadata": {},
   "source": [
    "### Liczba występujących anomalii. Czyli w ilu komisjach wystąpiła np. anomalia \"pop outlier\""
   ]
  },
  {
   "cell_type": "code",
   "execution_count": 63,
   "metadata": {},
   "outputs": [
    {
     "name": "stdout",
     "output_type": "stream",
     "text": [
      "pop_outlier       3771\n",
      "growth_outlier    3313\n",
      "flip              2479\n",
      "more_votes         128\n",
      "dtype: int64\n"
     ]
    }
   ],
   "source": [
    "bool_cols = [\"pop_outlier\", \"growth_outlier\", \"flip\", \"more_votes\"]\n",
    "print(outliers_df[bool_cols].sum())"
   ]
  },
  {
   "cell_type": "markdown",
   "metadata": {},
   "source": [
    "### Liczba komisji, w których wystąpiło minimum N anomalii, czyli minimum 1 (8910) albo wszystkie cztery anomalie (1)"
   ]
  },
  {
   "cell_type": "code",
   "execution_count": 64,
   "metadata": {},
   "outputs": [
    {
     "name": "stdout",
     "output_type": "stream",
     "text": [
      ">=1: 8910\n",
      ">=2: 759\n",
      ">=3: 21\n",
      ">=4: 1\n"
     ]
    }
   ],
   "source": [
    "true_counts = outliers_df[bool_cols].sum(axis=1)\n",
    "\n",
    "# Convert to plain ints\n",
    "count_distribution = {\n",
    "    \">=1\": int((true_counts >= 1).sum()),\n",
    "    \">=2\": int((true_counts >= 2).sum()),\n",
    "    \">=3\": int((true_counts >= 3).sum()),\n",
    "    \">=4\": int((true_counts >= 4).sum())\n",
    "}\n",
    "\n",
    "# Print row by row\n",
    "for key, value in count_distribution.items():\n",
    "    print(f\"{key}: {value}\")"
   ]
  },
  {
   "cell_type": "markdown",
   "metadata": {},
   "source": [
    "### Próba odwzorowania tabelki z wynikami"
   ]
  },
  {
   "cell_type": "code",
   "execution_count": 65,
   "metadata": {},
   "outputs": [],
   "source": [
    "# suma głosów. jeżeli w komisji występuje więcej niż jedna anomalia, sumuj jej głosy tylko raz\n",
    "outliers_df[\"anomalies\"] = outliers_df.apply(methods.assign_top_anomaly, axis=1)"
   ]
  },
  {
   "cell_type": "code",
   "execution_count": 66,
   "metadata": {},
   "outputs": [],
   "source": [
    "outliers_df[cand + \"_median_r2\"] = outliers_df.groupby(\"bucket\")[cand + \"_r2\"].transform(\"median\")\n",
    "outliers_df[opponent + \"_median_r2\"] = outliers_df.groupby(\"bucket\")[opponent + \"_r2\"].transform(\"median\")"
   ]
  },
  {
   "cell_type": "code",
   "execution_count": 67,
   "metadata": {},
   "outputs": [],
   "source": [
    "outliers_df = methods.add_median_corrected_votes(outliers_df, cand, opponent)"
   ]
  },
  {
   "cell_type": "code",
   "execution_count": 68,
   "metadata": {},
   "outputs": [
    {
     "data": {
      "text/html": [
       "<div>\n",
       "<style scoped>\n",
       "    .dataframe tbody tr th:only-of-type {\n",
       "        vertical-align: middle;\n",
       "    }\n",
       "\n",
       "    .dataframe tbody tr th {\n",
       "        vertical-align: top;\n",
       "    }\n",
       "\n",
       "    .dataframe thead th {\n",
       "        text-align: right;\n",
       "    }\n",
       "</style>\n",
       "<table border=\"1\" class=\"dataframe\">\n",
       "  <thead>\n",
       "    <tr style=\"text-align: right;\">\n",
       "      <th></th>\n",
       "      <th>flaga</th>\n",
       "      <th>liczba</th>\n",
       "      <th>głosy nawrocki</th>\n",
       "      <th>głosy trzaskowski</th>\n",
       "      <th>różnica przed</th>\n",
       "      <th>głosy nawrocki po</th>\n",
       "      <th>głosy trzaskowski po</th>\n",
       "      <th>różnica po</th>\n",
       "      <th>zmiana</th>\n",
       "    </tr>\n",
       "  </thead>\n",
       "  <tbody>\n",
       "    <tr>\n",
       "      <th>0</th>\n",
       "      <td>pop_outlier</td>\n",
       "      <td>3254</td>\n",
       "      <td>2154046</td>\n",
       "      <td>1746691</td>\n",
       "      <td>407355</td>\n",
       "      <td>2321667</td>\n",
       "      <td>1579070</td>\n",
       "      <td>742597</td>\n",
       "      <td>335242</td>\n",
       "    </tr>\n",
       "    <tr>\n",
       "      <th>1</th>\n",
       "      <td>growth_outlier</td>\n",
       "      <td>3061</td>\n",
       "      <td>716473</td>\n",
       "      <td>1075849</td>\n",
       "      <td>-359376</td>\n",
       "      <td>1032451</td>\n",
       "      <td>759871</td>\n",
       "      <td>272580</td>\n",
       "      <td>631956</td>\n",
       "    </tr>\n",
       "    <tr>\n",
       "      <th>2</th>\n",
       "      <td>flip</td>\n",
       "      <td>2467</td>\n",
       "      <td>810847</td>\n",
       "      <td>462299</td>\n",
       "      <td>348548</td>\n",
       "      <td>594729</td>\n",
       "      <td>678417</td>\n",
       "      <td>-83688</td>\n",
       "      <td>-432236</td>\n",
       "    </tr>\n",
       "    <tr>\n",
       "      <th>3</th>\n",
       "      <td>more_votes</td>\n",
       "      <td>128</td>\n",
       "      <td>7028</td>\n",
       "      <td>3441</td>\n",
       "      <td>3587</td>\n",
       "      <td>5867</td>\n",
       "      <td>4602</td>\n",
       "      <td>1265</td>\n",
       "      <td>-2322</td>\n",
       "    </tr>\n",
       "    <tr>\n",
       "      <th>4</th>\n",
       "      <td>łącznie</td>\n",
       "      <td>8910</td>\n",
       "      <td>3688394</td>\n",
       "      <td>3288280</td>\n",
       "      <td>400114</td>\n",
       "      <td>3954714</td>\n",
       "      <td>3021960</td>\n",
       "      <td>932754</td>\n",
       "      <td>532640</td>\n",
       "    </tr>\n",
       "  </tbody>\n",
       "</table>\n",
       "</div>"
      ],
      "text/plain": [
       "            flaga  liczba  głosy nawrocki  głosy trzaskowski  różnica przed  \\\n",
       "0     pop_outlier    3254         2154046            1746691         407355   \n",
       "1  growth_outlier    3061          716473            1075849        -359376   \n",
       "2            flip    2467          810847             462299         348548   \n",
       "3      more_votes     128            7028               3441           3587   \n",
       "4         łącznie    8910         3688394            3288280         400114   \n",
       "\n",
       "   głosy nawrocki po  głosy trzaskowski po  różnica po  zmiana  \n",
       "0            2321667               1579070      742597  335242  \n",
       "1            1032451                759871      272580  631956  \n",
       "2             594729                678417      -83688 -432236  \n",
       "3               5867                  4602        1265   -2322  \n",
       "4            3954714               3021960      932754  532640  "
      ]
     },
     "execution_count": 68,
     "metadata": {},
     "output_type": "execute_result"
    }
   ],
   "source": [
    "summary_df = methods.summarize_by_anomaly(outliers_df, cand, opponent)\n",
    "summary_df"
   ]
  },
  {
   "cell_type": "markdown",
   "metadata": {},
   "source": [
    "### Na korzyść Trzaskowskiego"
   ]
  },
  {
   "cell_type": "code",
   "execution_count": 69,
   "metadata": {},
   "outputs": [],
   "source": [
    "cand = \"trzaskowski\"\n",
    "opponent = \"nawrocki\"\n",
    "outliers_df = methods.generate_candidate_outliers(df, cand, opponent, k)"
   ]
  },
  {
   "cell_type": "markdown",
   "metadata": {},
   "source": [
    "### Liczba występujących anomalii. Czyli w ilu komisjach wystąpiła np. anomalia \"pop outlier\""
   ]
  },
  {
   "cell_type": "code",
   "execution_count": 70,
   "metadata": {},
   "outputs": [
    {
     "name": "stdout",
     "output_type": "stream",
     "text": [
      "pop_outlier       6234\n",
      "growth_outlier    4119\n",
      "flip              9290\n",
      "more_votes         113\n",
      "dtype: int64\n"
     ]
    }
   ],
   "source": [
    "bool_cols = [\"pop_outlier\", \"growth_outlier\", \"flip\", \"more_votes\"]\n",
    "print(outliers_df[bool_cols].sum())"
   ]
  },
  {
   "cell_type": "markdown",
   "metadata": {},
   "source": [
    "### Liczba komisji, w których wystąpiło minimum N anomalii, czyli minimum 1 (14642) albo wszystkie cztery anomalie (0)"
   ]
  },
  {
   "cell_type": "code",
   "execution_count": 71,
   "metadata": {},
   "outputs": [
    {
     "name": "stdout",
     "output_type": "stream",
     "text": [
      ">=1: 14642\n",
      ">=2: 5009\n",
      ">=3: 105\n",
      ">=4: 0\n"
     ]
    }
   ],
   "source": [
    "true_counts = outliers_df[bool_cols].sum(axis=1)\n",
    "\n",
    "# Convert to plain ints\n",
    "count_distribution = {\n",
    "    \">=1\": int((true_counts >= 1).sum()),\n",
    "    \">=2\": int((true_counts >= 2).sum()),\n",
    "    \">=3\": int((true_counts >= 3).sum()),\n",
    "    \">=4\": int((true_counts >= 4).sum())\n",
    "}\n",
    "\n",
    "# Print row by row\n",
    "for key, value in count_distribution.items():\n",
    "    print(f\"{key}: {value}\")"
   ]
  },
  {
   "cell_type": "code",
   "execution_count": 72,
   "metadata": {},
   "outputs": [],
   "source": [
    "outliers_df[\"anomalies\"] = outliers_df.apply(methods.assign_top_anomaly, axis=1)"
   ]
  },
  {
   "cell_type": "code",
   "execution_count": 73,
   "metadata": {},
   "outputs": [],
   "source": [
    "outliers_df[cand + \"_median_r2\"] = outliers_df.groupby(\"bucket\")[cand + \"_r2\"].transform(\"median\")\n",
    "outliers_df[opponent + \"_median_r2\"] = outliers_df.groupby(\"bucket\")[opponent + \"_r2\"].transform(\"median\")"
   ]
  },
  {
   "cell_type": "code",
   "execution_count": 74,
   "metadata": {},
   "outputs": [],
   "source": [
    "outliers_df = methods.add_median_corrected_votes(outliers_df, cand, opponent)"
   ]
  },
  {
   "cell_type": "code",
   "execution_count": 75,
   "metadata": {},
   "outputs": [
    {
     "data": {
      "text/html": [
       "<div>\n",
       "<style scoped>\n",
       "    .dataframe tbody tr th:only-of-type {\n",
       "        vertical-align: middle;\n",
       "    }\n",
       "\n",
       "    .dataframe tbody tr th {\n",
       "        vertical-align: top;\n",
       "    }\n",
       "\n",
       "    .dataframe thead th {\n",
       "        text-align: right;\n",
       "    }\n",
       "</style>\n",
       "<table border=\"1\" class=\"dataframe\">\n",
       "  <thead>\n",
       "    <tr style=\"text-align: right;\">\n",
       "      <th></th>\n",
       "      <th>flaga</th>\n",
       "      <th>liczba</th>\n",
       "      <th>głosy trzaskowski</th>\n",
       "      <th>głosy nawrocki</th>\n",
       "      <th>różnica przed</th>\n",
       "      <th>głosy trzaskowski po</th>\n",
       "      <th>głosy nawrocki po</th>\n",
       "      <th>różnica po</th>\n",
       "      <th>zmiana</th>\n",
       "    </tr>\n",
       "  </thead>\n",
       "  <tbody>\n",
       "    <tr>\n",
       "      <th>0</th>\n",
       "      <td>pop_outlier</td>\n",
       "      <td>1549</td>\n",
       "      <td>994296</td>\n",
       "      <td>893947</td>\n",
       "      <td>100349</td>\n",
       "      <td>787738</td>\n",
       "      <td>1100505</td>\n",
       "      <td>-312767</td>\n",
       "      <td>-413116</td>\n",
       "    </tr>\n",
       "    <tr>\n",
       "      <th>1</th>\n",
       "      <td>growth_outlier</td>\n",
       "      <td>3750</td>\n",
       "      <td>337891</td>\n",
       "      <td>1073873</td>\n",
       "      <td>-735982</td>\n",
       "      <td>579619</td>\n",
       "      <td>832145</td>\n",
       "      <td>-252526</td>\n",
       "      <td>483456</td>\n",
       "    </tr>\n",
       "    <tr>\n",
       "      <th>2</th>\n",
       "      <td>flip</td>\n",
       "      <td>9230</td>\n",
       "      <td>5083611</td>\n",
       "      <td>3132434</td>\n",
       "      <td>1951177</td>\n",
       "      <td>3272054</td>\n",
       "      <td>4943991</td>\n",
       "      <td>-1671937</td>\n",
       "      <td>-3623114</td>\n",
       "    </tr>\n",
       "    <tr>\n",
       "      <th>3</th>\n",
       "      <td>more_votes</td>\n",
       "      <td>113</td>\n",
       "      <td>3533</td>\n",
       "      <td>2289</td>\n",
       "      <td>1244</td>\n",
       "      <td>2428</td>\n",
       "      <td>3394</td>\n",
       "      <td>-966</td>\n",
       "      <td>-2210</td>\n",
       "    </tr>\n",
       "    <tr>\n",
       "      <th>4</th>\n",
       "      <td>łącznie</td>\n",
       "      <td>14642</td>\n",
       "      <td>6419331</td>\n",
       "      <td>5102543</td>\n",
       "      <td>1316788</td>\n",
       "      <td>4641839</td>\n",
       "      <td>6880035</td>\n",
       "      <td>-2238196</td>\n",
       "      <td>-3554984</td>\n",
       "    </tr>\n",
       "  </tbody>\n",
       "</table>\n",
       "</div>"
      ],
      "text/plain": [
       "            flaga  liczba  głosy trzaskowski  głosy nawrocki  różnica przed  \\\n",
       "0     pop_outlier    1549             994296          893947         100349   \n",
       "1  growth_outlier    3750             337891         1073873        -735982   \n",
       "2            flip    9230            5083611         3132434        1951177   \n",
       "3      more_votes     113               3533            2289           1244   \n",
       "4         łącznie   14642            6419331         5102543        1316788   \n",
       "\n",
       "   głosy trzaskowski po  głosy nawrocki po  różnica po   zmiana  \n",
       "0                787738            1100505     -312767  -413116  \n",
       "1                579619             832145     -252526   483456  \n",
       "2               3272054            4943991    -1671937 -3623114  \n",
       "3                  2428               3394        -966    -2210  \n",
       "4               4641839            6880035    -2238196 -3554984  "
      ]
     },
     "execution_count": 75,
     "metadata": {},
     "output_type": "execute_result"
    }
   ],
   "source": [
    "summary_df = methods.summarize_by_anomaly(outliers_df, cand, opponent)\n",
    "summary_df"
   ]
  }
 ],
 "metadata": {
  "kernelspec": {
   "display_name": "venv",
   "language": "python",
   "name": "python3"
  },
  "language_info": {
   "codemirror_mode": {
    "name": "ipython",
    "version": 3
   },
   "file_extension": ".py",
   "mimetype": "text/x-python",
   "name": "python",
   "nbconvert_exporter": "python",
   "pygments_lexer": "ipython3",
   "version": "3.13.4"
  }
 },
 "nbformat": 4,
 "nbformat_minor": 2
}
