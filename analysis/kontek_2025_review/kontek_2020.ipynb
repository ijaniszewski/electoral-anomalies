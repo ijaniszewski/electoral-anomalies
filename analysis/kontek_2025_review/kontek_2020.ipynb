{
 "cells": [
  {
   "cell_type": "markdown",
   "metadata": {},
   "source": [
    "Próba implementacji metod zastosowanych przez dr. Kontka w artykule \n",
    "\n",
    "[\"**Weryfikacja wyniku drugiej tury wyborów prezydenckich w Polsce w 2025 roku: Przeliczenie głosów z użyciem przestrzennie grupowanej metody MAD**\"](https://papers.ssrn.com/sol3/papers.cfm?abstract_id=5296441)\n",
    "\n",
    "dla wyników wyborów prezydenckich z 2020 roku"
   ]
  },
  {
   "cell_type": "code",
   "execution_count": 1,
   "metadata": {},
   "outputs": [],
   "source": [
    "import pandas as pd\n",
    "\n",
    "from utilities import presidential_data, clustering, methods"
   ]
  },
  {
   "cell_type": "markdown",
   "metadata": {},
   "source": [
    "### load presidential both rouds - official PKW data"
   ]
  },
  {
   "cell_type": "code",
   "execution_count": 2,
   "metadata": {},
   "outputs": [],
   "source": [
    "year = \"2020\"\n",
    "df_2020_r1 = presidential_data.get_df(year, \"1\")\n",
    "df_2020_r2 = presidential_data.get_df(year, \"2\")"
   ]
  },
  {
   "cell_type": "markdown",
   "metadata": {},
   "source": [
    "### IMPLEMENTACJA METOD ZAPROPONOWANYCH PRZEZ DR KONTKA\n",
    "\n",
    "2.3. Wykrywanie wartości odstających\n",
    "\n",
    "Główna innowacja analityczna niniejszego badania polega na oszacowaniu potencjalnego wpływu\n",
    "anormalnych komisji wyborczych na poziomie ogólnokrajowym. Aby to osiągnąć, w pierwszej\n",
    "kolejności zidentyfikowano wartości odstające w czterech kategoriach nieprawidłowości:"
   ]
  },
  {
   "cell_type": "code",
   "execution_count": 3,
   "metadata": {},
   "outputs": [],
   "source": [
    "cand_A = \"trzaskowski\"\n",
    "cand_B = \"duda\"\n",
    "\n",
    "df_2020 = presidential_data.join_both_rounds(cand_A, cand_B, df_2020_r1, df_2020_r2)"
   ]
  },
  {
   "cell_type": "code",
   "execution_count": 4,
   "metadata": {},
   "outputs": [],
   "source": [
    "# grupowanie geograficzne metodą p. Białka\n",
    "df_2020 = clustering.add_bialek_postal_buckets(df_2020)"
   ]
  },
  {
   "cell_type": "markdown",
   "metadata": {},
   "source": [
    "### 1. pop_outlier: Nadmierne poparcie dla kandydata A (względem mediany w ramach lokalnej grupy)"
   ]
  },
  {
   "cell_type": "code",
   "execution_count": 5,
   "metadata": {},
   "outputs": [
    {
     "name": "stdout",
     "output_type": "stream",
     "text": [
      "Liczba komisji:  26215\n"
     ]
    }
   ],
   "source": [
    "print(\"Liczba komisji: \", len(df_2020)) # bez zagranicy i statków\n",
    "df = df_2020.copy()"
   ]
  },
  {
   "cell_type": "code",
   "execution_count": 6,
   "metadata": {},
   "outputs": [],
   "source": [
    "df = methods.add_anomaly_1(df, cand_A, cand_B, new_col_name=\"k_score_1\")"
   ]
  },
  {
   "cell_type": "code",
   "execution_count": 7,
   "metadata": {},
   "outputs": [
    {
     "name": "stdout",
     "output_type": "stream",
     "text": [
      "k > 2.0\n",
      "trzaskowski: 3430\n",
      "duda: 2893\n",
      "---\n",
      "k > 2.5\n",
      "trzaskowski: 2541\n",
      "duda: 2018\n",
      "---\n",
      "k > 3.0\n",
      "trzaskowski: 1917\n",
      "duda: 1434\n",
      "---\n"
     ]
    }
   ],
   "source": [
    "methods.check_k_thresholds(df, cand_A, cand_B, \"_k_score_1\")"
   ]
  },
  {
   "cell_type": "markdown",
   "metadata": {},
   "source": [
    "Wyniki:\n",
    "\n",
    "Dla k=2, takich komisji, w których \"za duże\" poparcie ma Duda jest 2893 a Trzaskowski 3430 (vs 3750 i 4551 w 2025)"
   ]
  },
  {
   "cell_type": "markdown",
   "metadata": {},
   "source": [
    "### 2. growth_outlier: Nadmierny względny wzrost poparcia dla kandydata A między pierwszą a drugą turą, w porównaniu do odpowiedniego wzrostu poparcia dla kandydata B w tej samej grupie lokalnej;"
   ]
  },
  {
   "cell_type": "code",
   "execution_count": 8,
   "metadata": {},
   "outputs": [],
   "source": [
    "df = methods.add_anomaly_2(df, cand_A, cand_B, new_col_name=\"k_score_2\")"
   ]
  },
  {
   "cell_type": "code",
   "execution_count": 9,
   "metadata": {},
   "outputs": [
    {
     "data": {
      "text/html": [
       "<div>\n",
       "<style scoped>\n",
       "    .dataframe tbody tr th:only-of-type {\n",
       "        vertical-align: middle;\n",
       "    }\n",
       "\n",
       "    .dataframe tbody tr th {\n",
       "        vertical-align: top;\n",
       "    }\n",
       "\n",
       "    .dataframe thead th {\n",
       "        text-align: right;\n",
       "    }\n",
       "</style>\n",
       "<table border=\"1\" class=\"dataframe\">\n",
       "  <thead>\n",
       "    <tr style=\"text-align: right;\">\n",
       "      <th></th>\n",
       "      <th>teryt_gmina</th>\n",
       "      <th>polling_station_id</th>\n",
       "      <th>trzaskowski_r1</th>\n",
       "      <th>duda_r1</th>\n",
       "      <th>postal_code</th>\n",
       "      <th>trzaskowski_r2</th>\n",
       "      <th>duda_r2</th>\n",
       "      <th>postal_clean</th>\n",
       "      <th>bucket</th>\n",
       "      <th>trzaskowski_k_score_1</th>\n",
       "      <th>duda_k_score_1</th>\n",
       "      <th>trzaskowski_k_score_2</th>\n",
       "      <th>duda_k_score_2</th>\n",
       "    </tr>\n",
       "  </thead>\n",
       "  <tbody>\n",
       "    <tr>\n",
       "      <th>0</th>\n",
       "      <td>20101</td>\n",
       "      <td>1</td>\n",
       "      <td>338</td>\n",
       "      <td>367</td>\n",
       "      <td>59-700</td>\n",
       "      <td>512</td>\n",
       "      <td>480</td>\n",
       "      <td>59700</td>\n",
       "      <td>1378</td>\n",
       "      <td>0.306122</td>\n",
       "      <td>3.025</td>\n",
       "      <td>-1.967424</td>\n",
       "      <td>1.967424</td>\n",
       "    </tr>\n",
       "    <tr>\n",
       "      <th>1</th>\n",
       "      <td>20101</td>\n",
       "      <td>2</td>\n",
       "      <td>365</td>\n",
       "      <td>311</td>\n",
       "      <td>59-700</td>\n",
       "      <td>536</td>\n",
       "      <td>362</td>\n",
       "      <td>59700</td>\n",
       "      <td>1378</td>\n",
       "      <td>0.551020</td>\n",
       "      <td>0.075</td>\n",
       "      <td>-0.700443</td>\n",
       "      <td>0.700443</td>\n",
       "    </tr>\n",
       "    <tr>\n",
       "      <th>2</th>\n",
       "      <td>20101</td>\n",
       "      <td>3</td>\n",
       "      <td>300</td>\n",
       "      <td>326</td>\n",
       "      <td>59-700</td>\n",
       "      <td>533</td>\n",
       "      <td>401</td>\n",
       "      <td>59700</td>\n",
       "      <td>1378</td>\n",
       "      <td>0.520408</td>\n",
       "      <td>1.050</td>\n",
       "      <td>2.441852</td>\n",
       "      <td>-2.441852</td>\n",
       "    </tr>\n",
       "    <tr>\n",
       "      <th>3</th>\n",
       "      <td>20101</td>\n",
       "      <td>4</td>\n",
       "      <td>363</td>\n",
       "      <td>329</td>\n",
       "      <td>59-700</td>\n",
       "      <td>552</td>\n",
       "      <td>400</td>\n",
       "      <td>59700</td>\n",
       "      <td>1378</td>\n",
       "      <td>0.714286</td>\n",
       "      <td>1.025</td>\n",
       "      <td>-0.695904</td>\n",
       "      <td>0.695904</td>\n",
       "    </tr>\n",
       "    <tr>\n",
       "      <th>4</th>\n",
       "      <td>20101</td>\n",
       "      <td>5</td>\n",
       "      <td>326</td>\n",
       "      <td>304</td>\n",
       "      <td>59-700</td>\n",
       "      <td>519</td>\n",
       "      <td>375</td>\n",
       "      <td>59700</td>\n",
       "      <td>1378</td>\n",
       "      <td>0.377551</td>\n",
       "      <td>0.400</td>\n",
       "      <td>0.000000</td>\n",
       "      <td>0.000000</td>\n",
       "    </tr>\n",
       "  </tbody>\n",
       "</table>\n",
       "</div>"
      ],
      "text/plain": [
       "   teryt_gmina  polling_station_id  trzaskowski_r1  duda_r1 postal_code  \\\n",
       "0        20101                   1             338      367      59-700   \n",
       "1        20101                   2             365      311      59-700   \n",
       "2        20101                   3             300      326      59-700   \n",
       "3        20101                   4             363      329      59-700   \n",
       "4        20101                   5             326      304      59-700   \n",
       "\n",
       "   trzaskowski_r2  duda_r2 postal_clean  bucket  trzaskowski_k_score_1  \\\n",
       "0             512      480        59700    1378               0.306122   \n",
       "1             536      362        59700    1378               0.551020   \n",
       "2             533      401        59700    1378               0.520408   \n",
       "3             552      400        59700    1378               0.714286   \n",
       "4             519      375        59700    1378               0.377551   \n",
       "\n",
       "   duda_k_score_1  trzaskowski_k_score_2  duda_k_score_2  \n",
       "0           3.025              -1.967424        1.967424  \n",
       "1           0.075              -0.700443        0.700443  \n",
       "2           1.050               2.441852       -2.441852  \n",
       "3           1.025              -0.695904        0.695904  \n",
       "4           0.400               0.000000        0.000000  "
      ]
     },
     "execution_count": 9,
     "metadata": {},
     "output_type": "execute_result"
    }
   ],
   "source": [
    "df.head()"
   ]
  },
  {
   "cell_type": "code",
   "execution_count": 10,
   "metadata": {},
   "outputs": [
    {
     "name": "stdout",
     "output_type": "stream",
     "text": [
      "k > 2.0\n",
      "trzaskowski: 3795\n",
      "duda: 1863\n",
      "---\n",
      "k > 2.5\n",
      "trzaskowski: 2938\n",
      "duda: 1235\n",
      "---\n",
      "k > 3.0\n",
      "trzaskowski: 2358\n",
      "duda: 865\n",
      "---\n"
     ]
    }
   ],
   "source": [
    "methods.check_k_thresholds(df, cand_A, cand_B, \"_k_score_2\")"
   ]
  },
  {
   "cell_type": "markdown",
   "metadata": {},
   "source": [
    "### 3. Komisje, w których kand A uzyskał więcej głosów niż kand B w drugiej turze, mimo że mediana wyników w grupie wskazywała na przewagę kand B;"
   ]
  },
  {
   "cell_type": "code",
   "execution_count": 11,
   "metadata": {},
   "outputs": [],
   "source": [
    "df = methods.add_anomaly_3(df, cand_A, cand_B, new_col_name=\"flip\")"
   ]
  },
  {
   "cell_type": "code",
   "execution_count": 12,
   "metadata": {},
   "outputs": [
    {
     "data": {
      "text/plain": [
       "('trzaskowski', 1885)"
      ]
     },
     "execution_count": 12,
     "metadata": {},
     "output_type": "execute_result"
    }
   ],
   "source": [
    "# na korzyść kandydata A, czyli większą medianę miał B, a więcej głosów dostał A.\n",
    "cand_A, sum(df['higher_median_' + cand_B] & (df[cand_A + '_r2'] > df[cand_B + '_r2']))"
   ]
  },
  {
   "cell_type": "markdown",
   "metadata": {},
   "source": [
    "vs 2025:\n",
    "\n",
    "('trzaskowski', 2608)"
   ]
  },
  {
   "cell_type": "code",
   "execution_count": 13,
   "metadata": {},
   "outputs": [
    {
     "data": {
      "text/plain": [
       "('duda', 1999)"
      ]
     },
     "execution_count": 13,
     "metadata": {},
     "output_type": "execute_result"
    }
   ],
   "source": [
    "cand_B, sum(df['higher_median_' + cand_A] & (df[cand_B + '_r2'] > df[cand_A + '_r2']))"
   ]
  },
  {
   "cell_type": "markdown",
   "metadata": {},
   "source": [
    "vs 2025:\n",
    "\n",
    "('nawrocki', 1843)"
   ]
  },
  {
   "cell_type": "code",
   "execution_count": 14,
   "metadata": {},
   "outputs": [],
   "source": [
    "df = df.drop(\n",
    "    columns=[\n",
    "        f\"higher_median_{cand_A}\",\n",
    "        f\"higher_median_{cand_B}\",\n",
    "    ]\n",
    ")"
   ]
  },
  {
   "cell_type": "markdown",
   "metadata": {},
   "source": [
    "**WYNIKI**:\n",
    "\n",
    "W grupach, w których większą medianę miał Duda, było 1999 (2025 - 1843) komisji, w których wyższy wynik uzyskał Trzaskowski.\n",
    "\n",
    "W grupach, w których większą medianę miał Trzaskowski, było 1885 (2025 - 2608) komisji, w których wyższy wyniki uzyskał Nawrocki."
   ]
  },
  {
   "cell_type": "markdown",
   "metadata": {},
   "source": [
    "### 4. Kandydat otrzymał mniej głosów w drugiej turze niż w pierwszej"
   ]
  },
  {
   "cell_type": "code",
   "execution_count": 15,
   "metadata": {},
   "outputs": [
    {
     "data": {
      "text/plain": [
       "('trzaskowski', 106)"
      ]
     },
     "execution_count": 15,
     "metadata": {},
     "output_type": "execute_result"
    }
   ],
   "source": [
    "cand_A, sum(df[cand_A + '_r2']<df[cand_A + '_r1'])"
   ]
  },
  {
   "cell_type": "markdown",
   "metadata": {},
   "source": [
    "W 106 komisjach Trzaskowski uzyskał mniej głosów w drugiej turze niż w pierwszej."
   ]
  },
  {
   "cell_type": "markdown",
   "metadata": {},
   "source": [
    "vs 2025:\n",
    "\n",
    "('trzaskowski', 128)"
   ]
  },
  {
   "cell_type": "code",
   "execution_count": 16,
   "metadata": {},
   "outputs": [
    {
     "data": {
      "text/plain": [
       "('duda', 284)"
      ]
     },
     "execution_count": 16,
     "metadata": {},
     "output_type": "execute_result"
    }
   ],
   "source": [
    "cand_B, sum(df[cand_B + '_r2']<df[cand_B + '_r1'])"
   ]
  },
  {
   "cell_type": "markdown",
   "metadata": {},
   "source": [
    "W 284 (2025 - 112) komisjach Duda uzyskał mniej głosów w drugiej turze niż w pierwszej."
   ]
  },
  {
   "cell_type": "markdown",
   "metadata": {},
   "source": [
    "vs 2025:\n",
    "\n",
    "('nawrocki', 112)"
   ]
  },
  {
   "cell_type": "markdown",
   "metadata": {},
   "source": [
    "\n",
    "Przykładowe anomalie na korzyść Trzaskowskiego:"
   ]
  },
  {
   "cell_type": "code",
   "execution_count": 17,
   "metadata": {},
   "outputs": [
    {
     "data": {
      "text/html": [
       "<div>\n",
       "<style scoped>\n",
       "    .dataframe tbody tr th:only-of-type {\n",
       "        vertical-align: middle;\n",
       "    }\n",
       "\n",
       "    .dataframe tbody tr th {\n",
       "        vertical-align: top;\n",
       "    }\n",
       "\n",
       "    .dataframe thead th {\n",
       "        text-align: right;\n",
       "    }\n",
       "</style>\n",
       "<table border=\"1\" class=\"dataframe\">\n",
       "  <thead>\n",
       "    <tr style=\"text-align: right;\">\n",
       "      <th></th>\n",
       "      <th>teryt_gmina</th>\n",
       "      <th>polling_station_id</th>\n",
       "      <th>trzaskowski_r1</th>\n",
       "      <th>duda_r1</th>\n",
       "      <th>postal_code</th>\n",
       "      <th>trzaskowski_r2</th>\n",
       "      <th>duda_r2</th>\n",
       "      <th>postal_clean</th>\n",
       "      <th>bucket</th>\n",
       "      <th>trzaskowski_k_score_1</th>\n",
       "      <th>duda_k_score_1</th>\n",
       "      <th>trzaskowski_k_score_2</th>\n",
       "      <th>duda_k_score_2</th>\n",
       "      <th>trzaskowski_flip</th>\n",
       "      <th>duda_flip</th>\n",
       "    </tr>\n",
       "  </thead>\n",
       "  <tbody>\n",
       "    <tr>\n",
       "      <th>10728</th>\n",
       "      <td>140611</td>\n",
       "      <td>6</td>\n",
       "      <td>287</td>\n",
       "      <td>684</td>\n",
       "      <td>05-660</td>\n",
       "      <td>842</td>\n",
       "      <td>506</td>\n",
       "      <td>05660</td>\n",
       "      <td>94</td>\n",
       "      <td>5.273913</td>\n",
       "      <td>0.258462</td>\n",
       "      <td>4.060803</td>\n",
       "      <td>-4.060803</td>\n",
       "      <td>True</td>\n",
       "      <td>False</td>\n",
       "    </tr>\n",
       "    <tr>\n",
       "      <th>21288</th>\n",
       "      <td>247101</td>\n",
       "      <td>16</td>\n",
       "      <td>160</td>\n",
       "      <td>493</td>\n",
       "      <td>41-940</td>\n",
       "      <td>483</td>\n",
       "      <td>447</td>\n",
       "      <td>41940</td>\n",
       "      <td>1081</td>\n",
       "      <td>0.000000</td>\n",
       "      <td>0.000000</td>\n",
       "      <td>14.427480</td>\n",
       "      <td>-14.427480</td>\n",
       "      <td>False</td>\n",
       "      <td>False</td>\n",
       "    </tr>\n",
       "    <tr>\n",
       "      <th>5955</th>\n",
       "      <td>81006</td>\n",
       "      <td>1</td>\n",
       "      <td>125</td>\n",
       "      <td>402</td>\n",
       "      <td>67-312</td>\n",
       "      <td>488</td>\n",
       "      <td>220</td>\n",
       "      <td>67312</td>\n",
       "      <td>2377</td>\n",
       "      <td>6.472222</td>\n",
       "      <td>-1.346405</td>\n",
       "      <td>14.371655</td>\n",
       "      <td>-14.371655</td>\n",
       "      <td>True</td>\n",
       "      <td>False</td>\n",
       "    </tr>\n",
       "    <tr>\n",
       "      <th>24593</th>\n",
       "      <td>301302</td>\n",
       "      <td>1</td>\n",
       "      <td>90</td>\n",
       "      <td>360</td>\n",
       "      <td>64-111</td>\n",
       "      <td>289</td>\n",
       "      <td>339</td>\n",
       "      <td>64111</td>\n",
       "      <td>1497</td>\n",
       "      <td>-0.303448</td>\n",
       "      <td>-1.000000</td>\n",
       "      <td>10.039896</td>\n",
       "      <td>-10.039896</td>\n",
       "      <td>False</td>\n",
       "      <td>False</td>\n",
       "    </tr>\n",
       "    <tr>\n",
       "      <th>13392</th>\n",
       "      <td>146507</td>\n",
       "      <td>430</td>\n",
       "      <td>576</td>\n",
       "      <td>307</td>\n",
       "      <td>04-173</td>\n",
       "      <td>854</td>\n",
       "      <td>299</td>\n",
       "      <td>04173</td>\n",
       "      <td>27</td>\n",
       "      <td>0.000000</td>\n",
       "      <td>-3.648649</td>\n",
       "      <td>6.933126</td>\n",
       "      <td>-6.933126</td>\n",
       "      <td>False</td>\n",
       "      <td>False</td>\n",
       "    </tr>\n",
       "  </tbody>\n",
       "</table>\n",
       "</div>"
      ],
      "text/plain": [
       "       teryt_gmina  polling_station_id  trzaskowski_r1  duda_r1 postal_code  \\\n",
       "10728       140611                   6             287      684      05-660   \n",
       "21288       247101                  16             160      493      41-940   \n",
       "5955         81006                   1             125      402      67-312   \n",
       "24593       301302                   1              90      360      64-111   \n",
       "13392       146507                 430             576      307      04-173   \n",
       "\n",
       "       trzaskowski_r2  duda_r2 postal_clean  bucket  trzaskowski_k_score_1  \\\n",
       "10728             842      506        05660      94               5.273913   \n",
       "21288             483      447        41940    1081               0.000000   \n",
       "5955              488      220        67312    2377               6.472222   \n",
       "24593             289      339        64111    1497              -0.303448   \n",
       "13392             854      299        04173      27               0.000000   \n",
       "\n",
       "       duda_k_score_1  trzaskowski_k_score_2  duda_k_score_2  \\\n",
       "10728        0.258462               4.060803       -4.060803   \n",
       "21288        0.000000              14.427480      -14.427480   \n",
       "5955        -1.346405              14.371655      -14.371655   \n",
       "24593       -1.000000              10.039896      -10.039896   \n",
       "13392       -3.648649               6.933126       -6.933126   \n",
       "\n",
       "       trzaskowski_flip  duda_flip  \n",
       "10728              True      False  \n",
       "21288             False      False  \n",
       "5955               True      False  \n",
       "24593             False      False  \n",
       "13392             False      False  "
      ]
     },
     "execution_count": 17,
     "metadata": {},
     "output_type": "execute_result"
    }
   ],
   "source": [
    "df[df[cand_B + '_r2'] < df[cand_B + '_r1']].sort_values(by=cand_B + '_r1', ascending=False).head()"
   ]
  },
  {
   "cell_type": "code",
   "execution_count": 18,
   "metadata": {},
   "outputs": [],
   "source": [
    "# Anomalie na korzysc\n",
    "df[cand_A + '_more_votes'] = df[cand_B + '_r2']<df[cand_B + '_r1']\n",
    "df[cand_B + '_more_votes'] = df[cand_A + '_r2']<df[cand_A + '_r1']"
   ]
  },
  {
   "cell_type": "markdown",
   "metadata": {},
   "source": [
    "## Wyniki"
   ]
  },
  {
   "cell_type": "code",
   "execution_count": 19,
   "metadata": {},
   "outputs": [],
   "source": [
    "# w zależności od wielkości k\n",
    "k = 2\n",
    "\n",
    "# deduplikacja, czyli jak wystąpiła więcej niz jedna anomalia, to liczymy taką komisję raz"
   ]
  },
  {
   "cell_type": "markdown",
   "metadata": {},
   "source": [
    "### Na korzyść Dudy"
   ]
  },
  {
   "cell_type": "code",
   "execution_count": 20,
   "metadata": {},
   "outputs": [],
   "source": [
    "cand = \"duda\"\n",
    "opponent = \"trzaskowski\"\n",
    "outliers_df = methods.generate_candidate_outliers(df, cand, opponent, k)"
   ]
  },
  {
   "cell_type": "markdown",
   "metadata": {},
   "source": [
    "### Liczba występujących anomalii. Czyli w ilu komisjach wystąpiła np. anomalia \"pop outlier\""
   ]
  },
  {
   "cell_type": "code",
   "execution_count": 21,
   "metadata": {},
   "outputs": [
    {
     "name": "stdout",
     "output_type": "stream",
     "text": [
      "pop_outlier       2893\n",
      "growth_outlier    1863\n",
      "flip              1999\n",
      "more_votes         106\n",
      "dtype: int64\n"
     ]
    }
   ],
   "source": [
    "bool_cols = [\"pop_outlier\", \"growth_outlier\", \"flip\", \"more_votes\"]\n",
    "print(outliers_df[bool_cols].sum())"
   ]
  },
  {
   "cell_type": "markdown",
   "metadata": {},
   "source": [
    "### Liczba komisji, w których wystąpiło minimum N anomalii, czyli minimum 1 (6243) albo wszystkie cztery anomalie (0)"
   ]
  },
  {
   "cell_type": "code",
   "execution_count": 22,
   "metadata": {},
   "outputs": [
    {
     "name": "stdout",
     "output_type": "stream",
     "text": [
      ">=1: 6243\n",
      ">=2: 571\n",
      ">=3: 47\n",
      ">=4: 0\n"
     ]
    }
   ],
   "source": [
    "true_counts = outliers_df[bool_cols].sum(axis=1)\n",
    "\n",
    "# Convert to plain ints\n",
    "count_distribution = {\n",
    "    \">=1\": int((true_counts >= 1).sum()),\n",
    "    \">=2\": int((true_counts >= 2).sum()),\n",
    "    \">=3\": int((true_counts >= 3).sum()),\n",
    "    \">=4\": int((true_counts >= 4).sum())\n",
    "}\n",
    "\n",
    "# Print row by row\n",
    "for key, value in count_distribution.items():\n",
    "    print(f\"{key}: {value}\")"
   ]
  },
  {
   "cell_type": "markdown",
   "metadata": {},
   "source": [
    "### Próba odwzorowania tabelki z wynikami"
   ]
  },
  {
   "cell_type": "code",
   "execution_count": 26,
   "metadata": {},
   "outputs": [],
   "source": [
    "# suma głosów. jeżeli w komisji występuje więcej niż jedna anomalia, sumuj jej głosy tylko raz\n",
    "outliers_df[\"anomalies\"] = outliers_df.apply(methods.assign_top_anomaly, axis=1)"
   ]
  },
  {
   "cell_type": "code",
   "execution_count": 27,
   "metadata": {},
   "outputs": [],
   "source": [
    "outliers_df[cand + \"_median_r2\"] = outliers_df.groupby(\"bucket\")[cand + \"_r2\"].transform(\"median\")\n",
    "outliers_df[opponent + \"_median_r2\"] = outliers_df.groupby(\"bucket\")[opponent + \"_r2\"].transform(\"median\")"
   ]
  },
  {
   "cell_type": "code",
   "execution_count": 28,
   "metadata": {},
   "outputs": [],
   "source": [
    "outliers_df = methods.add_median_corrected_votes(outliers_df, cand, opponent)"
   ]
  },
  {
   "cell_type": "code",
   "execution_count": 29,
   "metadata": {},
   "outputs": [
    {
     "data": {
      "text/html": [
       "<div>\n",
       "<style scoped>\n",
       "    .dataframe tbody tr th:only-of-type {\n",
       "        vertical-align: middle;\n",
       "    }\n",
       "\n",
       "    .dataframe tbody tr th {\n",
       "        vertical-align: top;\n",
       "    }\n",
       "\n",
       "    .dataframe thead th {\n",
       "        text-align: right;\n",
       "    }\n",
       "</style>\n",
       "<table border=\"1\" class=\"dataframe\">\n",
       "  <thead>\n",
       "    <tr style=\"text-align: right;\">\n",
       "      <th></th>\n",
       "      <th>flaga</th>\n",
       "      <th>liczba</th>\n",
       "      <th>głosy duda</th>\n",
       "      <th>głosy trzaskowski</th>\n",
       "      <th>różnica przed</th>\n",
       "      <th>głosy duda po</th>\n",
       "      <th>głosy trzaskowski po</th>\n",
       "      <th>różnica po</th>\n",
       "      <th>zmiana</th>\n",
       "    </tr>\n",
       "  </thead>\n",
       "  <tbody>\n",
       "    <tr>\n",
       "      <th>0</th>\n",
       "      <td>pop_outlier</td>\n",
       "      <td>2601</td>\n",
       "      <td>1669922</td>\n",
       "      <td>1575104</td>\n",
       "      <td>94818</td>\n",
       "      <td>1723726</td>\n",
       "      <td>1521300</td>\n",
       "      <td>202426</td>\n",
       "      <td>107608</td>\n",
       "    </tr>\n",
       "    <tr>\n",
       "      <th>1</th>\n",
       "      <td>growth_outlier</td>\n",
       "      <td>1575</td>\n",
       "      <td>498375</td>\n",
       "      <td>626723</td>\n",
       "      <td>-128348</td>\n",
       "      <td>548807</td>\n",
       "      <td>576291</td>\n",
       "      <td>-27484</td>\n",
       "      <td>100864</td>\n",
       "    </tr>\n",
       "    <tr>\n",
       "      <th>2</th>\n",
       "      <td>flip</td>\n",
       "      <td>1961</td>\n",
       "      <td>559777</td>\n",
       "      <td>445101</td>\n",
       "      <td>114676</td>\n",
       "      <td>454489</td>\n",
       "      <td>550389</td>\n",
       "      <td>-95900</td>\n",
       "      <td>-210576</td>\n",
       "    </tr>\n",
       "    <tr>\n",
       "      <th>3</th>\n",
       "      <td>more_votes</td>\n",
       "      <td>106</td>\n",
       "      <td>4442</td>\n",
       "      <td>930</td>\n",
       "      <td>3512</td>\n",
       "      <td>3285</td>\n",
       "      <td>2087</td>\n",
       "      <td>1198</td>\n",
       "      <td>-2314</td>\n",
       "    </tr>\n",
       "    <tr>\n",
       "      <th>4</th>\n",
       "      <td>łącznie</td>\n",
       "      <td>6243</td>\n",
       "      <td>2732516</td>\n",
       "      <td>2647858</td>\n",
       "      <td>84658</td>\n",
       "      <td>2730307</td>\n",
       "      <td>2650067</td>\n",
       "      <td>80240</td>\n",
       "      <td>-4418</td>\n",
       "    </tr>\n",
       "  </tbody>\n",
       "</table>\n",
       "</div>"
      ],
      "text/plain": [
       "            flaga  liczba  głosy duda  głosy trzaskowski  różnica przed  \\\n",
       "0     pop_outlier    2601     1669922            1575104          94818   \n",
       "1  growth_outlier    1575      498375             626723        -128348   \n",
       "2            flip    1961      559777             445101         114676   \n",
       "3      more_votes     106        4442                930           3512   \n",
       "4         łącznie    6243     2732516            2647858          84658   \n",
       "\n",
       "   głosy duda po  głosy trzaskowski po  różnica po  zmiana  \n",
       "0        1723726               1521300      202426  107608  \n",
       "1         548807                576291      -27484  100864  \n",
       "2         454489                550389      -95900 -210576  \n",
       "3           3285                  2087        1198   -2314  \n",
       "4        2730307               2650067       80240   -4418  "
      ]
     },
     "execution_count": 29,
     "metadata": {},
     "output_type": "execute_result"
    }
   ],
   "source": [
    "summary_df = methods.summarize_by_anomaly(outliers_df, cand, opponent)\n",
    "summary_df"
   ]
  },
  {
   "cell_type": "markdown",
   "metadata": {},
   "source": [
    "### Na korzyść Trzaskowskiego"
   ]
  },
  {
   "cell_type": "code",
   "execution_count": null,
   "metadata": {},
   "outputs": [],
   "source": [
    "cand = \"trzaskowski\"\n",
    "opponent = \"duda\"\n",
    "outliers_df = methods.generate_candidate_outliers(df, cand, opponent, k)"
   ]
  },
  {
   "cell_type": "markdown",
   "metadata": {},
   "source": [
    "### Liczba występujących anomalii. Czyli w ilu komisjach wystąpiła np. anomalia \"pop outlier\""
   ]
  },
  {
   "cell_type": "code",
   "execution_count": null,
   "metadata": {},
   "outputs": [
    {
     "name": "stdout",
     "output_type": "stream",
     "text": [
      "pop_outlier       3430\n",
      "growth_outlier    3795\n",
      "flip              1885\n",
      "more_votes         284\n",
      "dtype: int64\n"
     ]
    }
   ],
   "source": [
    "bool_cols = [\"pop_outlier\", \"growth_outlier\", \"flip\", \"more_votes\"]\n",
    "print(outliers_df[bool_cols].sum())"
   ]
  },
  {
   "cell_type": "markdown",
   "metadata": {},
   "source": [
    "### Liczba komisji, w których wystąpiło minimum N anomalii, czyli minimum 1 (8406) albo wszystkie cztery anomalie (2)"
   ]
  },
  {
   "cell_type": "code",
   "execution_count": null,
   "metadata": {},
   "outputs": [
    {
     "name": "stdout",
     "output_type": "stream",
     "text": [
      ">=1: 8406\n",
      ">=2: 962\n",
      ">=3: 24\n",
      ">=4: 2\n"
     ]
    }
   ],
   "source": [
    "true_counts = outliers_df[bool_cols].sum(axis=1)\n",
    "\n",
    "# Convert to plain ints\n",
    "count_distribution = {\n",
    "    \">=1\": int((true_counts >= 1).sum()),\n",
    "    \">=2\": int((true_counts >= 2).sum()),\n",
    "    \">=3\": int((true_counts >= 3).sum()),\n",
    "    \">=4\": int((true_counts >= 4).sum())\n",
    "}\n",
    "\n",
    "# Print row by row\n",
    "for key, value in count_distribution.items():\n",
    "    print(f\"{key}: {value}\")"
   ]
  },
  {
   "cell_type": "code",
   "execution_count": null,
   "metadata": {},
   "outputs": [],
   "source": [
    "outliers_df[\"anomalies\"] = outliers_df.apply(methods.assign_top_anomaly, axis=1)"
   ]
  },
  {
   "cell_type": "code",
   "execution_count": null,
   "metadata": {},
   "outputs": [],
   "source": [
    "outliers_df[cand + \"_median_r2\"] = outliers_df.groupby(\"bucket\")[cand + \"_r2\"].transform(\"median\")\n",
    "outliers_df[opponent + \"_median_r2\"] = outliers_df.groupby(\"bucket\")[opponent + \"_r2\"].transform(\"median\")"
   ]
  },
  {
   "cell_type": "code",
   "execution_count": null,
   "metadata": {},
   "outputs": [],
   "source": [
    "outliers_df = methods.add_median_corrected_votes(outliers_df, cand, opponent)"
   ]
  },
  {
   "cell_type": "code",
   "execution_count": null,
   "metadata": {},
   "outputs": [
    {
     "data": {
      "text/html": [
       "<div>\n",
       "<style scoped>\n",
       "    .dataframe tbody tr th:only-of-type {\n",
       "        vertical-align: middle;\n",
       "    }\n",
       "\n",
       "    .dataframe tbody tr th {\n",
       "        vertical-align: top;\n",
       "    }\n",
       "\n",
       "    .dataframe thead th {\n",
       "        text-align: right;\n",
       "    }\n",
       "</style>\n",
       "<table border=\"1\" class=\"dataframe\">\n",
       "  <thead>\n",
       "    <tr style=\"text-align: right;\">\n",
       "      <th></th>\n",
       "      <th>flaga</th>\n",
       "      <th>liczba</th>\n",
       "      <th>głosy trzaskowski</th>\n",
       "      <th>głosy duda</th>\n",
       "      <th>różnica przed</th>\n",
       "      <th>głosy trzaskowski po</th>\n",
       "      <th>głosy duda po</th>\n",
       "      <th>różnica po</th>\n",
       "      <th>zmiana</th>\n",
       "    </tr>\n",
       "  </thead>\n",
       "  <tbody>\n",
       "    <tr>\n",
       "      <th>0</th>\n",
       "      <td>pop_outlier</td>\n",
       "      <td>3430</td>\n",
       "      <td>2236448</td>\n",
       "      <td>1947792</td>\n",
       "      <td>288656</td>\n",
       "      <td>1919195</td>\n",
       "      <td>2265045</td>\n",
       "      <td>-345850</td>\n",
       "      <td>-634506</td>\n",
       "    </tr>\n",
       "    <tr>\n",
       "      <th>1</th>\n",
       "      <td>growth_outlier</td>\n",
       "      <td>3795</td>\n",
       "      <td>778417</td>\n",
       "      <td>1119117</td>\n",
       "      <td>-340700</td>\n",
       "      <td>868343</td>\n",
       "      <td>1029191</td>\n",
       "      <td>-160848</td>\n",
       "      <td>179852</td>\n",
       "    </tr>\n",
       "    <tr>\n",
       "      <th>2</th>\n",
       "      <td>flip</td>\n",
       "      <td>1885</td>\n",
       "      <td>841276</td>\n",
       "      <td>692545</td>\n",
       "      <td>148731</td>\n",
       "      <td>684128</td>\n",
       "      <td>849693</td>\n",
       "      <td>-165565</td>\n",
       "      <td>-314296</td>\n",
       "    </tr>\n",
       "    <tr>\n",
       "      <th>3</th>\n",
       "      <td>more_votes</td>\n",
       "      <td>284</td>\n",
       "      <td>15017</td>\n",
       "      <td>11279</td>\n",
       "      <td>3738</td>\n",
       "      <td>14449</td>\n",
       "      <td>11847</td>\n",
       "      <td>2602</td>\n",
       "      <td>-1136</td>\n",
       "    </tr>\n",
       "  </tbody>\n",
       "</table>\n",
       "</div>"
      ],
      "text/plain": [
       "            flaga  liczba  głosy trzaskowski  głosy duda  różnica przed  \\\n",
       "0     pop_outlier    3430            2236448     1947792         288656   \n",
       "1  growth_outlier    3795             778417     1119117        -340700   \n",
       "2            flip    1885             841276      692545         148731   \n",
       "3      more_votes     284              15017       11279           3738   \n",
       "\n",
       "   głosy trzaskowski po  głosy duda po  różnica po  zmiana  \n",
       "0               1919195        2265045     -345850 -634506  \n",
       "1                868343        1029191     -160848  179852  \n",
       "2                684128         849693     -165565 -314296  \n",
       "3                 14449          11847        2602   -1136  "
      ]
     },
     "execution_count": 47,
     "metadata": {},
     "output_type": "execute_result"
    }
   ],
   "source": [
    "summary_df = methods.summarize_by_anomaly(outliers_df, cand, opponent)\n",
    "summary_df"
   ]
  }
 ],
 "metadata": {
  "kernelspec": {
   "display_name": "venv",
   "language": "python",
   "name": "python3"
  },
  "language_info": {
   "codemirror_mode": {
    "name": "ipython",
    "version": 3
   },
   "file_extension": ".py",
   "mimetype": "text/x-python",
   "name": "python",
   "nbconvert_exporter": "python",
   "pygments_lexer": "ipython3",
   "version": "3.12.3"
  }
 },
 "nbformat": 4,
 "nbformat_minor": 2
}
