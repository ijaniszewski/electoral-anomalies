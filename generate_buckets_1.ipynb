{
 "cells": [
  {
   "cell_type": "code",
   "execution_count": 164,
   "id": "5c842ce6",
   "metadata": {},
   "outputs": [
    {
     "name": "stdout",
     "output_type": "stream",
     "text": [
      "✅ Cleaned DataFrame loaded.\n"
     ]
    }
   ],
   "source": [
    "import pandas as pd\n",
    "import numpy as np\n",
    "from src.utilities import get_data_path\n",
    "\n",
    "# Use the same file name as earlier\n",
    "file_name = \"2025_presidential_round2.csv\"\n",
    "cleaned_path = get_data_path(\"processed\", \"poland\", f\"{file_name[:-4]}_clean.csv\")\n",
    "\n",
    "# Load the cleaned DataFrame\n",
    "df = pd.read_csv(cleaned_path, sep=\";\", encoding=\"utf-8\")\n",
    "\n",
    "print(\"✅ Cleaned DataFrame loaded.\")"
   ]
  },
  {
   "cell_type": "code",
   "execution_count": 165,
   "id": "43188efb",
   "metadata": {},
   "outputs": [],
   "source": [
    "pd.set_option('display.max_columns', 100)  # or specify a number instead of None, e.g., 100\n",
    "# pd.set_option('display.max_rows', 100)          # Control max rows shown\n",
    "pd.set_option('display.max_rows', None)"
   ]
  },
  {
   "cell_type": "code",
   "execution_count": 166,
   "id": "73a375ba",
   "metadata": {},
   "outputs": [],
   "source": [
    "# Remove empty postal codes\n",
    "df = df[df[\"postal_code\"].notna()]\n",
    "\n",
    "# and possible zagranica:\n",
    "df = df[df[\"teryt_gmina\"].notna()]\n",
    "\n",
    "# Clean postal codes: remove dash\n",
    "df['postal_clean'] = df['postal_code'].str.replace('-', '')\n",
    "df['postal_clean_value_count'] = df['postal_clean'].map(df['postal_clean'].value_counts())\n"
   ]
  },
  {
   "cell_type": "code",
   "execution_count": 167,
   "id": "1753cd70",
   "metadata": {},
   "outputs": [],
   "source": [
    "# let's define bucket sizes\n",
    "MIN_BUCKET_SIZE = 10\n",
    "MAX_BUCKET_SIZE = 16"
   ]
  },
  {
   "cell_type": "code",
   "execution_count": 168,
   "id": "755d556e",
   "metadata": {},
   "outputs": [],
   "source": [
    "# 1. Początkowe grupowanie oparto na pierwszych dwóch cyfrach kodu pocztowego (np. „30” dla obszaru Krakowa). \n",
    "# 2. Jeżeli powstała grupa zawierała od 10 do 16 komisji, została zaakceptowana bez zmian. \n",
    "# There are no < 16 XX groups, so I am starting with XX-X\n",
    "df[\"postal_3\"] = df[\"postal_clean\"].astype(str).str[:3]\n",
    "df['postal_3_value_count'] = df['postal_3'].map(df['postal_3'].value_counts())"
   ]
  },
  {
   "cell_type": "code",
   "execution_count": 169,
   "id": "a75e3e46",
   "metadata": {},
   "outputs": [],
   "source": [
    "# Step 1: Get value counts\n",
    "postal_3_counts = df['postal_3'].value_counts()\n",
    "\n",
    "# Step 2: Find postal_3 values with count between 10 and 16\n",
    "valid_postals = postal_3_counts[(postal_3_counts >= MIN_BUCKET_SIZE) & (postal_3_counts <= MAX_BUCKET_SIZE)].index\n",
    "\n",
    "# Step 3: Assign 'bucket' column based on valid_postals\n",
    "df['bucket'] = df['postal_3'].where(df['postal_3'].isin(valid_postals))"
   ]
  },
  {
   "cell_type": "code",
   "execution_count": 170,
   "id": "81c1b93b",
   "metadata": {},
   "outputs": [],
   "source": [
    "# df[\"bucket\"].value_counts()"
   ]
  },
  {
   "cell_type": "code",
   "execution_count": 171,
   "id": "32d89c31",
   "metadata": {},
   "outputs": [],
   "source": [
    "# df[df[\"bucket\"] == \"513\"]"
   ]
  },
  {
   "cell_type": "code",
   "execution_count": 172,
   "id": "7f29da5a",
   "metadata": {},
   "outputs": [],
   "source": [
    "# now, same for 4 digits XX-XX (only if not already assigned)\n",
    "# Step 2: Process 4-digit postal codes only where 'bucket' is still null\n",
    "\n",
    "df[\"postal_4\"] = df[\"postal_clean\"].astype(str).str[:4]\n",
    "postal_4_counts = df['postal_4'].value_counts()\n",
    "df['postal_4_value_count'] = df['postal_4'].map(df['postal_4'].value_counts())\n",
    "valid_postals_4 = postal_4_counts[\n",
    "    (postal_4_counts >= MIN_BUCKET_SIZE ) & (postal_4_counts <= MAX_BUCKET_SIZE )\n",
    "].index\n",
    "\n",
    "df.loc[df['bucket'].isna(), 'bucket'] = df.loc[\n",
    "    df['postal_4'].isin(valid_postals_4), 'postal_4'\n",
    "]"
   ]
  },
  {
   "cell_type": "code",
   "execution_count": 173,
   "id": "30f598b4",
   "metadata": {},
   "outputs": [],
   "source": [
    "# df[\"bucket\"].value_counts()\n",
    "# df[df.postal_3 == \"513\"]"
   ]
  },
  {
   "cell_type": "code",
   "execution_count": 174,
   "id": "5455d5c1",
   "metadata": {},
   "outputs": [],
   "source": [
    "# aaand 5 digits\n",
    "\n",
    "# Step 1: Filter unbucketed rows\n",
    "unbucketed = df[df['bucket'].isna()]\n",
    "\n",
    "# Step 2: Count 5-digit codes with count > MAX_BUCKET_SIZE\n",
    "large_postal_5 = unbucketed['postal_clean'].value_counts()\n",
    "splittable_postals = large_postal_5[large_postal_5 > MAX_BUCKET_SIZE]\n",
    "\n",
    "# Step 3: Loop through each splittable group\n",
    "for postal_code, count in splittable_postals.items():\n",
    "    # Step 3a: Try all possible k values that yield valid bucket sizes\n",
    "    valid_ks = [\n",
    "        k for k in range(1, count + 1)\n",
    "        if MIN_BUCKET_SIZE <= count / k <= MAX_BUCKET_SIZE\n",
    "    ]\n",
    "\n",
    "    if not valid_ks:\n",
    "        continue  # skip if no valid split possible\n",
    "\n",
    "    # Step 3b: Choose the k with the most even splits\n",
    "    best_k = min(\n",
    "        valid_ks,\n",
    "        key=lambda k: max([len(g) for g in np.array_split(np.arange(count), k)]) -\n",
    "                      min([len(g) for g in np.array_split(np.arange(count), k)])\n",
    "    )\n",
    "\n",
    "    # Step 3c: Assign bucket names to each split\n",
    "    indices = df[(df['postal_clean'] == postal_code) & (df['bucket'].isna())].index\n",
    "    for i, chunk_indices in enumerate(np.array_split(indices, best_k), start=1):\n",
    "        df.loc[chunk_indices, 'bucket'] = f\"{postal_code}_{i}\"\n"
   ]
  },
  {
   "cell_type": "code",
   "execution_count": 176,
   "id": "8bb8f294",
   "metadata": {},
   "outputs": [],
   "source": [
    "# df[df['bucket'].isna()].count()\n",
    "# There is 16260 komisjas left"
   ]
  },
  {
   "cell_type": "code",
   "execution_count": 177,
   "id": "c16b962e",
   "metadata": {},
   "outputs": [],
   "source": [
    "# df[df['bucket'].notna()].count()\n",
    "# we assigned 15367"
   ]
  },
  {
   "cell_type": "code",
   "execution_count": 178,
   "id": "8fc2d151",
   "metadata": {},
   "outputs": [],
   "source": [
    "leftovers = df[df['bucket'].isna()].copy()\n",
    "new_bucket_counter = 1\n",
    "\n",
    "# Helper function to create chunks only if each is between MIN and MAX\n",
    "def assign_buckets_by_prefix(df, prefix_col, label_prefix):\n",
    "    global new_bucket_counter\n",
    "\n",
    "    for prefix, group in df[df['bucket'].isna()].groupby(prefix_col):\n",
    "        group_sorted = group.sort_values('postal_clean')\n",
    "        indices = group_sorted.index.tolist()\n",
    "        total = len(indices)\n",
    "\n",
    "        # Only proceed if we can make at least one full-size bucket\n",
    "        if total < MIN_BUCKET_SIZE:\n",
    "            continue\n",
    "\n",
    "        # Try to split the group into chunks of valid size\n",
    "        for k in range(1, total + 1):\n",
    "            avg_size = total / k\n",
    "            if MIN_BUCKET_SIZE <= avg_size <= MAX_BUCKET_SIZE:\n",
    "                chunks = np.array_split(indices, k)\n",
    "                valid = all(MIN_BUCKET_SIZE <= len(chunk) <= MAX_BUCKET_SIZE for chunk in chunks)\n",
    "                if valid:\n",
    "                    for chunk in chunks:\n",
    "                        df.loc[chunk, 'bucket'] = f\"{label_prefix}_{prefix}_{new_bucket_counter}\"\n",
    "                        new_bucket_counter += 1\n",
    "                break  # exit after successful split\n",
    "\n",
    "    return df\n",
    "\n",
    "# Apply to postal_4 first\n",
    "df = assign_buckets_by_prefix(df, 'postal_4', 'merged_p4')\n",
    "\n",
    "# Then apply to leftovers using postal_3\n",
    "df = assign_buckets_by_prefix(df, 'postal_3', 'merged_p3')\n"
   ]
  },
  {
   "cell_type": "code",
   "execution_count": null,
   "id": "7faded36",
   "metadata": {},
   "outputs": [
    {
     "data": {
      "text/plain": [
       "polling_station_id          1945\n",
       "teryt_gmina                 1945\n",
       "teryt_powiat                1945\n",
       "postal_code                 1945\n",
       "eligible_voters             1945\n",
       "ballots_cast                1945\n",
       "valid_votes                 1945\n",
       "Nawrocki                    1945\n",
       "Trzaskowski                 1945\n",
       "postal_clean                1945\n",
       "postal_clean_value_count    1945\n",
       "postal_3                    1945\n",
       "postal_3_value_count        1945\n",
       "bucket                         0\n",
       "postal_4                    1945\n",
       "postal_4_value_count        1945\n",
       "dtype: int64"
      ]
     },
     "execution_count": 182,
     "metadata": {},
     "output_type": "execute_result"
    }
   ],
   "source": [
    "df[df.bucket.isna()].count()"
   ]
  },
  {
   "cell_type": "code",
   "execution_count": 184,
   "id": "b463ff28",
   "metadata": {},
   "outputs": [],
   "source": [
    "df['postal_2'] = df['postal_clean'].astype(str).str[:2]\n",
    "df = assign_buckets_by_prefix(df, 'postal_2', 'merged_p2')"
   ]
  },
  {
   "cell_type": "code",
   "execution_count": 187,
   "id": "5770e051",
   "metadata": {},
   "outputs": [
    {
     "data": {
      "text/plain": [
       "polling_station_id          361\n",
       "teryt_gmina                 361\n",
       "teryt_powiat                361\n",
       "postal_code                 361\n",
       "eligible_voters             361\n",
       "ballots_cast                361\n",
       "valid_votes                 361\n",
       "Nawrocki                    361\n",
       "Trzaskowski                 361\n",
       "postal_clean                361\n",
       "postal_clean_value_count    361\n",
       "postal_3                    361\n",
       "postal_3_value_count        361\n",
       "bucket                        0\n",
       "postal_4                    361\n",
       "postal_4_value_count        361\n",
       "postal_2                    361\n",
       "dtype: int64"
      ]
     },
     "execution_count": 187,
     "metadata": {},
     "output_type": "execute_result"
    }
   ],
   "source": [
    "df[df.bucket.isna()].count()"
   ]
  },
  {
   "cell_type": "code",
   "execution_count": 188,
   "id": "31bd4576",
   "metadata": {},
   "outputs": [],
   "source": [
    "leftovers = df[df['bucket'].isna()].sort_values('postal_clean')\n",
    "indices = leftovers.index.tolist()\n",
    "total = len(indices)\n",
    "\n",
    "# Try to split into balanced buckets\n",
    "for k in range(1, total + 1):\n",
    "    avg_size = total / k\n",
    "    if MIN_BUCKET_SIZE <= avg_size <= MAX_BUCKET_SIZE:\n",
    "        chunks = np.array_split(indices, k)\n",
    "        if all(MIN_BUCKET_SIZE <= len(chunk) <= MAX_BUCKET_SIZE for chunk in chunks):\n",
    "            for i, chunk in enumerate(chunks, start=1):\n",
    "                df.loc[chunk, 'bucket'] = f\"merged_final_{i}\"\n",
    "        break"
   ]
  },
  {
   "cell_type": "code",
   "execution_count": 192,
   "id": "0d1dffc3",
   "metadata": {},
   "outputs": [],
   "source": [
    "# df[df.bucket.isna()].count()\n",
    "# NO LEFTOVERS"
   ]
  },
  {
   "cell_type": "code",
   "execution_count": 193,
   "id": "c7980d57",
   "metadata": {},
   "outputs": [
    {
     "data": {
      "text/plain": [
       "2518"
      ]
     },
     "execution_count": 193,
     "metadata": {},
     "output_type": "execute_result"
    }
   ],
   "source": [
    "# how many buckets do we have?\n",
    "df['bucket'].nunique()"
   ]
  },
  {
   "cell_type": "code",
   "execution_count": null,
   "id": "fe1933b5",
   "metadata": {},
   "outputs": [],
   "source": []
  }
 ],
 "metadata": {
  "kernelspec": {
   "display_name": "venv",
   "language": "python",
   "name": "python3"
  },
  "language_info": {
   "codemirror_mode": {
    "name": "ipython",
    "version": 3
   },
   "file_extension": ".py",
   "mimetype": "text/x-python",
   "name": "python",
   "nbconvert_exporter": "python",
   "pygments_lexer": "ipython3",
   "version": "3.12.3"
  }
 },
 "nbformat": 4,
 "nbformat_minor": 5
}
