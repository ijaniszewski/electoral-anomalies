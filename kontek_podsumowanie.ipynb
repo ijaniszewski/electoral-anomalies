{
 "cells": [
  {
   "cell_type": "markdown",
   "id": "c54a3ebe",
   "metadata": {},
   "source": [
    "### zastosowanie metod dra Kontka - podsumowanie"
   ]
  },
  {
   "cell_type": "markdown",
   "id": "270dae9c",
   "metadata": {},
   "source": [
    "W notatniku `kontek.ipynb` zastosowano [metody zaproponowane przez dr. Kontka](https://papers.ssrn.com/sol3/papers.cfm?abstract_id=5296441) wraz z komentarzami i wątpliwościami.\n",
    "\n",
    "W szczególności zwrócono uwagę na trzy kwestie:\n",
    "\n",
    "* Wykrywanie outlierów: Za potencjalne obserwacje odstające należy uznać przypadki, w których w jednej komisji zaobserowano np minimum 3/4 - a nie tylko jedną. Wyjątkiem moze byc mniejsza liczba głosów w drugiej rundzie, co od razu wydaje się bardzo podejrzane. Tego rodzaju przypadki powinny być wychwytywane już na etapie wprowadzania danych do systemu\n",
    "\n",
    "* Clustrowanie po kodach pocztowych: Choć intuicyjne, może być w niektórych przypadkach nietrafione — kody pocztowe nie zawsze dobrze odwzorowują rzeczywiste granice geograficzne czy społeczne. Dodatkowo, nie usunięto komisji o bardzo specyficznym charakterze (szpitale, domy pomocy społecznej, areszty śledcze, zakłady karne czy komisje zagraniczne) - których wyniki mogą odbiegać od \"typowej\" komisji\n",
    "\n",
    "* Jednostronność analizy: Autor analizuje tylko jedną stronę — i takie podejście tłumaczy \"brakiem czasu\". Jednak — jak pokazano w niniejszym kodzie — rozszerzenie analizy na przypadki odwrotne lub inne lata nie wymagało istotnie większego nakładu pracy. Trudno więc oprzeć się wrażeniu, że wybór ten był przynajmniej częściowo celowy, co stawia pod znakiem zapytania obiektywność całej analizy\n",
    "\n",
    "Mimo wspomnianych zastrzeżeń, zaproponowane metody są interesujące i — po niewielkim dostosowaniu — mogą być bardzo użyteczne w praktyce, zwłaszcza przy okazji kolejnych wyborów. Przykładowe zastosowania to:\n",
    "\n",
    "* automatyczne ostrzeganie podczas wprowadzania wyników do systemu, gdy dane z danej komisji znacząco odbiegają od wzorca grupy;\n",
    "\n",
    "* analiza po zakończeniu głosowania, służąca do wskazania kilku komisji, które warto objąć dodatkową weryfikacją lub ponownym przeliczeniem głosów.\n",
    "\n",
    "Takie podejścia mogą realnie zwiększyć wiarygodność procesu wyborczego, przy jednoczesnym zachowaniu szacunku dla jego demokratycznych fundamentów.\n",
    "\n",
    "Dla porównania, w plikach `kontek_2020` oraz `kontek_2015` zaimplementowano te same algorytmy, lecz na danych z lat odpowiednio 2020 i 2015.\n",
    "\n",
    "Tutaj chciałbym tylko porównać te wyniki\n"
   ]
  },
  {
   "cell_type": "code",
   "execution_count": 3,
   "id": "c5df2a60",
   "metadata": {},
   "outputs": [],
   "source": [
    "# ustalamy k na poziomie 2\n",
    "k = 2"
   ]
  },
  {
   "cell_type": "markdown",
   "id": "700991cd",
   "metadata": {
    "vscode": {
     "languageId": "plaintext"
    }
   },
   "source": [
    "### 1. Nadmierne poparcie dla kandydata A (względem mediany w ramach lokalnej grupy)"
   ]
  },
  {
   "cell_type": "markdown",
   "id": "c3d4ddd8",
   "metadata": {},
   "source": [
    "| Rok  | Kandydat        | Liczba anomalii |\n",
    "|------|------------------|------------------|\n",
    "| 2025 | Trzaskowski      | 4551             |\n",
    "| 2025 | Nawrocki         | 3750             |\n",
    "| 2020 | Trzaskowski      | 3430             |\n",
    "| 2020 | Duda             | 2893             |\n",
    "| 2015 | Komorowski       | 3206             |\n",
    "| 2015 | Duda             | 2928             |"
   ]
  },
  {
   "cell_type": "markdown",
   "id": "b14279ae",
   "metadata": {},
   "source": [
    "### 2. Nadmierny względny wzrost poparcia dla kandydata A między pierwszą a drugą turą, w porównaniu do odpowiedniego wzrostu poparcia dla kandydata B o w tej samej grupie lokalnej;"
   ]
  },
  {
   "cell_type": "markdown",
   "id": "2154e7e4",
   "metadata": {},
   "source": [
    "| Rok  | Kandydat        | Liczba anomalii |\n",
    "|------|------------------|------------------|\n",
    "| 2025 | Trzaskowski      | 3552             |\n",
    "| 2025 | Nawrocki         | 3127             |\n",
    "| 2020 | Trzaskowski      | 3795             |\n",
    "| 2020 | Duda             | 1863             |\n",
    "| 2015 | Komorowski       | 2754             |\n",
    "| 2015 | Duda             | 3074             |"
   ]
  },
  {
   "cell_type": "markdown",
   "id": "dd497141",
   "metadata": {},
   "source": [
    "### 3. Komisje, w których kandydat A uzyskał więcej głosów niż kandydat B w drugiej turze, mimo że mediana wyników w grupie wskazywała na przewagę kandydata B;"
   ]
  },
  {
   "cell_type": "markdown",
   "id": "38e93f20",
   "metadata": {},
   "source": [
    "| Rok  | Kandydat        | Liczba anomalii |\n",
    "|------|------------------|------------------|\n",
    "| 2025 | Trzaskowski      | 1885             |\n",
    "| 2025 | Nawrocki         | 1843             |\n",
    "| 2020 | Trzaskowski      | 2608             |\n",
    "| 2020 | Duda             | 1999             |\n",
    "| 2015 | Komorowski       | 1806             |\n",
    "| 2015 | Duda             | 1750             |"
   ]
  },
  {
   "cell_type": "markdown",
   "id": "ef427e22",
   "metadata": {},
   "source": [
    "### 4. Kandydat otrzymał mniej głosów w drugiej turze niż w pierwszej"
   ]
  },
  {
   "cell_type": "markdown",
   "id": "c325ddd8",
   "metadata": {},
   "source": [
    "| Rok  | Kandydat        | Liczba anomalii |\n",
    "|------|------------------|------------------|\n",
    "| 2025 | Trzaskowski      | 128              |\n",
    "| 2025 | Nawrocki         | 112             |\n",
    "| 2020 | Trzaskowski      | 106              |\n",
    "| 2020 | Duda             | 284              |\n",
    "| 2015 | Komorowski       | 286              |\n",
    "| 2015 | Duda             | 93               |"
   ]
  },
  {
   "cell_type": "markdown",
   "id": "9dcffb40",
   "metadata": {},
   "source": [
    "### Sumowanie anomalii"
   ]
  },
  {
   "cell_type": "markdown",
   "id": "6d7cd0c5",
   "metadata": {},
   "source": [
    "\n",
    "Liczba komisji z minimum jedną lub ze wszystkimi czterema anomaliami\n",
    "\n",
    "\n",
    "| Rok  | Kandydat     | 1 anomalia | 2 anomalie | 3 anomalie | 4 anomalie |\n",
    "|------|--------------|------------|------------|------------|------------|\n",
    "| 2025 | Trzaskowski  | 8161       | 1179       | 34         | 3          |\n",
    "| 2025 | Nawrocki     | 6871       | 483        | 34         | 2          |\n",
    "| 2020 | Trzaskowski  | 8406       | 962        | 24         | 2          |\n",
    "| 2020 | Duda         | 6243       | 571        | 47         | 0          |\n",
    "| 2015 | Komorowski   | 7073       | 756        | 30         | 0          |\n",
    "| 2015 | Duda         | 7124       | 842        | 71         | 1          |\n"
   ]
  },
  {
   "cell_type": "markdown",
   "id": "b535e3ac",
   "metadata": {},
   "source": [
    "### Komentarz\n",
    "Jak widać, wyniki z roku 2025 nie odbiegają istotnie od danych z lat wcześniejszych. Rozkład liczby anomalii — niezależnie od kandydata — pozostaje na porównywalnym poziomie w każdej analizowanej elekcji.\n",
    "\n",
    "Oczywiście nie oznacza to, że błędy nie występują. Przy ponad 32 tysiącach komisji wyborczych, ludzki błąd oraz statystyczne odchylenia są nieuniknione. To naturalny element każdego dużego procesu organizacyjnego.\n",
    "\n",
    "Warto jednak zaznaczyć, że [liczba komisji wyborczych się zmienia](https://demagog.org.pl/wypowiedzi/protesty-wyborcze-czy-wzrost-liczby-komisji-ma-znaczenie/), co oznacza, że nie powinniśmy porównywać wyników nominalnie. Większa liczba komisji to większa skala operacji i naturalnie większa liczba miejsc, w których może dojść do błędu — bez względu na intencje.\n",
    "\n",
    "Nie powinniśmy jednak na podstawie jednostkowych przypadków tracić zaufania do instytucji państwowych ani podważać fundamentów demokracji. Wyciąganie ogólnych wniosków na podstawie kilku obserwacji może prowadzić do niepotrzebnej polaryzacji i chaosu informacyjnego.\n",
    "\n",
    "To, co możemy i powinniśmy robić, to stale udoskonalać systemy liczenia i rejestrowania głosów — zarówno po stronie technicznej (informatycznej), jak i organizacyjnej, by minimalizować ryzyko pomyłek i zwiększać przejrzystość procesu."
   ]
  }
 ],
 "metadata": {
  "kernelspec": {
   "display_name": "venv",
   "language": "python",
   "name": "python3"
  },
  "language_info": {
   "codemirror_mode": {
    "name": "ipython",
    "version": 3
   },
   "file_extension": ".py",
   "mimetype": "text/x-python",
   "name": "python",
   "nbconvert_exporter": "python",
   "pygments_lexer": "ipython3",
   "version": "3.13.4"
  }
 },
 "nbformat": 4,
 "nbformat_minor": 5
}
