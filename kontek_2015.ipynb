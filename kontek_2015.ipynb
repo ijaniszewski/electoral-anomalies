{
 "cells": [
  {
   "cell_type": "markdown",
   "metadata": {},
   "source": [
    "Zastosowane 4 metody dra Kontka dla danych z 2015 roku (Duda & Komorowski)"
   ]
  },
  {
   "cell_type": "code",
   "execution_count": 1,
   "metadata": {},
   "outputs": [],
   "source": [
    "import pandas as pd\n",
    "import re\n",
    "import os\n",
    "import numpy as np\n",
    "from scipy.stats import median_abs_deviation\n",
    "\n",
    "from src.utilities import presidential_data\n",
    "from src.utilities import kontek_clustering as clustering\n",
    "from src.utilities import kontek_methods as methods"
   ]
  },
  {
   "cell_type": "markdown",
   "metadata": {},
   "source": [
    "### load data"
   ]
  },
  {
   "cell_type": "code",
   "execution_count": 25,
   "metadata": {},
   "outputs": [],
   "source": [
    "year = \"2015\"\n",
    "ext = \"xls\"\n",
    "df_2015_r1 = presidential_data.get_df(year, \"1\", ext)\n",
    "\n",
    "\n",
    "df_2015_r2 = presidential_data.load_data(year, \"2\", ext)\n",
    "df_2015_r2 = df_2015_r2.rename(columns={\n",
    "    \"Teryt Gminy\": \"teryt_gmina\",\n",
    "    \"Numer obwodu\": \"polling_station_id\"\n",
    "})\n",
    "\n",
    "# In 2015 round 2 data there is no postal code, so we need to join it to round 1\n",
    "df_2015_r2 = df_2015_r2.merge(\n",
    "    df_2015_r1[[\"teryt_gmina\", \"polling_station_id\", \"postal_code\"]],\n",
    "    on=[\"teryt_gmina\", \"polling_station_id\"],\n",
    "    how=\"left\"\n",
    ")\n",
    "df_2015_r2 = presidential_data.process_df(df_2015_r2, year)"
   ]
  },
  {
   "cell_type": "markdown",
   "metadata": {},
   "source": [
    "------------"
   ]
  },
  {
   "cell_type": "markdown",
   "metadata": {},
   "source": [
    "### IMPLEMENTACJA METOD ZAPROPONOWANYCH PRZEZ DR KONTKA\n",
    "\n",
    "https://papers.ssrn.com/sol3/papers.cfm?abstract_id=5296441\n",
    "\n",
    "2.3. Wykrywanie wartości odstających\n",
    "\n",
    "Główna innowacja analityczna niniejszego badania polega na oszacowaniu potencjalnego wpływu\n",
    "anormalnych komisji wyborczych na poziomie ogólnokrajowym. Aby to osiągnąć, w pierwszej\n",
    "kolejności zidentyfikowano wartości odstające w czterech kategoriach nieprawidłowości:"
   ]
  },
  {
   "cell_type": "code",
   "execution_count": 50,
   "metadata": {},
   "outputs": [],
   "source": [
    "cand_A = \"komorowski\"\n",
    "cand_B = \"duda\"\n",
    "\n",
    "df_2015 = presidential_data.join_both_rounds(cand_A, cand_B, df_2015_r1, df_2015_r2)"
   ]
  },
  {
   "cell_type": "code",
   "execution_count": 54,
   "metadata": {},
   "outputs": [],
   "source": [
    "# Add buckets\n",
    "df_2015 = clustering.add_bialek_postal_buckets(df_2015)"
   ]
  },
  {
   "cell_type": "markdown",
   "metadata": {},
   "source": [
    "### 1. Nadmierne poparcie dla Andrzeja Dudy (względem mediany w ramach lokalnej grupy)"
   ]
  },
  {
   "cell_type": "code",
   "execution_count": 56,
   "metadata": {},
   "outputs": [],
   "source": [
    "df = df_2015.copy()"
   ]
  },
  {
   "cell_type": "markdown",
   "metadata": {},
   "source": [
    "2.4 Przeliczenie wyników\n",
    "\n",
    "Aby uwzględnić niepewność i wrażliwość zastosowanego podejścia, obliczenia przeprowadzono dla\n",
    "trzech różnych progów detekcji wartości odstających: k > 2.0, k > 2.5 oraz k > 3.0, gdzie k oznacza\n",
    "liczbę jednostek odchylenia bezwzględnego od mediany (MAD) względem mediany w grupie\n",
    "lokalnej. Wyższe wartości k wyodrębniają jedynie najbardziej skrajne przypadki, zapewniając tym\n",
    "samym konserwatywną estymację potencjalnego wpływu. Jednocześnie jednak ograniczają zdolność\n",
    "metody do wychwytywania mniejszych, lecz wciąż istotnych odchyleń."
   ]
  },
  {
   "cell_type": "code",
   "execution_count": 57,
   "metadata": {},
   "outputs": [],
   "source": [
    "# Let's set k = 2\n",
    "k = 2"
   ]
  },
  {
   "cell_type": "code",
   "execution_count": 58,
   "metadata": {},
   "outputs": [],
   "source": [
    "df = methods.add_anomaly_1(df, cand_A, cand_B, k=k, new_col_name=\"anomaly_1\")"
   ]
  },
  {
   "cell_type": "code",
   "execution_count": 59,
   "metadata": {},
   "outputs": [
    {
     "name": "stdout",
     "output_type": "stream",
     "text": [
      "k > 2.0\n",
      "komorowski: 3206\n",
      "duda: 2928\n",
      "---\n",
      "k > 2.5\n",
      "komorowski: 2298\n",
      "duda: 2038\n",
      "---\n",
      "k > 3.0\n",
      "komorowski: 1718\n",
      "duda: 1464\n",
      "---\n"
     ]
    }
   ],
   "source": [
    "methods.check_k_thresholds(df, cand_A, cand_B, \"_k_score_1\")"
   ]
  },
  {
   "cell_type": "markdown",
   "metadata": {},
   "source": [
    "Wyniki:\n",
    "\n",
    "Dla k=2, takich komisji, w których \"za duże\" poparcie ma Duda jest 2928 a Komorowski 3206\n",
    "\n",
    "2025: 3750 i 4551 \n",
    "\n",
    "2020: 2893 i 3430\n"
   ]
  },
  {
   "cell_type": "code",
   "execution_count": 60,
   "metadata": {},
   "outputs": [],
   "source": [
    "# drop k_score columns\n",
    "# should be done in add_anomaly func, but to show different anomaly results based on k\n",
    "\n",
    "df = df.drop(columns=[\n",
    "    f\"{cand_A}_k_score_1\",\n",
    "    f\"{cand_B}_k_score_1\"\n",
    "])"
   ]
  },
  {
   "cell_type": "markdown",
   "metadata": {},
   "source": [
    "### 2. Nadmierny względny wzrost poparcia dla Andrzeja Dudy między pierwszą a drugą turą, w porównaniu do odpowiedniego wzrostu poparcia dla Bronislawa Komorowskiego w tej samej grupie lokalnej;"
   ]
  },
  {
   "cell_type": "markdown",
   "metadata": {},
   "source": [
    "za JB: \n",
    "\n",
    "Nie podano wprost jak to było obliczone więc kolejno:\n",
    "\n",
    "  1. Dla danego kandydata obliczam względny wzrost między pierwszą a drugą turą (dzieląc wynik z drugiej przez wynik z pierwszej)\n",
    "  2. Następnie odnoszę go do wzrostu drugiego kandydata - liczę różnicę między względnymi wzrostami.\n",
    "  3. Dalej tak jak w pierwszym typie anomalii - dla tych różnic liczę medianę grupy, MAD grupy oraz odchylenie k w komisji."
   ]
  },
  {
   "cell_type": "code",
   "execution_count": 61,
   "metadata": {},
   "outputs": [],
   "source": [
    "df = methods.add_anomaly_2(df, cand_A, cand_B, k=k, new_col_name=\"anomaly_2\")"
   ]
  },
  {
   "cell_type": "code",
   "execution_count": 62,
   "metadata": {},
   "outputs": [
    {
     "name": "stdout",
     "output_type": "stream",
     "text": [
      "k > 2.0\n",
      "komorowski: 2754\n",
      "duda: 3074\n",
      "---\n",
      "k > 2.5\n",
      "komorowski: 1950\n",
      "duda: 2262\n",
      "---\n",
      "k > 3.0\n",
      "komorowski: 1464\n",
      "duda: 1707\n",
      "---\n"
     ]
    }
   ],
   "source": [
    "methods.check_k_thresholds(df, cand_A, cand_B, \"_k_score_2\")"
   ]
  },
  {
   "cell_type": "markdown",
   "metadata": {},
   "source": [
    "k > 2.0\n",
    "\n",
    "2025:\n",
    "trzaskowski: 3552\n",
    "nawrocki: 3127\n",
    "\n",
    "2020:\n",
    "trzaskowski: 3795\n",
    "duda: 1863\n",
    "\n"
   ]
  },
  {
   "cell_type": "code",
   "execution_count": 63,
   "metadata": {},
   "outputs": [],
   "source": [
    "df = df.drop(columns=[\n",
    "    f\"{cand_A}_k_score_2\",\n",
    "    f\"{cand_B}_k_score_2\"\n",
    "])"
   ]
  },
  {
   "cell_type": "markdown",
   "metadata": {},
   "source": [
    "### 3. Komisje, w których Duda uzyskał więcej głosów niż Komorowski w drugiej turze, mimo że mediana wyników w grupie wskazywała na przewagę Komorowskiego;"
   ]
  },
  {
   "cell_type": "markdown",
   "metadata": {},
   "source": [
    "  1. Sprawdzamy, w których grupach dany kandydat miał większą medianę\n",
    "  2. Sumujemy komisje, w których wygrał kandydat A mimo, że większą medianę miał kandydat B i na odwrót."
   ]
  },
  {
   "cell_type": "code",
   "execution_count": 64,
   "metadata": {},
   "outputs": [],
   "source": [
    "df = methods.add_anomaly_3(df, cand_A, cand_B, k=2, new_col_name=\"anomaly_3\")"
   ]
  },
  {
   "cell_type": "code",
   "execution_count": 65,
   "metadata": {},
   "outputs": [
    {
     "data": {
      "text/plain": [
       "('komorowski', 1806)"
      ]
     },
     "execution_count": 65,
     "metadata": {},
     "output_type": "execute_result"
    }
   ],
   "source": [
    "# na korzyść kandydat A, czyli większą medianę miał B, a więcej głosów dostał A.\n",
    "cand_A, sum(df['higher_median_' + cand_B] & (df[cand_A + '_r2'] > df[cand_B + '_r2']))"
   ]
  },
  {
   "cell_type": "markdown",
   "metadata": {},
   "source": [
    "vs 2025:\n",
    "\n",
    "('trzaskowski', 2608)\n",
    "\n",
    "2020:\n",
    "\n",
    "('trzaskowski', 1885)"
   ]
  },
  {
   "cell_type": "code",
   "execution_count": 66,
   "metadata": {},
   "outputs": [
    {
     "data": {
      "text/plain": [
       "('duda', 1750)"
      ]
     },
     "execution_count": 66,
     "metadata": {},
     "output_type": "execute_result"
    }
   ],
   "source": [
    "cand_B, sum(df['higher_median_' + cand_A] & (df[cand_B + '_r2'] > df[cand_A + '_r2']))"
   ]
  },
  {
   "cell_type": "markdown",
   "metadata": {},
   "source": [
    "vs 2025:\n",
    "\n",
    "('nawrocki', 1843)\n",
    "\n",
    "2020:\n",
    "\n",
    "('duda', 1999)"
   ]
  },
  {
   "cell_type": "markdown",
   "metadata": {},
   "source": [
    "**WYNIKI**:\n",
    "\n",
    "W grupach, w których większą medianę miał Duda, było 1750 komisji, w których wyższy wynik uzyskał Trzaskowski.\n",
    "\n",
    "W grupach, w których większą medianę miał Trzaskowski, było 1806 komisji, w których wyższy wyniki uzyskał Nawrocki.\n"
   ]
  },
  {
   "cell_type": "code",
   "execution_count": 67,
   "metadata": {},
   "outputs": [],
   "source": [
    "df = df.drop(columns=[\n",
    "    f\"higher_median_{cand_A}\",\n",
    "    f\"higher_median_{cand_B}\"\t\n",
    "])"
   ]
  },
  {
   "cell_type": "markdown",
   "metadata": {},
   "source": [
    "### 4. Kandydat otrzymał mniej głosów w drugiej turze niż w pierwszej"
   ]
  },
  {
   "cell_type": "code",
   "execution_count": 68,
   "metadata": {},
   "outputs": [
    {
     "data": {
      "text/plain": [
       "('komorowski', 286)"
      ]
     },
     "execution_count": 68,
     "metadata": {},
     "output_type": "execute_result"
    }
   ],
   "source": [
    "cand_A, sum(df[cand_A + '_r2']<df[cand_A + '_r1'])"
   ]
  },
  {
   "cell_type": "markdown",
   "metadata": {},
   "source": [
    "vs 2025:\n",
    "\n",
    "('trzaskowski', 128)\n",
    "\n",
    "2020:\n",
    "\n",
    "('trzaskowski', 106)"
   ]
  },
  {
   "cell_type": "markdown",
   "metadata": {},
   "source": [
    "W 286 komisjach Komorowski uzyskał mniej głosów w drugiej turze niż w pierwszej."
   ]
  },
  {
   "cell_type": "code",
   "execution_count": 69,
   "metadata": {},
   "outputs": [
    {
     "data": {
      "text/plain": [
       "('duda', 93)"
      ]
     },
     "execution_count": 69,
     "metadata": {},
     "output_type": "execute_result"
    }
   ],
   "source": [
    "cand_B, sum(df[cand_B + '_r2']<df[cand_B + '_r1'])"
   ]
  },
  {
   "cell_type": "markdown",
   "metadata": {},
   "source": [
    "vs 2025:\n",
    "\n",
    "('nawrocki', 112)\n",
    "\n",
    "vs 2020:\n",
    "\n",
    "('duda', 284)"
   ]
  },
  {
   "cell_type": "markdown",
   "metadata": {},
   "source": [
    "W 93 komisjach Duda uzyskał mniej głosów w drugiej turze niż w pierwszej."
   ]
  },
  {
   "cell_type": "markdown",
   "metadata": {},
   "source": [
    "\n",
    "Przykładowe anomalie na korzyść Komorowskiego:"
   ]
  },
  {
   "cell_type": "code",
   "execution_count": 70,
   "metadata": {},
   "outputs": [
    {
     "data": {
      "text/html": [
       "<div>\n",
       "<style scoped>\n",
       "    .dataframe tbody tr th:only-of-type {\n",
       "        vertical-align: middle;\n",
       "    }\n",
       "\n",
       "    .dataframe tbody tr th {\n",
       "        vertical-align: top;\n",
       "    }\n",
       "\n",
       "    .dataframe thead th {\n",
       "        text-align: right;\n",
       "    }\n",
       "</style>\n",
       "<table border=\"1\" class=\"dataframe\">\n",
       "  <thead>\n",
       "    <tr style=\"text-align: right;\">\n",
       "      <th></th>\n",
       "      <th>teryt_gmina</th>\n",
       "      <th>polling_station_id</th>\n",
       "      <th>komorowski_r1</th>\n",
       "      <th>duda_r1</th>\n",
       "      <th>postal_code</th>\n",
       "      <th>komorowski_r2</th>\n",
       "      <th>duda_r2</th>\n",
       "      <th>postal_clean</th>\n",
       "      <th>bucket</th>\n",
       "      <th>komorowski_anomaly_1</th>\n",
       "      <th>duda_anomaly_1</th>\n",
       "      <th>komorowski_anomaly_2</th>\n",
       "      <th>duda_anomaly_2</th>\n",
       "      <th>komorowski_anomaly_3</th>\n",
       "      <th>duda_anomaly_3</th>\n",
       "    </tr>\n",
       "  </thead>\n",
       "  <tbody>\n",
       "    <tr>\n",
       "      <th>1486</th>\n",
       "      <td>22605</td>\n",
       "      <td>1</td>\n",
       "      <td>71</td>\n",
       "      <td>114</td>\n",
       "      <td>59-516</td>\n",
       "      <td>196</td>\n",
       "      <td>112</td>\n",
       "      <td>59516</td>\n",
       "      <td>2316</td>\n",
       "      <td>False</td>\n",
       "      <td>False</td>\n",
       "      <td>True</td>\n",
       "      <td>False</td>\n",
       "      <td>True</td>\n",
       "      <td>False</td>\n",
       "    </tr>\n",
       "    <tr>\n",
       "      <th>12758</th>\n",
       "      <td>143406</td>\n",
       "      <td>4</td>\n",
       "      <td>88</td>\n",
       "      <td>104</td>\n",
       "      <td>05-280</td>\n",
       "      <td>169</td>\n",
       "      <td>101</td>\n",
       "      <td>05280</td>\n",
       "      <td>76</td>\n",
       "      <td>False</td>\n",
       "      <td>False</td>\n",
       "      <td>True</td>\n",
       "      <td>False</td>\n",
       "      <td>True</td>\n",
       "      <td>False</td>\n",
       "    </tr>\n",
       "    <tr>\n",
       "      <th>1273</th>\n",
       "      <td>22308</td>\n",
       "      <td>2</td>\n",
       "      <td>0</td>\n",
       "      <td>94</td>\n",
       "      <td>55-010</td>\n",
       "      <td>0</td>\n",
       "      <td>93</td>\n",
       "      <td>55010</td>\n",
       "      <td>1310</td>\n",
       "      <td>False</td>\n",
       "      <td>False</td>\n",
       "      <td>False</td>\n",
       "      <td>False</td>\n",
       "      <td>False</td>\n",
       "      <td>True</td>\n",
       "    </tr>\n",
       "    <tr>\n",
       "      <th>4773</th>\n",
       "      <td>61408</td>\n",
       "      <td>15</td>\n",
       "      <td>58</td>\n",
       "      <td>52</td>\n",
       "      <td>24-150</td>\n",
       "      <td>57</td>\n",
       "      <td>46</td>\n",
       "      <td>24150</td>\n",
       "      <td>484</td>\n",
       "      <td>False</td>\n",
       "      <td>False</td>\n",
       "      <td>False</td>\n",
       "      <td>False</td>\n",
       "      <td>True</td>\n",
       "      <td>False</td>\n",
       "    </tr>\n",
       "    <tr>\n",
       "      <th>26199</th>\n",
       "      <td>302903</td>\n",
       "      <td>22</td>\n",
       "      <td>7</td>\n",
       "      <td>51</td>\n",
       "      <td>64-200</td>\n",
       "      <td>7</td>\n",
       "      <td>50</td>\n",
       "      <td>64200</td>\n",
       "      <td>1515</td>\n",
       "      <td>False</td>\n",
       "      <td>False</td>\n",
       "      <td>False</td>\n",
       "      <td>False</td>\n",
       "      <td>False</td>\n",
       "      <td>True</td>\n",
       "    </tr>\n",
       "  </tbody>\n",
       "</table>\n",
       "</div>"
      ],
      "text/plain": [
       "       teryt_gmina  polling_station_id  komorowski_r1  duda_r1 postal_code  \\\n",
       "1486         22605                   1             71      114      59-516   \n",
       "12758       143406                   4             88      104      05-280   \n",
       "1273         22308                   2              0       94      55-010   \n",
       "4773         61408                  15             58       52      24-150   \n",
       "26199       302903                  22              7       51      64-200   \n",
       "\n",
       "       komorowski_r2  duda_r2 postal_clean  bucket  komorowski_anomaly_1  \\\n",
       "1486             196      112        59516    2316                 False   \n",
       "12758            169      101        05280      76                 False   \n",
       "1273               0       93        55010    1310                 False   \n",
       "4773              57       46        24150     484                 False   \n",
       "26199              7       50        64200    1515                 False   \n",
       "\n",
       "       duda_anomaly_1  komorowski_anomaly_2  duda_anomaly_2  \\\n",
       "1486            False                  True           False   \n",
       "12758           False                  True           False   \n",
       "1273            False                 False           False   \n",
       "4773            False                 False           False   \n",
       "26199           False                 False           False   \n",
       "\n",
       "       komorowski_anomaly_3  duda_anomaly_3  \n",
       "1486                   True           False  \n",
       "12758                  True           False  \n",
       "1273                  False            True  \n",
       "4773                   True           False  \n",
       "26199                 False            True  "
      ]
     },
     "execution_count": 70,
     "metadata": {},
     "output_type": "execute_result"
    }
   ],
   "source": [
    "df[df[cand_B + '_r2'] < df[cand_B + '_r1']].sort_values(by=cand_B + '_r1', ascending=False).head()"
   ]
  },
  {
   "cell_type": "code",
   "execution_count": 71,
   "metadata": {},
   "outputs": [],
   "source": [
    "# Anomalie na korzysc\n",
    "df[cand_A + '_anomaly_4'] = df[cand_B + '_r2']<df[cand_B + '_r1']\n",
    "df[cand_B + '_anomaly_4'] = df[cand_A + '_r2']<df[cand_A + '_r1']"
   ]
  },
  {
   "cell_type": "markdown",
   "metadata": {},
   "source": [
    "To są rzeczywiście bardzo podejrzane przypadki i o takich przypadkach powinniśmy alarmować w pierwszej kolejności. Po pierwsze, ju na etapie wprowadzania do systemu, a po drugie do ewentualnej kontroli i ponownego liczenia glosów"
   ]
  },
  {
   "cell_type": "markdown",
   "metadata": {},
   "source": [
    "## Sumowanie anomalii"
   ]
  },
  {
   "cell_type": "markdown",
   "metadata": {},
   "source": [
    "### Na korzyść Komorowskiego"
   ]
  },
  {
   "cell_type": "code",
   "execution_count": 72,
   "metadata": {},
   "outputs": [],
   "source": [
    "df[cand_A + '_sum_anomalies'] = df[[\n",
    "    cand_A + '_anomaly_1', \n",
    "    cand_A + '_anomaly_2',\n",
    "    cand_A + '_anomaly_3',\n",
    "    cand_A + '_anomaly_4']].sum(axis=1)"
   ]
  },
  {
   "cell_type": "code",
   "execution_count": 73,
   "metadata": {},
   "outputs": [
    {
     "name": "stdout",
     "output_type": "stream",
     "text": [
      "1 anomalies:\n",
      "komorowski 7073\n",
      "2 anomalies:\n",
      "komorowski 756\n",
      "3 anomalies:\n",
      "komorowski 30\n",
      "4 anomalies:\n",
      "komorowski 0\n"
     ]
    }
   ],
   "source": [
    "for number_of_anomalies in [1,2,3,4]:\n",
    "    print(f\"{number_of_anomalies} anomalies:\")\n",
    "    print(cand_A, sum(df[cand_A + '_sum_anomalies']>=number_of_anomalies))"
   ]
  },
  {
   "cell_type": "markdown",
   "metadata": {},
   "source": [
    "vs 2025:\n",
    "\n",
    "1 anomalies:\n",
    "trzaskowski 8161\n",
    "\n",
    "\n",
    "2 anomalies:\n",
    "trzaskowski 1179\n",
    "\n",
    "\n",
    "3 anomalies:\n",
    "trzaskowski 34\n",
    "\n",
    "\n",
    "4 anomalies:\n",
    "trzaskowski 3\n",
    "\n",
    "2020:\n",
    "\n",
    "1 anomalies:\n",
    "trzaskowski 8406\n",
    "\n",
    "\n",
    "2 anomalies:\n",
    "trzaskowski 962\n",
    "\n",
    "\n",
    "3 anomalies:\n",
    "trzaskowski 24\n",
    "\n",
    "\n",
    "4 anomalies:\n",
    "trzaskowski 2"
   ]
  },
  {
   "cell_type": "code",
   "execution_count": 75,
   "metadata": {},
   "outputs": [
    {
     "data": {
      "text/html": [
       "<div>\n",
       "<style scoped>\n",
       "    .dataframe tbody tr th:only-of-type {\n",
       "        vertical-align: middle;\n",
       "    }\n",
       "\n",
       "    .dataframe tbody tr th {\n",
       "        vertical-align: top;\n",
       "    }\n",
       "\n",
       "    .dataframe thead th {\n",
       "        text-align: right;\n",
       "    }\n",
       "</style>\n",
       "<table border=\"1\" class=\"dataframe\">\n",
       "  <thead>\n",
       "    <tr style=\"text-align: right;\">\n",
       "      <th></th>\n",
       "      <th>teryt_gmina</th>\n",
       "      <th>polling_station_id</th>\n",
       "      <th>komorowski_r1</th>\n",
       "      <th>duda_r1</th>\n",
       "      <th>postal_code</th>\n",
       "      <th>komorowski_r2</th>\n",
       "      <th>duda_r2</th>\n",
       "      <th>postal_clean</th>\n",
       "      <th>bucket</th>\n",
       "      <th>komorowski_anomaly_1</th>\n",
       "      <th>duda_anomaly_1</th>\n",
       "      <th>komorowski_anomaly_2</th>\n",
       "      <th>duda_anomaly_2</th>\n",
       "      <th>komorowski_anomaly_3</th>\n",
       "      <th>duda_anomaly_3</th>\n",
       "      <th>komorowski_anomaly_4</th>\n",
       "      <th>duda_anomaly_4</th>\n",
       "      <th>komorowski_sum_anomalies</th>\n",
       "    </tr>\n",
       "  </thead>\n",
       "  <tbody>\n",
       "  </tbody>\n",
       "</table>\n",
       "</div>"
      ],
      "text/plain": [
       "Empty DataFrame\n",
       "Columns: [teryt_gmina, polling_station_id, komorowski_r1, duda_r1, postal_code, komorowski_r2, duda_r2, postal_clean, bucket, komorowski_anomaly_1, duda_anomaly_1, komorowski_anomaly_2, duda_anomaly_2, komorowski_anomaly_3, duda_anomaly_3, komorowski_anomaly_4, duda_anomaly_4, komorowski_sum_anomalies]\n",
       "Index: []"
      ]
     },
     "execution_count": 75,
     "metadata": {},
     "output_type": "execute_result"
    }
   ],
   "source": [
    "# Nie ma komisji z wszystkimi 4 anomaliami\n",
    "df[df[cand_A + '_sum_anomalies']>=4]"
   ]
  },
  {
   "cell_type": "markdown",
   "metadata": {},
   "source": [
    "### Na korzyść Dudy"
   ]
  },
  {
   "cell_type": "code",
   "execution_count": 76,
   "metadata": {},
   "outputs": [],
   "source": [
    "df[cand_B + '_sum_anomalies'] = df[[\n",
    "    cand_B + '_anomaly_1', \n",
    "    cand_B + '_anomaly_2',\n",
    "    cand_B + '_anomaly_3',\n",
    "    cand_B + '_anomaly_4']].sum(axis=1)"
   ]
  },
  {
   "cell_type": "code",
   "execution_count": 77,
   "metadata": {},
   "outputs": [
    {
     "name": "stdout",
     "output_type": "stream",
     "text": [
      "1 anomalies:\n",
      "duda 7124\n",
      "2 anomalies:\n",
      "duda 842\n",
      "3 anomalies:\n",
      "duda 71\n",
      "4 anomalies:\n",
      "duda 1\n"
     ]
    }
   ],
   "source": [
    "for number_of_anomalies in [1,2,3,4]:\n",
    "    print(f\"{number_of_anomalies} anomalies:\")\n",
    "    print(cand_B, sum(df[cand_B + '_sum_anomalies']>=number_of_anomalies))"
   ]
  },
  {
   "cell_type": "markdown",
   "metadata": {},
   "source": [
    "vs 2025:\n",
    "\n",
    "1 anomalies:\n",
    "nawrocki 6871\n",
    "\n",
    "\n",
    "2 anomalies:\n",
    "nawrocki 483\n",
    "\n",
    "\n",
    "3 anomalies:\n",
    "nawrocki 34\n",
    "\n",
    "\n",
    "4 anomalies:\n",
    "nawrocki 2\n",
    "\n",
    "vs 2020:\n",
    "\n",
    "1 anomalies:\n",
    "duda 6243\n",
    "\n",
    "\n",
    "2 anomalies:\n",
    "duda 571\n",
    "\n",
    "\n",
    "3 anomalies:\n",
    "duda 47\n",
    "\n",
    "\n",
    "4 anomalies:\n",
    "duda 0\n",
    "\n"
   ]
  },
  {
   "cell_type": "code",
   "execution_count": 79,
   "metadata": {},
   "outputs": [
    {
     "data": {
      "text/html": [
       "<div>\n",
       "<style scoped>\n",
       "    .dataframe tbody tr th:only-of-type {\n",
       "        vertical-align: middle;\n",
       "    }\n",
       "\n",
       "    .dataframe tbody tr th {\n",
       "        vertical-align: top;\n",
       "    }\n",
       "\n",
       "    .dataframe thead th {\n",
       "        text-align: right;\n",
       "    }\n",
       "</style>\n",
       "<table border=\"1\" class=\"dataframe\">\n",
       "  <thead>\n",
       "    <tr style=\"text-align: right;\">\n",
       "      <th></th>\n",
       "      <th>teryt_gmina</th>\n",
       "      <th>polling_station_id</th>\n",
       "      <th>komorowski_r1</th>\n",
       "      <th>duda_r1</th>\n",
       "      <th>postal_code</th>\n",
       "      <th>komorowski_r2</th>\n",
       "      <th>duda_r2</th>\n",
       "      <th>postal_clean</th>\n",
       "      <th>bucket</th>\n",
       "      <th>komorowski_anomaly_1</th>\n",
       "      <th>duda_anomaly_1</th>\n",
       "      <th>komorowski_anomaly_2</th>\n",
       "      <th>duda_anomaly_2</th>\n",
       "      <th>komorowski_anomaly_3</th>\n",
       "      <th>duda_anomaly_3</th>\n",
       "      <th>komorowski_anomaly_4</th>\n",
       "      <th>duda_anomaly_4</th>\n",
       "      <th>komorowski_sum_anomalies</th>\n",
       "      <th>duda_sum_anomalies</th>\n",
       "    </tr>\n",
       "  </thead>\n",
       "  <tbody>\n",
       "    <tr>\n",
       "      <th>21096</th>\n",
       "      <td>246201</td>\n",
       "      <td>66</td>\n",
       "      <td>392</td>\n",
       "      <td>181</td>\n",
       "      <td>41-902</td>\n",
       "      <td>358</td>\n",
       "      <td>569</td>\n",
       "      <td>41902</td>\n",
       "      <td>1087</td>\n",
       "      <td>False</td>\n",
       "      <td>True</td>\n",
       "      <td>False</td>\n",
       "      <td>True</td>\n",
       "      <td>False</td>\n",
       "      <td>True</td>\n",
       "      <td>False</td>\n",
       "      <td>True</td>\n",
       "      <td>0</td>\n",
       "      <td>4</td>\n",
       "    </tr>\n",
       "  </tbody>\n",
       "</table>\n",
       "</div>"
      ],
      "text/plain": [
       "       teryt_gmina  polling_station_id  komorowski_r1  duda_r1 postal_code  \\\n",
       "21096       246201                  66            392      181      41-902   \n",
       "\n",
       "       komorowski_r2  duda_r2 postal_clean  bucket  komorowski_anomaly_1  \\\n",
       "21096            358      569        41902    1087                 False   \n",
       "\n",
       "       duda_anomaly_1  komorowski_anomaly_2  duda_anomaly_2  \\\n",
       "21096            True                 False            True   \n",
       "\n",
       "       komorowski_anomaly_3  duda_anomaly_3  komorowski_anomaly_4  \\\n",
       "21096                 False            True                 False   \n",
       "\n",
       "       duda_anomaly_4  komorowski_sum_anomalies  duda_sum_anomalies  \n",
       "21096            True                         0                   4  "
      ]
     },
     "execution_count": 79,
     "metadata": {},
     "output_type": "execute_result"
    }
   ],
   "source": [
    "# 1 komisja ze wszystkimi 4 anomaliami\n",
    "df[df[cand_B + '_sum_anomalies']>=4]"
   ]
  }
 ],
 "metadata": {
  "kernelspec": {
   "display_name": "venv",
   "language": "python",
   "name": "python3"
  },
  "language_info": {
   "codemirror_mode": {
    "name": "ipython",
    "version": 3
   },
   "file_extension": ".py",
   "mimetype": "text/x-python",
   "name": "python",
   "nbconvert_exporter": "python",
   "pygments_lexer": "ipython3",
   "version": "3.13.4"
  }
 },
 "nbformat": 4,
 "nbformat_minor": 2
}
