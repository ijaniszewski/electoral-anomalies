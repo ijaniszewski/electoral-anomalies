{
 "cells": [
  {
   "cell_type": "markdown",
   "metadata": {},
   "source": [
    "Szukam chętnych do obliczenia metodą Kontka liczby outlierów w innych wyborach (np. 2023, 2019, 2015, 2010, 2007) oraz do obliczenia odchyleń przestrzennych dla 2025 i poprzednich wyborów w sensowniejszy sposób. Myślałem o czymś takim: trzeba (1) zrobić geokodowanie obwodów (trochę mamy zrobione, ale tylko trochę) i (2) policzyć dla każdego obwodu, czy jest on outlierem od klastra $k$ okolicznych obwodów, gdzie $k$ jest do ustalenia (może 20?)."
   ]
  },
  {
   "cell_type": "markdown",
   "metadata": {},
   "source": [
    "1) load and clean data (2015, 2020, 2025)\n",
    "2) cluster by Kontek, but should easily be replaced\n",
    "3) use Kontek methods\n",
    "4) obliczyć odchylenia przestrzenne"
   ]
  },
  {
   "cell_type": "code",
   "execution_count": 15,
   "metadata": {},
   "outputs": [],
   "source": [
    "import pandas as pd\n",
    "import re\n",
    "import os\n",
    "from collections import defaultdict\n",
    "import numpy as np"
   ]
  },
  {
   "cell_type": "code",
   "execution_count": 16,
   "metadata": {},
   "outputs": [
    {
     "data": {
      "text/plain": [
       "'/Users/gignac/Desktop/Projects/electoral-anomalies/data/raw/poland'"
      ]
     },
     "execution_count": 16,
     "metadata": {},
     "output_type": "execute_result"
    }
   ],
   "source": [
    "POLAND_RAW_DATA = os.path.join(os.getcwd(), \"data\", \"raw\", \"poland\")\n",
    "POLAND_RAW_DATA"
   ]
  },
  {
   "cell_type": "markdown",
   "metadata": {},
   "source": [
    "### PRESIDENTIAL"
   ]
  },
  {
   "cell_type": "code",
   "execution_count": 17,
   "metadata": {},
   "outputs": [],
   "source": [
    "BASE_COLUMNS_MAP = {\n",
    "    # 2025\n",
    "    \"Nr komisji\": \"polling_station_id\",\n",
    "    \"Teryt Gminy\": \"teryt_gmina\",\n",
    "    # \"Teryt Powiatu\": \"teryt_powiat\", \n",
    "    \"Liczba wyborców uprawnionych do głosowania (umieszczonych w spisie, z uwzględnieniem dodatkowych formularzy) w chwili zakończenia głosowania\": \"eligible_voters\",\n",
    "    \"Liczba kart wyjętych z urny\": \"ballots_cast\",\n",
    "    # round 2\n",
    "    \"Liczba głosów ważnych oddanych łącznie na wszystkich kandydatów (z kart ważnych)\": \"valid_votes\",\n",
    "    # round 1\n",
    "    \"Liczba głosów ważnych oddanych łącznie na obu kandydatów (z kart ważnych)\": \"valid_votes\",\n",
    "    # 2020\n",
    "    \"Numer obwodu\": \"polling_station_id\",\n",
    "    \"Kod TERYT\": \"teryt_gmina\",\n",
    "    \"Liczba wyborców uprawnionych do głosowania\": \"eligible_voters\",\n",
    "    \"Liczba kart wyjętych z urny\": \"ballots_cast\",\n",
    "    \"Liczba głosów ważnych oddanych łącznie na wszystkich kandydatów\": \"valid_votes\",\n",
    "    # 2015\n",
    "    \"Liczba głosów ważnych\": \"valid_votes\",\n",
    "}"
   ]
  },
  {
   "cell_type": "code",
   "execution_count": 18,
   "metadata": {},
   "outputs": [],
   "source": [
    "CANDIDATE_SURNAMES_BY_YEAR = {\n",
    "    \"2015\": [\n",
    "        \"braun\", \"duda\", \"jarubas\", \"komorowski\", \"korwin-mikke\",\n",
    "        \"kowalski\", \"kukiz\", \"ogórek\", \"palikot\", \"tanajno\", \"wilk\"\n",
    "    ],\n",
    "    \"2020\": [\n",
    "        \"biedroń\", \"bosak\", \"duda\", \"hołownia\", \"jakubiak\",\n",
    "        \"kosiniak-kamysz\", \"piotrowski\", \"tanajno\", \"trzaskowski\",\n",
    "        \"witkowski\", \"żółtek\"\n",
    "    ],\n",
    "    \"2025\": [\n",
    "        \"bartoszewicz\", \"biejat\", \"braun\", \"hołownia\", \"jakubiak\",\n",
    "        \"maciak\", \"mentzen\", \"nawrocki\", \"senyszyn\", \"stanowski\",\n",
    "        \"trzaskowski\", \"woch\", \"zandberg\"\n",
    "    ]\n",
    "}\n",
    "\n",
    "\n",
    "def get_candidate_rename_map(df, year):\n",
    "    surnames = CANDIDATE_SURNAMES_BY_YEAR.get(str(year), [])\n",
    "    rename_map = {\n",
    "        col: surname\n",
    "        for col in df.columns\n",
    "        for surname in surnames\n",
    "        if surname in col.lower()\n",
    "    }\n",
    "    return rename_map"
   ]
  },
  {
   "cell_type": "code",
   "execution_count": 19,
   "metadata": {},
   "outputs": [],
   "source": [
    "def extract_postal_code(address):\n",
    "    match = re.search(r\"\\b\\d{2}-\\d{3}\\b\", str(address))\n",
    "    return match.group(0) if match else None"
   ]
  },
  {
   "cell_type": "code",
   "execution_count": null,
   "metadata": {},
   "outputs": [],
   "source": [
    "def load_presidential_data(year, round, ext=\"csv\"):\n",
    "    file_path = os.path.join(POLAND_RAW_DATA, f\"{year}_presidential\", f\"round{round}.{ext}\")\n",
    "    if ext == \"csv\":\n",
    "        df = pd.read_csv(file_path, sep=\";\", encoding=\"utf-8\")\n",
    "    elif ext == \"xls\":\n",
    "        df = pd.read_excel(file_path, dtype={\"TERYT gminy\": str})\n",
    "    else:\n",
    "        raise NotImplementedError(f\"Cannot load file with {ext} ext!\")\n",
    "    # Normalize column names: replace non-breaking spaces, strip whitespace\n",
    "    df.columns = df.columns.str.replace(\"\\xa0\", \" \", regex=False).str.strip()\n",
    "    return df"
   ]
  },
  {
   "cell_type": "code",
   "execution_count": 271,
   "metadata": {},
   "outputs": [],
   "source": [
    "def process_presidential_df(df, year, final_cols=[]):\n",
    "    # Rename columns - to have same naming convention for all files\n",
    "    df = df.rename(columns=BASE_COLUMNS_MAP)\n",
    "\n",
    "    # Shorten candidate columns - risky if two candidates with the same surname\n",
    "\n",
    "    candidate_rename_map = get_candidate_rename_map(df, year=year)\n",
    "    df.rename(columns=candidate_rename_map, inplace=True)\n",
    "    \n",
    "    df = df.rename(columns=candidate_rename_map)\n",
    "    # Assuming, if postal code column exits, no need for extraction\n",
    "    if \"postal_code\" not in df.columns:\n",
    "        # Get postal code from address (\"siedziba\")\n",
    "        df[\"postal_code\"] = df[\"Siedziba\"].apply(extract_postal_code)\n",
    "    final_cols = (\n",
    "        list(set(BASE_COLUMNS_MAP.values()))  # ensure uniqueness only here\n",
    "        + list(candidate_rename_map.values())  # may have overlaps, OK\n",
    "        + [\"postal_code\"] + final_cols\n",
    "    )\n",
    "    df = df[final_cols]\n",
    "    return df"
   ]
  },
  {
   "cell_type": "code",
   "execution_count": 22,
   "metadata": {},
   "outputs": [],
   "source": [
    "def get_presidential_df(year, round, ext=\"csv\"):\n",
    "    df = load_presidential_data(year, round, ext)\n",
    "    return process_presidential_df"
   ]
  },
  {
   "cell_type": "code",
   "execution_count": 135,
   "metadata": {},
   "outputs": [
    {
     "name": "stderr",
     "output_type": "stream",
     "text": [
      "/var/folders/27/sdwyh2gs5mx77yx8h4jgxnjw0000gn/T/ipykernel_55677/4050919450.py:4: DtypeWarning: Columns (11,12,13,14,15,16,17,18,19,20,21,22,23,24,25,26,27,28,29,30,31,32,33,34,35,36,37,38,39,40,41,42,43) have mixed types. Specify dtype option on import or set low_memory=False.\n",
      "  df = pd.read_csv(file_path, sep=\";\", encoding=\"utf-8\")\n",
      "/var/folders/27/sdwyh2gs5mx77yx8h4jgxnjw0000gn/T/ipykernel_55677/4050919450.py:4: DtypeWarning: Columns (11,12,13,14,15,16,17,18,19,20,21,22,23,24,25,26,27,28,29,30,31,32,33,34) have mixed types. Specify dtype option on import or set low_memory=False.\n",
      "  df = pd.read_csv(file_path, sep=\";\", encoding=\"utf-8\")\n"
     ]
    }
   ],
   "source": [
    "year = \"2025\"\n",
    "df_2025_r1 = process_presidential_df(load_presidential_data(year, \"1\"), year)\n",
    "df_2025_r2 = process_presidential_df(load_presidential_data(year, \"2\"), year)\n",
    "year = \"2020\"\n",
    "df_2020_r1 = process_presidential_df(load_presidential_data(year, \"1\"), year)\n",
    "df_2020_r2 = process_presidential_df(load_presidential_data(year, \"2\"), year)\n",
    "year = \"2015\"\n",
    "ext = \"xls\"\n",
    "df_2015_r1 = process_presidential_df(load_presidential_data(year, \"1\", ext), year)\n",
    "\n",
    "# In 2015 round 2 data there is no postal code, so we need to join it to round 1\n",
    "df_2015_r2 = load_presidential_data(year, \"2\", ext)\n",
    "df_2015_r2 = df_2015_r2.merge(\n",
    "    df_2015_r1[[\"teryt_gmina\", \"postal_code\"]],\n",
    "    left_on=\"Teryt Gminy\",\n",
    "    right_on=\"teryt_gmina\",\n",
    "    how=\"left\"\n",
    ")\n",
    "df_2015_r2 = process_presidential_df(df_2015_r2, year)"
   ]
  },
  {
   "cell_type": "markdown",
   "metadata": {},
   "source": [
    "### 2.2. Grupowanie geograficzne\n",
    "\n",
    "W drugim etapie komisje wyborcze zostały posortowane według kodów pocztowych, a następnie\n",
    "pogrupowane w kolejne bloki komisji znajdujących się w bezpośrednim sąsiedztwie. Grupy tworzono\n",
    "w taki sposób, aby — w miarę możliwości — każda zawierała od 10 do 16 komisji, łącząc ze sobą\n",
    "sąsiednie obszary kodów pocztowych mające wspólny prefiks (np. „30”, „301”, „3011”). Celem było\n",
    "maksymalne zwiększenie spójności przestrzennej przy zachowaniu poręcznej wielkości grupy, bez\n",
    "konieczności ograniczania jej do jednego kodu pocztowego. Zastosowano następującą procedurę:\n",
    "\n",
    "  1. Początkowe grupowanie oparto na pierwszych dwóch cyfrach kodu pocztowego (np. „30” dla\n",
    "obszaru Krakowa).\n",
    "  2. Jeżeli powstała grupa zawierała od 10 do 16 komisji, została zaakceptowana bez zmian.\n",
    "  3. Grupy liczące mniej niż 10 komisji odłożono do późniejszego łączenia.\n",
    "  4. Grupy przekraczające 16 komisji dzielono rekurencyjnie, dodając kolejne cyfry kodu pocztowego (np. z „30” → „301” → „3011” i dalej, aż do pełnych pięciu cyfr).\n",
    "  5. Pozostałe małe grupy łączono z najbliższymi sąsiadami mającymi ten sam prefiks, przy czym priorytetem była ciągłość przestrzenna i zrównoważona liczebność grup.\n",
    "  \n",
    "W odróżnieniu od wcześniejszego podejścia, które dopuszczało grupy o wielkości 10–25 komisji,\n",
    "niniejsze badanie przyjęło węższy zakres docelowy: od 10 do 16 komisji na grupę. Decyzja ta\n",
    "wynikała z przeglądu empirycznego, który wykazał, że większe grupy — mimo wydajności\n",
    "statystycznej — czasami łączyły odległe geograficznie obszary o niejednorodnych wzorcach\n",
    "głosowania.\n",
    "\n",
    "W wyniku zastosowania nowych ograniczeń utworzono 2 208 grup, z których każda odzwierciedlała\n",
    "względnie jednorodną lokalną dynamikę wyborczą. Dla potwierdzenia ich spójności terytorialnej\n",
    "przeprowadzono test zgodności kodów pocztowych w ramach każdej grupy.\n",
    "\n",
    "Większość grup spełniła założony docelowy rozmiar: 1 386 grup (62,8%) zawierało od 10 do 16\n",
    "komisji, a 2 017 grup (91,3%) zawierało od 6 do 30 komisji. Większe grupy zazwyczaj odpowiadały obszarom miejskim — na przykład takim jak Toruń czy Włocławek, gdzie pojedynczy kod pocztowy\n",
    "obejmował całe miasto. W takich przypadkach większa liczba komisji nie zaburzała spójności\n",
    "przestrzennej, a wręcz zwiększała wiarygodność statystyczną poprzez powiększenie próbki lokalnej.\n",
    "\n",
    "Grupy mniejsze niż docelowy zakres obejmowały komisje, które — z powodu izolacji geograficznej\n",
    "— nie mogły zostać sensownie połączone z innymi. Choć próbki mniejsze niż 10 jednostek są zwykle\n",
    "uznawane za mające ograniczoną moc statystyczną, zastosowanie metody MAD — znanej ze swojej\n",
    "odporności na małe próby — w znacznym stopniu niweluje to ograniczenie."
   ]
  },
  {
   "cell_type": "markdown",
   "metadata": {},
   "source": [
    "------------"
   ]
  },
  {
   "cell_type": "markdown",
   "metadata": {},
   "source": [
    "Nie jestem w stanie odtworzyć grupowania geograficznego 1:1.\n",
    "\n",
    "Jedną z opcji jest grupowanie losowe: buckety 10 - 16, dokladnie 2208 grup"
   ]
  },
  {
   "cell_type": "code",
   "execution_count": 24,
   "metadata": {},
   "outputs": [],
   "source": [
    "def add_random_buckets(df, n, k_min, k_max, random_state=None):\n",
    "    \"\"\"\n",
    "    Partition a DataFrame into n random groups (buckets), each with at least k_min and at most k_max rows.\n",
    "    Adds a 'bucket' column to the DataFrame indicating the group assignment.\n",
    "\n",
    "    Args:\n",
    "        df (pd.DataFrame): The DataFrame to partition.\n",
    "        n (int): Number of buckets (groups) to create.\n",
    "        k_min (int): Minimum number of rows per bucket.\n",
    "        k_max (int): Maximum number of rows per bucket.\n",
    "        random_state (int, optional): Seed for reproducibility. Default is None.\n",
    "\n",
    "    Returns:\n",
    "        pd.DataFrame: A new DataFrame with a 'bucket' column indicating the group assignment.\n",
    "\n",
    "    Raises:\n",
    "        ValueError: If the constraints cannot be satisfied with the given n, k_min, and k_max.\n",
    "    \"\"\"\n",
    "    N = len(df)\n",
    "    if N < n * k_min or N > n * k_max:\n",
    "        raise ValueError(\"Constraints cannot be satisfied with given n, k_min, and k_max.\")\n",
    "    \n",
    "    # Start with k_min in each bucket\n",
    "    sizes = np.full(n, k_min)\n",
    "    remaining = N - sizes.sum()\n",
    "    increments = np.zeros(n, dtype=int)\n",
    "    \n",
    "    rng = np.random.default_rng(random_state)\n",
    "    while remaining > 0:\n",
    "        idxs = np.where(sizes + increments < k_max)[0]\n",
    "        idx = rng.choice(idxs)\n",
    "        increments[idx] += 1\n",
    "        remaining -= 1\n",
    "    \n",
    "    final_sizes = sizes + increments\n",
    "    \n",
    "    # Shuffle the DataFrame\n",
    "    shuffled_df = df.sample(frac=1, random_state=random_state).reset_index(drop=True)\n",
    "    \n",
    "    # Assign bucket numbers\n",
    "    bucket_labels = np.repeat(np.arange(n), final_sizes)\n",
    "    shuffled_df['bucket'] = bucket_labels\n",
    "    \n",
    "    # Restore original order if needed (optional)\n",
    "    # shuffled_df = shuffled_df.sort_index()\n",
    "    \n",
    "    return shuffled_df"
   ]
  },
  {
   "cell_type": "code",
   "execution_count": 25,
   "metadata": {},
   "outputs": [],
   "source": [
    "df = add_random_buckets(df_2025_r2, n=2208, k_min=10, k_max=16)"
   ]
  },
  {
   "cell_type": "code",
   "execution_count": 26,
   "metadata": {},
   "outputs": [],
   "source": [
    "def print_bucket_stats(df, bucket_col='bucket', range1=(10, 16), range2=(6, 30)):\n",
    "    \"\"\"\n",
    "    Prints statistics about bucket sizes in the DataFrame.\n",
    "    Shows total number of buckets and how many fall into two specified ranges.\n",
    "\n",
    "    Args:\n",
    "        df (pd.DataFrame): DataFrame containing the bucket column.\n",
    "        bucket_col (str): Name of the column with bucket assignments.\n",
    "        range1 (tuple): First (min, max) range for bucket size.\n",
    "        range2 (tuple): Second (min, max) range for bucket size.\n",
    "    \"\"\"\n",
    "    bucket_sizes = df[bucket_col].value_counts()\n",
    "    total_buckets = bucket_sizes.count()\n",
    "    buckets_in_range1 = bucket_sizes[(bucket_sizes >= range1[0]) & (bucket_sizes <= range1[1])].count()\n",
    "    buckets_in_range2 = bucket_sizes[(bucket_sizes >= range2[0]) & (bucket_sizes <= range2[1])].count()\n",
    "    print(f\"Total buckets: {total_buckets}\")\n",
    "    print(f\"Buckets with {range1[0]}–{range1[1]} items: {buckets_in_range1} ({buckets_in_range1 / total_buckets:.1%})\")\n",
    "    print(f\"Buckets with {range2[0]}–{range2[1]} items: {buckets_in_range2} ({buckets_in_range2 / total_buckets:.1%})\")\n"
   ]
  },
  {
   "cell_type": "code",
   "execution_count": 27,
   "metadata": {},
   "outputs": [
    {
     "name": "stdout",
     "output_type": "stream",
     "text": [
      "Total buckets: 2208\n",
      "Buckets with 10–16 items: 2208 (100.0%)\n",
      "Buckets with 6–30 items: 2208 (100.0%)\n"
     ]
    }
   ],
   "source": [
    "print_bucket_stats(df)"
   ]
  },
  {
   "cell_type": "markdown",
   "metadata": {},
   "source": [
    "Drugą moje \"klastrowanie\""
   ]
  },
  {
   "cell_type": "code",
   "execution_count": null,
   "metadata": {},
   "outputs": [],
   "source": [
    "def add_janiszewski_postal_buckets(df, min_bucket_size=10, max_bucket_size=16, postal_code_col='postal_code'):\n",
    "    \"\"\"\n",
    "    Assigns spatially-coherent buckets to a DataFrame based on postal code prefixes, with constraints on bucket size.\n",
    "    The function mimics the logic from generate_buckets_3.ipynb.\n",
    "\n",
    "    Args:\n",
    "        df (pd.DataFrame): Input DataFrame. Must contain a column with postal codes.\n",
    "        min_bucket_size (int): Minimum number of rows per bucket.\n",
    "        max_bucket_size (int): Maximum number of rows per bucket.\n",
    "        postal_code_col (str): Name of the column containing postal codes (e.g., 'postal_code').\n",
    "\n",
    "    Returns:\n",
    "        pd.DataFrame: DataFrame with a new 'bucket' column indicating group assignment.\n",
    "    \"\"\"\n",
    "    df = df.copy()\n",
    "    # Clean postal codes: remove dash, ensure string\n",
    "    df['postal_clean'] = df[postal_code_col].astype(str).str.replace('-', '')\n",
    "    \n",
    "    # Compute postal code prefixes\n",
    "    df['postal_2'] = df['postal_clean'].str[:2]\n",
    "    df['postal_3'] = df['postal_clean'].str[:3]\n",
    "    df['postal_4'] = df['postal_clean'].str[:4]\n",
    "    df['postal_5'] = df['postal_clean']\n",
    "    \n",
    "    # Precompute value counts for each prefix\n",
    "    df['postal_3_value_count'] = df['postal_3'].map(df['postal_3'].value_counts())\n",
    "    df['postal_4_value_count'] = df['postal_4'].map(df['postal_4'].value_counts())\n",
    "    \n",
    "    # Step 1: Assign buckets by 3-digit prefix if group size is valid\n",
    "    postal_3_counts = df['postal_3'].value_counts()\n",
    "    valid_postals_3 = postal_3_counts[(postal_3_counts >= min_bucket_size) & (postal_3_counts <= max_bucket_size)].index\n",
    "    df['bucket'] = df['postal_3'].where(df['postal_3'].isin(valid_postals_3))\n",
    "    \n",
    "    # Step 2: Assign by 4-digit prefix for unassigned rows\n",
    "    postal_4_counts = df['postal_4'].value_counts()\n",
    "    valid_postals_4 = postal_4_counts[(postal_4_counts >= min_bucket_size) & (postal_4_counts <= max_bucket_size)].index\n",
    "    mask_4 = df['bucket'].isna() & df['postal_4'].isin(valid_postals_4)\n",
    "    df.loc[mask_4, 'bucket'] = df.loc[mask_4, 'postal_4']\n",
    "    \n",
    "    # Step 3: Assign by 5-digit (full) postal code for unassigned rows\n",
    "    postal_5_counts = df['postal_5'].value_counts()\n",
    "    valid_postals_5 = postal_5_counts[(postal_5_counts >= min_bucket_size) & (postal_5_counts <= max_bucket_size)].index\n",
    "    mask_5 = df['bucket'].isna() & df['postal_5'].isin(valid_postals_5)\n",
    "    df.loc[mask_5, 'bucket'] = df.loc[mask_5, 'postal_5']\n",
    "    \n",
    "    # Step 4: For oversized 5-digit groups, assign if all are ungrouped\n",
    "    mask_postal_5 = (\n",
    "        df['bucket'].isna() &\n",
    "        ((df['postal_3_value_count'] > max_bucket_size) |\n",
    "         (df['postal_4_value_count'] > max_bucket_size))\n",
    "    )\n",
    "    postal_5_counts = df.loc[mask_postal_5, 'postal_5'].value_counts()\n",
    "    for postal_code, count in postal_5_counts.items():\n",
    "        if count > max_bucket_size:\n",
    "            same_postal_mask = (df['postal_5'] == postal_code) & df['bucket'].isna()\n",
    "            if same_postal_mask.sum() == count:\n",
    "                df.loc[same_postal_mask, 'bucket'] = postal_code\n",
    "    \n",
    "    # Step 5: For remaining unassigned, chunk by sorted postal code within 3-digit prefix\n",
    "    leftovers = df[df['bucket'].isna()].copy()\n",
    "    for prefix, group in leftovers.groupby('postal_3'):\n",
    "        group_sorted = group.sort_values(by='postal_clean')\n",
    "        i = 0\n",
    "        while i < len(group_sorted):\n",
    "            chunk = group_sorted.iloc[i:i+max_bucket_size]\n",
    "            if len(chunk) >= min_bucket_size:\n",
    "                bucket_id = f\"{prefix}_L{i//max_bucket_size}\"\n",
    "                df.loc[chunk.index, 'bucket'] = bucket_id\n",
    "                i += len(chunk)\n",
    "            else:\n",
    "                break  # remaining rows too small to form a valid group\n",
    "    \n",
    "    # Step 6: Try to merge final leftovers into existing buckets, else assign fallback\n",
    "    final_leftovers = df[df['bucket'].isna()].copy()\n",
    "    existing_buckets = df.dropna(subset=['bucket']).copy()\n",
    "    existing_buckets['bucket_size'] = existing_buckets.groupby('bucket')['bucket'].transform('count')\n",
    "    for prefix, group in final_leftovers.groupby('postal_3'):\n",
    "        group_sorted = group.sort_values(by='postal_clean')\n",
    "        existing_in_prefix = existing_buckets[\n",
    "            existing_buckets['postal_3'] == prefix\n",
    "        ].groupby('bucket').first()\n",
    "        for idx, row in group_sorted.iterrows():\n",
    "            # Try to append to a not-too-large existing group\n",
    "            assigned = False\n",
    "            for bucket_id, b_row in existing_in_prefix.iterrows():\n",
    "                current_size = df[df['bucket'] == bucket_id].shape[0]\n",
    "                if current_size < max_bucket_size:\n",
    "                    df.at[idx, 'bucket'] = bucket_id\n",
    "                    assigned = True\n",
    "                    break\n",
    "            # If no spot found, assign a new fallback bucket\n",
    "            if pd.isna(df.at[idx, 'bucket']):\n",
    "                fallback_id = f\"{prefix}_F{idx}\"\n",
    "                df.at[idx, 'bucket'] = fallback_id\n",
    "    \n",
    "    if df['bucket'].isna().sum() > 0:\n",
    "        # Find all existing buckets and their sizes\n",
    "        bucket_sizes = df['bucket'].value_counts()\n",
    "        smallest_buckets = bucket_sizes.nsmallest(10).index  # or all buckets\n",
    "        for idx in df[df['bucket'].isna()].index:\n",
    "            # Assign to the bucket with the smallest current size\n",
    "            target_bucket = df['bucket'].value_counts().idxmin()\n",
    "            df.at[idx, 'bucket'] = target_bucket\n",
    "\n",
    "\n",
    "    # Optionally, remove buckets with fewer than 3 members\n",
    "    vc = df['bucket'].value_counts()\n",
    "    df = df[df['bucket'].isin(vc[vc >= 3].index)]\n",
    "\n",
    "    # Remove all helper columns before returning\n",
    "    helper_cols = [\n",
    "        'postal_clean', 'postal_2', 'postal_3', 'postal_4', 'postal_5',\n",
    "        'postal_3_value_count', 'postal_4_value_count'\n",
    "    ]\n",
    "    df = df.drop(columns=[col for col in helper_cols if col in df.columns])\n",
    "    \n",
    "    return df\n"
   ]
  },
  {
   "cell_type": "code",
   "execution_count": null,
   "metadata": {},
   "outputs": [],
   "source": [
    "df = add_janiszewski_postal_buckets(df_2025_r2, min_bucket_size=10, max_bucket_size=16)\n"
   ]
  },
  {
   "cell_type": "code",
   "execution_count": 30,
   "metadata": {},
   "outputs": [
    {
     "name": "stdout",
     "output_type": "stream",
     "text": [
      "Total buckets: 1809\n",
      "Buckets with 10–16 items: 1462 (80.8%)\n",
      "Buckets with 6–30 items: 1719 (95.0%)\n"
     ]
    }
   ],
   "source": [
    "print_bucket_stats(df)"
   ]
  },
  {
   "cell_type": "markdown",
   "metadata": {},
   "source": [
    "Trzecią klastrowanie Jakuba Bialka\n",
    "https://github.com/rabitwhte/analiza_kontka_reprodukcja/blob/main/Reprodukcja_wynikow_Kontek_Bialek.ipynb"
   ]
  },
  {
   "cell_type": "code",
   "execution_count": 35,
   "metadata": {},
   "outputs": [],
   "source": [
    "def add_bialek_postal_buckets(df: pd.DataFrame,\n",
    "                  postal_code_col: str = \"postal_code\",\n",
    "                  min_size: int = 10,\n",
    "                  max_size: int = 16) -> pd.DataFrame:\n",
    "    \"\"\"\n",
    "    Returns a copy of df with a new column `group_id` containing the group number\n",
    "    such that each group has min_size <= n <= max_size (as much as possible).\n",
    "    Groups are formed by recursively splitting by postal code prefix, then merging small groups.\n",
    "\n",
    "    Args:\n",
    "        df (pd.DataFrame): Input DataFrame with a postal code column.\n",
    "        code_col (str): Name of the column with postal codes (should be int or str, 5 digits).\n",
    "        min_size (int): Minimum group size.\n",
    "        max_size (int): Maximum group size.\n",
    "\n",
    "    Returns:\n",
    "        pd.DataFrame: Copy of df with a new 'group_id' column.\n",
    "    \"\"\"\n",
    "    df['postal_clean'] = df[postal_code_col].astype(str).str.replace('-', '')\n",
    "    work = df.copy()\n",
    "    work[\"_code_str\"] = work['postal_clean'].astype(str).str.zfill(5)\n",
    "\n",
    "    accepted = {}                # {prefix: list[index]}\n",
    "    small     = {}               # prefixy < min_size (to be merged later)\n",
    "\n",
    "    # 1. Recursive splitting of large groups\n",
    "    def split(prefix: str, idxs: list[int], depth: int):\n",
    "        size = len(idxs)\n",
    "        # a) Acceptable group\n",
    "        if min_size <= size <= max_size or depth == 5:\n",
    "            accepted[prefix] = idxs\n",
    "            return\n",
    "        # b) Too small – save for later merging\n",
    "        if size < min_size:\n",
    "            small[prefix] = idxs\n",
    "            return\n",
    "        # c) Too large – split deeper\n",
    "        next_depth = depth + 1\n",
    "        sub_prefixes = work.loc[idxs, \"_code_str\"].str[:next_depth]\n",
    "        for sub_pref, sub_idxs in work.loc[idxs].groupby(sub_prefixes).groups.items():\n",
    "            split(sub_pref, list(sub_idxs), next_depth)\n",
    "\n",
    "    # Start with 2-digit prefixes\n",
    "    for pref2, grp in work.groupby(work[\"_code_str\"].str[:2]).groups.items():\n",
    "        split(pref2, list(grp), depth=2)\n",
    "\n",
    "    # 2. Merge small groups within the same 2-digit prefix\n",
    "    buckets = defaultdict(list)          # {pref2: [(pref, idxs), ...]}\n",
    "    for p, idxs in small.items():\n",
    "        buckets[p[:2]].append((p, idxs))\n",
    "\n",
    "    for pref2, lst in buckets.items():\n",
    "        # Sort by prefix value for spatial proximity\n",
    "        lst.sort(key=lambda x: int(x[0]))\n",
    "        buf_idx, buf_pref = [], []\n",
    "        for p, idxs in lst:\n",
    "            buf_idx.extend(idxs)\n",
    "            buf_pref.append(p)\n",
    "            if len(buf_idx) >= min_size:\n",
    "                # If > max_size, split into chunks\n",
    "                while len(buf_idx) > max_size:\n",
    "                    accepted[f\"{pref2}_{len(accepted)}\"] = buf_idx[:max_size]\n",
    "                    buf_idx = buf_idx[max_size:]\n",
    "                accepted[\"+\".join(buf_pref)] = buf_idx\n",
    "                buf_idx, buf_pref = [], []\n",
    "        # Remainder < min_size – append to last group for this prefix\n",
    "        if buf_idx:\n",
    "            last_keys = [k for k in accepted.keys() if k.startswith(pref2)]\n",
    "            if last_keys:\n",
    "                last_key = last_keys[-1]\n",
    "                accepted[last_key].extend(buf_idx)\n",
    "            else:\n",
    "                # If no group exists, create a new one\n",
    "                accepted[f\"{pref2}_rem\"] = buf_idx\n",
    "\n",
    "    # 3. Assign group numbers\n",
    "    idx2gid = {}\n",
    "    for gid, (_, lst) in enumerate(accepted.items()):\n",
    "        for i in lst:\n",
    "            idx2gid[i] = gid\n",
    "    work[\"bucket\"] = work.index.map(idx2gid)\n",
    "\n",
    "    # 4. Remove groups with fewer than 4 members\n",
    "    group_sizes = work.groupby('bucket').transform('count')['postal_clean']\n",
    "    work = work[group_sizes > 3].copy()\n",
    "\n",
    "    return work.drop(columns=\"_code_str\")"
   ]
  },
  {
   "cell_type": "code",
   "execution_count": 86,
   "metadata": {},
   "outputs": [],
   "source": [
    "df = add_bialek_postal_buckets(df_2025_r2, min_size=10, max_size=16)"
   ]
  },
  {
   "cell_type": "code",
   "execution_count": 88,
   "metadata": {},
   "outputs": [
    {
     "data": {
      "text/html": [
       "<div>\n",
       "<style scoped>\n",
       "    .dataframe tbody tr th:only-of-type {\n",
       "        vertical-align: middle;\n",
       "    }\n",
       "\n",
       "    .dataframe tbody tr th {\n",
       "        vertical-align: top;\n",
       "    }\n",
       "\n",
       "    .dataframe thead th {\n",
       "        text-align: right;\n",
       "    }\n",
       "</style>\n",
       "<table border=\"1\" class=\"dataframe\">\n",
       "  <thead>\n",
       "    <tr style=\"text-align: right;\">\n",
       "      <th></th>\n",
       "      <th>valid_votes</th>\n",
       "      <th>polling_station_id</th>\n",
       "      <th>eligible_voters</th>\n",
       "      <th>ballots_cast</th>\n",
       "      <th>teryt_gmina</th>\n",
       "      <th>nawrocki</th>\n",
       "      <th>trzaskowski</th>\n",
       "      <th>postal_code</th>\n",
       "      <th>postal_clean</th>\n",
       "      <th>bucket</th>\n",
       "    </tr>\n",
       "  </thead>\n",
       "  <tbody>\n",
       "    <tr>\n",
       "      <th>0</th>\n",
       "      <td>1178.0</td>\n",
       "      <td>1</td>\n",
       "      <td>1678.0</td>\n",
       "      <td>1187.0</td>\n",
       "      <td>20101.0</td>\n",
       "      <td>582.0</td>\n",
       "      <td>596.0</td>\n",
       "      <td>59-700</td>\n",
       "      <td>59700</td>\n",
       "      <td>1232</td>\n",
       "    </tr>\n",
       "    <tr>\n",
       "      <th>1</th>\n",
       "      <td>903.0</td>\n",
       "      <td>2</td>\n",
       "      <td>1269.0</td>\n",
       "      <td>911.0</td>\n",
       "      <td>20101.0</td>\n",
       "      <td>386.0</td>\n",
       "      <td>517.0</td>\n",
       "      <td>59-700</td>\n",
       "      <td>59700</td>\n",
       "      <td>1232</td>\n",
       "    </tr>\n",
       "    <tr>\n",
       "      <th>2</th>\n",
       "      <td>993.0</td>\n",
       "      <td>3</td>\n",
       "      <td>1358.0</td>\n",
       "      <td>996.0</td>\n",
       "      <td>20101.0</td>\n",
       "      <td>437.0</td>\n",
       "      <td>556.0</td>\n",
       "      <td>59-700</td>\n",
       "      <td>59700</td>\n",
       "      <td>1232</td>\n",
       "    </tr>\n",
       "    <tr>\n",
       "      <th>3</th>\n",
       "      <td>975.0</td>\n",
       "      <td>4</td>\n",
       "      <td>1354.0</td>\n",
       "      <td>984.0</td>\n",
       "      <td>20101.0</td>\n",
       "      <td>408.0</td>\n",
       "      <td>567.0</td>\n",
       "      <td>59-700</td>\n",
       "      <td>59700</td>\n",
       "      <td>1232</td>\n",
       "    </tr>\n",
       "    <tr>\n",
       "      <th>4</th>\n",
       "      <td>850.0</td>\n",
       "      <td>5</td>\n",
       "      <td>1195.0</td>\n",
       "      <td>856.0</td>\n",
       "      <td>20101.0</td>\n",
       "      <td>332.0</td>\n",
       "      <td>518.0</td>\n",
       "      <td>59-700</td>\n",
       "      <td>59700</td>\n",
       "      <td>1232</td>\n",
       "    </tr>\n",
       "  </tbody>\n",
       "</table>\n",
       "</div>"
      ],
      "text/plain": [
       "   valid_votes  polling_station_id  eligible_voters  ballots_cast  \\\n",
       "0       1178.0                   1           1678.0        1187.0   \n",
       "1        903.0                   2           1269.0         911.0   \n",
       "2        993.0                   3           1358.0         996.0   \n",
       "3        975.0                   4           1354.0         984.0   \n",
       "4        850.0                   5           1195.0         856.0   \n",
       "\n",
       "   teryt_gmina  nawrocki  trzaskowski postal_code postal_clean  bucket  \n",
       "0      20101.0     582.0        596.0      59-700        59700    1232  \n",
       "1      20101.0     386.0        517.0      59-700        59700    1232  \n",
       "2      20101.0     437.0        556.0      59-700        59700    1232  \n",
       "3      20101.0     408.0        567.0      59-700        59700    1232  \n",
       "4      20101.0     332.0        518.0      59-700        59700    1232  "
      ]
     },
     "execution_count": 88,
     "metadata": {},
     "output_type": "execute_result"
    }
   ],
   "source": [
    "df.head()"
   ]
  },
  {
   "cell_type": "code",
   "execution_count": 89,
   "metadata": {},
   "outputs": [
    {
     "name": "stdout",
     "output_type": "stream",
     "text": [
      "Total buckets: 2304\n",
      "Buckets with 10–16 items: 1264 (54.9%)\n",
      "Buckets with 6–30 items: 1917 (83.2%)\n"
     ]
    }
   ],
   "source": [
    "print_bucket_stats(df)"
   ]
  },
  {
   "cell_type": "markdown",
   "metadata": {},
   "source": [
    "### IMPLEMENTACJA METOD ZAPROPONOWANYCH PRZEZ DR KONTKA\n",
    "\n",
    "https://papers.ssrn.com/sol3/papers.cfm?abstract_id=5296441\n",
    "\n",
    "2.3. Wykrywanie wartości odstających\n",
    "\n",
    "Główna innowacja analityczna niniejszego badania polega na oszacowaniu potencjalnego wpływu\n",
    "anormalnych komisji wyborczych na poziomie ogólnokrajowym. Aby to osiągnąć, w pierwszej\n",
    "kolejności zidentyfikowano wartości odstające w czterech kategoriach nieprawidłowości:"
   ]
  },
  {
   "cell_type": "code",
   "execution_count": null,
   "metadata": {},
   "outputs": [],
   "source": [
    "## let's do it with clustering proposed by Jakub Bialek\n",
    "\n",
    "# df = add_bialek_postal_buckets(df, min_size=10, max_size=16)"
   ]
  },
  {
   "cell_type": "code",
   "execution_count": 136,
   "metadata": {},
   "outputs": [],
   "source": [
    "keep_columns = [\"teryt_gmina\", \"polling_station_id\", \"trzaskowski\", \"nawrocki\", \"postal_code\"]\n",
    "\n",
    "# ROUND 1 \n",
    "# Step 1: Keep only selected columns\n",
    "df_2025_r1 = df_2025_r1[keep_columns]\n",
    "df_2025_r1 = df_2025_r1.dropna(subset=[\"teryt_gmina\"])\n",
    "# Step 2: Convert teryt_gmina to integer\n",
    "df_2025_r1[\"teryt_gmina\"] = df_2025_r1[\"teryt_gmina\"].astype(int)\n",
    "\n",
    "# ROUND 2\n",
    "# Step 1: Keep only selected columns\n",
    "df_2025_r2 = df_2025_r2[keep_columns]\n",
    "df_2025_r2 = df_2025_r2.dropna(subset=[\"teryt_gmina\"])\n",
    "# Step 2: Convert teryt_gmina to integer\n",
    "df_2025_r2[\"teryt_gmina\"] = df_2025_r2[\"teryt_gmina\"].astype(int)\n"
   ]
  },
  {
   "cell_type": "code",
   "execution_count": 137,
   "metadata": {},
   "outputs": [],
   "source": [
    "# Join both rounds\n",
    "\n",
    "# Step 1: Rename candidate columns in each round for clarity\n",
    "df_2025_r1 = df_2025_r1.rename(columns={\n",
    "    \"trzaskowski\": \"trzaskowski_r1\",\n",
    "    \"nawrocki\": \"nawrocki_r1\"\n",
    "})\n",
    "\n",
    "df_2025_r2 = df_2025_r2.rename(columns={\n",
    "    \"trzaskowski\": \"trzaskowski_r2\",\n",
    "    \"nawrocki\": \"nawrocki_r2\"\n",
    "})\n",
    "\n",
    "# Step 2: Merge on teryt_gmina and polling_station_id\n",
    "df_2025 = pd.merge(\n",
    "    df_2025_r1,\n",
    "    df_2025_r2,\n",
    "    on=[\"teryt_gmina\", \"polling_station_id\", \"postal_code\"],\n",
    "    how=\"inner\"  # or \"outer\"/\"left\" depending on need\n",
    ")"
   ]
  },
  {
   "cell_type": "code",
   "execution_count": 138,
   "metadata": {},
   "outputs": [],
   "source": [
    "# Add buckets\n",
    "df_2025 = add_bialek_postal_buckets(df_2025)\n"
   ]
  },
  {
   "cell_type": "code",
   "execution_count": 139,
   "metadata": {},
   "outputs": [
    {
     "data": {
      "text/html": [
       "<div>\n",
       "<style scoped>\n",
       "    .dataframe tbody tr th:only-of-type {\n",
       "        vertical-align: middle;\n",
       "    }\n",
       "\n",
       "    .dataframe tbody tr th {\n",
       "        vertical-align: top;\n",
       "    }\n",
       "\n",
       "    .dataframe thead th {\n",
       "        text-align: right;\n",
       "    }\n",
       "</style>\n",
       "<table border=\"1\" class=\"dataframe\">\n",
       "  <thead>\n",
       "    <tr style=\"text-align: right;\">\n",
       "      <th></th>\n",
       "      <th>teryt_gmina</th>\n",
       "      <th>polling_station_id</th>\n",
       "      <th>trzaskowski_r1</th>\n",
       "      <th>nawrocki_r1</th>\n",
       "      <th>postal_code</th>\n",
       "      <th>trzaskowski_r2</th>\n",
       "      <th>nawrocki_r2</th>\n",
       "      <th>postal_clean</th>\n",
       "      <th>bucket</th>\n",
       "    </tr>\n",
       "  </thead>\n",
       "  <tbody>\n",
       "    <tr>\n",
       "      <th>0</th>\n",
       "      <td>20101</td>\n",
       "      <td>1</td>\n",
       "      <td>361.0</td>\n",
       "      <td>287.0</td>\n",
       "      <td>59-700</td>\n",
       "      <td>596.0</td>\n",
       "      <td>582.0</td>\n",
       "      <td>59700</td>\n",
       "      <td>1567</td>\n",
       "    </tr>\n",
       "    <tr>\n",
       "      <th>1</th>\n",
       "      <td>20101</td>\n",
       "      <td>2</td>\n",
       "      <td>381.0</td>\n",
       "      <td>228.0</td>\n",
       "      <td>59-700</td>\n",
       "      <td>517.0</td>\n",
       "      <td>386.0</td>\n",
       "      <td>59700</td>\n",
       "      <td>1567</td>\n",
       "    </tr>\n",
       "    <tr>\n",
       "      <th>2</th>\n",
       "      <td>20101</td>\n",
       "      <td>3</td>\n",
       "      <td>356.0</td>\n",
       "      <td>241.0</td>\n",
       "      <td>59-700</td>\n",
       "      <td>556.0</td>\n",
       "      <td>437.0</td>\n",
       "      <td>59700</td>\n",
       "      <td>1567</td>\n",
       "    </tr>\n",
       "    <tr>\n",
       "      <th>3</th>\n",
       "      <td>20101</td>\n",
       "      <td>4</td>\n",
       "      <td>390.0</td>\n",
       "      <td>217.0</td>\n",
       "      <td>59-700</td>\n",
       "      <td>567.0</td>\n",
       "      <td>408.0</td>\n",
       "      <td>59700</td>\n",
       "      <td>1567</td>\n",
       "    </tr>\n",
       "    <tr>\n",
       "      <th>4</th>\n",
       "      <td>20101</td>\n",
       "      <td>5</td>\n",
       "      <td>343.0</td>\n",
       "      <td>202.0</td>\n",
       "      <td>59-700</td>\n",
       "      <td>518.0</td>\n",
       "      <td>332.0</td>\n",
       "      <td>59700</td>\n",
       "      <td>1567</td>\n",
       "    </tr>\n",
       "  </tbody>\n",
       "</table>\n",
       "</div>"
      ],
      "text/plain": [
       "   teryt_gmina  polling_station_id  trzaskowski_r1  nawrocki_r1 postal_code  \\\n",
       "0        20101                   1           361.0        287.0      59-700   \n",
       "1        20101                   2           381.0        228.0      59-700   \n",
       "2        20101                   3           356.0        241.0      59-700   \n",
       "3        20101                   4           390.0        217.0      59-700   \n",
       "4        20101                   5           343.0        202.0      59-700   \n",
       "\n",
       "   trzaskowski_r2  nawrocki_r2 postal_clean  bucket  \n",
       "0           596.0        582.0        59700    1567  \n",
       "1           517.0        386.0        59700    1567  \n",
       "2           556.0        437.0        59700    1567  \n",
       "3           567.0        408.0        59700    1567  \n",
       "4           518.0        332.0        59700    1567  "
      ]
     },
     "execution_count": 139,
     "metadata": {},
     "output_type": "execute_result"
    }
   ],
   "source": [
    "df_2025.head()"
   ]
  },
  {
   "cell_type": "code",
   "execution_count": 111,
   "metadata": {},
   "outputs": [],
   "source": [
    "cand_A = \"trzaskowski\"\n",
    "cand_B = \"nawrocki\""
   ]
  },
  {
   "cell_type": "markdown",
   "metadata": {},
   "source": [
    "### 1. Nadmierne poparcie dla Karola Nawrockiego (względem mediany w ramach lokalnej grupy)"
   ]
  },
  {
   "cell_type": "markdown",
   "metadata": {},
   "source": [
    "Za artykułem: w ramach każdej grupy obliczono mediany oraz odchylenia bezwzględne od mediany (MAD), dla każdej komisji obliczono wskaźnik odchylenia od mediany\n",
    "\n",
    "![X minus median over MAD](./images/X_minus_median_over_MAD.png)\n",
    "\n",
    "gdzie:\n",
    "\n",
    "X - wynik w drugiej turze kandydata\n",
    "\n",
    "mediana - mediana wyników kandydata w drugiej turze\n",
    "\n",
    "MAD - odchelenie bezwzględne mediany kandydata w drugiej turze\n",
    "\n",
    "z artykulu:\n",
    "\n",
    "Dla każdej grupy komisji oraz dla dwóch pierwszych kategorii nieprawidłowości:\n",
    "\n",
    "  • obliczono mediany oraz odchylenia bezwzględne od mediany (MAD);\n",
    "\n",
    "  • dla każdej komisji obliczono tzw. współczynnik odchylenia odpornego (robust deviation score, oznaczony jako k_needed), wyrażający skalę odchylenia wyniku od mediany grupy w jednostkach MAD, według wzoru (powyzej)\n",
    "\n",
    "Komisję oznaczano jako odstającą (outlier), jeśli spełniony był warunek: 𝑘𝑛𝑒𝑒𝑑𝑒𝑑 > 𝑘 gdzie k to\n",
    "wartość progowa przyjęta w analizie, szczegółowo opisana w sekcji 2.4."
   ]
  },
  {
   "cell_type": "code",
   "execution_count": 218,
   "metadata": {},
   "outputs": [],
   "source": [
    "df = df_2025.copy()"
   ]
  },
  {
   "cell_type": "code",
   "execution_count": 219,
   "metadata": {},
   "outputs": [],
   "source": [
    "# mediana w grupie\n",
    "df[cand_A + '_median_r2'] = df.groupby('bucket')[cand_A + '_r2'].transform('median')\n",
    "df[cand_B + '_median_r2'] = df.groupby('bucket')[cand_B + '_r2'].transform('median')"
   ]
  },
  {
   "cell_type": "code",
   "execution_count": 220,
   "metadata": {},
   "outputs": [],
   "source": [
    "# MAD w grupie\n",
    "from scipy.stats import median_abs_deviation\n",
    "def mad(series):\n",
    "    \"\"\"Median Absolute Deviation\"\"\"\n",
    "    return median_abs_deviation(series)\n",
    "\n",
    "df[cand_A + \"_MAD_r2\"] = df.groupby(\"bucket\")[cand_A + '_r2'].transform(mad)\n",
    "df[cand_B + \"_MAD_r2\"] = df.groupby(\"bucket\")[cand_B + '_r2'].transform(mad)"
   ]
  },
  {
   "cell_type": "code",
   "execution_count": 221,
   "metadata": {},
   "outputs": [],
   "source": [
    "df[cand_A +'_k_score_1'] = (df[cand_A + '_r2'] - df[cand_A + '_median_r2'])/df[cand_A + '_MAD_r2']\n",
    "df[cand_B +'_k_score_1'] = (df[cand_B + '_r2'] - df[cand_B + '_median_r2'])/df[cand_B + '_MAD_r2']"
   ]
  },
  {
   "cell_type": "markdown",
   "metadata": {},
   "source": [
    "2.4 Przeliczenie wyników\n",
    "\n",
    "Aby uwzględnić niepewność i wrażliwość zastosowanego podejścia, obliczenia przeprowadzono dla\n",
    "trzech różnych progów detekcji wartości odstających: k > 2.0, k > 2.5 oraz k > 3.0, gdzie k oznacza\n",
    "liczbę jednostek odchylenia bezwzględnego od mediany (MAD) względem mediany w grupie\n",
    "lokalnej. Wyższe wartości k wyodrębniają jedynie najbardziej skrajne przypadki, zapewniając tym\n",
    "samym konserwatywną estymację potencjalnego wpływu. Jednocześnie jednak ograniczają zdolność\n",
    "metody do wychwytywania mniejszych, lecz wciąż istotnych odchyleń."
   ]
  },
  {
   "cell_type": "code",
   "execution_count": 204,
   "metadata": {},
   "outputs": [
    {
     "name": "stdout",
     "output_type": "stream",
     "text": [
      "k > 2.0\n",
      "trzaskowski: 4551\n",
      "nawrocki: 3750\n",
      "---\n",
      "k > 2.5\n",
      "trzaskowski: 3535\n",
      "nawrocki: 2750\n",
      "---\n",
      "k > 3.0\n",
      "trzaskowski: 2794\n",
      "nawrocki: 2015\n",
      "---\n"
     ]
    }
   ],
   "source": [
    "for k in [2.0, 2.5, 3.0]:\n",
    "    count_A = sum(df[cand_A + '_k_score_1'] > k)\n",
    "    count_B = sum(df[cand_B + '_k_score_1'] > k)\n",
    "    print(f'k > {k}')\n",
    "    print(f'{cand_A}: {count_A}')\n",
    "    print(f'{cand_B}: {count_B}')\n",
    "    print('---')"
   ]
  },
  {
   "cell_type": "markdown",
   "metadata": {},
   "source": [
    "Wyniki:\n",
    "\n",
    "Dla k=2, takich komisji, w których \"za duże\" poparcie ma Nawrocki jest 3762, a Trzaskowski 4554."
   ]
  },
  {
   "cell_type": "code",
   "execution_count": 222,
   "metadata": {},
   "outputs": [],
   "source": [
    "# Let's set k = 2\n",
    "k = 2"
   ]
  },
  {
   "cell_type": "code",
   "execution_count": 223,
   "metadata": {},
   "outputs": [],
   "source": [
    "# zapisz anomalie na korzyść kandydatów do późniejszego sumowania\n",
    "df[cand_A + \"_anomaly_1\"] = df[kandydat_A +'_k_score_1'] > k\n",
    "df[cand_B + \"_anomaly_1\"] = df[kandydat_B +'_k_score_1'] > k"
   ]
  },
  {
   "cell_type": "code",
   "execution_count": 224,
   "metadata": {},
   "outputs": [],
   "source": [
    "# df.head()\n",
    "\n",
    "df = df.drop(columns=[\n",
    "    # \"trzaskowski_median_r2\",\n",
    "    # \"nawrocki_median_r2\",\n",
    "    \"trzaskowski_MAD_r2\",\n",
    "    \"nawrocki_MAD_r2\",\n",
    "    \"trzaskowski_k_score_1\",\n",
    "    \"nawrocki_k_score_1\"\n",
    "])"
   ]
  },
  {
   "cell_type": "markdown",
   "metadata": {},
   "source": [
    "### 2. Nadmierny względny wzrost poparcia dla Karola Nawrockiego między pierwszą a drugą turą, w porównaniu do odpowiedniego wzrostu poparcia dla Rafała Trzaskowskiego w tej samej grupie lokalnej;"
   ]
  },
  {
   "cell_type": "markdown",
   "metadata": {},
   "source": [
    "za, JB: \n",
    "\n",
    "Nie podano wprost jak to było obliczone więc kolejno:\n",
    "\n",
    "  1. Dla danego kandydata obliczam względny wzrost między pierwszą a drugą turą (dzieląc wynik z drugiej przez wynik z pierwszej)\n",
    "  2. Następnie odnoszę go do wzrostu drugiego kandydata - liczę różnicę między względnymi wzrostami.\n",
    "  3. Dalej tak jak w pierwszym typie anomalii - dla tych różnic liczę medianę grupy, MAD grupy oraz odchylenie k w komisji."
   ]
  },
  {
   "cell_type": "code",
   "execution_count": 225,
   "metadata": {},
   "outputs": [],
   "source": [
    "# wzgledny wzrost między pierwszą a drugą turą\n",
    "df[cand_A + '_increase'] = df[cand_A + '_r2']/df[cand_A + '_r1']\n",
    "df[cand_B + '_increase'] = df[cand_B + '_r2']/df[cand_B + '_r1']"
   ]
  },
  {
   "cell_type": "code",
   "execution_count": 226,
   "metadata": {},
   "outputs": [],
   "source": [
    "# roznica wzglednego wzrostu miedzy kandydatami\n",
    "df['relative_increase_diff_' + cand_A] =  df[cand_A + '_increase']  - df[cand_B + '_increase'] # wzrost A w porównaniu do B\n",
    "df['relative_increase_diff_' + cand_B] =  df[cand_B + '_increase']  - df[cand_A + '_increase'] # wzrost B w porównaniu do A"
   ]
  },
  {
   "cell_type": "code",
   "execution_count": 227,
   "metadata": {},
   "outputs": [],
   "source": [
    "# mediana i mad różnicy względnego wzrostu poparcia\n",
    "df['relative_increase_diff_' + cand_A +'_median'] = df.groupby('bucket')['relative_increase_diff_' + cand_A].transform('median')\n",
    "df['relative_increase_diff_' + cand_A + '_MAD'] = df.groupby('bucket')['relative_increase_diff_' + cand_A].transform(mad)"
   ]
  },
  {
   "cell_type": "code",
   "execution_count": 228,
   "metadata": {},
   "outputs": [],
   "source": [
    "# mediana i mad różnicy względnego wzrostu poparcia\n",
    "df['relative_increase_diff_' + cand_B +'_median'] = df.groupby('bucket')['relative_increase_diff_' + cand_B].transform('median')\n",
    "df['relative_increase_diff_' + cand_B + '_MAD'] = df.groupby('bucket')['relative_increase_diff_' + cand_B].transform(mad)"
   ]
  },
  {
   "cell_type": "code",
   "execution_count": 229,
   "metadata": {},
   "outputs": [],
   "source": [
    "df[cand_A +'_k_score_2'] = (df['relative_increase_diff_' + cand_A] - df['relative_increase_diff_' + cand_A +'_median'])/df['relative_increase_diff_' + cand_A + '_MAD']\n"
   ]
  },
  {
   "cell_type": "code",
   "execution_count": 230,
   "metadata": {},
   "outputs": [],
   "source": [
    "df[cand_B +'_k_score_2'] = (df['relative_increase_diff_' + cand_B] - df['relative_increase_diff_' + cand_B +'_median'])/df['relative_increase_diff_' + cand_B + '_MAD']"
   ]
  },
  {
   "cell_type": "code",
   "execution_count": 231,
   "metadata": {},
   "outputs": [
    {
     "name": "stdout",
     "output_type": "stream",
     "text": [
      "k > 2.0\n",
      "trzaskowski: 3552\n",
      "nawrocki: 3127\n",
      "---\n",
      "k > 2.5\n",
      "trzaskowski: 2666\n",
      "nawrocki: 2229\n",
      "---\n",
      "k > 3.0\n",
      "trzaskowski: 2106\n",
      "nawrocki: 1669\n",
      "---\n"
     ]
    }
   ],
   "source": [
    "for k in [2.0, 2.5, 3.0]:\n",
    "    count_A = sum(df[cand_A + '_k_score_2'] > k)\n",
    "    count_B = sum(df[cand_B + '_k_score_2'] > k)\n",
    "    print(f'k > {k}')\n",
    "    print(f'{cand_A}: {count_A}')\n",
    "    print(f'{cand_B}: {count_B}')\n",
    "    print('---')"
   ]
  },
  {
   "cell_type": "code",
   "execution_count": 232,
   "metadata": {},
   "outputs": [],
   "source": [
    "# zapisz anomalie na korzyść kandydatów do późniejszego sumowania\n",
    "df[cand_A + \"_anomaly_2\"] = df[kandydat_A +'_k_score_2'] > k\n",
    "df[cand_B + \"_anomaly_2\"] = df[kandydat_B +'_k_score_2'] > k"
   ]
  },
  {
   "cell_type": "code",
   "execution_count": 233,
   "metadata": {},
   "outputs": [],
   "source": [
    "df = df.drop(columns=[\n",
    "    \"trzaskowski_increase\",\n",
    "    \"nawrocki_increase\",\n",
    "    \"relative_increase_diff_trzaskowski\",\n",
    "    \"relative_increase_diff_nawrocki\",\n",
    "    \"relative_increase_diff_trzaskowski_median\",\n",
    "    \"relative_increase_diff_trzaskowski_MAD\",\n",
    "    \"relative_increase_diff_nawrocki_median\",\n",
    "    \"relative_increase_diff_nawrocki_MAD\",\n",
    "    \"trzaskowski_k_score_2\",\n",
    "    \"nawrocki_k_score_2\"\n",
    "])"
   ]
  },
  {
   "cell_type": "markdown",
   "metadata": {},
   "source": [
    "### 3. Komisje, w których Nawrocki uzyskał więcej głosów niż Trzaskowski w drugiej turze, mimo że mediana wyników w grupie wskazywała na przewagę Trzaskowskiego;"
   ]
  },
  {
   "cell_type": "markdown",
   "metadata": {},
   "source": [
    "  1. Sprawdzamy, w których grupach dany kandydat miał większą medianę\n",
    "  2. Sumujemy komisje, w których wygrał kandydat A mimo, że większą medianę miał kandydat B i na odwrót."
   ]
  },
  {
   "cell_type": "code",
   "execution_count": 234,
   "metadata": {},
   "outputs": [],
   "source": [
    "# wieksza mediana w grupie\n",
    "df['higher_median_' + cand_A] = (df[cand_A + '_median_r2'] >  df[cand_B + '_median_r2']).astype(bool)\n",
    "df['higher_median_' + cand_B] = (df[cand_B + '_median_r2'] >  df[cand_A + '_median_r2']).astype(bool)"
   ]
  },
  {
   "cell_type": "code",
   "execution_count": 236,
   "metadata": {},
   "outputs": [
    {
     "data": {
      "text/plain": [
       "('trzaskowski', 2608)"
      ]
     },
     "execution_count": 236,
     "metadata": {},
     "output_type": "execute_result"
    }
   ],
   "source": [
    "# na korzyść kandydat A, czyli większą medianę miał B, a więcej głosów dostał A.\n",
    "cand_A, sum(df['higher_median_' + cand_B] & (df[cand_A + '_r2'] > df[cand_B + '_r2']))"
   ]
  },
  {
   "cell_type": "code",
   "execution_count": 238,
   "metadata": {},
   "outputs": [
    {
     "data": {
      "text/plain": [
       "('nawrocki', 1843)"
      ]
     },
     "execution_count": 238,
     "metadata": {},
     "output_type": "execute_result"
    }
   ],
   "source": [
    "cand_B, sum(df['higher_median_' + cand_A] & (df[cand_B + '_r2'] > df[cand_A + '_r2']))"
   ]
  },
  {
   "cell_type": "markdown",
   "metadata": {},
   "source": [
    "**WYNIKI**:\n",
    "\n",
    "W grupach, w których większą medianę miał Nawrocki, było 2608 komisji, w których wyższy wynik uzyskał Trzaskowski.\n",
    "\n",
    "W grupach, w których większą medianę miał Trzaskowski, było 1843 komisji, w których wyższy wyniki uzyskał Nawrocki.\n",
    "\n",
    "Przykładowo:\n",
    "\n",
    "W komisji 13 gdzie w drugiej turze głosowało.. 13 osób, Trzaskowski uzyskał większy wynik (8 do 5), mimo że w grupie obejmującej kod pocztowy 59-730 większą medianę miał Nawrocki (344 vs 158)."
   ]
  },
  {
   "cell_type": "code",
   "execution_count": 239,
   "metadata": {},
   "outputs": [],
   "source": [
    "# anomalie na korzysc\n",
    "df[cand_A + '_anomaly_3'] = df['higher_median_' + cand_B] & (df[cand_A + '_r2'] > df[cand_B + '_r2']) \n",
    "df[cand_B + '_anomaly_3'] = df['higher_median_' + cand_A] & (df[cand_B + '_r2'] > df[cand_A + '_r2']) "
   ]
  },
  {
   "cell_type": "code",
   "execution_count": 241,
   "metadata": {},
   "outputs": [],
   "source": [
    "df = df.drop(columns=[\n",
    "    \"trzaskowski_median_r2\",\n",
    "    \"nawrocki_median_r2\",\n",
    "    \"higher_median_trzaskowski\",\n",
    "    \"higher_median_nawrocki\"\t\n",
    "])"
   ]
  },
  {
   "cell_type": "markdown",
   "metadata": {},
   "source": [
    "**Wątpliwości w tej metodologii**\n",
    "\n",
    "Jak pisze Piotr Szulc:\n",
    "\n",
    "https://danetyka.com/kontek-analiza-bledow/\n",
    "\n",
    "Jedna z cech, jakie bada autor, jest nazwana “flip” i nie ma nic wspólnego z wyżej podaną standaryzacją i progami. Autor za anomalię uznaje każdy przypadek, w którym “Nawrocki wygrywa lokalnie, mimo że mediana wyników w grupie wskazuje przewagę Trzaskowskiego”. Załóżmy, że procenty poparcia dla Nawrockiego w danej grupie wynoszą: 45, 46, 47, 48, 49, 51, 52, 53, 54."
   ]
  },
  {
   "cell_type": "code",
   "execution_count": null,
   "metadata": {},
   "outputs": [],
   "source": [
    "# Dane: 9 komisji – Trzaskowski ma wyższą medianę, ale Nawrocki wygrywa w 4 komisjach\n",
    "dummy_df = pd.DataFrame({\n",
    "    'okręg': ['A'] * 9,\n",
    "    'trzaskowski': [55, 54, 53, 52, 51, 49, 47, 46, 45],\n",
    "    'nawrocki':    [45, 46, 47, 48, 49, 51, 52, 53, 54],\n",
    "})"
   ]
  },
  {
   "cell_type": "markdown",
   "metadata": {},
   "source": [
    "Mediana wynosi 49%, więc “mediana wyników w grupie wskazuje przewagę Trzaskowskiego”:"
   ]
  },
  {
   "cell_type": "code",
   "execution_count": 328,
   "metadata": {},
   "outputs": [],
   "source": [
    "# Obliczenie median\n",
    "trzaskowski_median = dummy_df['trzaskowski'].median()  # 51.0\n",
    "nawrocki_median = dummy_df['nawrocki'].median()        # 49.0\n",
    "\n",
    "# ale zeby być spójnym z poprzednią implementacją:\n",
    "\n",
    "# mediana w grupie\n",
    "dummy_df[cand_A + '_median'] = dummy_df.groupby('okręg')[cand_A].transform('median')\n",
    "dummy_df[cand_B + '_median'] = dummy_df.groupby('okręg')[cand_B].transform('median')\n",
    "\n",
    "dummy_df['higher_median_' + cand_A] = (dummy_df[cand_A + '_median'] >  dummy_df[cand_B + '_median']).astype(bool)\n",
    "dummy_df['higher_median_' + cand_B] = (dummy_df[cand_B + '_median'] >  dummy_df[cand_A + '_median']).astype(bool)"
   ]
  },
  {
   "cell_type": "markdown",
   "metadata": {},
   "source": [
    "a zatem te cztery komisje, w których Nawrockich otrzymał ponad 50% to anomalie, co oczywiście nie ma żadnego sensu. Ta cecha jest odpowiedzialna za ponad połowę (!) wskazań."
   ]
  },
  {
   "cell_type": "code",
   "execution_count": 330,
   "metadata": {},
   "outputs": [
    {
     "data": {
      "text/plain": [
       "('nawrocki', 4)"
      ]
     },
     "execution_count": 330,
     "metadata": {},
     "output_type": "execute_result"
    }
   ],
   "source": [
    "# na korzyść kandydat B, czyli większą medianę miał A, a więcej głosów dostał B.\n",
    "cand_B, sum(dummy_df['higher_median_' + cand_A] & (dummy_df[cand_B] > dummy_df[cand_A]))"
   ]
  },
  {
   "cell_type": "code",
   "execution_count": 332,
   "metadata": {},
   "outputs": [
    {
     "name": "stdout",
     "output_type": "stream",
     "text": [
      "   trzaskowski  nawrocki  flip_nawrocki\n",
      "0           55        45          False\n",
      "1           54        46          False\n",
      "2           53        47          False\n",
      "3           52        48          False\n",
      "4           51        49          False\n",
      "5           49        51           True\n",
      "6           47        52           True\n",
      "7           46        53           True\n",
      "8           45        54           True\n",
      "\n",
      "Liczba 'anomalii' według flip: 4 z 9\n"
     ]
    }
   ],
   "source": [
    "# Flip: Nawrocki wygrywa, mimo że Trzaskowski miał wyższą medianę w grupie\n",
    "dummy_df['flip_' + cand_B] = dummy_df['higher_median_' + cand_A] & (dummy_df[cand_B] > dummy_df[cand_A])\n",
    "\n",
    "# Wyświetlenie flipów\n",
    "print(dummy_df[[cand_A, cand_B, 'flip_' + cand_B]])\n",
    "print(f\"\\nLiczba 'anomalii' według flip: {dummy_df['flip_' + cand_B].sum()} z {len(dummy_df)}\")"
   ]
  },
  {
   "cell_type": "markdown",
   "metadata": {},
   "source": [
    "Na obronę dra Kontka muszę przyznać, że te „anomalie” nie zostałyby uwzględnione w jego właściwej analizie, ponieważ zastosowany przez niego próg istotności wynosi\n",
    "\n",
    "_k = 2_. \n",
    "\n",
    "W naszym przykładzie, mimo że występują przypadki tzw. „flipów” (czyli lokalnej wygranej kandydata z niższą medianą), żaden z nich nie osiąga wartości \n",
    "\n",
    "_k_score_1 > 2_. \n",
    "\n",
    "Oznacza to, że różnice te nie zostałyby uznane za statystycznie istotne odchylenia w jego modelu i nie trafiłyby na listę „anomalii”."
   ]
  },
  {
   "cell_type": "code",
   "execution_count": 333,
   "metadata": {},
   "outputs": [
    {
     "name": "stdout",
     "output_type": "stream",
     "text": [
      "\n",
      "k > 2.0\n",
      "trzaskowski: 0\n",
      "nawrocki: 0\n",
      "---\n",
      "\n",
      "k > 2.5\n",
      "trzaskowski: 0\n",
      "nawrocki: 0\n",
      "---\n",
      "\n",
      "k > 3.0\n",
      "trzaskowski: 0\n",
      "nawrocki: 0\n",
      "---\n"
     ]
    }
   ],
   "source": [
    "# === Obliczanie MAD w grupie ===\n",
    "def mad(series):\n",
    "    return median_abs_deviation(series, scale='normal')  # spójne z klasyczną definicją\n",
    "\n",
    "dummy_df[cand_A + '_MAD'] = dummy_df.groupby('okręg')[cand_A].transform(mad)\n",
    "dummy_df[cand_B + '_MAD'] = dummy_df.groupby('okręg')[cand_B].transform(mad)\n",
    "\n",
    "# Obliczanie k_score_1\n",
    "dummy_df[cand_A + '_k_score_1'] = (dummy_df[cand_A] - dummy_df[cand_A + '_median']) / dummy_df[cand_A + '_MAD']\n",
    "dummy_df[cand_B + '_k_score_1'] = (dummy_df[cand_B] - dummy_df[cand_B + '_median']) / dummy_df[cand_B + '_MAD']\n",
    "\n",
    "# === Analiza k_score_1 względem progów ===\n",
    "for k in [2.0, 2.5, 3.0]:\n",
    "    count_A = (dummy_df[cand_A + '_k_score_1'] > k).sum()\n",
    "    count_B = (dummy_df[cand_B + '_k_score_1'] > k).sum()\n",
    "    print(f'\\nk > {k}')\n",
    "    print(f'{cand_A}: {count_A}')\n",
    "    print(f'{cand_B}: {count_B}')\n",
    "    print('---')"
   ]
  },
  {
   "cell_type": "markdown",
   "metadata": {},
   "source": [
    "### 4. Kandydat otrzymał mniej głosów w drugiej turze niż w pierwszej"
   ]
  },
  {
   "cell_type": "code",
   "execution_count": 244,
   "metadata": {},
   "outputs": [
    {
     "data": {
      "text/plain": [
       "('trzaskowski', 128)"
      ]
     },
     "execution_count": 244,
     "metadata": {},
     "output_type": "execute_result"
    }
   ],
   "source": [
    "cand_A, sum(df[cand_A + '_r2']<df[cand_A + '_r1'])"
   ]
  },
  {
   "cell_type": "markdown",
   "metadata": {},
   "source": [
    "W 128 komisjach Trzaskowski uzyskał mniej głosów w drugiej turze niż w pierwszej."
   ]
  },
  {
   "cell_type": "code",
   "execution_count": 246,
   "metadata": {},
   "outputs": [
    {
     "data": {
      "text/plain": [
       "('nawrocki', 112)"
      ]
     },
     "execution_count": 246,
     "metadata": {},
     "output_type": "execute_result"
    }
   ],
   "source": [
    "cand_B, sum(df[cand_B + '_r2']<df[cand_B + '_r1'])"
   ]
  },
  {
   "cell_type": "markdown",
   "metadata": {},
   "source": [
    "W 112 komisjach Nawrocki uzyskał mniej głosów w drugiej turze niż w pierwszej."
   ]
  },
  {
   "cell_type": "markdown",
   "metadata": {},
   "source": [
    "\n",
    "Przykładowe anomalie na korzyść Trzaskowskiego:"
   ]
  },
  {
   "cell_type": "code",
   "execution_count": 266,
   "metadata": {},
   "outputs": [
    {
     "data": {
      "text/html": [
       "<div>\n",
       "<style scoped>\n",
       "    .dataframe tbody tr th:only-of-type {\n",
       "        vertical-align: middle;\n",
       "    }\n",
       "\n",
       "    .dataframe tbody tr th {\n",
       "        vertical-align: top;\n",
       "    }\n",
       "\n",
       "    .dataframe thead th {\n",
       "        text-align: right;\n",
       "    }\n",
       "</style>\n",
       "<table border=\"1\" class=\"dataframe\">\n",
       "  <thead>\n",
       "    <tr style=\"text-align: right;\">\n",
       "      <th></th>\n",
       "      <th>teryt_gmina</th>\n",
       "      <th>polling_station_id</th>\n",
       "      <th>trzaskowski_r1</th>\n",
       "      <th>nawrocki_r1</th>\n",
       "      <th>postal_code</th>\n",
       "      <th>trzaskowski_r2</th>\n",
       "      <th>nawrocki_r2</th>\n",
       "      <th>postal_clean</th>\n",
       "      <th>bucket</th>\n",
       "      <th>trzaskowski_anomaly_1</th>\n",
       "      <th>nawrocki_anomaly_1</th>\n",
       "      <th>trzaskowski_anomaly_2</th>\n",
       "      <th>nawrocki_anomaly_2</th>\n",
       "      <th>trzaskowski_anomaly_3</th>\n",
       "      <th>nawrocki_anomaly_3</th>\n",
       "      <th>trzaskowski_anomaly_4</th>\n",
       "      <th>nawrocki_anomaly_4</th>\n",
       "      <th>trzaskowski_sum_anomalies</th>\n",
       "      <th>nawrocki_sum_anomalies</th>\n",
       "    </tr>\n",
       "  </thead>\n",
       "  <tbody>\n",
       "    <tr>\n",
       "      <th>12616</th>\n",
       "      <td>140706</td>\n",
       "      <td>1</td>\n",
       "      <td>105.0</td>\n",
       "      <td>285.0</td>\n",
       "      <td>26-910</td>\n",
       "      <td>467.0</td>\n",
       "      <td>193.0</td>\n",
       "      <td>26910</td>\n",
       "      <td>630</td>\n",
       "      <td>True</td>\n",
       "      <td>False</td>\n",
       "      <td>True</td>\n",
       "      <td>False</td>\n",
       "      <td>True</td>\n",
       "      <td>False</td>\n",
       "      <td>True</td>\n",
       "      <td>False</td>\n",
       "      <td>4</td>\n",
       "      <td>0</td>\n",
       "    </tr>\n",
       "    <tr>\n",
       "      <th>25866</th>\n",
       "      <td>261207</td>\n",
       "      <td>4</td>\n",
       "      <td>143.0</td>\n",
       "      <td>224.0</td>\n",
       "      <td>28-200</td>\n",
       "      <td>360.0</td>\n",
       "      <td>209.0</td>\n",
       "      <td>28200</td>\n",
       "      <td>662</td>\n",
       "      <td>True</td>\n",
       "      <td>False</td>\n",
       "      <td>True</td>\n",
       "      <td>False</td>\n",
       "      <td>True</td>\n",
       "      <td>False</td>\n",
       "      <td>True</td>\n",
       "      <td>False</td>\n",
       "      <td>4</td>\n",
       "      <td>0</td>\n",
       "    </tr>\n",
       "    <tr>\n",
       "      <th>5098</th>\n",
       "      <td>60903</td>\n",
       "      <td>4</td>\n",
       "      <td>89.0</td>\n",
       "      <td>174.0</td>\n",
       "      <td>23-100</td>\n",
       "      <td>260.0</td>\n",
       "      <td>163.0</td>\n",
       "      <td>23100</td>\n",
       "      <td>522</td>\n",
       "      <td>True</td>\n",
       "      <td>False</td>\n",
       "      <td>True</td>\n",
       "      <td>False</td>\n",
       "      <td>True</td>\n",
       "      <td>False</td>\n",
       "      <td>True</td>\n",
       "      <td>False</td>\n",
       "      <td>4</td>\n",
       "      <td>0</td>\n",
       "    </tr>\n",
       "    <tr>\n",
       "      <th>24825</th>\n",
       "      <td>260101</td>\n",
       "      <td>34</td>\n",
       "      <td>172.0</td>\n",
       "      <td>129.0</td>\n",
       "      <td>28-100</td>\n",
       "      <td>148.0</td>\n",
       "      <td>111.0</td>\n",
       "      <td>28100</td>\n",
       "      <td>657</td>\n",
       "      <td>False</td>\n",
       "      <td>False</td>\n",
       "      <td>False</td>\n",
       "      <td>False</td>\n",
       "      <td>True</td>\n",
       "      <td>False</td>\n",
       "      <td>True</td>\n",
       "      <td>True</td>\n",
       "      <td>2</td>\n",
       "      <td>1</td>\n",
       "    </tr>\n",
       "    <tr>\n",
       "      <th>2372</th>\n",
       "      <td>40102</td>\n",
       "      <td>9</td>\n",
       "      <td>120.0</td>\n",
       "      <td>105.0</td>\n",
       "      <td>87-720</td>\n",
       "      <td>164.0</td>\n",
       "      <td>85.0</td>\n",
       "      <td>87720</td>\n",
       "      <td>2197</td>\n",
       "      <td>False</td>\n",
       "      <td>False</td>\n",
       "      <td>True</td>\n",
       "      <td>False</td>\n",
       "      <td>True</td>\n",
       "      <td>False</td>\n",
       "      <td>True</td>\n",
       "      <td>False</td>\n",
       "      <td>3</td>\n",
       "      <td>0</td>\n",
       "    </tr>\n",
       "  </tbody>\n",
       "</table>\n",
       "</div>"
      ],
      "text/plain": [
       "       teryt_gmina  polling_station_id  trzaskowski_r1  nawrocki_r1  \\\n",
       "12616       140706                   1           105.0        285.0   \n",
       "25866       261207                   4           143.0        224.0   \n",
       "5098         60903                   4            89.0        174.0   \n",
       "24825       260101                  34           172.0        129.0   \n",
       "2372         40102                   9           120.0        105.0   \n",
       "\n",
       "      postal_code  trzaskowski_r2  nawrocki_r2 postal_clean  bucket  \\\n",
       "12616      26-910           467.0        193.0        26910     630   \n",
       "25866      28-200           360.0        209.0        28200     662   \n",
       "5098       23-100           260.0        163.0        23100     522   \n",
       "24825      28-100           148.0        111.0        28100     657   \n",
       "2372       87-720           164.0         85.0        87720    2197   \n",
       "\n",
       "       trzaskowski_anomaly_1  nawrocki_anomaly_1  trzaskowski_anomaly_2  \\\n",
       "12616                   True               False                   True   \n",
       "25866                   True               False                   True   \n",
       "5098                    True               False                   True   \n",
       "24825                  False               False                  False   \n",
       "2372                   False               False                   True   \n",
       "\n",
       "       nawrocki_anomaly_2  trzaskowski_anomaly_3  nawrocki_anomaly_3  \\\n",
       "12616               False                   True               False   \n",
       "25866               False                   True               False   \n",
       "5098                False                   True               False   \n",
       "24825               False                   True               False   \n",
       "2372                False                   True               False   \n",
       "\n",
       "       trzaskowski_anomaly_4  nawrocki_anomaly_4  trzaskowski_sum_anomalies  \\\n",
       "12616                   True               False                          4   \n",
       "25866                   True               False                          4   \n",
       "5098                    True               False                          4   \n",
       "24825                   True                True                          2   \n",
       "2372                    True               False                          3   \n",
       "\n",
       "       nawrocki_sum_anomalies  \n",
       "12616                       0  \n",
       "25866                       0  \n",
       "5098                        0  \n",
       "24825                       1  \n",
       "2372                        0  "
      ]
     },
     "execution_count": 266,
     "metadata": {},
     "output_type": "execute_result"
    }
   ],
   "source": [
    "df[df[cand_B + '_r2'] < df[cand_B + '_r1']].sort_values(by=cand_B + '_r1', ascending=False).head()"
   ]
  },
  {
   "cell_type": "code",
   "execution_count": 250,
   "metadata": {},
   "outputs": [],
   "source": [
    "# Anomalie na korzysc\n",
    "df[cand_A + '_anomaly_4'] = df[cand_B + '_r2']<df[cand_B + '_r1']\n",
    "df[cand_B + '_anomaly_4'] = df[cand_A + '_r2']<df[cand_A + '_r1']"
   ]
  },
  {
   "cell_type": "markdown",
   "metadata": {},
   "source": [
    "To są rzeczywiście bardzo podejrzane przypadki i o takich przypadkach powinniśmy alarmować w pierwszej kolejności. Po pierwsze, ju na etapie wprowadzania do systemu, a po drugie do ewentualnej kontroli i ponownego liczenia glosów"
   ]
  },
  {
   "cell_type": "markdown",
   "metadata": {},
   "source": [
    "## Sumowanie anomalii"
   ]
  },
  {
   "cell_type": "markdown",
   "metadata": {},
   "source": [
    "### Na korzyść Trzaskowskiego"
   ]
  },
  {
   "cell_type": "code",
   "execution_count": 253,
   "metadata": {},
   "outputs": [],
   "source": [
    "df[cand_A + '_sum_anomalies'] = df[[\n",
    "    cand_A + '_anomaly_1', \n",
    "    cand_A + '_anomaly_2',\n",
    "    cand_A + '_anomaly_3',\n",
    "    cand_A + '_anomaly_4']].sum(axis=1)"
   ]
  },
  {
   "cell_type": "code",
   "execution_count": null,
   "metadata": {},
   "outputs": [
    {
     "name": "stdout",
     "output_type": "stream",
     "text": [
      "1 anomalies:\n",
      "trzaskowski 8161\n",
      "2 anomalies:\n",
      "trzaskowski 1179\n",
      "3 anomalies:\n",
      "trzaskowski 34\n",
      "4 anomalies:\n",
      "trzaskowski 3\n"
     ]
    }
   ],
   "source": [
    "for number_of_anomalies in [1,2,3,4]:\n",
    "    print(f\"{number_of_anomalies} anomalies:\")\n",
    "    print(cand_A, sum(df[cand_A + '_sum_anomalies']>=number_of_anomalies))"
   ]
  },
  {
   "cell_type": "code",
   "execution_count": 259,
   "metadata": {},
   "outputs": [
    {
     "data": {
      "text/html": [
       "<div>\n",
       "<style scoped>\n",
       "    .dataframe tbody tr th:only-of-type {\n",
       "        vertical-align: middle;\n",
       "    }\n",
       "\n",
       "    .dataframe tbody tr th {\n",
       "        vertical-align: top;\n",
       "    }\n",
       "\n",
       "    .dataframe thead th {\n",
       "        text-align: right;\n",
       "    }\n",
       "</style>\n",
       "<table border=\"1\" class=\"dataframe\">\n",
       "  <thead>\n",
       "    <tr style=\"text-align: right;\">\n",
       "      <th></th>\n",
       "      <th>teryt_gmina</th>\n",
       "      <th>polling_station_id</th>\n",
       "      <th>trzaskowski_r1</th>\n",
       "      <th>nawrocki_r1</th>\n",
       "      <th>postal_code</th>\n",
       "      <th>trzaskowski_r2</th>\n",
       "      <th>nawrocki_r2</th>\n",
       "      <th>postal_clean</th>\n",
       "      <th>bucket</th>\n",
       "      <th>trzaskowski_anomaly_1</th>\n",
       "      <th>nawrocki_anomaly_1</th>\n",
       "      <th>trzaskowski_anomaly_2</th>\n",
       "      <th>nawrocki_anomaly_2</th>\n",
       "      <th>trzaskowski_anomaly_3</th>\n",
       "      <th>nawrocki_anomaly_3</th>\n",
       "      <th>trzaskowski_anomaly_4</th>\n",
       "      <th>nawrocki_anomaly_4</th>\n",
       "      <th>trzaskowski_sum_anomalies</th>\n",
       "    </tr>\n",
       "  </thead>\n",
       "  <tbody>\n",
       "    <tr>\n",
       "      <th>5098</th>\n",
       "      <td>60903</td>\n",
       "      <td>4</td>\n",
       "      <td>89.0</td>\n",
       "      <td>174.0</td>\n",
       "      <td>23-100</td>\n",
       "      <td>260.0</td>\n",
       "      <td>163.0</td>\n",
       "      <td>23100</td>\n",
       "      <td>522</td>\n",
       "      <td>True</td>\n",
       "      <td>False</td>\n",
       "      <td>True</td>\n",
       "      <td>False</td>\n",
       "      <td>True</td>\n",
       "      <td>False</td>\n",
       "      <td>True</td>\n",
       "      <td>False</td>\n",
       "      <td>4</td>\n",
       "    </tr>\n",
       "    <tr>\n",
       "      <th>12616</th>\n",
       "      <td>140706</td>\n",
       "      <td>1</td>\n",
       "      <td>105.0</td>\n",
       "      <td>285.0</td>\n",
       "      <td>26-910</td>\n",
       "      <td>467.0</td>\n",
       "      <td>193.0</td>\n",
       "      <td>26910</td>\n",
       "      <td>630</td>\n",
       "      <td>True</td>\n",
       "      <td>False</td>\n",
       "      <td>True</td>\n",
       "      <td>False</td>\n",
       "      <td>True</td>\n",
       "      <td>False</td>\n",
       "      <td>True</td>\n",
       "      <td>False</td>\n",
       "      <td>4</td>\n",
       "    </tr>\n",
       "    <tr>\n",
       "      <th>25866</th>\n",
       "      <td>261207</td>\n",
       "      <td>4</td>\n",
       "      <td>143.0</td>\n",
       "      <td>224.0</td>\n",
       "      <td>28-200</td>\n",
       "      <td>360.0</td>\n",
       "      <td>209.0</td>\n",
       "      <td>28200</td>\n",
       "      <td>662</td>\n",
       "      <td>True</td>\n",
       "      <td>False</td>\n",
       "      <td>True</td>\n",
       "      <td>False</td>\n",
       "      <td>True</td>\n",
       "      <td>False</td>\n",
       "      <td>True</td>\n",
       "      <td>False</td>\n",
       "      <td>4</td>\n",
       "    </tr>\n",
       "  </tbody>\n",
       "</table>\n",
       "</div>"
      ],
      "text/plain": [
       "       teryt_gmina  polling_station_id  trzaskowski_r1  nawrocki_r1  \\\n",
       "5098         60903                   4            89.0        174.0   \n",
       "12616       140706                   1           105.0        285.0   \n",
       "25866       261207                   4           143.0        224.0   \n",
       "\n",
       "      postal_code  trzaskowski_r2  nawrocki_r2 postal_clean  bucket  \\\n",
       "5098       23-100           260.0        163.0        23100     522   \n",
       "12616      26-910           467.0        193.0        26910     630   \n",
       "25866      28-200           360.0        209.0        28200     662   \n",
       "\n",
       "       trzaskowski_anomaly_1  nawrocki_anomaly_1  trzaskowski_anomaly_2  \\\n",
       "5098                    True               False                   True   \n",
       "12616                   True               False                   True   \n",
       "25866                   True               False                   True   \n",
       "\n",
       "       nawrocki_anomaly_2  trzaskowski_anomaly_3  nawrocki_anomaly_3  \\\n",
       "5098                False                   True               False   \n",
       "12616               False                   True               False   \n",
       "25866               False                   True               False   \n",
       "\n",
       "       trzaskowski_anomaly_4  nawrocki_anomaly_4  trzaskowski_sum_anomalies  \n",
       "5098                    True               False                          4  \n",
       "12616                   True               False                          4  \n",
       "25866                   True               False                          4  "
      ]
     },
     "execution_count": 259,
     "metadata": {},
     "output_type": "execute_result"
    }
   ],
   "source": [
    "# Komisje z wszystkimi czterma anomaliami\n",
    "df[df[cand_A + '_sum_anomalies']>=4]"
   ]
  },
  {
   "cell_type": "markdown",
   "metadata": {},
   "source": [
    "### Na korzyść Nawrockiego"
   ]
  },
  {
   "cell_type": "code",
   "execution_count": 261,
   "metadata": {},
   "outputs": [],
   "source": [
    "df[cand_B + '_sum_anomalies'] = df[[\n",
    "    cand_B + '_anomaly_1', \n",
    "    cand_B + '_anomaly_2',\n",
    "    cand_B + '_anomaly_3',\n",
    "    cand_B + '_anomaly_4']].sum(axis=1)"
   ]
  },
  {
   "cell_type": "code",
   "execution_count": 264,
   "metadata": {},
   "outputs": [
    {
     "name": "stdout",
     "output_type": "stream",
     "text": [
      "1 anomalies:\n",
      "nawrocki 6871\n",
      "2 anomalies:\n",
      "nawrocki 483\n",
      "3 anomalies:\n",
      "nawrocki 34\n",
      "4 anomalies:\n",
      "nawrocki 2\n"
     ]
    }
   ],
   "source": [
    "for number_of_anomalies in [1,2,3,4]:\n",
    "    print(f\"{number_of_anomalies} anomalies:\")\n",
    "    print(cand_B, sum(df[cand_B + '_sum_anomalies']>=number_of_anomalies))"
   ]
  },
  {
   "cell_type": "code",
   "execution_count": 263,
   "metadata": {},
   "outputs": [
    {
     "data": {
      "text/html": [
       "<div>\n",
       "<style scoped>\n",
       "    .dataframe tbody tr th:only-of-type {\n",
       "        vertical-align: middle;\n",
       "    }\n",
       "\n",
       "    .dataframe tbody tr th {\n",
       "        vertical-align: top;\n",
       "    }\n",
       "\n",
       "    .dataframe thead th {\n",
       "        text-align: right;\n",
       "    }\n",
       "</style>\n",
       "<table border=\"1\" class=\"dataframe\">\n",
       "  <thead>\n",
       "    <tr style=\"text-align: right;\">\n",
       "      <th></th>\n",
       "      <th>teryt_gmina</th>\n",
       "      <th>polling_station_id</th>\n",
       "      <th>trzaskowski_r1</th>\n",
       "      <th>nawrocki_r1</th>\n",
       "      <th>postal_code</th>\n",
       "      <th>trzaskowski_r2</th>\n",
       "      <th>nawrocki_r2</th>\n",
       "      <th>postal_clean</th>\n",
       "      <th>bucket</th>\n",
       "      <th>trzaskowski_anomaly_1</th>\n",
       "      <th>nawrocki_anomaly_1</th>\n",
       "      <th>trzaskowski_anomaly_2</th>\n",
       "      <th>nawrocki_anomaly_2</th>\n",
       "      <th>trzaskowski_anomaly_3</th>\n",
       "      <th>nawrocki_anomaly_3</th>\n",
       "      <th>trzaskowski_anomaly_4</th>\n",
       "      <th>nawrocki_anomaly_4</th>\n",
       "      <th>trzaskowski_sum_anomalies</th>\n",
       "      <th>nawrocki_sum_anomalies</th>\n",
       "    </tr>\n",
       "  </thead>\n",
       "  <tbody>\n",
       "    <tr>\n",
       "      <th>11610</th>\n",
       "      <td>126101</td>\n",
       "      <td>95</td>\n",
       "      <td>550.0</td>\n",
       "      <td>218.0</td>\n",
       "      <td>31-346</td>\n",
       "      <td>540.0</td>\n",
       "      <td>1132.0</td>\n",
       "      <td>31346</td>\n",
       "      <td>691</td>\n",
       "      <td>False</td>\n",
       "      <td>True</td>\n",
       "      <td>False</td>\n",
       "      <td>True</td>\n",
       "      <td>False</td>\n",
       "      <td>True</td>\n",
       "      <td>False</td>\n",
       "      <td>True</td>\n",
       "      <td>0</td>\n",
       "      <td>4</td>\n",
       "    </tr>\n",
       "    <tr>\n",
       "      <th>17032</th>\n",
       "      <td>161105</td>\n",
       "      <td>9</td>\n",
       "      <td>311.0</td>\n",
       "      <td>107.0</td>\n",
       "      <td>47-100</td>\n",
       "      <td>223.0</td>\n",
       "      <td>416.0</td>\n",
       "      <td>47100</td>\n",
       "      <td>1408</td>\n",
       "      <td>False</td>\n",
       "      <td>True</td>\n",
       "      <td>False</td>\n",
       "      <td>True</td>\n",
       "      <td>False</td>\n",
       "      <td>True</td>\n",
       "      <td>False</td>\n",
       "      <td>True</td>\n",
       "      <td>0</td>\n",
       "      <td>4</td>\n",
       "    </tr>\n",
       "  </tbody>\n",
       "</table>\n",
       "</div>"
      ],
      "text/plain": [
       "       teryt_gmina  polling_station_id  trzaskowski_r1  nawrocki_r1  \\\n",
       "11610       126101                  95           550.0        218.0   \n",
       "17032       161105                   9           311.0        107.0   \n",
       "\n",
       "      postal_code  trzaskowski_r2  nawrocki_r2 postal_clean  bucket  \\\n",
       "11610      31-346           540.0       1132.0        31346     691   \n",
       "17032      47-100           223.0        416.0        47100    1408   \n",
       "\n",
       "       trzaskowski_anomaly_1  nawrocki_anomaly_1  trzaskowski_anomaly_2  \\\n",
       "11610                  False                True                  False   \n",
       "17032                  False                True                  False   \n",
       "\n",
       "       nawrocki_anomaly_2  trzaskowski_anomaly_3  nawrocki_anomaly_3  \\\n",
       "11610                True                  False                True   \n",
       "17032                True                  False                True   \n",
       "\n",
       "       trzaskowski_anomaly_4  nawrocki_anomaly_4  trzaskowski_sum_anomalies  \\\n",
       "11610                  False                True                          0   \n",
       "17032                  False                True                          0   \n",
       "\n",
       "       nawrocki_sum_anomalies  \n",
       "11610                       4  \n",
       "17032                       4  "
      ]
     },
     "execution_count": 263,
     "metadata": {},
     "output_type": "execute_result"
    }
   ],
   "source": [
    "# Komisje z 4 anomaliami, \"widać Kraków\"\n",
    "df[df[cand_B + '_sum_anomalies']>=4]"
   ]
  },
  {
   "cell_type": "markdown",
   "metadata": {},
   "source": [
    "### PONOWNIE POLICZONE GŁOSY\n",
    "\n",
    "\n",
    "https://polskieradio24.pl/artykul/3543223,jakie-sa-wyniki-w-komisjach-w-ktorych-ponownie-przeliczono-glosy-sprawdzilismy"
   ]
  },
  {
   "cell_type": "code",
   "execution_count": 273,
   "metadata": {},
   "outputs": [],
   "source": [
    "df_vote_recount = load_presidential_data(\"2025\", \"2\")\n",
    "df_vote_recount = process_presidential_df(df_vote_recount, \"2025\", final_cols=[\"Gmina\", \"Województwo\", \"Siedziba\"])"
   ]
  },
  {
   "cell_type": "code",
   "execution_count": 284,
   "metadata": {},
   "outputs": [
    {
     "name": "stdout",
     "output_type": "stream",
     "text": [
      "Matching polling stations after recount:\n",
      "                                                                11610\n",
      "valid_votes                                                    1672.0\n",
      "polling_station_id                                                 95\n",
      "eligible_voters                                                1980.0\n",
      "ballots_cast                                                   1684.0\n",
      "teryt_gmina                                                  126101.0\n",
      "nawrocki                                                       1132.0\n",
      "trzaskowski                                                     540.0\n",
      "postal_code                                                    31-346\n",
      "Gmina                                                       m. Kraków\n",
      "Województwo                                               małopolskie\n",
      "Siedziba            Zespół Szkolno-Przedszkolny Nr 14, ul. Stawowa...\n"
     ]
    }
   ],
   "source": [
    "# Example: values from recount\n",
    "target_nawrocki = 1132\n",
    "target_trzaskowski = 540\n",
    "\n",
    "# Find records that match these values exactly\n",
    "matching_stations = df_vote_recount[\n",
    "    (df_vote_recount[\"nawrocki\"] == target_nawrocki) &\n",
    "    (df_vote_recount[\"trzaskowski\"] == target_trzaskowski)\n",
    "]\n",
    "\n",
    "print(\"Matching polling stations after recount:\")\n",
    "print(matching_stations.T)"
   ]
  },
  {
   "cell_type": "code",
   "execution_count": 299,
   "metadata": {},
   "outputs": [
    {
     "data": {
      "text/html": [
       "<div>\n",
       "<style scoped>\n",
       "    .dataframe tbody tr th:only-of-type {\n",
       "        vertical-align: middle;\n",
       "    }\n",
       "\n",
       "    .dataframe tbody tr th {\n",
       "        vertical-align: top;\n",
       "    }\n",
       "\n",
       "    .dataframe thead th {\n",
       "        text-align: right;\n",
       "    }\n",
       "</style>\n",
       "<table border=\"1\" class=\"dataframe\">\n",
       "  <thead>\n",
       "    <tr style=\"text-align: right;\">\n",
       "      <th></th>\n",
       "      <th>teryt_gmina</th>\n",
       "      <th>polling_station_id</th>\n",
       "      <th>valid_votes</th>\n",
       "      <th>nawrocki</th>\n",
       "      <th>new_nawrocki</th>\n",
       "      <th>trzaskowski</th>\n",
       "      <th>new_trzaskowski</th>\n",
       "    </tr>\n",
       "  </thead>\n",
       "  <tbody>\n",
       "    <tr>\n",
       "      <th>0</th>\n",
       "      <td>20701.0</td>\n",
       "      <td>6</td>\n",
       "      <td>706.0</td>\n",
       "      <td>368.0</td>\n",
       "      <td>278</td>\n",
       "      <td>338.0</td>\n",
       "      <td>428</td>\n",
       "    </tr>\n",
       "    <tr>\n",
       "      <th>1</th>\n",
       "      <td>41804.0</td>\n",
       "      <td>4</td>\n",
       "      <td>797.0</td>\n",
       "      <td>466.0</td>\n",
       "      <td>331</td>\n",
       "      <td>331.0</td>\n",
       "      <td>466</td>\n",
       "    </tr>\n",
       "    <tr>\n",
       "      <th>2</th>\n",
       "      <td>46201.0</td>\n",
       "      <td>25</td>\n",
       "      <td>828.0</td>\n",
       "      <td>504.0</td>\n",
       "      <td>324</td>\n",
       "      <td>324.0</td>\n",
       "      <td>504</td>\n",
       "    </tr>\n",
       "    <tr>\n",
       "      <th>3</th>\n",
       "      <td>121611.0</td>\n",
       "      <td>10</td>\n",
       "      <td>330.0</td>\n",
       "      <td>217.0</td>\n",
       "      <td>317</td>\n",
       "      <td>113.0</td>\n",
       "      <td>363</td>\n",
       "    </tr>\n",
       "    <tr>\n",
       "      <th>4</th>\n",
       "      <td>126101.0</td>\n",
       "      <td>95</td>\n",
       "      <td>1672.0</td>\n",
       "      <td>1132.0</td>\n",
       "      <td>540</td>\n",
       "      <td>540.0</td>\n",
       "      <td>1132</td>\n",
       "    </tr>\n",
       "    <tr>\n",
       "      <th>5</th>\n",
       "      <td>140706.0</td>\n",
       "      <td>1</td>\n",
       "      <td>660.0</td>\n",
       "      <td>193.0</td>\n",
       "      <td>468</td>\n",
       "      <td>467.0</td>\n",
       "      <td>192</td>\n",
       "    </tr>\n",
       "    <tr>\n",
       "      <th>6</th>\n",
       "      <td>141201.0</td>\n",
       "      <td>13</td>\n",
       "      <td>974.0</td>\n",
       "      <td>611.0</td>\n",
       "      <td>364</td>\n",
       "      <td>363.0</td>\n",
       "      <td>611</td>\n",
       "    </tr>\n",
       "    <tr>\n",
       "      <th>7</th>\n",
       "      <td>146505.0</td>\n",
       "      <td>113</td>\n",
       "      <td>1910.0</td>\n",
       "      <td>136.0</td>\n",
       "      <td>296</td>\n",
       "      <td>1774.0</td>\n",
       "      <td>1611</td>\n",
       "    </tr>\n",
       "    <tr>\n",
       "      <th>8</th>\n",
       "      <td>160803.0</td>\n",
       "      <td>3</td>\n",
       "      <td>1015.0</td>\n",
       "      <td>637.0</td>\n",
       "      <td>377</td>\n",
       "      <td>378.0</td>\n",
       "      <td>638</td>\n",
       "    </tr>\n",
       "    <tr>\n",
       "      <th>9</th>\n",
       "      <td>161105.0</td>\n",
       "      <td>9</td>\n",
       "      <td>639.0</td>\n",
       "      <td>416.0</td>\n",
       "      <td>223</td>\n",
       "      <td>223.0</td>\n",
       "      <td>416</td>\n",
       "    </tr>\n",
       "    <tr>\n",
       "      <th>10</th>\n",
       "      <td>226101.0</td>\n",
       "      <td>17</td>\n",
       "      <td>931.0</td>\n",
       "      <td>585.0</td>\n",
       "      <td>344</td>\n",
       "      <td>346.0</td>\n",
       "      <td>585</td>\n",
       "    </tr>\n",
       "    <tr>\n",
       "      <th>11</th>\n",
       "      <td>246101.0</td>\n",
       "      <td>30</td>\n",
       "      <td>959.0</td>\n",
       "      <td>610.0</td>\n",
       "      <td>450</td>\n",
       "      <td>349.0</td>\n",
       "      <td>509</td>\n",
       "    </tr>\n",
       "    <tr>\n",
       "      <th>12</th>\n",
       "      <td>246101.0</td>\n",
       "      <td>61</td>\n",
       "      <td>1819.0</td>\n",
       "      <td>1048.0</td>\n",
       "      <td>771</td>\n",
       "      <td>771.0</td>\n",
       "      <td>1049</td>\n",
       "    </tr>\n",
       "    <tr>\n",
       "      <th>13</th>\n",
       "      <td>246901.0</td>\n",
       "      <td>53</td>\n",
       "      <td>1458.0</td>\n",
       "      <td>628.0</td>\n",
       "      <td>627</td>\n",
       "      <td>830.0</td>\n",
       "      <td>828</td>\n",
       "    </tr>\n",
       "    <tr>\n",
       "      <th>14</th>\n",
       "      <td>247701.0</td>\n",
       "      <td>35</td>\n",
       "      <td>928.0</td>\n",
       "      <td>581.0</td>\n",
       "      <td>347</td>\n",
       "      <td>347.0</td>\n",
       "      <td>581</td>\n",
       "    </tr>\n",
       "    <tr>\n",
       "      <th>15</th>\n",
       "      <td>247801.0</td>\n",
       "      <td>20</td>\n",
       "      <td>1225.0</td>\n",
       "      <td>543.0</td>\n",
       "      <td>542</td>\n",
       "      <td>682.0</td>\n",
       "      <td>683</td>\n",
       "    </tr>\n",
       "    <tr>\n",
       "      <th>16</th>\n",
       "      <td>261207.0</td>\n",
       "      <td>4</td>\n",
       "      <td>569.0</td>\n",
       "      <td>209.0</td>\n",
       "      <td>360</td>\n",
       "      <td>360.0</td>\n",
       "      <td>209</td>\n",
       "    </tr>\n",
       "  </tbody>\n",
       "</table>\n",
       "</div>"
      ],
      "text/plain": [
       "    teryt_gmina  polling_station_id  valid_votes  nawrocki  new_nawrocki  \\\n",
       "0       20701.0                   6        706.0     368.0           278   \n",
       "1       41804.0                   4        797.0     466.0           331   \n",
       "2       46201.0                  25        828.0     504.0           324   \n",
       "3      121611.0                  10        330.0     217.0           317   \n",
       "4      126101.0                  95       1672.0    1132.0           540   \n",
       "5      140706.0                   1        660.0     193.0           468   \n",
       "6      141201.0                  13        974.0     611.0           364   \n",
       "7      146505.0                 113       1910.0     136.0           296   \n",
       "8      160803.0                   3       1015.0     637.0           377   \n",
       "9      161105.0                   9        639.0     416.0           223   \n",
       "10     226101.0                  17        931.0     585.0           344   \n",
       "11     246101.0                  30        959.0     610.0           450   \n",
       "12     246101.0                  61       1819.0    1048.0           771   \n",
       "13     246901.0                  53       1458.0     628.0           627   \n",
       "14     247701.0                  35        928.0     581.0           347   \n",
       "15     247801.0                  20       1225.0     543.0           542   \n",
       "16     261207.0                   4        569.0     209.0           360   \n",
       "\n",
       "    trzaskowski  new_trzaskowski  \n",
       "0         338.0              428  \n",
       "1         331.0              466  \n",
       "2         324.0              504  \n",
       "3         113.0              363  \n",
       "4         540.0             1132  \n",
       "5         467.0              192  \n",
       "6         363.0              611  \n",
       "7        1774.0             1611  \n",
       "8         378.0              638  \n",
       "9         223.0              416  \n",
       "10        346.0              585  \n",
       "11        349.0              509  \n",
       "12        771.0             1049  \n",
       "13        830.0              828  \n",
       "14        347.0              581  \n",
       "15        682.0              683  \n",
       "16        360.0              209  "
      ]
     },
     "execution_count": 299,
     "metadata": {},
     "output_type": "execute_result"
    }
   ],
   "source": [
    "# --- Step 1: Create the recount dataset with both old and new values ---\n",
    "recounts = [\n",
    "    {\"polling_station_id\": 95,  \"valid_votes\": 1672, \"old_nawrocki\": 1132, \"old_trzaskowski\": 540,  \"new_nawrocki\": 540,  \"new_trzaskowski\": 1132},\n",
    "    {\"polling_station_id\": 3,   \"valid_votes\": 1015, \"old_nawrocki\": 637,  \"old_trzaskowski\": 378,  \"new_nawrocki\": 377,  \"new_trzaskowski\": 638},\n",
    "    {\"polling_station_id\": 13,  \"valid_votes\": 974,  \"old_nawrocki\": 611,  \"old_trzaskowski\": 363,  \"new_nawrocki\": 364,  \"new_trzaskowski\": 611},\n",
    "    {\"polling_station_id\": 9,   \"valid_votes\": 639,  \"old_nawrocki\": 416,  \"old_trzaskowski\": 223,  \"new_nawrocki\": 223,  \"new_trzaskowski\": 416},\n",
    "    {\"polling_station_id\": 25,  \"valid_votes\": 828,  \"old_nawrocki\": 504,  \"old_trzaskowski\": 324,  \"new_nawrocki\": 324,  \"new_trzaskowski\": 504},\n",
    "    {\"polling_station_id\": 17,  \"valid_votes\": 931,  \"old_nawrocki\": 585,  \"old_trzaskowski\": 346,  \"new_nawrocki\": 344,  \"new_trzaskowski\": 585},\n",
    "    {\"polling_station_id\": 30,  \"valid_votes\": 959,  \"old_nawrocki\": 610,  \"old_trzaskowski\": 349,  \"new_nawrocki\": 450,  \"new_trzaskowski\": 509},\n",
    "    {\"polling_station_id\": 61,  \"valid_votes\": 1819, \"old_nawrocki\": 1048, \"old_trzaskowski\": 771,  \"new_nawrocki\": 771,  \"new_trzaskowski\": 1049},\n",
    "    {\"polling_station_id\": 10,  \"valid_votes\": 330,  \"old_nawrocki\": 217,  \"old_trzaskowski\": 113,  \"new_nawrocki\": 317,  \"new_trzaskowski\": 363},\n",
    "    {\"polling_station_id\": 53,  \"valid_votes\": 1458, \"old_nawrocki\": 628,  \"old_trzaskowski\": 830,  \"new_nawrocki\": 627,  \"new_trzaskowski\": 828},\n",
    "    {\"polling_station_id\": 35,  \"valid_votes\": 928,  \"old_nawrocki\": 581,  \"old_trzaskowski\": 347,  \"new_nawrocki\": 347,  \"new_trzaskowski\": 581},\n",
    "    {\"polling_station_id\": 6,   \"valid_votes\": 706,  \"old_nawrocki\": 368,  \"old_trzaskowski\": 338,  \"new_nawrocki\": 278,  \"new_trzaskowski\": 428},\n",
    "    {\"polling_station_id\": 4,   \"valid_votes\": 797,  \"old_nawrocki\": 466,  \"old_trzaskowski\": 331,  \"new_nawrocki\": 331,  \"new_trzaskowski\": 466},\n",
    "    {\"polling_station_id\": 4,   \"valid_votes\": 569,  \"old_nawrocki\": 209,  \"old_trzaskowski\": 360,  \"new_nawrocki\": 360,  \"new_trzaskowski\": 209},  # Staszów\n",
    "    {\"polling_station_id\": 1,   \"valid_votes\": 660,  \"old_nawrocki\": 193,  \"old_trzaskowski\": 467,  \"new_nawrocki\": 468,  \"new_trzaskowski\": 192},  # Magnuszew\n",
    "    {\"polling_station_id\": 113, \"valid_votes\": 1910, \"old_nawrocki\": 136,  \"old_trzaskowski\": 1774, \"new_nawrocki\": 296,  \"new_trzaskowski\": 1611},\n",
    "    {\"polling_station_id\": 20,  \"valid_votes\": 1225, \"old_nawrocki\": 543,  \"old_trzaskowski\": 682,  \"new_nawrocki\": 542,  \"new_trzaskowski\": 683},\n",
    "]\n",
    "\n",
    "recount_df = pd.DataFrame(recounts)\n",
    "\n",
    "# --- Step 2: Merge on 4 fields for exact match ---\n",
    "df_affected_polling_stations = df_vote_recount.merge(\n",
    "    recount_df,\n",
    "    how=\"inner\",\n",
    "    left_on=[\"polling_station_id\", \"valid_votes\", \"nawrocki\", \"trzaskowski\"],\n",
    "    right_on=[\"polling_station_id\", \"valid_votes\", \"old_nawrocki\", \"old_trzaskowski\"]\n",
    ")\n",
    "\n",
    "# --- Step 3: Output ---\n",
    "# print(\"✅ Matches with recount corrections:\")\n",
    "df_affected_polling_stations[[\"teryt_gmina\", \"polling_station_id\", \"valid_votes\", \"nawrocki\", \"new_nawrocki\",\n",
    "               \"trzaskowski\", \"new_trzaskowski\"]].head(17)\n",
    "\n",
    "\n"
   ]
  },
  {
   "cell_type": "code",
   "execution_count": 301,
   "metadata": {},
   "outputs": [
    {
     "data": {
      "text/plain": [
       "17"
      ]
     },
     "execution_count": 301,
     "metadata": {},
     "output_type": "execute_result"
    }
   ],
   "source": [
    "# Podsumowanie weryfikacji wyników wyborów 17 komisji\n",
    "\n",
    "len(df_affected_polling_stations)"
   ]
  }
 ],
 "metadata": {
  "kernelspec": {
   "display_name": "venv",
   "language": "python",
   "name": "python3"
  },
  "language_info": {
   "codemirror_mode": {
    "name": "ipython",
    "version": 3
   },
   "file_extension": ".py",
   "mimetype": "text/x-python",
   "name": "python",
   "nbconvert_exporter": "python",
   "pygments_lexer": "ipython3",
   "version": "3.13.4"
  }
 },
 "nbformat": 4,
 "nbformat_minor": 2
}
