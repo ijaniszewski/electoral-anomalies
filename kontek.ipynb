{
 "cells": [
  {
   "cell_type": "markdown",
   "metadata": {},
   "source": [
    "Szukam chętnych do obliczenia metodą Kontka liczby outlierów w innych wyborach (np. 2023, 2019, 2015, 2010, 2007) oraz do obliczenia odchyleń przestrzennych dla 2025 i poprzednich wyborów w sensowniejszy sposób. Myślałem o czymś takim: trzeba (1) zrobić geokodowanie obwodów (trochę mamy zrobione, ale tylko trochę) i (2) policzyć dla każdego obwodu, czy jest on outlierem od klastra $k$ okolicznych obwodów, gdzie $k$ jest do ustalenia (może 20?)."
   ]
  },
  {
   "cell_type": "markdown",
   "metadata": {},
   "source": [
    "1) load and clean data (2015, 2020, 2025)\n",
    "2) cluster by Kontek, but should easily be replaced\n",
    "3) use Kontek methods\n",
    "4) obliczyć odchylenia przestrzenne"
   ]
  },
  {
   "cell_type": "code",
   "execution_count": 1,
   "metadata": {},
   "outputs": [],
   "source": [
    "import pandas as pd\n",
    "import re\n",
    "import os\n",
    "import numpy as np\n",
    "from scipy.stats import median_abs_deviation\n",
    "\n",
    "from src.utilities import presidential_data\n",
    "from src.utilities import kontek_clustering as clustering\n",
    "from src.utilities import kontek_methods as methods"
   ]
  },
  {
   "cell_type": "markdown",
   "metadata": {},
   "source": [
    "### PRESIDENTIAL\n",
    "\n",
    "load data - both rounds"
   ]
  },
  {
   "cell_type": "code",
   "execution_count": 2,
   "metadata": {},
   "outputs": [],
   "source": [
    "year = \"2025\"\n",
    "df_2025_r1 = presidential_data.get_df(year, \"1\")\n",
    "df_2025_r2 = presidential_data.get_df(year, \"2\")"
   ]
  },
  {
   "cell_type": "markdown",
   "metadata": {},
   "source": [
    "### 2.2. Grupowanie geograficzne\n",
    "\n",
    "W drugim etapie komisje wyborcze zostały posortowane według kodów pocztowych, a następnie\n",
    "pogrupowane w kolejne bloki komisji znajdujących się w bezpośrednim sąsiedztwie. Grupy tworzono\n",
    "w taki sposób, aby — w miarę możliwości — każda zawierała od 10 do 16 komisji, łącząc ze sobą\n",
    "sąsiednie obszary kodów pocztowych mające wspólny prefiks (np. „30”, „301”, „3011”). Celem było\n",
    "maksymalne zwiększenie spójności przestrzennej przy zachowaniu poręcznej wielkości grupy, bez\n",
    "konieczności ograniczania jej do jednego kodu pocztowego. Zastosowano następującą procedurę:\n",
    "\n",
    "  1. Początkowe grupowanie oparto na pierwszych dwóch cyfrach kodu pocztowego (np. „30” dla\n",
    "obszaru Krakowa).\n",
    "  2. Jeżeli powstała grupa zawierała od 10 do 16 komisji, została zaakceptowana bez zmian.\n",
    "  3. Grupy liczące mniej niż 10 komisji odłożono do późniejszego łączenia.\n",
    "  4. Grupy przekraczające 16 komisji dzielono rekurencyjnie, dodając kolejne cyfry kodu pocztowego (np. z „30” → „301” → „3011” i dalej, aż do pełnych pięciu cyfr).\n",
    "  5. Pozostałe małe grupy łączono z najbliższymi sąsiadami mającymi ten sam prefiks, przy czym priorytetem była ciągłość przestrzenna i zrównoważona liczebność grup.\n",
    "  \n",
    "W odróżnieniu od wcześniejszego podejścia, które dopuszczało grupy o wielkości 10–25 komisji,\n",
    "niniejsze badanie przyjęło węższy zakres docelowy: od 10 do 16 komisji na grupę. Decyzja ta\n",
    "wynikała z przeglądu empirycznego, który wykazał, że większe grupy — mimo wydajności\n",
    "statystycznej — czasami łączyły odległe geograficznie obszary o niejednorodnych wzorcach\n",
    "głosowania.\n",
    "\n",
    "W wyniku zastosowania nowych ograniczeń utworzono 2 208 grup, z których każda odzwierciedlała\n",
    "względnie jednorodną lokalną dynamikę wyborczą. Dla potwierdzenia ich spójności terytorialnej\n",
    "przeprowadzono test zgodności kodów pocztowych w ramach każdej grupy.\n",
    "\n",
    "Większość grup spełniła założony docelowy rozmiar: 1 386 grup (62,8%) zawierało od 10 do 16\n",
    "komisji, a 2 017 grup (91,3%) zawierało od 6 do 30 komisji. Większe grupy zazwyczaj odpowiadały obszarom miejskim — na przykład takim jak Toruń czy Włocławek, gdzie pojedynczy kod pocztowy\n",
    "obejmował całe miasto. W takich przypadkach większa liczba komisji nie zaburzała spójności\n",
    "przestrzennej, a wręcz zwiększała wiarygodność statystyczną poprzez powiększenie próbki lokalnej.\n",
    "\n",
    "Grupy mniejsze niż docelowy zakres obejmowały komisje, które — z powodu izolacji geograficznej\n",
    "— nie mogły zostać sensownie połączone z innymi. Choć próbki mniejsze niż 10 jednostek są zwykle\n",
    "uznawane za mające ograniczoną moc statystyczną, zastosowanie metody MAD — znanej ze swojej\n",
    "odporności na małe próby — w znacznym stopniu niweluje to ograniczenie."
   ]
  },
  {
   "cell_type": "markdown",
   "metadata": {},
   "source": [
    "------------"
   ]
  },
  {
   "cell_type": "markdown",
   "metadata": {},
   "source": [
    "Nie jestem w stanie odtworzyć grupowania geograficznego 1:1.\n",
    "\n",
    "Jedną z opcji jest grupowanie losowe: buckety 10 - 16, dokladnie 2208 grup"
   ]
  },
  {
   "cell_type": "code",
   "execution_count": 3,
   "metadata": {},
   "outputs": [],
   "source": [
    "df = clustering.add_random_buckets(df_2025_r2, n=2208, k_min=10, k_max=16)"
   ]
  },
  {
   "cell_type": "code",
   "execution_count": 4,
   "metadata": {},
   "outputs": [
    {
     "name": "stdout",
     "output_type": "stream",
     "text": [
      "Total buckets: 2208\n",
      "Buckets with 10–16 items: 2208 (100.0%)\n",
      "Buckets with 6–30 items: 2208 (100.0%)\n"
     ]
    }
   ],
   "source": [
    "clustering.print_bucket_stats(df)"
   ]
  },
  {
   "cell_type": "markdown",
   "metadata": {},
   "source": [
    "Drugą moje \"klastrowanie\""
   ]
  },
  {
   "cell_type": "code",
   "execution_count": 5,
   "metadata": {},
   "outputs": [],
   "source": [
    "df = clustering.add_janiszewski_postal_buckets(df_2025_r2, min_bucket_size=10, max_bucket_size=16)"
   ]
  },
  {
   "cell_type": "code",
   "execution_count": 6,
   "metadata": {},
   "outputs": [
    {
     "name": "stdout",
     "output_type": "stream",
     "text": [
      "Total buckets: 1809\n",
      "Buckets with 10–16 items: 1462 (80.8%)\n",
      "Buckets with 6–30 items: 1719 (95.0%)\n"
     ]
    }
   ],
   "source": [
    "clustering.print_bucket_stats(df)"
   ]
  },
  {
   "cell_type": "markdown",
   "metadata": {},
   "source": [
    "Trzecią klastrowanie Jakuba Bialka\n",
    "\n",
    "https://github.com/rabitwhte/analiza_kontka_reprodukcja/blob/main/Reprodukcja_wynikow_Kontek_Bialek.ipynb"
   ]
  },
  {
   "cell_type": "code",
   "execution_count": 7,
   "metadata": {},
   "outputs": [],
   "source": [
    "df = clustering.add_bialek_postal_buckets(df_2025_r2, min_size=10, max_size=16)"
   ]
  },
  {
   "cell_type": "code",
   "execution_count": 8,
   "metadata": {},
   "outputs": [
    {
     "data": {
      "text/html": [
       "<div>\n",
       "<style scoped>\n",
       "    .dataframe tbody tr th:only-of-type {\n",
       "        vertical-align: middle;\n",
       "    }\n",
       "\n",
       "    .dataframe tbody tr th {\n",
       "        vertical-align: top;\n",
       "    }\n",
       "\n",
       "    .dataframe thead th {\n",
       "        text-align: right;\n",
       "    }\n",
       "</style>\n",
       "<table border=\"1\" class=\"dataframe\">\n",
       "  <thead>\n",
       "    <tr style=\"text-align: right;\">\n",
       "      <th></th>\n",
       "      <th>ballots_cast</th>\n",
       "      <th>eligible_voters</th>\n",
       "      <th>teryt_gmina</th>\n",
       "      <th>valid_votes</th>\n",
       "      <th>polling_station_id</th>\n",
       "      <th>nawrocki</th>\n",
       "      <th>trzaskowski</th>\n",
       "      <th>postal_code</th>\n",
       "      <th>postal_clean</th>\n",
       "      <th>bucket</th>\n",
       "    </tr>\n",
       "  </thead>\n",
       "  <tbody>\n",
       "    <tr>\n",
       "      <th>0</th>\n",
       "      <td>1187.0</td>\n",
       "      <td>1678.0</td>\n",
       "      <td>20101.0</td>\n",
       "      <td>1178.0</td>\n",
       "      <td>1</td>\n",
       "      <td>582.0</td>\n",
       "      <td>596.0</td>\n",
       "      <td>59-700</td>\n",
       "      <td>59700</td>\n",
       "      <td>1568</td>\n",
       "    </tr>\n",
       "    <tr>\n",
       "      <th>1</th>\n",
       "      <td>911.0</td>\n",
       "      <td>1269.0</td>\n",
       "      <td>20101.0</td>\n",
       "      <td>903.0</td>\n",
       "      <td>2</td>\n",
       "      <td>386.0</td>\n",
       "      <td>517.0</td>\n",
       "      <td>59-700</td>\n",
       "      <td>59700</td>\n",
       "      <td>1568</td>\n",
       "    </tr>\n",
       "    <tr>\n",
       "      <th>2</th>\n",
       "      <td>996.0</td>\n",
       "      <td>1358.0</td>\n",
       "      <td>20101.0</td>\n",
       "      <td>993.0</td>\n",
       "      <td>3</td>\n",
       "      <td>437.0</td>\n",
       "      <td>556.0</td>\n",
       "      <td>59-700</td>\n",
       "      <td>59700</td>\n",
       "      <td>1568</td>\n",
       "    </tr>\n",
       "    <tr>\n",
       "      <th>3</th>\n",
       "      <td>984.0</td>\n",
       "      <td>1354.0</td>\n",
       "      <td>20101.0</td>\n",
       "      <td>975.0</td>\n",
       "      <td>4</td>\n",
       "      <td>408.0</td>\n",
       "      <td>567.0</td>\n",
       "      <td>59-700</td>\n",
       "      <td>59700</td>\n",
       "      <td>1568</td>\n",
       "    </tr>\n",
       "    <tr>\n",
       "      <th>4</th>\n",
       "      <td>856.0</td>\n",
       "      <td>1195.0</td>\n",
       "      <td>20101.0</td>\n",
       "      <td>850.0</td>\n",
       "      <td>5</td>\n",
       "      <td>332.0</td>\n",
       "      <td>518.0</td>\n",
       "      <td>59-700</td>\n",
       "      <td>59700</td>\n",
       "      <td>1568</td>\n",
       "    </tr>\n",
       "  </tbody>\n",
       "</table>\n",
       "</div>"
      ],
      "text/plain": [
       "   ballots_cast  eligible_voters  teryt_gmina  valid_votes  \\\n",
       "0        1187.0           1678.0      20101.0       1178.0   \n",
       "1         911.0           1269.0      20101.0        903.0   \n",
       "2         996.0           1358.0      20101.0        993.0   \n",
       "3         984.0           1354.0      20101.0        975.0   \n",
       "4         856.0           1195.0      20101.0        850.0   \n",
       "\n",
       "   polling_station_id  nawrocki  trzaskowski postal_code postal_clean  bucket  \n",
       "0                   1     582.0        596.0      59-700        59700    1568  \n",
       "1                   2     386.0        517.0      59-700        59700    1568  \n",
       "2                   3     437.0        556.0      59-700        59700    1568  \n",
       "3                   4     408.0        567.0      59-700        59700    1568  \n",
       "4                   5     332.0        518.0      59-700        59700    1568  "
      ]
     },
     "execution_count": 8,
     "metadata": {},
     "output_type": "execute_result"
    }
   ],
   "source": [
    "df.head()"
   ]
  },
  {
   "cell_type": "code",
   "execution_count": 9,
   "metadata": {},
   "outputs": [
    {
     "name": "stdout",
     "output_type": "stream",
     "text": [
      "Total buckets: 2367\n",
      "Buckets with 10–16 items: 1223 (51.7%)\n",
      "Buckets with 6–30 items: 1926 (81.4%)\n"
     ]
    }
   ],
   "source": [
    "clustering.print_bucket_stats(df)"
   ]
  },
  {
   "cell_type": "markdown",
   "metadata": {},
   "source": [
    "### IMPLEMENTACJA METOD ZAPROPONOWANYCH PRZEZ DR KONTKA\n",
    "\n",
    "https://papers.ssrn.com/sol3/papers.cfm?abstract_id=5296441\n",
    "\n",
    "2.3. Wykrywanie wartości odstających\n",
    "\n",
    "Główna innowacja analityczna niniejszego badania polega na oszacowaniu potencjalnego wpływu\n",
    "anormalnych komisji wyborczych na poziomie ogólnokrajowym. Aby to osiągnąć, w pierwszej\n",
    "kolejności zidentyfikowano wartości odstające w czterech kategoriach nieprawidłowości:"
   ]
  },
  {
   "cell_type": "code",
   "execution_count": 10,
   "metadata": {},
   "outputs": [],
   "source": [
    "## let's do it with clustering proposed by Jakub Bialek\n",
    "\n",
    "# df = clustering.add_bialek_postal_buckets(df, min_size=10, max_size=16)"
   ]
  },
  {
   "cell_type": "code",
   "execution_count": 10,
   "metadata": {},
   "outputs": [],
   "source": [
    "cand_A = \"trzaskowski\"\n",
    "cand_B = \"nawrocki\"\n",
    "\n",
    "df_2025 = presidential_data.join_both_rounds(cand_A, cand_B, df_2025_r1, df_2025_r2)"
   ]
  },
  {
   "cell_type": "code",
   "execution_count": 11,
   "metadata": {},
   "outputs": [],
   "source": [
    "# Add buckets\n",
    "df_2025 = clustering.add_bialek_postal_buckets(df_2025)"
   ]
  },
  {
   "cell_type": "markdown",
   "metadata": {},
   "source": [
    "### 1. pop_outlier: Nadmierne poparcie dla Karola Nawrockiego (względem mediany w ramach lokalnej grupy)"
   ]
  },
  {
   "cell_type": "markdown",
   "metadata": {},
   "source": [
    "Za artykułem: w ramach każdej grupy obliczono mediany oraz odchylenia bezwzględne od mediany (MAD), dla każdej komisji obliczono wskaźnik odchylenia od mediany\n",
    "\n",
    "![X minus median over MAD](./images/X_minus_median_over_MAD.png)\n",
    "\n",
    "gdzie:\n",
    "\n",
    "X - wynik w drugiej turze kandydata\n",
    "\n",
    "mediana - mediana wyników kandydata w drugiej turze\n",
    "\n",
    "MAD - odchelenie bezwzględne mediany kandydata w drugiej turze\n",
    "\n",
    "z artykulu:\n",
    "\n",
    "Dla każdej grupy komisji oraz dla dwóch pierwszych kategorii nieprawidłowości:\n",
    "\n",
    "  • obliczono mediany oraz odchylenia bezwzględne od mediany (MAD);\n",
    "\n",
    "  • dla każdej komisji obliczono tzw. współczynnik odchylenia odpornego (robust deviation score, oznaczony jako k_needed), wyrażający skalę odchylenia wyniku od mediany grupy w jednostkach MAD, według wzoru (powyzej)\n",
    "\n",
    "Komisję oznaczano jako odstającą (outlier), jeśli spełniony był warunek: 𝑘𝑛𝑒𝑒𝑑𝑒𝑑 > 𝑘 gdzie k to\n",
    "wartość progowa przyjęta w analizie, szczegółowo opisana w sekcji 2.4."
   ]
  },
  {
   "cell_type": "code",
   "execution_count": 12,
   "metadata": {},
   "outputs": [],
   "source": [
    "df = df_2025.copy()"
   ]
  },
  {
   "cell_type": "markdown",
   "metadata": {},
   "source": [
    "2.4 Przeliczenie wyników\n",
    "\n",
    "Aby uwzględnić niepewność i wrażliwość zastosowanego podejścia, obliczenia przeprowadzono dla\n",
    "trzech różnych progów detekcji wartości odstających: k > 2.0, k > 2.5 oraz k > 3.0, gdzie k oznacza\n",
    "liczbę jednostek odchylenia bezwzględnego od mediany (MAD) względem mediany w grupie\n",
    "lokalnej. Wyższe wartości k wyodrębniają jedynie najbardziej skrajne przypadki, zapewniając tym\n",
    "samym konserwatywną estymację potencjalnego wpływu. Jednocześnie jednak ograniczają zdolność\n",
    "metody do wychwytywania mniejszych, lecz wciąż istotnych odchyleń."
   ]
  },
  {
   "cell_type": "code",
   "execution_count": 13,
   "metadata": {},
   "outputs": [],
   "source": [
    "df = methods.add_anomaly_1(df, cand_A, cand_B, new_col_name=\"k_score_1\")"
   ]
  },
  {
   "cell_type": "code",
   "execution_count": 14,
   "metadata": {},
   "outputs": [
    {
     "name": "stdout",
     "output_type": "stream",
     "text": [
      "k > 2.0\n",
      "trzaskowski: 4551\n",
      "nawrocki: 3750\n",
      "---\n",
      "k > 2.5\n",
      "trzaskowski: 3535\n",
      "nawrocki: 2750\n",
      "---\n",
      "k > 3.0\n",
      "trzaskowski: 2794\n",
      "nawrocki: 2015\n",
      "---\n"
     ]
    }
   ],
   "source": [
    "methods.check_k_thresholds(df, cand_A, cand_B, \"_k_score_1\")"
   ]
  },
  {
   "cell_type": "markdown",
   "metadata": {},
   "source": [
    "Wyniki:\n",
    "\n",
    "Dla k=2, takich komisji, w których \"za duże\" poparcie ma Nawrocki jest 3750, a Trzaskowski 4551."
   ]
  },
  {
   "cell_type": "markdown",
   "metadata": {},
   "source": [
    "### 2. growth_outlier: Nadmierny względny wzrost poparcia dla Karola Nawrockiego między pierwszą a drugą turą, w porównaniu do odpowiedniego wzrostu poparcia dla Rafała Trzaskowskiego w tej samej grupie lokalnej;"
   ]
  },
  {
   "cell_type": "markdown",
   "metadata": {},
   "source": [
    "za, JB: \n",
    "\n",
    "Nie podano wprost jak to było obliczone więc kolejno:\n",
    "\n",
    "  1. Dla danego kandydata obliczam względny wzrost między pierwszą a drugą turą (dzieląc wynik z drugiej przez wynik z pierwszej)\n",
    "  2. Następnie odnoszę go do wzrostu drugiego kandydata - liczę różnicę między względnymi wzrostami.\n",
    "  3. Dalej tak jak w pierwszym typie anomalii - dla tych różnic liczę medianę grupy, MAD grupy oraz odchylenie k w komisji."
   ]
  },
  {
   "cell_type": "code",
   "execution_count": 15,
   "metadata": {},
   "outputs": [],
   "source": [
    "df = methods.add_anomaly_2(df, cand_A, cand_B, new_col_name=\"k_score_2\")"
   ]
  },
  {
   "cell_type": "code",
   "execution_count": 16,
   "metadata": {},
   "outputs": [
    {
     "name": "stdout",
     "output_type": "stream",
     "text": [
      "k > 2.0\n",
      "trzaskowski: 3552\n",
      "nawrocki: 3127\n",
      "---\n",
      "k > 2.5\n",
      "trzaskowski: 2666\n",
      "nawrocki: 2229\n",
      "---\n",
      "k > 3.0\n",
      "trzaskowski: 2106\n",
      "nawrocki: 1669\n",
      "---\n"
     ]
    }
   ],
   "source": [
    "methods.check_k_thresholds(df, cand_A, cand_B, \"_k_score_2\")"
   ]
  },
  {
   "cell_type": "code",
   "execution_count": 17,
   "metadata": {},
   "outputs": [
    {
     "data": {
      "text/html": [
       "<div>\n",
       "<style scoped>\n",
       "    .dataframe tbody tr th:only-of-type {\n",
       "        vertical-align: middle;\n",
       "    }\n",
       "\n",
       "    .dataframe tbody tr th {\n",
       "        vertical-align: top;\n",
       "    }\n",
       "\n",
       "    .dataframe thead th {\n",
       "        text-align: right;\n",
       "    }\n",
       "</style>\n",
       "<table border=\"1\" class=\"dataframe\">\n",
       "  <thead>\n",
       "    <tr style=\"text-align: right;\">\n",
       "      <th></th>\n",
       "      <th>teryt_gmina</th>\n",
       "      <th>polling_station_id</th>\n",
       "      <th>trzaskowski_r1</th>\n",
       "      <th>nawrocki_r1</th>\n",
       "      <th>postal_code</th>\n",
       "      <th>trzaskowski_r2</th>\n",
       "      <th>nawrocki_r2</th>\n",
       "      <th>postal_clean</th>\n",
       "      <th>bucket</th>\n",
       "      <th>trzaskowski_k_score_1</th>\n",
       "      <th>nawrocki_k_score_1</th>\n",
       "      <th>trzaskowski_k_score_2</th>\n",
       "      <th>nawrocki_k_score_2</th>\n",
       "    </tr>\n",
       "  </thead>\n",
       "  <tbody>\n",
       "    <tr>\n",
       "      <th>22</th>\n",
       "      <td>20101</td>\n",
       "      <td>23</td>\n",
       "      <td>6</td>\n",
       "      <td>9</td>\n",
       "      <td>59-700</td>\n",
       "      <td>10</td>\n",
       "      <td>14</td>\n",
       "      <td>59700</td>\n",
       "      <td>1567</td>\n",
       "      <td>-1.515012</td>\n",
       "      <td>-2.973958</td>\n",
       "      <td>2.676447</td>\n",
       "      <td>-2.676447</td>\n",
       "    </tr>\n",
       "    <tr>\n",
       "      <th>27</th>\n",
       "      <td>20102</td>\n",
       "      <td>4</td>\n",
       "      <td>83</td>\n",
       "      <td>206</td>\n",
       "      <td>59-700</td>\n",
       "      <td>148</td>\n",
       "      <td>356</td>\n",
       "      <td>59700</td>\n",
       "      <td>1567</td>\n",
       "      <td>-0.877598</td>\n",
       "      <td>0.588542</td>\n",
       "      <td>2.337643</td>\n",
       "      <td>-2.337643</td>\n",
       "    </tr>\n",
       "    <tr>\n",
       "      <th>34</th>\n",
       "      <td>20102</td>\n",
       "      <td>11</td>\n",
       "      <td>81</td>\n",
       "      <td>220</td>\n",
       "      <td>59-730</td>\n",
       "      <td>131</td>\n",
       "      <td>344</td>\n",
       "      <td>59730</td>\n",
       "      <td>1572</td>\n",
       "      <td>-0.509434</td>\n",
       "      <td>0.000000</td>\n",
       "      <td>3.166427</td>\n",
       "      <td>-3.166427</td>\n",
       "    </tr>\n",
       "    <tr>\n",
       "      <th>46</th>\n",
       "      <td>20103</td>\n",
       "      <td>2</td>\n",
       "      <td>47</td>\n",
       "      <td>208</td>\n",
       "      <td>59-706</td>\n",
       "      <td>108</td>\n",
       "      <td>354</td>\n",
       "      <td>59706</td>\n",
       "      <td>1568</td>\n",
       "      <td>1.434783</td>\n",
       "      <td>5.531250</td>\n",
       "      <td>4.615441</td>\n",
       "      <td>-4.615441</td>\n",
       "    </tr>\n",
       "    <tr>\n",
       "      <th>50</th>\n",
       "      <td>20103</td>\n",
       "      <td>6</td>\n",
       "      <td>52</td>\n",
       "      <td>111</td>\n",
       "      <td>59-706</td>\n",
       "      <td>96</td>\n",
       "      <td>187</td>\n",
       "      <td>59706</td>\n",
       "      <td>1568</td>\n",
       "      <td>0.391304</td>\n",
       "      <td>0.312500</td>\n",
       "      <td>2.663762</td>\n",
       "      <td>-2.663762</td>\n",
       "    </tr>\n",
       "    <tr>\n",
       "      <th>...</th>\n",
       "      <td>...</td>\n",
       "      <td>...</td>\n",
       "      <td>...</td>\n",
       "      <td>...</td>\n",
       "      <td>...</td>\n",
       "      <td>...</td>\n",
       "      <td>...</td>\n",
       "      <td>...</td>\n",
       "      <td>...</td>\n",
       "      <td>...</td>\n",
       "      <td>...</td>\n",
       "      <td>...</td>\n",
       "      <td>...</td>\n",
       "    </tr>\n",
       "    <tr>\n",
       "      <th>31598</th>\n",
       "      <td>326201</td>\n",
       "      <td>210</td>\n",
       "      <td>2</td>\n",
       "      <td>8</td>\n",
       "      <td>71-470</td>\n",
       "      <td>5</td>\n",
       "      <td>8</td>\n",
       "      <td>71470</td>\n",
       "      <td>2776</td>\n",
       "      <td>-1.277045</td>\n",
       "      <td>-1.619048</td>\n",
       "      <td>6.090602</td>\n",
       "      <td>-6.090602</td>\n",
       "    </tr>\n",
       "    <tr>\n",
       "      <th>31608</th>\n",
       "      <td>326301</td>\n",
       "      <td>10</td>\n",
       "      <td>275</td>\n",
       "      <td>126</td>\n",
       "      <td>72-600</td>\n",
       "      <td>443</td>\n",
       "      <td>227</td>\n",
       "      <td>72600</td>\n",
       "      <td>1890</td>\n",
       "      <td>-0.537849</td>\n",
       "      <td>-1.405941</td>\n",
       "      <td>2.024740</td>\n",
       "      <td>-2.024740</td>\n",
       "    </tr>\n",
       "    <tr>\n",
       "      <th>31624</th>\n",
       "      <td>326301</td>\n",
       "      <td>26</td>\n",
       "      <td>570</td>\n",
       "      <td>329</td>\n",
       "      <td>72-600</td>\n",
       "      <td>1053</td>\n",
       "      <td>528</td>\n",
       "      <td>72600</td>\n",
       "      <td>1890</td>\n",
       "      <td>4.322709</td>\n",
       "      <td>4.554455</td>\n",
       "      <td>4.963089</td>\n",
       "      <td>-4.963089</td>\n",
       "    </tr>\n",
       "    <tr>\n",
       "      <th>31625</th>\n",
       "      <td>326301</td>\n",
       "      <td>27</td>\n",
       "      <td>11</td>\n",
       "      <td>6</td>\n",
       "      <td>72-600</td>\n",
       "      <td>17</td>\n",
       "      <td>9</td>\n",
       "      <td>72600</td>\n",
       "      <td>1890</td>\n",
       "      <td>-3.932271</td>\n",
       "      <td>-5.722772</td>\n",
       "      <td>3.626464</td>\n",
       "      <td>-3.626464</td>\n",
       "    </tr>\n",
       "    <tr>\n",
       "      <th>31626</th>\n",
       "      <td>326301</td>\n",
       "      <td>28</td>\n",
       "      <td>9</td>\n",
       "      <td>7</td>\n",
       "      <td>72-600</td>\n",
       "      <td>18</td>\n",
       "      <td>8</td>\n",
       "      <td>72600</td>\n",
       "      <td>1890</td>\n",
       "      <td>-3.924303</td>\n",
       "      <td>-5.742574</td>\n",
       "      <td>9.132271</td>\n",
       "      <td>-9.132271</td>\n",
       "    </tr>\n",
       "  </tbody>\n",
       "</table>\n",
       "<p>3552 rows × 13 columns</p>\n",
       "</div>"
      ],
      "text/plain": [
       "       teryt_gmina  polling_station_id  trzaskowski_r1  nawrocki_r1  \\\n",
       "22           20101                  23               6            9   \n",
       "27           20102                   4              83          206   \n",
       "34           20102                  11              81          220   \n",
       "46           20103                   2              47          208   \n",
       "50           20103                   6              52          111   \n",
       "...            ...                 ...             ...          ...   \n",
       "31598       326201                 210               2            8   \n",
       "31608       326301                  10             275          126   \n",
       "31624       326301                  26             570          329   \n",
       "31625       326301                  27              11            6   \n",
       "31626       326301                  28               9            7   \n",
       "\n",
       "      postal_code  trzaskowski_r2  nawrocki_r2 postal_clean  bucket  \\\n",
       "22         59-700              10           14        59700    1567   \n",
       "27         59-700             148          356        59700    1567   \n",
       "34         59-730             131          344        59730    1572   \n",
       "46         59-706             108          354        59706    1568   \n",
       "50         59-706              96          187        59706    1568   \n",
       "...           ...             ...          ...          ...     ...   \n",
       "31598      71-470               5            8        71470    2776   \n",
       "31608      72-600             443          227        72600    1890   \n",
       "31624      72-600            1053          528        72600    1890   \n",
       "31625      72-600              17            9        72600    1890   \n",
       "31626      72-600              18            8        72600    1890   \n",
       "\n",
       "       trzaskowski_k_score_1  nawrocki_k_score_1  trzaskowski_k_score_2  \\\n",
       "22                 -1.515012           -2.973958               2.676447   \n",
       "27                 -0.877598            0.588542               2.337643   \n",
       "34                 -0.509434            0.000000               3.166427   \n",
       "46                  1.434783            5.531250               4.615441   \n",
       "50                  0.391304            0.312500               2.663762   \n",
       "...                      ...                 ...                    ...   \n",
       "31598              -1.277045           -1.619048               6.090602   \n",
       "31608              -0.537849           -1.405941               2.024740   \n",
       "31624               4.322709            4.554455               4.963089   \n",
       "31625              -3.932271           -5.722772               3.626464   \n",
       "31626              -3.924303           -5.742574               9.132271   \n",
       "\n",
       "       nawrocki_k_score_2  \n",
       "22              -2.676447  \n",
       "27              -2.337643  \n",
       "34              -3.166427  \n",
       "46              -4.615441  \n",
       "50              -2.663762  \n",
       "...                   ...  \n",
       "31598           -6.090602  \n",
       "31608           -2.024740  \n",
       "31624           -4.963089  \n",
       "31625           -3.626464  \n",
       "31626           -9.132271  \n",
       "\n",
       "[3552 rows x 13 columns]"
      ]
     },
     "execution_count": 17,
     "metadata": {},
     "output_type": "execute_result"
    }
   ],
   "source": [
    "df[df[\"trzaskowski_k_score_2\"] > 2]"
   ]
  },
  {
   "cell_type": "markdown",
   "metadata": {},
   "source": [
    "### 3. Komisje, w których Nawrocki uzyskał więcej głosów niż Trzaskowski w drugiej turze, mimo że mediana wyników w grupie wskazywała na przewagę Trzaskowskiego;"
   ]
  },
  {
   "cell_type": "markdown",
   "metadata": {},
   "source": [
    "  1. Sprawdzamy, w których grupach dany kandydat miał większą medianę\n",
    "  2. Sumujemy komisje, w których wygrał kandydat A mimo, że większą medianę miał kandydat B i na odwrót."
   ]
  },
  {
   "cell_type": "code",
   "execution_count": 180,
   "metadata": {},
   "outputs": [],
   "source": [
    "df = methods.add_anomaly_3(df, cand_A, cand_B, new_col_name=\"flip\")"
   ]
  },
  {
   "cell_type": "code",
   "execution_count": 181,
   "metadata": {},
   "outputs": [
    {
     "data": {
      "text/plain": [
       "('trzaskowski', 2608)"
      ]
     },
     "execution_count": 181,
     "metadata": {},
     "output_type": "execute_result"
    }
   ],
   "source": [
    "# na korzyść kandydat A, czyli większą medianę miał B, a więcej głosów dostał A.\n",
    "cand_A, sum(df['higher_median_' + cand_B] & (df[cand_A + '_r2'] > df[cand_B + '_r2']))"
   ]
  },
  {
   "cell_type": "code",
   "execution_count": 182,
   "metadata": {},
   "outputs": [
    {
     "data": {
      "text/plain": [
       "('nawrocki', 1843)"
      ]
     },
     "execution_count": 182,
     "metadata": {},
     "output_type": "execute_result"
    }
   ],
   "source": [
    "cand_B, sum(df['higher_median_' + cand_A] & (df[cand_B + '_r2'] > df[cand_A + '_r2']))"
   ]
  },
  {
   "cell_type": "markdown",
   "metadata": {},
   "source": [
    "**WYNIKI**:\n",
    "\n",
    "W grupach, w których większą medianę miał Nawrocki, było 2608 komisji, w których wyższy wynik uzyskał Trzaskowski.\n",
    "\n",
    "W grupach, w których większą medianę miał Trzaskowski, było 1843 komisji, w których wyższy wyniki uzyskał Nawrocki.\n",
    "\n",
    "Przykładowo:\n",
    "\n",
    "W komisji 13 gdzie w drugiej turze głosowało.. 13 osób, Trzaskowski uzyskał większy wynik (8 do 5), mimo że w grupie obejmującej kod pocztowy 59-730 większą medianę miał Nawrocki (344 vs 158)."
   ]
  },
  {
   "cell_type": "markdown",
   "metadata": {},
   "source": [
    "**Wątpliwości w tej metodologii**\n",
    "\n",
    "Jak pisze Piotr Szulc:\n",
    "\n",
    "https://danetyka.com/kontek-analiza-bledow/\n",
    "\n",
    "Jedna z cech, jakie bada autor, jest nazwana “flip” i nie ma nic wspólnego z wyżej podaną standaryzacją i progami. Autor za anomalię uznaje każdy przypadek, w którym “Nawrocki wygrywa lokalnie, mimo że mediana wyników w grupie wskazuje przewagę Trzaskowskiego”. Załóżmy, że procenty poparcia dla Nawrockiego w danej grupie wynoszą: 45, 46, 47, 48, 49, 51, 52, 53, 54."
   ]
  },
  {
   "cell_type": "code",
   "execution_count": 183,
   "metadata": {},
   "outputs": [],
   "source": [
    "# Dane: 9 komisji – Trzaskowski ma wyższą medianę, ale Nawrocki wygrywa w 4 komisjach\n",
    "dummy_df = pd.DataFrame({\n",
    "    'okręg': ['A'] * 9,\n",
    "    'trzaskowski': [55, 54, 53, 52, 51, 49, 47, 46, 45],\n",
    "    'nawrocki':    [45, 46, 47, 48, 49, 51, 52, 53, 54],\n",
    "})"
   ]
  },
  {
   "cell_type": "markdown",
   "metadata": {},
   "source": [
    "Mediana wynosi 49%, więc “mediana wyników w grupie wskazuje przewagę Trzaskowskiego”:"
   ]
  },
  {
   "cell_type": "code",
   "execution_count": 184,
   "metadata": {},
   "outputs": [],
   "source": [
    "# Obliczenie median\n",
    "trzaskowski_median = dummy_df['trzaskowski'].median()  # 51.0\n",
    "nawrocki_median = dummy_df['nawrocki'].median()        # 49.0\n",
    "\n",
    "# ale zeby być spójnym z poprzednią implementacją:\n",
    "\n",
    "# mediana w grupie\n",
    "dummy_df[cand_A + '_median'] = dummy_df.groupby('okręg')[cand_A].transform('median')\n",
    "dummy_df[cand_B + '_median'] = dummy_df.groupby('okręg')[cand_B].transform('median')\n",
    "\n",
    "dummy_df['higher_median_' + cand_A] = (dummy_df[cand_A + '_median'] >  dummy_df[cand_B + '_median']).astype(bool)\n",
    "dummy_df['higher_median_' + cand_B] = (dummy_df[cand_B + '_median'] >  dummy_df[cand_A + '_median']).astype(bool)"
   ]
  },
  {
   "cell_type": "markdown",
   "metadata": {},
   "source": [
    "a zatem te cztery komisje, w których Nawrockich otrzymał ponad 50% to anomalie, co oczywiście nie ma żadnego sensu. Ta cecha jest odpowiedzialna za ponad połowę (!) wskazań."
   ]
  },
  {
   "cell_type": "code",
   "execution_count": 185,
   "metadata": {},
   "outputs": [
    {
     "data": {
      "text/plain": [
       "('nawrocki', 4)"
      ]
     },
     "execution_count": 185,
     "metadata": {},
     "output_type": "execute_result"
    }
   ],
   "source": [
    "# na korzyść kandydat B, czyli większą medianę miał A, a więcej głosów dostał B.\n",
    "cand_B, sum(dummy_df['higher_median_' + cand_A] & (dummy_df[cand_B] > dummy_df[cand_A]))"
   ]
  },
  {
   "cell_type": "code",
   "execution_count": 186,
   "metadata": {},
   "outputs": [
    {
     "name": "stdout",
     "output_type": "stream",
     "text": [
      "   trzaskowski  nawrocki  flip_nawrocki\n",
      "0           55        45          False\n",
      "1           54        46          False\n",
      "2           53        47          False\n",
      "3           52        48          False\n",
      "4           51        49          False\n",
      "5           49        51           True\n",
      "6           47        52           True\n",
      "7           46        53           True\n",
      "8           45        54           True\n",
      "\n",
      "Liczba 'anomalii' według flip: 4 z 9\n"
     ]
    }
   ],
   "source": [
    "# Flip: Nawrocki wygrywa, mimo że Trzaskowski miał wyższą medianę w grupie\n",
    "dummy_df['flip_' + cand_B] = dummy_df['higher_median_' + cand_A] & (dummy_df[cand_B] > dummy_df[cand_A])\n",
    "\n",
    "# Wyświetlenie flipów\n",
    "print(dummy_df[[cand_A, cand_B, 'flip_' + cand_B]])\n",
    "print(f\"\\nLiczba 'anomalii' według flip: {dummy_df['flip_' + cand_B].sum()} z {len(dummy_df)}\")"
   ]
  },
  {
   "cell_type": "markdown",
   "metadata": {},
   "source": [
    "### 4. Kandydat otrzymał mniej głosów w drugiej turze niż w pierwszej"
   ]
  },
  {
   "cell_type": "code",
   "execution_count": 187,
   "metadata": {},
   "outputs": [
    {
     "data": {
      "text/plain": [
       "('trzaskowski', 128)"
      ]
     },
     "execution_count": 187,
     "metadata": {},
     "output_type": "execute_result"
    }
   ],
   "source": [
    "cand_A, sum(df[cand_A + '_r2']<df[cand_A + '_r1'])"
   ]
  },
  {
   "cell_type": "markdown",
   "metadata": {},
   "source": [
    "W 128 komisjach Trzaskowski uzyskał mniej głosów w drugiej turze niż w pierwszej."
   ]
  },
  {
   "cell_type": "code",
   "execution_count": 188,
   "metadata": {},
   "outputs": [
    {
     "data": {
      "text/plain": [
       "('nawrocki', 112)"
      ]
     },
     "execution_count": 188,
     "metadata": {},
     "output_type": "execute_result"
    }
   ],
   "source": [
    "cand_B, sum(df[cand_B + '_r2']<df[cand_B + '_r1'])"
   ]
  },
  {
   "cell_type": "markdown",
   "metadata": {},
   "source": [
    "W 112 komisjach Nawrocki uzyskał mniej głosów w drugiej turze niż w pierwszej."
   ]
  },
  {
   "cell_type": "markdown",
   "metadata": {},
   "source": [
    "\n",
    "Przykładowe anomalie na korzyść Trzaskowskiego:"
   ]
  },
  {
   "cell_type": "code",
   "execution_count": 189,
   "metadata": {},
   "outputs": [
    {
     "data": {
      "text/html": [
       "<div>\n",
       "<style scoped>\n",
       "    .dataframe tbody tr th:only-of-type {\n",
       "        vertical-align: middle;\n",
       "    }\n",
       "\n",
       "    .dataframe tbody tr th {\n",
       "        vertical-align: top;\n",
       "    }\n",
       "\n",
       "    .dataframe thead th {\n",
       "        text-align: right;\n",
       "    }\n",
       "</style>\n",
       "<table border=\"1\" class=\"dataframe\">\n",
       "  <thead>\n",
       "    <tr style=\"text-align: right;\">\n",
       "      <th></th>\n",
       "      <th>teryt_gmina</th>\n",
       "      <th>polling_station_id</th>\n",
       "      <th>trzaskowski_r1</th>\n",
       "      <th>nawrocki_r1</th>\n",
       "      <th>postal_code</th>\n",
       "      <th>trzaskowski_r2</th>\n",
       "      <th>nawrocki_r2</th>\n",
       "      <th>postal_clean</th>\n",
       "      <th>bucket</th>\n",
       "      <th>trzaskowski_k_score_1</th>\n",
       "      <th>nawrocki_k_score_1</th>\n",
       "      <th>trzaskowski_k_score_2</th>\n",
       "      <th>nawrocki_k_score_2</th>\n",
       "      <th>higher_median_trzaskowski</th>\n",
       "      <th>higher_median_nawrocki</th>\n",
       "      <th>trzaskowski_flip</th>\n",
       "      <th>nawrocki_flip</th>\n",
       "    </tr>\n",
       "  </thead>\n",
       "  <tbody>\n",
       "    <tr>\n",
       "      <th>12616</th>\n",
       "      <td>140706</td>\n",
       "      <td>1</td>\n",
       "      <td>105</td>\n",
       "      <td>285</td>\n",
       "      <td>26-910</td>\n",
       "      <td>467</td>\n",
       "      <td>193</td>\n",
       "      <td>26910</td>\n",
       "      <td>630</td>\n",
       "      <td>8.588235</td>\n",
       "      <td>-0.767123</td>\n",
       "      <td>10.044104</td>\n",
       "      <td>-10.044104</td>\n",
       "      <td>False</td>\n",
       "      <td>True</td>\n",
       "      <td>True</td>\n",
       "      <td>False</td>\n",
       "    </tr>\n",
       "    <tr>\n",
       "      <th>25866</th>\n",
       "      <td>261207</td>\n",
       "      <td>4</td>\n",
       "      <td>143</td>\n",
       "      <td>224</td>\n",
       "      <td>28-200</td>\n",
       "      <td>360</td>\n",
       "      <td>209</td>\n",
       "      <td>28200</td>\n",
       "      <td>662</td>\n",
       "      <td>2.443299</td>\n",
       "      <td>-1.491228</td>\n",
       "      <td>7.799246</td>\n",
       "      <td>-7.799246</td>\n",
       "      <td>False</td>\n",
       "      <td>True</td>\n",
       "      <td>True</td>\n",
       "      <td>False</td>\n",
       "    </tr>\n",
       "    <tr>\n",
       "      <th>5098</th>\n",
       "      <td>60903</td>\n",
       "      <td>4</td>\n",
       "      <td>89</td>\n",
       "      <td>174</td>\n",
       "      <td>23-100</td>\n",
       "      <td>260</td>\n",
       "      <td>163</td>\n",
       "      <td>23100</td>\n",
       "      <td>522</td>\n",
       "      <td>5.850746</td>\n",
       "      <td>-0.595588</td>\n",
       "      <td>5.824589</td>\n",
       "      <td>-5.824589</td>\n",
       "      <td>False</td>\n",
       "      <td>True</td>\n",
       "      <td>True</td>\n",
       "      <td>False</td>\n",
       "    </tr>\n",
       "    <tr>\n",
       "      <th>24825</th>\n",
       "      <td>260101</td>\n",
       "      <td>34</td>\n",
       "      <td>172</td>\n",
       "      <td>129</td>\n",
       "      <td>28-100</td>\n",
       "      <td>148</td>\n",
       "      <td>111</td>\n",
       "      <td>28100</td>\n",
       "      <td>657</td>\n",
       "      <td>-0.185567</td>\n",
       "      <td>-1.758333</td>\n",
       "      <td>-0.128350</td>\n",
       "      <td>0.128350</td>\n",
       "      <td>False</td>\n",
       "      <td>True</td>\n",
       "      <td>True</td>\n",
       "      <td>False</td>\n",
       "    </tr>\n",
       "    <tr>\n",
       "      <th>2372</th>\n",
       "      <td>40102</td>\n",
       "      <td>9</td>\n",
       "      <td>120</td>\n",
       "      <td>105</td>\n",
       "      <td>87-720</td>\n",
       "      <td>164</td>\n",
       "      <td>85</td>\n",
       "      <td>87720</td>\n",
       "      <td>2197</td>\n",
       "      <td>-0.204545</td>\n",
       "      <td>-1.139860</td>\n",
       "      <td>10.348880</td>\n",
       "      <td>-10.348880</td>\n",
       "      <td>False</td>\n",
       "      <td>True</td>\n",
       "      <td>True</td>\n",
       "      <td>False</td>\n",
       "    </tr>\n",
       "  </tbody>\n",
       "</table>\n",
       "</div>"
      ],
      "text/plain": [
       "       teryt_gmina  polling_station_id  trzaskowski_r1  nawrocki_r1  \\\n",
       "12616       140706                   1             105          285   \n",
       "25866       261207                   4             143          224   \n",
       "5098         60903                   4              89          174   \n",
       "24825       260101                  34             172          129   \n",
       "2372         40102                   9             120          105   \n",
       "\n",
       "      postal_code  trzaskowski_r2  nawrocki_r2 postal_clean  bucket  \\\n",
       "12616      26-910             467          193        26910     630   \n",
       "25866      28-200             360          209        28200     662   \n",
       "5098       23-100             260          163        23100     522   \n",
       "24825      28-100             148          111        28100     657   \n",
       "2372       87-720             164           85        87720    2197   \n",
       "\n",
       "       trzaskowski_k_score_1  nawrocki_k_score_1  trzaskowski_k_score_2  \\\n",
       "12616               8.588235           -0.767123              10.044104   \n",
       "25866               2.443299           -1.491228               7.799246   \n",
       "5098                5.850746           -0.595588               5.824589   \n",
       "24825              -0.185567           -1.758333              -0.128350   \n",
       "2372               -0.204545           -1.139860              10.348880   \n",
       "\n",
       "       nawrocki_k_score_2  higher_median_trzaskowski  higher_median_nawrocki  \\\n",
       "12616          -10.044104                      False                    True   \n",
       "25866           -7.799246                      False                    True   \n",
       "5098            -5.824589                      False                    True   \n",
       "24825            0.128350                      False                    True   \n",
       "2372           -10.348880                      False                    True   \n",
       "\n",
       "       trzaskowski_flip  nawrocki_flip  \n",
       "12616              True          False  \n",
       "25866              True          False  \n",
       "5098               True          False  \n",
       "24825              True          False  \n",
       "2372               True          False  "
      ]
     },
     "execution_count": 189,
     "metadata": {},
     "output_type": "execute_result"
    }
   ],
   "source": [
    "df[df[cand_B + '_r2'] < df[cand_B + '_r1']].sort_values(by=cand_B + '_r1', ascending=False).head()"
   ]
  },
  {
   "cell_type": "code",
   "execution_count": 190,
   "metadata": {},
   "outputs": [],
   "source": [
    "# Anomalie na korzysc\n",
    "df[cand_A + '_more_votes'] = df[cand_B + '_r2']<df[cand_B + '_r1']\n",
    "df[cand_B + '_more_votes'] = df[cand_A + '_r2']<df[cand_A + '_r1']"
   ]
  },
  {
   "cell_type": "markdown",
   "metadata": {},
   "source": [
    "To są rzeczywiście bardzo podejrzane przypadki i o takich przypadkach powinniśmy alarmować w pierwszej kolejności. Po pierwsze, ju na etapie wprowadzania do systemu, a po drugie do ewentualnej kontroli i ponownego liczenia glosów"
   ]
  },
  {
   "cell_type": "markdown",
   "metadata": {},
   "source": [
    "## Sumowanie anomalii"
   ]
  },
  {
   "cell_type": "code",
   "execution_count": 191,
   "metadata": {},
   "outputs": [],
   "source": [
    "# w zależności od wielkości k\n",
    "k = 2\n",
    "\n",
    "# deduplikacja, czyli jak wystąpiła więcej niz jedna anomalia, to liczymy taką komisję raz"
   ]
  },
  {
   "cell_type": "code",
   "execution_count": 193,
   "metadata": {},
   "outputs": [],
   "source": [
    "def detect_anomalies(df, cand, k):\n",
    "    k_str = str(k).replace('.', '_')\n",
    "    col_name = f\"{cand}_anomalies_k{k_str}\"\n",
    "\n",
    "    conditions = [\n",
    "        (df[f\"{cand}_more_votes\"], \"more_votes\"),\n",
    "        (df[f\"{cand}_flip\"], \"flip\"),\n",
    "        (df[f\"{cand}_k_score_2\"] >= k, \"growth_outlier\"),\n",
    "        (df[f\"{cand}_k_score_1\"] >= k, \"pop_outlier\"),\n",
    "    ]\n",
    "\n",
    "    # Fix: explicitly define dtype=object for future compatibility\n",
    "    df[col_name] = pd.Series([np.nan] * len(df), dtype=\"object\")\n",
    "\n",
    "    for condition, label in conditions:\n",
    "        df.loc[condition & df[col_name].isna(), col_name] = label\n",
    "\n",
    "    return df"
   ]
  },
  {
   "cell_type": "code",
   "execution_count": 194,
   "metadata": {},
   "outputs": [],
   "source": [
    "def summarize_anomalies(df, cand, k_values):\n",
    "    summary = {}\n",
    "    for k in k_values:\n",
    "        k_str = str(k).replace('.', '_')\n",
    "        col_name = f\"{cand}_anomalies_k{k_str}\"\n",
    "        \n",
    "        # Get value counts including NaN, with NaN as string\n",
    "        counts = df[col_name].value_counts()\n",
    "        \n",
    "        summary[col_name] = counts\n",
    "\n",
    "    result = pd.DataFrame(summary).astype(int)\n",
    "\n",
    "    # Define desired row order\n",
    "    desired_order = [\"pop_outlier\", \"growth_outlier\", \"flip\", \"more_votes\"]\n",
    "\n",
    "    # Reorder rows based on desired_order\n",
    "    return result.reindex(desired_order)\n"
   ]
  },
  {
   "cell_type": "code",
   "execution_count": 195,
   "metadata": {},
   "outputs": [],
   "source": [
    "k_values = [2, 2.5, 3]\n",
    "for k in k_values:\n",
    "    df = detect_anomalies(df, \"trzaskowski\", k)\n",
    "    df = detect_anomalies(df, \"nawrocki\", k)"
   ]
  },
  {
   "cell_type": "code",
   "execution_count": 196,
   "metadata": {},
   "outputs": [],
   "source": [
    "def compute_anomaly_count_distribution(df, cand, k):\n",
    "    k_str = str(k).replace('.', '_')\n",
    "    \n",
    "    # Recompute individual anomaly flags (as integers: 0 or 1)\n",
    "    anomaly_flags = pd.DataFrame({\n",
    "        f\"{cand}_anomaly_1\": df[f\"{cand}_more_votes\"].astype(int),\n",
    "        f\"{cand}_anomaly_2\": df[f\"{cand}_flip\"].astype(int),\n",
    "        f\"{cand}_anomaly_3\": (df[f\"{cand}_k_score_2\"] >= k).astype(int),\n",
    "        f\"{cand}_anomaly_4\": (df[f\"{cand}_k_score_1\"] >= k).astype(int),\n",
    "    })\n",
    "\n",
    "    # Sum across rows → total number of anomalies for each commission\n",
    "    sum_col = f\"{cand}_sum_anomalies_k{k_str}\"\n",
    "    df[sum_col] = anomaly_flags.sum(axis=1)\n",
    "\n",
    "    # Count how many commissions had 1, 2, 3, or 4 anomalies\n",
    "    distribution = df[sum_col].value_counts().sort_index()\n",
    "    return pd.Series({i: distribution.get(i, 0) for i in range(1, 5)}, name=f\"{cand}_k{k_str}\")\n",
    "\n",
    "def print_anomaly_distribution(summary_series, cand):\n",
    "    print(f\"Anomalie na korzyść: {cand}\\n\")\n",
    "    total_1_plus = sum([summary_series.get(i, 0) for i in range(1, 5)])\n",
    "    total_2_plus = sum([summary_series.get(i, 0) for i in range(2, 5)])\n",
    "    total_3_plus = sum([summary_series.get(i, 0) for i in range(3, 5)])\n",
    "    total_4 = summary_series.get(4, 0)\n",
    "\n",
    "    print(f\"Komisje, gdzie wystąpiła przynajmniej jedna anomalia:\\n{total_1_plus}\")\n",
    "    print(f\"Komisje, gdzie wystąpiły przynajmniej dwie anomalie:\\n{total_2_plus}\")\n",
    "    print(f\"Komisje, gdzie wystąpiły przynajmniej trzy anomalie:\\n{total_3_plus}\")\n",
    "    print(f\"Komisje, gdzie wystąpiły wszystkie 4 anomalie:\\n{total_4}\")\n"
   ]
  },
  {
   "cell_type": "code",
   "execution_count": 197,
   "metadata": {},
   "outputs": [],
   "source": [
    "def get_commissions_with_all_anomalies(df, cand, k):\n",
    "    k_str = str(k).replace('.', '_')\n",
    "    sum_col = f\"{cand}_sum_anomalies_k{k_str}\"\n",
    "    \n",
    "    if sum_col not in df.columns:\n",
    "        raise ValueError(f\"Column '{sum_col}' not found. Did you compute anomaly sums?\")\n",
    "    \n",
    "    return df[df[sum_col] == 4]"
   ]
  },
  {
   "cell_type": "code",
   "execution_count": null,
   "metadata": {},
   "outputs": [],
   "source": [
    "def summarize_anomaly_votes(df, cand, k=2):\n",
    "    opponent = \"trzaskowski\" if cand == \"nawrocki\" else \"nawrocki\"\n",
    "    k_str = str(k).replace('.', '_')\n",
    "    col_name = f\"{cand}_anomalies_k{k_str}\"\n",
    "\n",
    "    # Only rows with an assigned anomaly\n",
    "    df_anom = df[df[col_name].notna()].copy()\n",
    "    df_anom[\"flaga\"] = df_anom[col_name]\n",
    "\n",
    "    # Group by anomaly type and aggregate\n",
    "    grouped = df_anom.groupby(\"flaga\").agg(\n",
    "        liczba_komisji=('flaga', 'count'),\n",
    "        **{f\"glosy_{cand}\": (f\"{cand}_r2\", 'sum')},\n",
    "        **{f\"glosy_{opponent}\": (f\"{opponent}_r2\", 'sum')}\n",
    "    )\n",
    "\n",
    "    # Add total row (\"Łącznie\")\n",
    "    total_row = pd.DataFrame({\n",
    "        \"liczba_komisji\": [df_anom.shape[0]],\n",
    "        f\"glosy_{cand}\": [df_anom[f\"{cand}_r2\"].sum()],\n",
    "        f\"glosy_{opponent}\": [df_anom[f\"{opponent}_r2\"].sum()]\n",
    "    }, index=[\"Łącznie\"])\n",
    "\n",
    "    # Combine with grouped data\n",
    "    full = pd.concat([grouped, total_row])\n",
    "\n",
    "    # Ensure order\n",
    "    desired_order = [\"pop_outlier\", \"growth_outlier\", \"flip\", \"more_votes\", \"Łącznie\"]\n",
    "    full = full.reindex(desired_order).fillna(0).astype(int)\n",
    "\n",
    "    return full.reset_index().rename(columns={\"index\": \"flaga\"})\n"
   ]
  },
  {
   "cell_type": "markdown",
   "metadata": {},
   "source": [
    "### Na korzyść Trzaskowskiego"
   ]
  },
  {
   "cell_type": "code",
   "execution_count": 199,
   "metadata": {},
   "outputs": [],
   "source": [
    "cand = \"trzaskowski\"\n",
    "k = 2"
   ]
  },
  {
   "cell_type": "code",
   "execution_count": 200,
   "metadata": {},
   "outputs": [
    {
     "name": "stdout",
     "output_type": "stream",
     "text": [
      "Anomalie na korzyść: trzaskowski\n",
      "\n",
      "Komisje, gdzie wystąpiła przynajmniej jedna anomalia:\n",
      "9504\n",
      "Komisje, gdzie wystąpiły przynajmniej dwie anomalie:\n",
      "1298\n",
      "Komisje, gdzie wystąpiły przynajmniej trzy anomalie:\n",
      "45\n",
      "Komisje, gdzie wystąpiły wszystkie 4 anomalie:\n",
      "3\n"
     ]
    }
   ],
   "source": [
    "summary_series = compute_anomaly_count_distribution(df, cand, k)\n",
    "print_anomaly_distribution(summary_series, cand)"
   ]
  },
  {
   "cell_type": "code",
   "execution_count": 201,
   "metadata": {},
   "outputs": [
    {
     "data": {
      "text/html": [
       "<div>\n",
       "<style scoped>\n",
       "    .dataframe tbody tr th:only-of-type {\n",
       "        vertical-align: middle;\n",
       "    }\n",
       "\n",
       "    .dataframe tbody tr th {\n",
       "        vertical-align: top;\n",
       "    }\n",
       "\n",
       "    .dataframe thead th {\n",
       "        text-align: right;\n",
       "    }\n",
       "</style>\n",
       "<table border=\"1\" class=\"dataframe\">\n",
       "  <thead>\n",
       "    <tr style=\"text-align: right;\">\n",
       "      <th></th>\n",
       "      <th>trzaskowski_anomalies_k2</th>\n",
       "      <th>trzaskowski_anomalies_k2_5</th>\n",
       "      <th>trzaskowski_anomalies_k3</th>\n",
       "    </tr>\n",
       "  </thead>\n",
       "  <tbody>\n",
       "    <tr>\n",
       "      <th>pop_outlier</th>\n",
       "      <td>3512</td>\n",
       "      <td>2742</td>\n",
       "      <td>2163</td>\n",
       "    </tr>\n",
       "    <tr>\n",
       "      <th>growth_outlier</th>\n",
       "      <td>3303</td>\n",
       "      <td>2459</td>\n",
       "      <td>1921</td>\n",
       "    </tr>\n",
       "    <tr>\n",
       "      <th>flip</th>\n",
       "      <td>2577</td>\n",
       "      <td>2577</td>\n",
       "      <td>2577</td>\n",
       "    </tr>\n",
       "    <tr>\n",
       "      <th>more_votes</th>\n",
       "      <td>112</td>\n",
       "      <td>112</td>\n",
       "      <td>112</td>\n",
       "    </tr>\n",
       "  </tbody>\n",
       "</table>\n",
       "</div>"
      ],
      "text/plain": [
       "                trzaskowski_anomalies_k2  trzaskowski_anomalies_k2_5  \\\n",
       "pop_outlier                         3512                        2742   \n",
       "growth_outlier                      3303                        2459   \n",
       "flip                                2577                        2577   \n",
       "more_votes                           112                         112   \n",
       "\n",
       "                trzaskowski_anomalies_k3  \n",
       "pop_outlier                         2163  \n",
       "growth_outlier                      1921  \n",
       "flip                                2577  \n",
       "more_votes                           112  "
      ]
     },
     "execution_count": 201,
     "metadata": {},
     "output_type": "execute_result"
    }
   ],
   "source": [
    "anomalies_summarized = summarize_anomalies(df, cand, k_values)\n",
    "anomalies_summarized"
   ]
  },
  {
   "cell_type": "code",
   "execution_count": 137,
   "metadata": {},
   "outputs": [
    {
     "data": {
      "text/html": [
       "<div>\n",
       "<style scoped>\n",
       "    .dataframe tbody tr th:only-of-type {\n",
       "        vertical-align: middle;\n",
       "    }\n",
       "\n",
       "    .dataframe tbody tr th {\n",
       "        vertical-align: top;\n",
       "    }\n",
       "\n",
       "    .dataframe thead th {\n",
       "        text-align: right;\n",
       "    }\n",
       "</style>\n",
       "<table border=\"1\" class=\"dataframe\">\n",
       "  <thead>\n",
       "    <tr style=\"text-align: right;\">\n",
       "      <th></th>\n",
       "      <th>teryt_gmina</th>\n",
       "      <th>polling_station_id</th>\n",
       "      <th>trzaskowski_r1</th>\n",
       "      <th>nawrocki_r1</th>\n",
       "      <th>postal_code</th>\n",
       "      <th>trzaskowski_r2</th>\n",
       "      <th>nawrocki_r2</th>\n",
       "      <th>postal_clean</th>\n",
       "      <th>bucket</th>\n",
       "      <th>trzaskowski_k_score_1</th>\n",
       "      <th>...</th>\n",
       "      <th>trzaskowski_anomalies_k2</th>\n",
       "      <th>nawrocki_anomalies_k2</th>\n",
       "      <th>trzaskowski_anomalies_k2_5</th>\n",
       "      <th>nawrocki_anomalies_k2_5</th>\n",
       "      <th>trzaskowski_anomalies_k3</th>\n",
       "      <th>nawrocki_anomalies_k3</th>\n",
       "      <th>trzaskowski_sum_anomalies_k2</th>\n",
       "      <th>nawrocki_sum_anomalies_k2</th>\n",
       "      <th>nawrocki_sum_anomalies_k3</th>\n",
       "      <th>trzaskowski_sum_anomalies_k3</th>\n",
       "    </tr>\n",
       "  </thead>\n",
       "  <tbody>\n",
       "    <tr>\n",
       "      <th>5098</th>\n",
       "      <td>60903</td>\n",
       "      <td>4</td>\n",
       "      <td>89</td>\n",
       "      <td>174</td>\n",
       "      <td>23-100</td>\n",
       "      <td>260</td>\n",
       "      <td>163</td>\n",
       "      <td>23100</td>\n",
       "      <td>522</td>\n",
       "      <td>5.850746</td>\n",
       "      <td>...</td>\n",
       "      <td>more_votes</td>\n",
       "      <td>NaN</td>\n",
       "      <td>more_votes</td>\n",
       "      <td>NaN</td>\n",
       "      <td>more_votes</td>\n",
       "      <td>NaN</td>\n",
       "      <td>4</td>\n",
       "      <td>0</td>\n",
       "      <td>0</td>\n",
       "      <td>4</td>\n",
       "    </tr>\n",
       "    <tr>\n",
       "      <th>12616</th>\n",
       "      <td>140706</td>\n",
       "      <td>1</td>\n",
       "      <td>105</td>\n",
       "      <td>285</td>\n",
       "      <td>26-910</td>\n",
       "      <td>467</td>\n",
       "      <td>193</td>\n",
       "      <td>26910</td>\n",
       "      <td>630</td>\n",
       "      <td>8.588235</td>\n",
       "      <td>...</td>\n",
       "      <td>more_votes</td>\n",
       "      <td>NaN</td>\n",
       "      <td>more_votes</td>\n",
       "      <td>NaN</td>\n",
       "      <td>more_votes</td>\n",
       "      <td>NaN</td>\n",
       "      <td>4</td>\n",
       "      <td>0</td>\n",
       "      <td>0</td>\n",
       "      <td>4</td>\n",
       "    </tr>\n",
       "    <tr>\n",
       "      <th>25866</th>\n",
       "      <td>261207</td>\n",
       "      <td>4</td>\n",
       "      <td>143</td>\n",
       "      <td>224</td>\n",
       "      <td>28-200</td>\n",
       "      <td>360</td>\n",
       "      <td>209</td>\n",
       "      <td>28200</td>\n",
       "      <td>662</td>\n",
       "      <td>2.443299</td>\n",
       "      <td>...</td>\n",
       "      <td>more_votes</td>\n",
       "      <td>NaN</td>\n",
       "      <td>more_votes</td>\n",
       "      <td>NaN</td>\n",
       "      <td>more_votes</td>\n",
       "      <td>NaN</td>\n",
       "      <td>4</td>\n",
       "      <td>0</td>\n",
       "      <td>0</td>\n",
       "      <td>3</td>\n",
       "    </tr>\n",
       "  </tbody>\n",
       "</table>\n",
       "<p>3 rows × 29 columns</p>\n",
       "</div>"
      ],
      "text/plain": [
       "       teryt_gmina  polling_station_id  trzaskowski_r1  nawrocki_r1  \\\n",
       "5098         60903                   4              89          174   \n",
       "12616       140706                   1             105          285   \n",
       "25866       261207                   4             143          224   \n",
       "\n",
       "      postal_code  trzaskowski_r2  nawrocki_r2 postal_clean  bucket  \\\n",
       "5098       23-100             260          163        23100     522   \n",
       "12616      26-910             467          193        26910     630   \n",
       "25866      28-200             360          209        28200     662   \n",
       "\n",
       "       trzaskowski_k_score_1  ...  trzaskowski_anomalies_k2  \\\n",
       "5098                5.850746  ...                more_votes   \n",
       "12616               8.588235  ...                more_votes   \n",
       "25866               2.443299  ...                more_votes   \n",
       "\n",
       "       nawrocki_anomalies_k2  trzaskowski_anomalies_k2_5  \\\n",
       "5098                     NaN                  more_votes   \n",
       "12616                    NaN                  more_votes   \n",
       "25866                    NaN                  more_votes   \n",
       "\n",
       "       nawrocki_anomalies_k2_5  trzaskowski_anomalies_k3  \\\n",
       "5098                       NaN                more_votes   \n",
       "12616                      NaN                more_votes   \n",
       "25866                      NaN                more_votes   \n",
       "\n",
       "       nawrocki_anomalies_k3  trzaskowski_sum_anomalies_k2  \\\n",
       "5098                     NaN                             4   \n",
       "12616                    NaN                             4   \n",
       "25866                    NaN                             4   \n",
       "\n",
       "       nawrocki_sum_anomalies_k2  nawrocki_sum_anomalies_k3  \\\n",
       "5098                           0                          0   \n",
       "12616                          0                          0   \n",
       "25866                          0                          0   \n",
       "\n",
       "      trzaskowski_sum_anomalies_k3  \n",
       "5098                             4  \n",
       "12616                            4  \n",
       "25866                            3  \n",
       "\n",
       "[3 rows x 29 columns]"
      ]
     },
     "execution_count": 137,
     "metadata": {},
     "output_type": "execute_result"
    }
   ],
   "source": [
    "# Komisje z wszystkimi czterma anomaliami\n",
    "\n",
    "df_all_anomalies = get_commissions_with_all_anomalies(df, cand, k)\n",
    "df_all_anomalies"
   ]
  },
  {
   "cell_type": "code",
   "execution_count": 204,
   "metadata": {},
   "outputs": [
    {
     "data": {
      "text/plain": [
       "trzaskowski_anomalies_k2\n",
       "pop_outlier       3512\n",
       "growth_outlier    3303\n",
       "flip              2577\n",
       "more_votes         112\n",
       "Name: count, dtype: int64"
      ]
     },
     "execution_count": 204,
     "metadata": {},
     "output_type": "execute_result"
    }
   ],
   "source": [
    "df.trzaskowski_anomalies_k2.value_counts()"
   ]
  },
  {
   "cell_type": "code",
   "execution_count": 159,
   "metadata": {},
   "outputs": [
    {
     "data": {
      "text/html": [
       "<div>\n",
       "<style scoped>\n",
       "    .dataframe tbody tr th:only-of-type {\n",
       "        vertical-align: middle;\n",
       "    }\n",
       "\n",
       "    .dataframe tbody tr th {\n",
       "        vertical-align: top;\n",
       "    }\n",
       "\n",
       "    .dataframe thead th {\n",
       "        text-align: right;\n",
       "    }\n",
       "</style>\n",
       "<table border=\"1\" class=\"dataframe\">\n",
       "  <thead>\n",
       "    <tr style=\"text-align: right;\">\n",
       "      <th></th>\n",
       "      <th>flaga</th>\n",
       "      <th>liczba_komisji</th>\n",
       "      <th>glosy_trzaskowski</th>\n",
       "      <th>glosy_nawrocki</th>\n",
       "    </tr>\n",
       "  </thead>\n",
       "  <tbody>\n",
       "    <tr>\n",
       "      <th>0</th>\n",
       "      <td>pop_outlier</td>\n",
       "      <td>3512</td>\n",
       "      <td>1742911</td>\n",
       "      <td>1800069</td>\n",
       "    </tr>\n",
       "    <tr>\n",
       "      <th>1</th>\n",
       "      <td>growth_outlier</td>\n",
       "      <td>3303</td>\n",
       "      <td>539123</td>\n",
       "      <td>820984</td>\n",
       "    </tr>\n",
       "    <tr>\n",
       "      <th>2</th>\n",
       "      <td>flip</td>\n",
       "      <td>2577</td>\n",
       "      <td>981128</td>\n",
       "      <td>785595</td>\n",
       "    </tr>\n",
       "    <tr>\n",
       "      <th>3</th>\n",
       "      <td>more_votes</td>\n",
       "      <td>112</td>\n",
       "      <td>3528</td>\n",
       "      <td>2277</td>\n",
       "    </tr>\n",
       "    <tr>\n",
       "      <th>4</th>\n",
       "      <td>Łącznie</td>\n",
       "      <td>9504</td>\n",
       "      <td>3266690</td>\n",
       "      <td>3408925</td>\n",
       "    </tr>\n",
       "  </tbody>\n",
       "</table>\n",
       "</div>"
      ],
      "text/plain": [
       "            flaga  liczba_komisji  glosy_trzaskowski  glosy_nawrocki\n",
       "0     pop_outlier            3512            1742911         1800069\n",
       "1  growth_outlier            3303             539123          820984\n",
       "2            flip            2577             981128          785595\n",
       "3      more_votes             112               3528            2277\n",
       "4         Łącznie            9504            3266690         3408925"
      ]
     },
     "execution_count": 159,
     "metadata": {},
     "output_type": "execute_result"
    }
   ],
   "source": [
    "# Próba odwzorowania tabelki z wynikami\n",
    "\n",
    "votes_impact_summary = summarize_anomaly_votes(df, cand, 2)\n",
    "votes_impact_summary"
   ]
  },
  {
   "cell_type": "markdown",
   "metadata": {},
   "source": [
    "### Na korzyść Nawrockiego"
   ]
  },
  {
   "cell_type": "code",
   "execution_count": 214,
   "metadata": {},
   "outputs": [],
   "source": [
    "cand = \"nawrocki\"\n",
    "k = 2"
   ]
  },
  {
   "cell_type": "code",
   "execution_count": 215,
   "metadata": {},
   "outputs": [
    {
     "name": "stdout",
     "output_type": "stream",
     "text": [
      "Anomalie na korzyść: nawrocki\n",
      "\n",
      "Komisje, gdzie wystąpiła przynajmniej jedna anomalia:\n",
      "8127\n",
      "Komisje, gdzie wystąpiły przynajmniej dwie anomalie:\n",
      "697\n",
      "Komisje, gdzie wystąpiły przynajmniej trzy anomalie:\n",
      "43\n",
      "Komisje, gdzie wystąpiły wszystkie 4 anomalie:\n",
      "2\n"
     ]
    }
   ],
   "source": [
    "summary_series = compute_anomaly_count_distribution(df, cand, k)\n",
    "print_anomaly_distribution(summary_series, cand)"
   ]
  },
  {
   "cell_type": "code",
   "execution_count": 216,
   "metadata": {},
   "outputs": [
    {
     "data": {
      "text/html": [
       "<div>\n",
       "<style scoped>\n",
       "    .dataframe tbody tr th:only-of-type {\n",
       "        vertical-align: middle;\n",
       "    }\n",
       "\n",
       "    .dataframe tbody tr th {\n",
       "        vertical-align: top;\n",
       "    }\n",
       "\n",
       "    .dataframe thead th {\n",
       "        text-align: right;\n",
       "    }\n",
       "</style>\n",
       "<table border=\"1\" class=\"dataframe\">\n",
       "  <thead>\n",
       "    <tr style=\"text-align: right;\">\n",
       "      <th></th>\n",
       "      <th>nawrocki_anomalies_k2</th>\n",
       "      <th>nawrocki_anomalies_k2_5</th>\n",
       "      <th>nawrocki_anomalies_k3</th>\n",
       "    </tr>\n",
       "  </thead>\n",
       "  <tbody>\n",
       "    <tr>\n",
       "      <th>pop_outlier</th>\n",
       "      <td>3380</td>\n",
       "      <td>2524</td>\n",
       "      <td>1884</td>\n",
       "    </tr>\n",
       "    <tr>\n",
       "      <th>growth_outlier</th>\n",
       "      <td>2814</td>\n",
       "      <td>1972</td>\n",
       "      <td>1452</td>\n",
       "    </tr>\n",
       "    <tr>\n",
       "      <th>flip</th>\n",
       "      <td>1805</td>\n",
       "      <td>1805</td>\n",
       "      <td>1805</td>\n",
       "    </tr>\n",
       "    <tr>\n",
       "      <th>more_votes</th>\n",
       "      <td>128</td>\n",
       "      <td>128</td>\n",
       "      <td>128</td>\n",
       "    </tr>\n",
       "  </tbody>\n",
       "</table>\n",
       "</div>"
      ],
      "text/plain": [
       "                nawrocki_anomalies_k2  nawrocki_anomalies_k2_5  \\\n",
       "pop_outlier                      3380                     2524   \n",
       "growth_outlier                   2814                     1972   \n",
       "flip                             1805                     1805   \n",
       "more_votes                        128                      128   \n",
       "\n",
       "                nawrocki_anomalies_k3  \n",
       "pop_outlier                      1884  \n",
       "growth_outlier                   1452  \n",
       "flip                             1805  \n",
       "more_votes                        128  "
      ]
     },
     "execution_count": 216,
     "metadata": {},
     "output_type": "execute_result"
    }
   ],
   "source": [
    "anomalies_summarized = summarize_anomalies(df, cand, k_values)\n",
    "anomalies_summarized"
   ]
  },
  {
   "cell_type": "code",
   "execution_count": 217,
   "metadata": {},
   "outputs": [
    {
     "data": {
      "text/html": [
       "<div>\n",
       "<style scoped>\n",
       "    .dataframe tbody tr th:only-of-type {\n",
       "        vertical-align: middle;\n",
       "    }\n",
       "\n",
       "    .dataframe tbody tr th {\n",
       "        vertical-align: top;\n",
       "    }\n",
       "\n",
       "    .dataframe thead th {\n",
       "        text-align: right;\n",
       "    }\n",
       "</style>\n",
       "<table border=\"1\" class=\"dataframe\">\n",
       "  <thead>\n",
       "    <tr style=\"text-align: right;\">\n",
       "      <th></th>\n",
       "      <th>teryt_gmina</th>\n",
       "      <th>polling_station_id</th>\n",
       "      <th>trzaskowski_r1</th>\n",
       "      <th>nawrocki_r1</th>\n",
       "      <th>postal_code</th>\n",
       "      <th>trzaskowski_r2</th>\n",
       "      <th>nawrocki_r2</th>\n",
       "      <th>postal_clean</th>\n",
       "      <th>bucket</th>\n",
       "      <th>trzaskowski_k_score_1</th>\n",
       "      <th>...</th>\n",
       "      <th>trzaskowski_more_votes</th>\n",
       "      <th>nawrocki_more_votes</th>\n",
       "      <th>trzaskowski_anomalies_k2</th>\n",
       "      <th>nawrocki_anomalies_k2</th>\n",
       "      <th>trzaskowski_anomalies_k2_5</th>\n",
       "      <th>nawrocki_anomalies_k2_5</th>\n",
       "      <th>trzaskowski_anomalies_k3</th>\n",
       "      <th>nawrocki_anomalies_k3</th>\n",
       "      <th>trzaskowski_sum_anomalies_k2</th>\n",
       "      <th>nawrocki_sum_anomalies_k2</th>\n",
       "    </tr>\n",
       "  </thead>\n",
       "  <tbody>\n",
       "    <tr>\n",
       "      <th>11610</th>\n",
       "      <td>126101</td>\n",
       "      <td>95</td>\n",
       "      <td>550</td>\n",
       "      <td>218</td>\n",
       "      <td>31-346</td>\n",
       "      <td>540</td>\n",
       "      <td>1132</td>\n",
       "      <td>31346</td>\n",
       "      <td>691</td>\n",
       "      <td>-1.577586</td>\n",
       "      <td>...</td>\n",
       "      <td>False</td>\n",
       "      <td>True</td>\n",
       "      <td>NaN</td>\n",
       "      <td>more_votes</td>\n",
       "      <td>NaN</td>\n",
       "      <td>more_votes</td>\n",
       "      <td>NaN</td>\n",
       "      <td>more_votes</td>\n",
       "      <td>0</td>\n",
       "      <td>4</td>\n",
       "    </tr>\n",
       "    <tr>\n",
       "      <th>17032</th>\n",
       "      <td>161105</td>\n",
       "      <td>9</td>\n",
       "      <td>311</td>\n",
       "      <td>107</td>\n",
       "      <td>47-100</td>\n",
       "      <td>223</td>\n",
       "      <td>416</td>\n",
       "      <td>47100</td>\n",
       "      <td>1408</td>\n",
       "      <td>-0.074257</td>\n",
       "      <td>...</td>\n",
       "      <td>False</td>\n",
       "      <td>True</td>\n",
       "      <td>NaN</td>\n",
       "      <td>more_votes</td>\n",
       "      <td>NaN</td>\n",
       "      <td>more_votes</td>\n",
       "      <td>NaN</td>\n",
       "      <td>more_votes</td>\n",
       "      <td>0</td>\n",
       "      <td>4</td>\n",
       "    </tr>\n",
       "  </tbody>\n",
       "</table>\n",
       "<p>2 rows × 27 columns</p>\n",
       "</div>"
      ],
      "text/plain": [
       "       teryt_gmina  polling_station_id  trzaskowski_r1  nawrocki_r1  \\\n",
       "11610       126101                  95             550          218   \n",
       "17032       161105                   9             311          107   \n",
       "\n",
       "      postal_code  trzaskowski_r2  nawrocki_r2 postal_clean  bucket  \\\n",
       "11610      31-346             540         1132        31346     691   \n",
       "17032      47-100             223          416        47100    1408   \n",
       "\n",
       "       trzaskowski_k_score_1  ...  trzaskowski_more_votes  \\\n",
       "11610              -1.577586  ...                   False   \n",
       "17032              -0.074257  ...                   False   \n",
       "\n",
       "       nawrocki_more_votes  trzaskowski_anomalies_k2  nawrocki_anomalies_k2  \\\n",
       "11610                 True                       NaN             more_votes   \n",
       "17032                 True                       NaN             more_votes   \n",
       "\n",
       "       trzaskowski_anomalies_k2_5  nawrocki_anomalies_k2_5  \\\n",
       "11610                         NaN               more_votes   \n",
       "17032                         NaN               more_votes   \n",
       "\n",
       "       trzaskowski_anomalies_k3  nawrocki_anomalies_k3  \\\n",
       "11610                       NaN             more_votes   \n",
       "17032                       NaN             more_votes   \n",
       "\n",
       "       trzaskowski_sum_anomalies_k2 nawrocki_sum_anomalies_k2  \n",
       "11610                             0                         4  \n",
       "17032                             0                         4  \n",
       "\n",
       "[2 rows x 27 columns]"
      ]
     },
     "execution_count": 217,
     "metadata": {},
     "output_type": "execute_result"
    }
   ],
   "source": [
    "# Komisje z wszystkimi czterma anomaliami\n",
    "\n",
    "df_all_anomalies = get_commissions_with_all_anomalies(df, cand, k)\n",
    "df_all_anomalies"
   ]
  },
  {
   "cell_type": "code",
   "execution_count": 220,
   "metadata": {},
   "outputs": [],
   "source": [
    "def summarize_anomaly_votes(df, cand, k=2):\n",
    "    opponent = \"trzaskowski\" if cand == \"nawrocki\" else \"nawrocki\"\n",
    "    k_str = str(k).replace('.', '_')\n",
    "    col_name = f\"{cand}_anomalies_k{k_str}\"\n",
    "\n",
    "    # Only rows with an assigned anomaly\n",
    "    df_anom = df[df[col_name].notna()].copy()\n",
    "    df_anom[\"flaga\"] = df_anom[col_name]\n",
    "\n",
    "    # Group by anomaly type and aggregate\n",
    "    grouped = df_anom.groupby(\"flaga\").agg(\n",
    "        liczba_komisji=('flaga', 'count'),\n",
    "        **{f\"glosy_{cand}\": (f\"{cand}_r2\", 'sum')},\n",
    "        **{f\"glosy_{opponent}\": (f\"{opponent}_r2\", 'sum')}\n",
    "    )\n",
    "\n",
    "    # Add total row (\"Łącznie\")\n",
    "    total_row = pd.DataFrame({\n",
    "        \"liczba_komisji\": [df_anom.shape[0]],\n",
    "        f\"glosy_{cand}\": [df_anom[f\"{cand}_r2\"].sum()],\n",
    "        f\"glosy_{opponent}\": [df_anom[f\"{opponent}_r2\"].sum()]\n",
    "    }, index=[\"Łącznie\"])\n",
    "\n",
    "    # Combine with grouped data\n",
    "    full = pd.concat([grouped, total_row])\n",
    "\n",
    "    # Ensure order\n",
    "    desired_order = [\"pop_outlier\", \"growth_outlier\", \"flip\", \"more_votes\", \"Łącznie\"]\n",
    "    full = full.reindex(desired_order).fillna(0).astype(int)\n",
    "\n",
    "    return full.reset_index().rename(columns={\"index\": \"flaga\"})\n"
   ]
  },
  {
   "cell_type": "markdown",
   "metadata": {},
   "source": [
    "![kontek tabela 1 wyniki k=2](./images/kontek_tabela_wyniki_k2.png)\n"
   ]
  },
  {
   "cell_type": "code",
   "execution_count": 18,
   "metadata": {},
   "outputs": [
    {
     "ename": "NameError",
     "evalue": "name 'summarize_anomaly_votes' is not defined",
     "output_type": "error",
     "traceback": [
      "\u001b[31m---------------------------------------------------------------------------\u001b[39m",
      "\u001b[31mNameError\u001b[39m                                 Traceback (most recent call last)",
      "\u001b[36mCell\u001b[39m\u001b[36m \u001b[39m\u001b[32mIn[18]\u001b[39m\u001b[32m, line 3\u001b[39m\n\u001b[32m      1\u001b[39m \u001b[38;5;66;03m# Próba odwzorowania tabeli z wynikami\u001b[39;00m\n\u001b[32m----> \u001b[39m\u001b[32m3\u001b[39m votes_impact_summary = \u001b[43msummarize_anomaly_votes\u001b[49m(df, cand, \u001b[32m2\u001b[39m)\n\u001b[32m      4\u001b[39m votes_impact_summary\n",
      "\u001b[31mNameError\u001b[39m: name 'summarize_anomaly_votes' is not defined"
     ]
    }
   ],
   "source": [
    "# Próba odwzorowania tabeli z wynikami\n",
    "\n",
    "votes_impact_summary = summarize_anomaly_votes(df, cand, 2)\n",
    "votes_impact_summary"
   ]
  },
  {
   "cell_type": "markdown",
   "metadata": {},
   "source": [
    "### PONOWNIE POLICZONE GŁOSY\n",
    "\n",
    "\n",
    "https://polskieradio24.pl/artykul/3543223,jakie-sa-wyniki-w-komisjach-w-ktorych-ponownie-przeliczono-glosy-sprawdzilismy"
   ]
  },
  {
   "cell_type": "code",
   "execution_count": null,
   "metadata": {},
   "outputs": [],
   "source": [
    "df_vote_recount = presidential_data.load_data(\"2025\", \"2\")\n",
    "df_vote_recount = presidential_data.process_df(df_vote_recount, \"2025\", final_cols=[\"Gmina\", \"Województwo\", \"Siedziba\"])"
   ]
  },
  {
   "cell_type": "code",
   "execution_count": null,
   "metadata": {},
   "outputs": [
    {
     "name": "stdout",
     "output_type": "stream",
     "text": [
      "Matching polling stations after recount:\n",
      "                                                                11610\n",
      "polling_station_id                                                 95\n",
      "valid_votes                                                    1672.0\n",
      "ballots_cast                                                   1684.0\n",
      "teryt_gmina                                                  126101.0\n",
      "eligible_voters                                                1980.0\n",
      "nawrocki                                                       1132.0\n",
      "trzaskowski                                                     540.0\n",
      "postal_code                                                    31-346\n",
      "Gmina                                                       m. Kraków\n",
      "Województwo                                               małopolskie\n",
      "Siedziba            Zespół Szkolno-Przedszkolny Nr 14, ul. Stawowa...\n"
     ]
    }
   ],
   "source": [
    "# Example: values from recount\n",
    "target_nawrocki = 1132\n",
    "target_trzaskowski = 540\n",
    "\n",
    "# Find records that match these values exactly\n",
    "matching_stations = df_vote_recount[\n",
    "    (df_vote_recount[\"nawrocki\"] == target_nawrocki) &\n",
    "    (df_vote_recount[\"trzaskowski\"] == target_trzaskowski)\n",
    "]\n",
    "\n",
    "print(\"Matching polling stations after recount:\")\n",
    "print(matching_stations.T)"
   ]
  },
  {
   "cell_type": "code",
   "execution_count": null,
   "metadata": {},
   "outputs": [
    {
     "data": {
      "text/html": [
       "<div>\n",
       "<style scoped>\n",
       "    .dataframe tbody tr th:only-of-type {\n",
       "        vertical-align: middle;\n",
       "    }\n",
       "\n",
       "    .dataframe tbody tr th {\n",
       "        vertical-align: top;\n",
       "    }\n",
       "\n",
       "    .dataframe thead th {\n",
       "        text-align: right;\n",
       "    }\n",
       "</style>\n",
       "<table border=\"1\" class=\"dataframe\">\n",
       "  <thead>\n",
       "    <tr style=\"text-align: right;\">\n",
       "      <th></th>\n",
       "      <th>teryt_gmina</th>\n",
       "      <th>polling_station_id</th>\n",
       "      <th>valid_votes</th>\n",
       "      <th>nawrocki</th>\n",
       "      <th>new_nawrocki</th>\n",
       "      <th>trzaskowski</th>\n",
       "      <th>new_trzaskowski</th>\n",
       "    </tr>\n",
       "  </thead>\n",
       "  <tbody>\n",
       "    <tr>\n",
       "      <th>0</th>\n",
       "      <td>20701.0</td>\n",
       "      <td>6</td>\n",
       "      <td>706.0</td>\n",
       "      <td>368.0</td>\n",
       "      <td>278</td>\n",
       "      <td>338.0</td>\n",
       "      <td>428</td>\n",
       "    </tr>\n",
       "    <tr>\n",
       "      <th>1</th>\n",
       "      <td>41804.0</td>\n",
       "      <td>4</td>\n",
       "      <td>797.0</td>\n",
       "      <td>466.0</td>\n",
       "      <td>331</td>\n",
       "      <td>331.0</td>\n",
       "      <td>466</td>\n",
       "    </tr>\n",
       "    <tr>\n",
       "      <th>2</th>\n",
       "      <td>46201.0</td>\n",
       "      <td>25</td>\n",
       "      <td>828.0</td>\n",
       "      <td>504.0</td>\n",
       "      <td>324</td>\n",
       "      <td>324.0</td>\n",
       "      <td>504</td>\n",
       "    </tr>\n",
       "    <tr>\n",
       "      <th>3</th>\n",
       "      <td>121611.0</td>\n",
       "      <td>10</td>\n",
       "      <td>330.0</td>\n",
       "      <td>217.0</td>\n",
       "      <td>317</td>\n",
       "      <td>113.0</td>\n",
       "      <td>363</td>\n",
       "    </tr>\n",
       "    <tr>\n",
       "      <th>4</th>\n",
       "      <td>126101.0</td>\n",
       "      <td>95</td>\n",
       "      <td>1672.0</td>\n",
       "      <td>1132.0</td>\n",
       "      <td>540</td>\n",
       "      <td>540.0</td>\n",
       "      <td>1132</td>\n",
       "    </tr>\n",
       "    <tr>\n",
       "      <th>5</th>\n",
       "      <td>140706.0</td>\n",
       "      <td>1</td>\n",
       "      <td>660.0</td>\n",
       "      <td>193.0</td>\n",
       "      <td>468</td>\n",
       "      <td>467.0</td>\n",
       "      <td>192</td>\n",
       "    </tr>\n",
       "    <tr>\n",
       "      <th>6</th>\n",
       "      <td>141201.0</td>\n",
       "      <td>13</td>\n",
       "      <td>974.0</td>\n",
       "      <td>611.0</td>\n",
       "      <td>364</td>\n",
       "      <td>363.0</td>\n",
       "      <td>611</td>\n",
       "    </tr>\n",
       "    <tr>\n",
       "      <th>7</th>\n",
       "      <td>146505.0</td>\n",
       "      <td>113</td>\n",
       "      <td>1910.0</td>\n",
       "      <td>136.0</td>\n",
       "      <td>296</td>\n",
       "      <td>1774.0</td>\n",
       "      <td>1611</td>\n",
       "    </tr>\n",
       "    <tr>\n",
       "      <th>8</th>\n",
       "      <td>160803.0</td>\n",
       "      <td>3</td>\n",
       "      <td>1015.0</td>\n",
       "      <td>637.0</td>\n",
       "      <td>377</td>\n",
       "      <td>378.0</td>\n",
       "      <td>638</td>\n",
       "    </tr>\n",
       "    <tr>\n",
       "      <th>9</th>\n",
       "      <td>161105.0</td>\n",
       "      <td>9</td>\n",
       "      <td>639.0</td>\n",
       "      <td>416.0</td>\n",
       "      <td>223</td>\n",
       "      <td>223.0</td>\n",
       "      <td>416</td>\n",
       "    </tr>\n",
       "    <tr>\n",
       "      <th>10</th>\n",
       "      <td>226101.0</td>\n",
       "      <td>17</td>\n",
       "      <td>931.0</td>\n",
       "      <td>585.0</td>\n",
       "      <td>344</td>\n",
       "      <td>346.0</td>\n",
       "      <td>585</td>\n",
       "    </tr>\n",
       "    <tr>\n",
       "      <th>11</th>\n",
       "      <td>246101.0</td>\n",
       "      <td>30</td>\n",
       "      <td>959.0</td>\n",
       "      <td>610.0</td>\n",
       "      <td>450</td>\n",
       "      <td>349.0</td>\n",
       "      <td>509</td>\n",
       "    </tr>\n",
       "    <tr>\n",
       "      <th>12</th>\n",
       "      <td>246101.0</td>\n",
       "      <td>61</td>\n",
       "      <td>1819.0</td>\n",
       "      <td>1048.0</td>\n",
       "      <td>771</td>\n",
       "      <td>771.0</td>\n",
       "      <td>1049</td>\n",
       "    </tr>\n",
       "    <tr>\n",
       "      <th>13</th>\n",
       "      <td>246901.0</td>\n",
       "      <td>53</td>\n",
       "      <td>1458.0</td>\n",
       "      <td>628.0</td>\n",
       "      <td>627</td>\n",
       "      <td>830.0</td>\n",
       "      <td>828</td>\n",
       "    </tr>\n",
       "    <tr>\n",
       "      <th>14</th>\n",
       "      <td>247701.0</td>\n",
       "      <td>35</td>\n",
       "      <td>928.0</td>\n",
       "      <td>581.0</td>\n",
       "      <td>347</td>\n",
       "      <td>347.0</td>\n",
       "      <td>581</td>\n",
       "    </tr>\n",
       "    <tr>\n",
       "      <th>15</th>\n",
       "      <td>247801.0</td>\n",
       "      <td>20</td>\n",
       "      <td>1225.0</td>\n",
       "      <td>543.0</td>\n",
       "      <td>542</td>\n",
       "      <td>682.0</td>\n",
       "      <td>683</td>\n",
       "    </tr>\n",
       "    <tr>\n",
       "      <th>16</th>\n",
       "      <td>261207.0</td>\n",
       "      <td>4</td>\n",
       "      <td>569.0</td>\n",
       "      <td>209.0</td>\n",
       "      <td>360</td>\n",
       "      <td>360.0</td>\n",
       "      <td>209</td>\n",
       "    </tr>\n",
       "  </tbody>\n",
       "</table>\n",
       "</div>"
      ],
      "text/plain": [
       "    teryt_gmina  polling_station_id  valid_votes  nawrocki  new_nawrocki  \\\n",
       "0       20701.0                   6        706.0     368.0           278   \n",
       "1       41804.0                   4        797.0     466.0           331   \n",
       "2       46201.0                  25        828.0     504.0           324   \n",
       "3      121611.0                  10        330.0     217.0           317   \n",
       "4      126101.0                  95       1672.0    1132.0           540   \n",
       "5      140706.0                   1        660.0     193.0           468   \n",
       "6      141201.0                  13        974.0     611.0           364   \n",
       "7      146505.0                 113       1910.0     136.0           296   \n",
       "8      160803.0                   3       1015.0     637.0           377   \n",
       "9      161105.0                   9        639.0     416.0           223   \n",
       "10     226101.0                  17        931.0     585.0           344   \n",
       "11     246101.0                  30        959.0     610.0           450   \n",
       "12     246101.0                  61       1819.0    1048.0           771   \n",
       "13     246901.0                  53       1458.0     628.0           627   \n",
       "14     247701.0                  35        928.0     581.0           347   \n",
       "15     247801.0                  20       1225.0     543.0           542   \n",
       "16     261207.0                   4        569.0     209.0           360   \n",
       "\n",
       "    trzaskowski  new_trzaskowski  \n",
       "0         338.0              428  \n",
       "1         331.0              466  \n",
       "2         324.0              504  \n",
       "3         113.0              363  \n",
       "4         540.0             1132  \n",
       "5         467.0              192  \n",
       "6         363.0              611  \n",
       "7        1774.0             1611  \n",
       "8         378.0              638  \n",
       "9         223.0              416  \n",
       "10        346.0              585  \n",
       "11        349.0              509  \n",
       "12        771.0             1049  \n",
       "13        830.0              828  \n",
       "14        347.0              581  \n",
       "15        682.0              683  \n",
       "16        360.0              209  "
      ]
     },
     "execution_count": 52,
     "metadata": {},
     "output_type": "execute_result"
    }
   ],
   "source": [
    "# --- Step 1: Create the recount dataset with both old and new values ---\n",
    "recounts = [\n",
    "    {\"polling_station_id\": 95,  \"valid_votes\": 1672, \"old_nawrocki\": 1132, \"old_trzaskowski\": 540,  \"new_nawrocki\": 540,  \"new_trzaskowski\": 1132},\n",
    "    {\"polling_station_id\": 3,   \"valid_votes\": 1015, \"old_nawrocki\": 637,  \"old_trzaskowski\": 378,  \"new_nawrocki\": 377,  \"new_trzaskowski\": 638},\n",
    "    {\"polling_station_id\": 13,  \"valid_votes\": 974,  \"old_nawrocki\": 611,  \"old_trzaskowski\": 363,  \"new_nawrocki\": 364,  \"new_trzaskowski\": 611},\n",
    "    {\"polling_station_id\": 9,   \"valid_votes\": 639,  \"old_nawrocki\": 416,  \"old_trzaskowski\": 223,  \"new_nawrocki\": 223,  \"new_trzaskowski\": 416},\n",
    "    {\"polling_station_id\": 25,  \"valid_votes\": 828,  \"old_nawrocki\": 504,  \"old_trzaskowski\": 324,  \"new_nawrocki\": 324,  \"new_trzaskowski\": 504},\n",
    "    {\"polling_station_id\": 17,  \"valid_votes\": 931,  \"old_nawrocki\": 585,  \"old_trzaskowski\": 346,  \"new_nawrocki\": 344,  \"new_trzaskowski\": 585},\n",
    "    {\"polling_station_id\": 30,  \"valid_votes\": 959,  \"old_nawrocki\": 610,  \"old_trzaskowski\": 349,  \"new_nawrocki\": 450,  \"new_trzaskowski\": 509},\n",
    "    {\"polling_station_id\": 61,  \"valid_votes\": 1819, \"old_nawrocki\": 1048, \"old_trzaskowski\": 771,  \"new_nawrocki\": 771,  \"new_trzaskowski\": 1049},\n",
    "    {\"polling_station_id\": 10,  \"valid_votes\": 330,  \"old_nawrocki\": 217,  \"old_trzaskowski\": 113,  \"new_nawrocki\": 317,  \"new_trzaskowski\": 363},\n",
    "    {\"polling_station_id\": 53,  \"valid_votes\": 1458, \"old_nawrocki\": 628,  \"old_trzaskowski\": 830,  \"new_nawrocki\": 627,  \"new_trzaskowski\": 828},\n",
    "    {\"polling_station_id\": 35,  \"valid_votes\": 928,  \"old_nawrocki\": 581,  \"old_trzaskowski\": 347,  \"new_nawrocki\": 347,  \"new_trzaskowski\": 581},\n",
    "    {\"polling_station_id\": 6,   \"valid_votes\": 706,  \"old_nawrocki\": 368,  \"old_trzaskowski\": 338,  \"new_nawrocki\": 278,  \"new_trzaskowski\": 428},\n",
    "    {\"polling_station_id\": 4,   \"valid_votes\": 797,  \"old_nawrocki\": 466,  \"old_trzaskowski\": 331,  \"new_nawrocki\": 331,  \"new_trzaskowski\": 466},\n",
    "    {\"polling_station_id\": 4,   \"valid_votes\": 569,  \"old_nawrocki\": 209,  \"old_trzaskowski\": 360,  \"new_nawrocki\": 360,  \"new_trzaskowski\": 209},  # Staszów\n",
    "    {\"polling_station_id\": 1,   \"valid_votes\": 660,  \"old_nawrocki\": 193,  \"old_trzaskowski\": 467,  \"new_nawrocki\": 468,  \"new_trzaskowski\": 192},  # Magnuszew\n",
    "    {\"polling_station_id\": 113, \"valid_votes\": 1910, \"old_nawrocki\": 136,  \"old_trzaskowski\": 1774, \"new_nawrocki\": 296,  \"new_trzaskowski\": 1611},\n",
    "    {\"polling_station_id\": 20,  \"valid_votes\": 1225, \"old_nawrocki\": 543,  \"old_trzaskowski\": 682,  \"new_nawrocki\": 542,  \"new_trzaskowski\": 683},\n",
    "]\n",
    "\n",
    "recount_df = pd.DataFrame(recounts)\n",
    "\n",
    "# --- Step 2: Merge on 4 fields for exact match ---\n",
    "df_affected_polling_stations = df_vote_recount.merge(\n",
    "    recount_df,\n",
    "    how=\"inner\",\n",
    "    left_on=[\"polling_station_id\", \"valid_votes\", \"nawrocki\", \"trzaskowski\"],\n",
    "    right_on=[\"polling_station_id\", \"valid_votes\", \"old_nawrocki\", \"old_trzaskowski\"]\n",
    ")\n",
    "\n",
    "# --- Step 3: Output ---\n",
    "# print(\"✅ Matches with recount corrections:\")\n",
    "df_affected_polling_stations[[\"teryt_gmina\", \"polling_station_id\", \"valid_votes\", \"nawrocki\", \"new_nawrocki\",\n",
    "               \"trzaskowski\", \"new_trzaskowski\"]].head(17)\n",
    "\n",
    "\n"
   ]
  },
  {
   "cell_type": "code",
   "execution_count": null,
   "metadata": {},
   "outputs": [
    {
     "data": {
      "text/plain": [
       "17"
      ]
     },
     "execution_count": 53,
     "metadata": {},
     "output_type": "execute_result"
    }
   ],
   "source": [
    "# Podsumowanie weryfikacji wyników wyborów 17 komisji\n",
    "\n",
    "len(df_affected_polling_stations)"
   ]
  },
  {
   "cell_type": "markdown",
   "metadata": {},
   "source": [
    "### Przepływy poparcia\n",
    "\n",
    "Late Poll od Ipsos \n",
    "https://tvn24.pl/polska/wyniki-wyborow-prezydenckich-2025-jak-glosowali-polacy-interaktywne-grafiki-i-wykresy-st8486765\n",
    "\n",
    "\n",
    "https://x.com/Jakub_Kubajek/status/1937434102312886412\n",
    "\n",
    "\n",
    "https://colab.research.google.com/drive/1agO77d5cpwlEpMAzVwwT0xXQkmMinMyJ#scrollTo=rV1zoohwi7Xz"
   ]
  },
  {
   "cell_type": "code",
   "execution_count": null,
   "metadata": {},
   "outputs": [],
   "source": [
    "vote_flow_kn = {\n",
    "    'BARTOSZEWICZ Artur': 0.696,\n",
    "    'BIEJAT Magdalena Agnieszka': 0.117,\n",
    "    'BRAUN Grzegorz Michał': 0.926,\n",
    "    'HOŁOWNIA Szymon Franciszek': 0.146,\n",
    "    'JAKUBIAK Marek': 0.895,\n",
    "    'MACIAK Maciej': 0.707,\n",
    "    'MENTZEN Sławomir Jerzy': 0.872,\n",
    "    'NAWROCKI Karol Tadeusz': 0.993,\n",
    "    'SENYSZYN Joanna': 0.193,\n",
    "    'STANOWSKI Krzysztof Jakub': 0.521,\n",
    "    'TRZASKOWSKI Rafał Kazimierz': 0.012,\n",
    "    'WOCH Marek Marian': 0.538,\n",
    "    'ZANDBERG Adrian Tadeusz': 0.165\n",
    "}\n",
    "new_votes_kn = 0.486"
   ]
  },
  {
   "cell_type": "code",
   "execution_count": null,
   "metadata": {},
   "outputs": [],
   "source": [
    "new_votes_rt = 0.514\n",
    "\n",
    "vote_flow_rt = {key: 1 - value for key, value in vote_flow_kn.items()}"
   ]
  },
  {
   "cell_type": "code",
   "execution_count": null,
   "metadata": {},
   "outputs": [
    {
     "data": {
      "text/plain": [
       "{'BARTOSZEWICZ Artur': 0.30400000000000005,\n",
       " 'BIEJAT Magdalena Agnieszka': 0.883,\n",
       " 'BRAUN Grzegorz Michał': 0.07399999999999995,\n",
       " 'HOŁOWNIA Szymon Franciszek': 0.854,\n",
       " 'JAKUBIAK Marek': 0.10499999999999998,\n",
       " 'MACIAK Maciej': 0.29300000000000004,\n",
       " 'MENTZEN Sławomir Jerzy': 0.128,\n",
       " 'NAWROCKI Karol Tadeusz': 0.007000000000000006,\n",
       " 'SENYSZYN Joanna': 0.8069999999999999,\n",
       " 'STANOWSKI Krzysztof Jakub': 0.479,\n",
       " 'TRZASKOWSKI Rafał Kazimierz': 0.988,\n",
       " 'WOCH Marek Marian': 0.46199999999999997,\n",
       " 'ZANDBERG Adrian Tadeusz': 0.835}"
      ]
     },
     "execution_count": 56,
     "metadata": {},
     "output_type": "execute_result"
    }
   ],
   "source": [
    "vote_flow_rt"
   ]
  }
 ],
 "metadata": {
  "kernelspec": {
   "display_name": "venv",
   "language": "python",
   "name": "python3"
  },
  "language_info": {
   "codemirror_mode": {
    "name": "ipython",
    "version": 3
   },
   "file_extension": ".py",
   "mimetype": "text/x-python",
   "name": "python",
   "nbconvert_exporter": "python",
   "pygments_lexer": "ipython3",
   "version": "3.13.4"
  }
 },
 "nbformat": 4,
 "nbformat_minor": 2
}
