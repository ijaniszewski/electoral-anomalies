{
 "cells": [
  {
   "cell_type": "markdown",
   "metadata": {},
   "source": [
    "Zastosowane 4 metody dra Kontka dla danych z 2020 roku (Duda & Trzaskowski)"
   ]
  },
  {
   "cell_type": "code",
   "execution_count": 1,
   "metadata": {},
   "outputs": [],
   "source": [
    "import pandas as pd\n",
    "import re\n",
    "import os\n",
    "import numpy as np\n",
    "from scipy.stats import median_abs_deviation\n",
    "\n",
    "from src.utilities import presidential_data\n",
    "from src.utilities import kontek_clustering as clustering\n",
    "from src.utilities import kontek_methods as methods"
   ]
  },
  {
   "cell_type": "markdown",
   "metadata": {},
   "source": [
    "### load data"
   ]
  },
  {
   "cell_type": "code",
   "execution_count": 2,
   "metadata": {},
   "outputs": [],
   "source": [
    "year = \"2020\"\n",
    "df_2020_r1 = presidential_data.get_df(year, \"1\")\n",
    "df_2020_r2 = presidential_data.get_df(year, \"2\")"
   ]
  },
  {
   "cell_type": "markdown",
   "metadata": {},
   "source": [
    "------------"
   ]
  },
  {
   "cell_type": "markdown",
   "metadata": {},
   "source": [
    "### IMPLEMENTACJA METOD ZAPROPONOWANYCH PRZEZ DR KONTKA\n",
    "\n",
    "https://papers.ssrn.com/sol3/papers.cfm?abstract_id=5296441\n",
    "\n",
    "2.3. Wykrywanie wartości odstających\n",
    "\n",
    "Główna innowacja analityczna niniejszego badania polega na oszacowaniu potencjalnego wpływu\n",
    "anormalnych komisji wyborczych na poziomie ogólnokrajowym. Aby to osiągnąć, w pierwszej\n",
    "kolejności zidentyfikowano wartości odstające w czterech kategoriach nieprawidłowości:"
   ]
  },
  {
   "cell_type": "code",
   "execution_count": 3,
   "metadata": {},
   "outputs": [],
   "source": [
    "cand_A = \"trzaskowski\"\n",
    "cand_B = \"duda\"\n",
    "\n",
    "df_2020 = presidential_data.join_both_rounds(cand_A, cand_B, df_2020_r1, df_2020_r2)"
   ]
  },
  {
   "cell_type": "code",
   "execution_count": 4,
   "metadata": {},
   "outputs": [],
   "source": [
    "# Add buckets\n",
    "df_2020 = clustering.add_bialek_postal_buckets(df_2020)"
   ]
  },
  {
   "cell_type": "markdown",
   "metadata": {},
   "source": [
    "### 1. Nadmierne poparcie dla Andrzeja Dudy (względem mediany w ramach lokalnej grupy)"
   ]
  },
  {
   "cell_type": "code",
   "execution_count": 15,
   "metadata": {},
   "outputs": [],
   "source": [
    "df = df_2020.copy()"
   ]
  },
  {
   "cell_type": "markdown",
   "metadata": {},
   "source": [
    "2.4 Przeliczenie wyników\n",
    "\n",
    "Aby uwzględnić niepewność i wrażliwość zastosowanego podejścia, obliczenia przeprowadzono dla\n",
    "trzech różnych progów detekcji wartości odstających: k > 2.0, k > 2.5 oraz k > 3.0, gdzie k oznacza\n",
    "liczbę jednostek odchylenia bezwzględnego od mediany (MAD) względem mediany w grupie\n",
    "lokalnej. Wyższe wartości k wyodrębniają jedynie najbardziej skrajne przypadki, zapewniając tym\n",
    "samym konserwatywną estymację potencjalnego wpływu. Jednocześnie jednak ograniczają zdolność\n",
    "metody do wychwytywania mniejszych, lecz wciąż istotnych odchyleń."
   ]
  },
  {
   "cell_type": "code",
   "execution_count": 6,
   "metadata": {},
   "outputs": [],
   "source": [
    "# Let's set k = 2\n",
    "k = 2"
   ]
  },
  {
   "cell_type": "code",
   "execution_count": 16,
   "metadata": {},
   "outputs": [],
   "source": [
    "df = methods.add_anomaly_1(df, cand_A, cand_B, k=k, new_col_name=\"anomaly_1\")"
   ]
  },
  {
   "cell_type": "code",
   "execution_count": 17,
   "metadata": {},
   "outputs": [
    {
     "name": "stdout",
     "output_type": "stream",
     "text": [
      "k > 2.0\n",
      "trzaskowski: 3430\n",
      "duda: 2893\n",
      "---\n",
      "k > 2.5\n",
      "trzaskowski: 2541\n",
      "duda: 2018\n",
      "---\n",
      "k > 3.0\n",
      "trzaskowski: 1917\n",
      "duda: 1434\n",
      "---\n"
     ]
    }
   ],
   "source": [
    "methods.check_k_thresholds(df, cand_A, cand_B, \"_k_score_1\")"
   ]
  },
  {
   "cell_type": "markdown",
   "metadata": {},
   "source": [
    "Wyniki:\n",
    "\n",
    "Dla k=2, takich komisji, w których \"za duże\" poparcie ma Duda jest 2893  a Trzaskowski 3430 (vs 3750 i 4551 w 2025)"
   ]
  },
  {
   "cell_type": "code",
   "execution_count": 19,
   "metadata": {},
   "outputs": [],
   "source": [
    "# drop k_score columns\n",
    "# should be done in add_anomaly func, but to show different anomaly results based on k\n",
    "\n",
    "df = df.drop(columns=[\n",
    "    f\"{cand_A}_k_score_1\",\n",
    "    f\"{cand_B}_k_score_1\"\n",
    "])"
   ]
  },
  {
   "cell_type": "markdown",
   "metadata": {},
   "source": [
    "### 2. Nadmierny względny wzrost poparcia dla Andrzeja Dudy między pierwszą a drugą turą, w porównaniu do odpowiedniego wzrostu poparcia dla Rafała Trzaskowskiego w tej samej grupie lokalnej;"
   ]
  },
  {
   "cell_type": "markdown",
   "metadata": {},
   "source": [
    "za JB: \n",
    "\n",
    "Nie podano wprost jak to było obliczone więc kolejno:\n",
    "\n",
    "  1. Dla danego kandydata obliczam względny wzrost między pierwszą a drugą turą (dzieląc wynik z drugiej przez wynik z pierwszej)\n",
    "  2. Następnie odnoszę go do wzrostu drugiego kandydata - liczę różnicę między względnymi wzrostami.\n",
    "  3. Dalej tak jak w pierwszym typie anomalii - dla tych różnic liczę medianę grupy, MAD grupy oraz odchylenie k w komisji."
   ]
  },
  {
   "cell_type": "code",
   "execution_count": 20,
   "metadata": {},
   "outputs": [],
   "source": [
    "df = methods.add_anomaly_2(df, cand_A, cand_B, k=k, new_col_name=\"anomaly_2\")"
   ]
  },
  {
   "cell_type": "code",
   "execution_count": 21,
   "metadata": {},
   "outputs": [
    {
     "name": "stdout",
     "output_type": "stream",
     "text": [
      "k > 2.0\n",
      "trzaskowski: 3795\n",
      "duda: 1863\n",
      "---\n",
      "k > 2.5\n",
      "trzaskowski: 2938\n",
      "duda: 1235\n",
      "---\n",
      "k > 3.0\n",
      "trzaskowski: 2358\n",
      "duda: 865\n",
      "---\n"
     ]
    }
   ],
   "source": [
    "methods.check_k_thresholds(df, cand_A, cand_B, \"_k_score_2\")"
   ]
  },
  {
   "cell_type": "markdown",
   "metadata": {},
   "source": [
    "vs 2025:\n",
    "\n",
    "k > 2.0\n",
    "\n",
    "trzaskowski: 3552\n",
    "\n",
    "nawrocki: 3127\n",
    "\n"
   ]
  },
  {
   "cell_type": "code",
   "execution_count": 22,
   "metadata": {},
   "outputs": [],
   "source": [
    "df = df.drop(columns=[\n",
    "    f\"{cand_A}_k_score_2\",\n",
    "    f\"{cand_B}_k_score_2\"\n",
    "])"
   ]
  },
  {
   "cell_type": "markdown",
   "metadata": {},
   "source": [
    "### 3. Komisje, w których Duda uzyskał więcej głosów niż Trzaskowski w drugiej turze, mimo że mediana wyników w grupie wskazywała na przewagę Trzaskowskiego;"
   ]
  },
  {
   "cell_type": "markdown",
   "metadata": {},
   "source": [
    "  1. Sprawdzamy, w których grupach dany kandydat miał większą medianę\n",
    "  2. Sumujemy komisje, w których wygrał kandydat A mimo, że większą medianę miał kandydat B i na odwrót."
   ]
  },
  {
   "cell_type": "code",
   "execution_count": 23,
   "metadata": {},
   "outputs": [],
   "source": [
    "df = methods.add_anomaly_3(df, cand_A, cand_B, k=2, new_col_name=\"anomaly_3\")"
   ]
  },
  {
   "cell_type": "code",
   "execution_count": 24,
   "metadata": {},
   "outputs": [
    {
     "data": {
      "text/plain": [
       "('trzaskowski', 1885)"
      ]
     },
     "execution_count": 24,
     "metadata": {},
     "output_type": "execute_result"
    }
   ],
   "source": [
    "# na korzyść kandydat A, czyli większą medianę miał B, a więcej głosów dostał A.\n",
    "cand_A, sum(df['higher_median_' + cand_B] & (df[cand_A + '_r2'] > df[cand_B + '_r2']))"
   ]
  },
  {
   "cell_type": "markdown",
   "metadata": {},
   "source": [
    "vs 2025:\n",
    "\n",
    "('trzaskowski', 2608)"
   ]
  },
  {
   "cell_type": "code",
   "execution_count": 25,
   "metadata": {},
   "outputs": [
    {
     "data": {
      "text/plain": [
       "('duda', 1999)"
      ]
     },
     "execution_count": 25,
     "metadata": {},
     "output_type": "execute_result"
    }
   ],
   "source": [
    "cand_B, sum(df['higher_median_' + cand_A] & (df[cand_B + '_r2'] > df[cand_A + '_r2']))"
   ]
  },
  {
   "cell_type": "markdown",
   "metadata": {},
   "source": [
    "vs 2025:\n",
    "\n",
    "('nawrocki', 1843)"
   ]
  },
  {
   "cell_type": "markdown",
   "metadata": {},
   "source": [
    "**WYNIKI**:\n",
    "\n",
    "W grupach, w których większą medianę miał Duda, było 1999 (2025 - 1843) komisji, w których wyższy wynik uzyskał Trzaskowski.\n",
    "\n",
    "W grupach, w których większą medianę miał Trzaskowski, było 1885 (2025 - 2608) komisji, w których wyższy wyniki uzyskał Nawrocki.\n"
   ]
  },
  {
   "cell_type": "code",
   "execution_count": 27,
   "metadata": {},
   "outputs": [],
   "source": [
    "df = df.drop(columns=[\n",
    "    f\"higher_median_{cand_A}\",\n",
    "    f\"higher_median_{cand_B}\"\t\n",
    "])"
   ]
  },
  {
   "cell_type": "markdown",
   "metadata": {},
   "source": [
    "### 4. Kandydat otrzymał mniej głosów w drugiej turze niż w pierwszej"
   ]
  },
  {
   "cell_type": "code",
   "execution_count": 28,
   "metadata": {},
   "outputs": [
    {
     "data": {
      "text/plain": [
       "('trzaskowski', 106)"
      ]
     },
     "execution_count": 28,
     "metadata": {},
     "output_type": "execute_result"
    }
   ],
   "source": [
    "cand_A, sum(df[cand_A + '_r2']<df[cand_A + '_r1'])"
   ]
  },
  {
   "cell_type": "markdown",
   "metadata": {},
   "source": [
    "vs 2025:\n",
    "\n",
    "('trzaskowski', 128)"
   ]
  },
  {
   "cell_type": "markdown",
   "metadata": {},
   "source": [
    "W 106 (2025 - 128) komisjach Trzaskowski uzyskał mniej głosów w drugiej turze niż w pierwszej."
   ]
  },
  {
   "cell_type": "code",
   "execution_count": 29,
   "metadata": {},
   "outputs": [
    {
     "data": {
      "text/plain": [
       "('duda', 284)"
      ]
     },
     "execution_count": 29,
     "metadata": {},
     "output_type": "execute_result"
    }
   ],
   "source": [
    "cand_B, sum(df[cand_B + '_r2']<df[cand_B + '_r1'])"
   ]
  },
  {
   "cell_type": "markdown",
   "metadata": {},
   "source": [
    "vs 2025:\n",
    "\n",
    "('nawrocki', 112)"
   ]
  },
  {
   "cell_type": "markdown",
   "metadata": {},
   "source": [
    "W 284 (2025 - 112) komisjach Duda uzyskał mniej głosów w drugiej turze niż w pierwszej."
   ]
  },
  {
   "cell_type": "markdown",
   "metadata": {},
   "source": [
    "\n",
    "Przykładowe anomalie na korzyść Trzaskowskiego:"
   ]
  },
  {
   "cell_type": "code",
   "execution_count": 30,
   "metadata": {},
   "outputs": [
    {
     "data": {
      "text/html": [
       "<div>\n",
       "<style scoped>\n",
       "    .dataframe tbody tr th:only-of-type {\n",
       "        vertical-align: middle;\n",
       "    }\n",
       "\n",
       "    .dataframe tbody tr th {\n",
       "        vertical-align: top;\n",
       "    }\n",
       "\n",
       "    .dataframe thead th {\n",
       "        text-align: right;\n",
       "    }\n",
       "</style>\n",
       "<table border=\"1\" class=\"dataframe\">\n",
       "  <thead>\n",
       "    <tr style=\"text-align: right;\">\n",
       "      <th></th>\n",
       "      <th>teryt_gmina</th>\n",
       "      <th>polling_station_id</th>\n",
       "      <th>trzaskowski_r1</th>\n",
       "      <th>duda_r1</th>\n",
       "      <th>postal_code</th>\n",
       "      <th>trzaskowski_r2</th>\n",
       "      <th>duda_r2</th>\n",
       "      <th>postal_clean</th>\n",
       "      <th>bucket</th>\n",
       "      <th>trzaskowski_anomaly_1</th>\n",
       "      <th>duda_anomaly_1</th>\n",
       "      <th>trzaskowski_anomaly_2</th>\n",
       "      <th>duda_anomaly_2</th>\n",
       "      <th>trzaskowski_anomaly_3</th>\n",
       "      <th>duda_anomaly_3</th>\n",
       "    </tr>\n",
       "  </thead>\n",
       "  <tbody>\n",
       "    <tr>\n",
       "      <th>10728</th>\n",
       "      <td>140611</td>\n",
       "      <td>6</td>\n",
       "      <td>287</td>\n",
       "      <td>684</td>\n",
       "      <td>05-660</td>\n",
       "      <td>842</td>\n",
       "      <td>506</td>\n",
       "      <td>05660</td>\n",
       "      <td>94</td>\n",
       "      <td>True</td>\n",
       "      <td>False</td>\n",
       "      <td>True</td>\n",
       "      <td>False</td>\n",
       "      <td>True</td>\n",
       "      <td>False</td>\n",
       "    </tr>\n",
       "    <tr>\n",
       "      <th>21288</th>\n",
       "      <td>247101</td>\n",
       "      <td>16</td>\n",
       "      <td>160</td>\n",
       "      <td>493</td>\n",
       "      <td>41-940</td>\n",
       "      <td>483</td>\n",
       "      <td>447</td>\n",
       "      <td>41940</td>\n",
       "      <td>1081</td>\n",
       "      <td>False</td>\n",
       "      <td>False</td>\n",
       "      <td>True</td>\n",
       "      <td>False</td>\n",
       "      <td>False</td>\n",
       "      <td>False</td>\n",
       "    </tr>\n",
       "    <tr>\n",
       "      <th>5955</th>\n",
       "      <td>81006</td>\n",
       "      <td>1</td>\n",
       "      <td>125</td>\n",
       "      <td>402</td>\n",
       "      <td>67-312</td>\n",
       "      <td>488</td>\n",
       "      <td>220</td>\n",
       "      <td>67312</td>\n",
       "      <td>2377</td>\n",
       "      <td>True</td>\n",
       "      <td>False</td>\n",
       "      <td>True</td>\n",
       "      <td>False</td>\n",
       "      <td>True</td>\n",
       "      <td>False</td>\n",
       "    </tr>\n",
       "    <tr>\n",
       "      <th>24593</th>\n",
       "      <td>301302</td>\n",
       "      <td>1</td>\n",
       "      <td>90</td>\n",
       "      <td>360</td>\n",
       "      <td>64-111</td>\n",
       "      <td>289</td>\n",
       "      <td>339</td>\n",
       "      <td>64111</td>\n",
       "      <td>1497</td>\n",
       "      <td>False</td>\n",
       "      <td>False</td>\n",
       "      <td>True</td>\n",
       "      <td>False</td>\n",
       "      <td>False</td>\n",
       "      <td>False</td>\n",
       "    </tr>\n",
       "    <tr>\n",
       "      <th>13392</th>\n",
       "      <td>146507</td>\n",
       "      <td>430</td>\n",
       "      <td>576</td>\n",
       "      <td>307</td>\n",
       "      <td>04-173</td>\n",
       "      <td>854</td>\n",
       "      <td>299</td>\n",
       "      <td>04173</td>\n",
       "      <td>27</td>\n",
       "      <td>False</td>\n",
       "      <td>False</td>\n",
       "      <td>True</td>\n",
       "      <td>False</td>\n",
       "      <td>False</td>\n",
       "      <td>False</td>\n",
       "    </tr>\n",
       "  </tbody>\n",
       "</table>\n",
       "</div>"
      ],
      "text/plain": [
       "       teryt_gmina  polling_station_id  trzaskowski_r1  duda_r1 postal_code  \\\n",
       "10728       140611                   6             287      684      05-660   \n",
       "21288       247101                  16             160      493      41-940   \n",
       "5955         81006                   1             125      402      67-312   \n",
       "24593       301302                   1              90      360      64-111   \n",
       "13392       146507                 430             576      307      04-173   \n",
       "\n",
       "       trzaskowski_r2  duda_r2 postal_clean  bucket  trzaskowski_anomaly_1  \\\n",
       "10728             842      506        05660      94                   True   \n",
       "21288             483      447        41940    1081                  False   \n",
       "5955              488      220        67312    2377                   True   \n",
       "24593             289      339        64111    1497                  False   \n",
       "13392             854      299        04173      27                  False   \n",
       "\n",
       "       duda_anomaly_1  trzaskowski_anomaly_2  duda_anomaly_2  \\\n",
       "10728           False                   True           False   \n",
       "21288           False                   True           False   \n",
       "5955            False                   True           False   \n",
       "24593           False                   True           False   \n",
       "13392           False                   True           False   \n",
       "\n",
       "       trzaskowski_anomaly_3  duda_anomaly_3  \n",
       "10728                   True           False  \n",
       "21288                  False           False  \n",
       "5955                    True           False  \n",
       "24593                  False           False  \n",
       "13392                  False           False  "
      ]
     },
     "execution_count": 30,
     "metadata": {},
     "output_type": "execute_result"
    }
   ],
   "source": [
    "df[df[cand_B + '_r2'] < df[cand_B + '_r1']].sort_values(by=cand_B + '_r1', ascending=False).head()"
   ]
  },
  {
   "cell_type": "code",
   "execution_count": 31,
   "metadata": {},
   "outputs": [],
   "source": [
    "# Anomalie na korzysc\n",
    "df[cand_A + '_anomaly_4'] = df[cand_B + '_r2']<df[cand_B + '_r1']\n",
    "df[cand_B + '_anomaly_4'] = df[cand_A + '_r2']<df[cand_A + '_r1']"
   ]
  },
  {
   "cell_type": "markdown",
   "metadata": {},
   "source": [
    "To są rzeczywiście bardzo podejrzane przypadki i o takich przypadkach powinniśmy alarmować w pierwszej kolejności. Po pierwsze, ju na etapie wprowadzania do systemu, a po drugie do ewentualnej kontroli i ponownego liczenia glosów"
   ]
  },
  {
   "cell_type": "markdown",
   "metadata": {},
   "source": [
    "## Sumowanie anomalii"
   ]
  },
  {
   "cell_type": "markdown",
   "metadata": {},
   "source": [
    "### Na korzyść Trzaskowskiego"
   ]
  },
  {
   "cell_type": "code",
   "execution_count": 32,
   "metadata": {},
   "outputs": [],
   "source": [
    "df[cand_A + '_sum_anomalies'] = df[[\n",
    "    cand_A + '_anomaly_1', \n",
    "    cand_A + '_anomaly_2',\n",
    "    cand_A + '_anomaly_3',\n",
    "    cand_A + '_anomaly_4']].sum(axis=1)"
   ]
  },
  {
   "cell_type": "code",
   "execution_count": 33,
   "metadata": {},
   "outputs": [
    {
     "name": "stdout",
     "output_type": "stream",
     "text": [
      "1 anomalies:\n",
      "trzaskowski 8406\n",
      "2 anomalies:\n",
      "trzaskowski 962\n",
      "3 anomalies:\n",
      "trzaskowski 24\n",
      "4 anomalies:\n",
      "trzaskowski 2\n"
     ]
    }
   ],
   "source": [
    "for number_of_anomalies in [1,2,3,4]:\n",
    "    print(f\"{number_of_anomalies} anomalies:\")\n",
    "    print(cand_A, sum(df[cand_A + '_sum_anomalies']>=number_of_anomalies))"
   ]
  },
  {
   "cell_type": "markdown",
   "metadata": {},
   "source": [
    "vs 2025:\n",
    "\n",
    "1 anomalies:\n",
    "trzaskowski 8161\n",
    "\n",
    "\n",
    "2 anomalies:\n",
    "trzaskowski 1179\n",
    "\n",
    "\n",
    "3 anomalies:\n",
    "trzaskowski 34\n",
    "\n",
    "\n",
    "4 anomalies:\n",
    "trzaskowski 3"
   ]
  },
  {
   "cell_type": "code",
   "execution_count": 34,
   "metadata": {},
   "outputs": [
    {
     "data": {
      "text/html": [
       "<div>\n",
       "<style scoped>\n",
       "    .dataframe tbody tr th:only-of-type {\n",
       "        vertical-align: middle;\n",
       "    }\n",
       "\n",
       "    .dataframe tbody tr th {\n",
       "        vertical-align: top;\n",
       "    }\n",
       "\n",
       "    .dataframe thead th {\n",
       "        text-align: right;\n",
       "    }\n",
       "</style>\n",
       "<table border=\"1\" class=\"dataframe\">\n",
       "  <thead>\n",
       "    <tr style=\"text-align: right;\">\n",
       "      <th></th>\n",
       "      <th>teryt_gmina</th>\n",
       "      <th>polling_station_id</th>\n",
       "      <th>trzaskowski_r1</th>\n",
       "      <th>duda_r1</th>\n",
       "      <th>postal_code</th>\n",
       "      <th>trzaskowski_r2</th>\n",
       "      <th>duda_r2</th>\n",
       "      <th>postal_clean</th>\n",
       "      <th>bucket</th>\n",
       "      <th>trzaskowski_anomaly_1</th>\n",
       "      <th>duda_anomaly_1</th>\n",
       "      <th>trzaskowski_anomaly_2</th>\n",
       "      <th>duda_anomaly_2</th>\n",
       "      <th>trzaskowski_anomaly_3</th>\n",
       "      <th>duda_anomaly_3</th>\n",
       "      <th>trzaskowski_anomaly_4</th>\n",
       "      <th>duda_anomaly_4</th>\n",
       "      <th>trzaskowski_sum_anomalies</th>\n",
       "    </tr>\n",
       "  </thead>\n",
       "  <tbody>\n",
       "    <tr>\n",
       "      <th>5955</th>\n",
       "      <td>81006</td>\n",
       "      <td>1</td>\n",
       "      <td>125</td>\n",
       "      <td>402</td>\n",
       "      <td>67-312</td>\n",
       "      <td>488</td>\n",
       "      <td>220</td>\n",
       "      <td>67312</td>\n",
       "      <td>2377</td>\n",
       "      <td>True</td>\n",
       "      <td>False</td>\n",
       "      <td>True</td>\n",
       "      <td>False</td>\n",
       "      <td>True</td>\n",
       "      <td>False</td>\n",
       "      <td>True</td>\n",
       "      <td>False</td>\n",
       "      <td>4</td>\n",
       "    </tr>\n",
       "    <tr>\n",
       "      <th>10728</th>\n",
       "      <td>140611</td>\n",
       "      <td>6</td>\n",
       "      <td>287</td>\n",
       "      <td>684</td>\n",
       "      <td>05-660</td>\n",
       "      <td>842</td>\n",
       "      <td>506</td>\n",
       "      <td>05660</td>\n",
       "      <td>94</td>\n",
       "      <td>True</td>\n",
       "      <td>False</td>\n",
       "      <td>True</td>\n",
       "      <td>False</td>\n",
       "      <td>True</td>\n",
       "      <td>False</td>\n",
       "      <td>True</td>\n",
       "      <td>False</td>\n",
       "      <td>4</td>\n",
       "    </tr>\n",
       "  </tbody>\n",
       "</table>\n",
       "</div>"
      ],
      "text/plain": [
       "       teryt_gmina  polling_station_id  trzaskowski_r1  duda_r1 postal_code  \\\n",
       "5955         81006                   1             125      402      67-312   \n",
       "10728       140611                   6             287      684      05-660   \n",
       "\n",
       "       trzaskowski_r2  duda_r2 postal_clean  bucket  trzaskowski_anomaly_1  \\\n",
       "5955              488      220        67312    2377                   True   \n",
       "10728             842      506        05660      94                   True   \n",
       "\n",
       "       duda_anomaly_1  trzaskowski_anomaly_2  duda_anomaly_2  \\\n",
       "5955            False                   True           False   \n",
       "10728           False                   True           False   \n",
       "\n",
       "       trzaskowski_anomaly_3  duda_anomaly_3  trzaskowski_anomaly_4  \\\n",
       "5955                    True           False                   True   \n",
       "10728                   True           False                   True   \n",
       "\n",
       "       duda_anomaly_4  trzaskowski_sum_anomalies  \n",
       "5955            False                          4  \n",
       "10728           False                          4  "
      ]
     },
     "execution_count": 34,
     "metadata": {},
     "output_type": "execute_result"
    }
   ],
   "source": [
    "# Komisje z wszystkimi czterma anomaliami\n",
    "df[df[cand_A + '_sum_anomalies']>=4]"
   ]
  },
  {
   "cell_type": "markdown",
   "metadata": {},
   "source": [
    "### Na korzyść Nawrockiego"
   ]
  },
  {
   "cell_type": "code",
   "execution_count": 35,
   "metadata": {},
   "outputs": [],
   "source": [
    "df[cand_B + '_sum_anomalies'] = df[[\n",
    "    cand_B + '_anomaly_1', \n",
    "    cand_B + '_anomaly_2',\n",
    "    cand_B + '_anomaly_3',\n",
    "    cand_B + '_anomaly_4']].sum(axis=1)"
   ]
  },
  {
   "cell_type": "code",
   "execution_count": 37,
   "metadata": {},
   "outputs": [
    {
     "name": "stdout",
     "output_type": "stream",
     "text": [
      "1 anomalies:\n",
      "duda 6243\n",
      "2 anomalies:\n",
      "duda 571\n",
      "3 anomalies:\n",
      "duda 47\n",
      "4 anomalies:\n",
      "duda 0\n"
     ]
    }
   ],
   "source": [
    "for number_of_anomalies in [1,2,3,4]:\n",
    "    print(f\"{number_of_anomalies} anomalies:\")\n",
    "    print(cand_B, sum(df[cand_B + '_sum_anomalies']>=number_of_anomalies))"
   ]
  },
  {
   "cell_type": "markdown",
   "metadata": {},
   "source": [
    "vs 2025:\n",
    "\n",
    "1 anomalies:\n",
    "nawrocki 6871\n",
    "\n",
    "\n",
    "2 anomalies:\n",
    "nawrocki 483\n",
    "\n",
    "\n",
    "3 anomalies:\n",
    "nawrocki 34\n",
    "\n",
    "\n",
    "4 anomalies:\n",
    "nawrocki 2"
   ]
  },
  {
   "cell_type": "code",
   "execution_count": 39,
   "metadata": {},
   "outputs": [
    {
     "data": {
      "text/html": [
       "<div>\n",
       "<style scoped>\n",
       "    .dataframe tbody tr th:only-of-type {\n",
       "        vertical-align: middle;\n",
       "    }\n",
       "\n",
       "    .dataframe tbody tr th {\n",
       "        vertical-align: top;\n",
       "    }\n",
       "\n",
       "    .dataframe thead th {\n",
       "        text-align: right;\n",
       "    }\n",
       "</style>\n",
       "<table border=\"1\" class=\"dataframe\">\n",
       "  <thead>\n",
       "    <tr style=\"text-align: right;\">\n",
       "      <th></th>\n",
       "      <th>teryt_gmina</th>\n",
       "      <th>polling_station_id</th>\n",
       "      <th>trzaskowski_r1</th>\n",
       "      <th>duda_r1</th>\n",
       "      <th>postal_code</th>\n",
       "      <th>trzaskowski_r2</th>\n",
       "      <th>duda_r2</th>\n",
       "      <th>postal_clean</th>\n",
       "      <th>bucket</th>\n",
       "      <th>trzaskowski_anomaly_1</th>\n",
       "      <th>duda_anomaly_1</th>\n",
       "      <th>trzaskowski_anomaly_2</th>\n",
       "      <th>duda_anomaly_2</th>\n",
       "      <th>trzaskowski_anomaly_3</th>\n",
       "      <th>duda_anomaly_3</th>\n",
       "      <th>trzaskowski_anomaly_4</th>\n",
       "      <th>duda_anomaly_4</th>\n",
       "      <th>trzaskowski_sum_anomalies</th>\n",
       "      <th>duda_sum_anomalies</th>\n",
       "    </tr>\n",
       "  </thead>\n",
       "  <tbody>\n",
       "  </tbody>\n",
       "</table>\n",
       "</div>"
      ],
      "text/plain": [
       "Empty DataFrame\n",
       "Columns: [teryt_gmina, polling_station_id, trzaskowski_r1, duda_r1, postal_code, trzaskowski_r2, duda_r2, postal_clean, bucket, trzaskowski_anomaly_1, duda_anomaly_1, trzaskowski_anomaly_2, duda_anomaly_2, trzaskowski_anomaly_3, duda_anomaly_3, trzaskowski_anomaly_4, duda_anomaly_4, trzaskowski_sum_anomalies, duda_sum_anomalies]\n",
       "Index: []"
      ]
     },
     "execution_count": 39,
     "metadata": {},
     "output_type": "execute_result"
    }
   ],
   "source": [
    "# dla Dudy z 2020 nie ma przypadków z 4 anomaliami\n",
    "df[df[cand_B + '_sum_anomalies']>=4]"
   ]
  }
 ],
 "metadata": {
  "kernelspec": {
   "display_name": "venv",
   "language": "python",
   "name": "python3"
  },
  "language_info": {
   "codemirror_mode": {
    "name": "ipython",
    "version": 3
   },
   "file_extension": ".py",
   "mimetype": "text/x-python",
   "name": "python",
   "nbconvert_exporter": "python",
   "pygments_lexer": "ipython3",
   "version": "3.13.4"
  }
 },
 "nbformat": 4,
 "nbformat_minor": 2
}
